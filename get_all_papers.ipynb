{
 "cells": [
  {
   "cell_type": "code",
   "execution_count": 1,
   "id": "6b26ffed",
   "metadata": {},
   "outputs": [],
   "source": [
    "import requests\n",
    "import json\n",
    "import os\n",
    "import asyncio\n",
    "import httpx\n",
    "import pandas as pd"
   ]
  },
  {
   "cell_type": "code",
   "execution_count": 2,
   "id": "adc1d374",
   "metadata": {},
   "outputs": [
    {
     "data": {
      "text/plain": [
       "122"
      ]
     },
     "execution_count": 2,
     "metadata": {},
     "output_type": "execute_result"
    }
   ],
   "source": [
    "with open('improved_refrences.json', 'r', encoding='utf-8') as f:\n",
    "    first_data = json.load(f)\n",
    "len(first_data)"
   ]
  },
  {
   "cell_type": "code",
   "execution_count": 3,
   "id": "a086e126",
   "metadata": {},
   "outputs": [
    {
     "data": {
      "text/plain": [
       "['https://openalex.org/W4396903381',\n",
       " 'https://openalex.org/W4226546914',\n",
       " 'https://openalex.org/W4362562906',\n",
       " 'https://openalex.org/W4367182782',\n",
       " 'https://openalex.org/W3176287975']"
      ]
     },
     "execution_count": 3,
     "metadata": {},
     "output_type": "execute_result"
    }
   ],
   "source": [
    "papers_id = [rec.get('id') for rec in first_data]\n",
    "papers_id[:5]"
   ]
  },
  {
   "cell_type": "code",
   "execution_count": 4,
   "id": "6c0a1557",
   "metadata": {},
   "outputs": [
    {
     "data": {
      "text/plain": [
       "200"
      ]
     },
     "execution_count": 4,
     "metadata": {},
     "output_type": "execute_result"
    }
   ],
   "source": [
    "temp_response = requests.get('https://api.openalex.org/W4396903381')\n",
    "temp_response.status_code"
   ]
  },
  {
   "cell_type": "code",
   "execution_count": 5,
   "id": "0c717fdd",
   "metadata": {},
   "outputs": [],
   "source": [
    "temp_response.raise_for_status()\n",
    "temp_data = temp_response.json()"
   ]
  },
  {
   "cell_type": "code",
   "execution_count": 6,
   "id": "04f940de",
   "metadata": {},
   "outputs": [
    {
     "data": {
      "text/plain": [
       "dict_keys(['id', 'doi', 'title', 'display_name', 'publication_year', 'publication_date', 'ids', 'language', 'primary_location', 'type', 'type_crossref', 'indexed_in', 'open_access', 'authorships', 'institution_assertions', 'countries_distinct_count', 'institutions_distinct_count', 'corresponding_author_ids', 'corresponding_institution_ids', 'apc_list', 'apc_paid', 'fwci', 'has_fulltext', 'cited_by_count', 'citation_normalized_percentile', 'cited_by_percentile_year', 'biblio', 'is_retracted', 'is_paratext', 'primary_topic', 'topics', 'keywords', 'concepts', 'mesh', 'locations_count', 'locations', 'best_oa_location', 'sustainable_development_goals', 'grants', 'datasets', 'versions', 'referenced_works_count', 'referenced_works', 'related_works', 'abstract_inverted_index', 'cited_by_api_url', 'counts_by_year', 'updated_date', 'created_date'])"
      ]
     },
     "execution_count": 6,
     "metadata": {},
     "output_type": "execute_result"
    }
   ],
   "source": [
    "temp_data.keys()"
   ]
  },
  {
   "cell_type": "code",
   "execution_count": 7,
   "id": "298694c8",
   "metadata": {},
   "outputs": [
    {
     "data": {
      "text/plain": [
       "dict_keys(['id', 'doi', 'title', 'display_name', 'publication_year', 'publication_date', 'ids', 'language', 'primary_location', 'type', 'type_crossref', 'indexed_in', 'open_access', 'authorships', 'institution_assertions', 'countries_distinct_count', 'institutions_distinct_count', 'corresponding_author_ids', 'corresponding_institution_ids', 'apc_list', 'apc_paid', 'fwci', 'has_fulltext', 'cited_by_count', 'citation_normalized_percentile', 'cited_by_percentile_year', 'biblio', 'is_retracted', 'is_paratext', 'primary_topic', 'topics', 'keywords', 'concepts', 'mesh', 'locations_count', 'locations', 'best_oa_location', 'sustainable_development_goals', 'grants', 'datasets', 'versions', 'referenced_works_count', 'referenced_works', 'related_works', 'abstract_inverted_index', 'cited_by_api_url', 'counts_by_year', 'updated_date', 'created_date'])"
      ]
     },
     "execution_count": 7,
     "metadata": {},
     "output_type": "execute_result"
    }
   ],
   "source": [
    "first_data[0].keys()"
   ]
  },
  {
   "cell_type": "code",
   "execution_count": 76,
   "id": "60ee0236",
   "metadata": {},
   "outputs": [],
   "source": [
    "rec = first_data[101]"
   ]
  },
  {
   "cell_type": "code",
   "execution_count": 77,
   "id": "7399b424",
   "metadata": {},
   "outputs": [
    {
     "data": {
      "text/plain": [
       "{'author_position': 'middle',\n",
       " 'author': {'id': 'https://openalex.org/A5060187904',\n",
       "  'display_name': 'Ziying Song',\n",
       "  'orcid': 'https://orcid.org/0000-0001-5539-2599'},\n",
       " 'institutions': [{'id': 'https://openalex.org/I21193070',\n",
       "   'display_name': 'Beijing Jiaotong University',\n",
       "   'ror': 'https://ror.org/01yj56c84',\n",
       "   'country_code': 'CN',\n",
       "   'type': 'funder',\n",
       "   'lineage': ['https://openalex.org/I21193070']}],\n",
       " 'countries': ['CN'],\n",
       " 'is_corresponding': False,\n",
       " 'raw_author_name': 'Ziying Song',\n",
       " 'raw_affiliation_strings': ['School of Computer and Information Technology, Beijing Jiaotong University, Beijing 100044, China'],\n",
       " 'affiliations': [{'raw_affiliation_string': 'School of Computer and Information Technology, Beijing Jiaotong University, Beijing 100044, China',\n",
       "   'institution_ids': ['https://openalex.org/I21193070']}]}"
      ]
     },
     "execution_count": 77,
     "metadata": {},
     "output_type": "execute_result"
    }
   ],
   "source": [
    "rec.get('authorships')[1]"
   ]
  },
  {
   "cell_type": "code",
   "execution_count": 73,
   "id": "6fb70b05",
   "metadata": {},
   "outputs": [],
   "source": [
    "papers_data = []\n",
    "for rec in first_data:\n",
    "    papers_data.append({\n",
    "        'paper':{\n",
    "            'id': rec.get('id', None),\n",
    "            'doi': rec.get('doi', None),\n",
    "            'title': rec.get('title', None),\n",
    "            'publicationYear': rec.get('publication_year', None),\n",
    "            'language': rec.get('language', None),\n",
    "            'type': rec.get('type', None),\n",
    "            'crossrefType': rec.get('type_crossref', None),\n",
    "            'numberOfCiteation': rec.get('cited_by_count', None),\n",
    "            'FieldWeightedCitationImpact': rec.get('fwci', None),\n",
    "            'countsByYear': rec.get('counts_by_year', {})\n",
    "        },\n",
    "\n",
    "        'authorship':[\n",
    "            {\n",
    "                'authorPosition': author.get('author_position', None),\n",
    "                'author':{\n",
    "                    'id': author.get('author', {}).get('id', None),\n",
    "                    'orcid': author.get('author', {}).get('orcid', None),\n",
    "                    'name': author.get('author', {}).get('display_name', None),\n",
    "                    'institutions': [\n",
    "                        {\n",
    "                            'id': institution.get('id', None),\n",
    "                            'ror': institution.get('ror', None),\n",
    "                            'name': institution.get('display_name', None),\n",
    "                            'countryCode': institution.get('country_code', None),\n",
    "                        } for institution in author.get('institutions', [])\n",
    "                    ],\n",
    "                    'isCorresponding': author.get('is_corresponding', None),\n",
    "                    'affiliations': author.get('raw_affiliation_strings', []),\n",
    "                }    \n",
    "            } for author in rec.get('authorships')\n",
    "        ]\n",
    "    })"
   ]
  },
  {
   "cell_type": "code",
   "execution_count": 74,
   "id": "203dc3d1",
   "metadata": {},
   "outputs": [
    {
     "name": "stdout",
     "output_type": "stream",
     "text": [
      "{\n",
      "    \"paper\": {\n",
      "        \"id\": \"https://openalex.org/W4308148751\",\n",
      "        \"doi\": \"https://doi.org/10.1016/j.knosys.2022.110080\",\n",
      "        \"title\": \"SAT-GCN: Self-attention graph convolutional network-based 3D object detection for autonomous driving\",\n",
      "        \"publicationYear\": 2022,\n",
      "        \"language\": \"en\",\n",
      "        \"type\": \"article\",\n",
      "        \"crossrefType\": \"journal-article\",\n",
      "        \"numberOfCiteation\": 83,\n",
      "        \"FieldWeightedCitationImpact\": 9.198,\n",
      "        \"countsByYear\": [\n",
      "            {\n",
      "                \"year\": 2025,\n",
      "                \"cited_by_count\": 15\n",
      "            },\n",
      "            {\n",
      "                \"year\": 2024,\n",
      "                \"cited_by_count\": 41\n",
      "            },\n",
      "            {\n",
      "                \"year\": 2023,\n",
      "                \"cited_by_count\": 25\n",
      "            },\n",
      "            {\n",
      "                \"year\": 2022,\n",
      "                \"cited_by_count\": 1\n",
      "            }\n",
      "        ]\n",
      "    },\n",
      "    \"authorship\": [\n",
      "        {\n",
      "            \"authorPosition\": \"first\",\n",
      "            \"author\": {\n",
      "                \"id\": \"https://openalex.org/A5035406850\",\n",
      "                \"orcid\": \"https://orcid.org/0000-0002-9325-2391\",\n",
      "                \"name\": \"Li Wang\",\n",
      "                \"institutions\": [\n",
      "                    {\n",
      "                        \"id\": \"https://openalex.org/I99065089\",\n",
      "                        \"ror\": \"https://ror.org/03cve4549\",\n",
      "                        \"name\": \"Tsinghua University\",\n",
      "                        \"countryCode\": \"CN\"\n",
      "                    }\n",
      "                ],\n",
      "                \"isCorresponding\": false,\n",
      "                \"affiliations\": [\n",
      "                    \"State Key Laboratory of Automotive Safety and Energy, and the School of Vehicle and Mobility, Tsinghua University, Beijing 100084, China\"\n",
      "                ]\n",
      "            }\n",
      "        },\n",
      "        {\n",
      "            \"authorPosition\": \"middle\",\n",
      "            \"author\": {\n",
      "                \"id\": \"https://openalex.org/A5060187904\",\n",
      "                \"orcid\": \"https://orcid.org/0000-0001-5539-2599\",\n",
      "                \"name\": \"Ziying Song\",\n",
      "                \"institutions\": [\n",
      "                    {\n",
      "                        \"id\": \"https://openalex.org/I21193070\",\n",
      "                        \"ror\": \"https://ror.org/01yj56c84\",\n",
      "                        \"name\": \"Beijing Jiaotong University\",\n",
      "                        \"countryCode\": \"CN\"\n",
      "                    }\n",
      "                ],\n",
      "                \"isCorresponding\": false,\n",
      "                \"affiliations\": [\n",
      "                    \"School of Computer and Information Technology, Beijing Jiaotong University, Beijing 100044, China\"\n",
      "                ]\n",
      "            }\n",
      "        },\n",
      "        {\n",
      "            \"authorPosition\": \"middle\",\n",
      "            \"author\": {\n",
      "                \"id\": \"https://openalex.org/A5100390719\",\n",
      "                \"orcid\": \"https://orcid.org/0000-0003-0034-9037\",\n",
      "                \"name\": \"Xinyu Zhang\",\n",
      "                \"institutions\": [\n",
      "                    {\n",
      "                        \"id\": \"https://openalex.org/I99065089\",\n",
      "                        \"ror\": \"https://ror.org/03cve4549\",\n",
      "                        \"name\": \"Tsinghua University\",\n",
      "                        \"countryCode\": \"CN\"\n",
      "                    }\n",
      "                ],\n",
      "                \"isCorresponding\": true,\n",
      "                \"affiliations\": [\n",
      "                    \"State Key Laboratory of Automotive Safety and Energy, and the School of Vehicle and Mobility, Tsinghua University, Beijing 100084, China\"\n",
      "                ]\n",
      "            }\n",
      "        },\n",
      "        {\n",
      "            \"authorPosition\": \"middle\",\n",
      "            \"author\": {\n",
      "                \"id\": \"https://openalex.org/A5015358457\",\n",
      "                \"orcid\": \"https://orcid.org/0000-0003-4764-6004\",\n",
      "                \"name\": \"Chenfei Wang\",\n",
      "                \"institutions\": [\n",
      "                    {\n",
      "                        \"id\": \"https://openalex.org/I99065089\",\n",
      "                        \"ror\": \"https://ror.org/03cve4549\",\n",
      "                        \"name\": \"Tsinghua University\",\n",
      "                        \"countryCode\": \"CN\"\n",
      "                    }\n",
      "                ],\n",
      "                \"isCorresponding\": false,\n",
      "                \"affiliations\": [\n",
      "                    \"State Key Laboratory of Automotive Safety and Energy, and the School of Vehicle and Mobility, Tsinghua University, Beijing 100084, China\"\n",
      "                ]\n",
      "            }\n",
      "        },\n",
      "        {\n",
      "            \"authorPosition\": \"middle\",\n",
      "            \"author\": {\n",
      "                \"id\": \"https://openalex.org/A5086831268\",\n",
      "                \"orcid\": \"https://orcid.org/0000-0002-0707-2176\",\n",
      "                \"name\": \"Guoxin Zhang\",\n",
      "                \"institutions\": [\n",
      "                    {\n",
      "                        \"id\": \"https://openalex.org/I34155123\",\n",
      "                        \"ror\": \"https://ror.org/05h3pkk68\",\n",
      "                        \"name\": \"Hebei University of Science and Technology\",\n",
      "                        \"countryCode\": \"CN\"\n",
      "                    }\n",
      "                ],\n",
      "                \"isCorresponding\": false,\n",
      "                \"affiliations\": [\n",
      "                    \"School of Information Science and Engineering, Hebei University of Science and Technology, Shijiazhuang 050018, China\"\n",
      "                ]\n",
      "            }\n",
      "        },\n",
      "        {\n",
      "            \"authorPosition\": \"middle\",\n",
      "            \"author\": {\n",
      "                \"id\": \"https://openalex.org/A5100394072\",\n",
      "                \"orcid\": \"https://orcid.org/0000-0003-1685-7968\",\n",
      "                \"name\": \"Lei Zhu\",\n",
      "                \"institutions\": [],\n",
      "                \"isCorresponding\": false,\n",
      "                \"affiliations\": [\n",
      "                    \"Mogo Auto Intelligence and Telemetics Information Technology Co. Ltd., Beijing 100013, China\"\n",
      "                ]\n",
      "            }\n",
      "        },\n",
      "        {\n",
      "            \"authorPosition\": \"middle\",\n",
      "            \"author\": {\n",
      "                \"id\": \"https://openalex.org/A5100361751\",\n",
      "                \"orcid\": \"https://orcid.org/0000-0002-0437-5112\",\n",
      "                \"name\": \"Jun Li\",\n",
      "                \"institutions\": [\n",
      "                    {\n",
      "                        \"id\": \"https://openalex.org/I99065089\",\n",
      "                        \"ror\": \"https://ror.org/03cve4549\",\n",
      "                        \"name\": \"Tsinghua University\",\n",
      "                        \"countryCode\": \"CN\"\n",
      "                    }\n",
      "                ],\n",
      "                \"isCorresponding\": false,\n",
      "                \"affiliations\": [\n",
      "                    \"State Key Laboratory of Automotive Safety and Energy, and the School of Vehicle and Mobility, Tsinghua University, Beijing 100084, China\"\n",
      "                ]\n",
      "            }\n",
      "        },\n",
      "        {\n",
      "            \"authorPosition\": \"last\",\n",
      "            \"author\": {\n",
      "                \"id\": \"https://openalex.org/A5041101317\",\n",
      "                \"orcid\": \"https://orcid.org/0000-0002-4042-6044\",\n",
      "                \"name\": \"Huaping Liu\",\n",
      "                \"institutions\": [\n",
      "                    {\n",
      "                        \"id\": \"https://openalex.org/I99065089\",\n",
      "                        \"ror\": \"https://ror.org/03cve4549\",\n",
      "                        \"name\": \"Tsinghua University\",\n",
      "                        \"countryCode\": \"CN\"\n",
      "                    }\n",
      "                ],\n",
      "                \"isCorresponding\": false,\n",
      "                \"affiliations\": [\n",
      "                    \"State Key Laboratory of Intelligent Technology and Systems, and Department of Computer Science and Technology, Tsinghua University, Beijing 100084, China\"\n",
      "                ]\n",
      "            }\n",
      "        }\n",
      "    ]\n",
      "}\n"
     ]
    }
   ],
   "source": [
    "print(json.dumps(papers_data[101], indent=4))"
   ]
  },
  {
   "cell_type": "code",
   "execution_count": null,
   "id": "c45b740f",
   "metadata": {},
   "outputs": [],
   "source": []
  }
 ],
 "metadata": {
  "kernelspec": {
   "display_name": "AV-references-cleaning (3.11.14)",
   "language": "python",
   "name": "python3"
  },
  "language_info": {
   "codemirror_mode": {
    "name": "ipython",
    "version": 3
   },
   "file_extension": ".py",
   "mimetype": "text/x-python",
   "name": "python",
   "nbconvert_exporter": "python",
   "pygments_lexer": "ipython3",
   "version": "3.11.14"
  }
 },
 "nbformat": 4,
 "nbformat_minor": 5
}
