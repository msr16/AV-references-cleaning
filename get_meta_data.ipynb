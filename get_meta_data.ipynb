{
 "cells": [
  {
   "cell_type": "code",
   "execution_count": 1,
   "id": "da1ecd4b",
   "metadata": {},
   "outputs": [],
   "source": [
    "import requests\n",
    "import json\n",
    "import os\n",
    "import asyncio\n",
    "import httpx\n",
    "import pandas as pd\n",
    "import random"
   ]
  },
  {
   "cell_type": "code",
   "execution_count": 2,
   "id": "1e7868e3",
   "metadata": {},
   "outputs": [
    {
     "data": {
      "text/plain": [
       "122"
      ]
     },
     "execution_count": 2,
     "metadata": {},
     "output_type": "execute_result"
    }
   ],
   "source": [
    "with open('clean_data/papers/batch_1.json', 'r', encoding='utf-8') as f:\n",
    "    existing_data = json.load(f)\n",
    "len(existing_data)"
   ]
  },
  {
   "cell_type": "code",
   "execution_count": 3,
   "id": "5b643bb0",
   "metadata": {},
   "outputs": [
    {
     "data": {
      "text/plain": [
       "6570"
      ]
     },
     "execution_count": 3,
     "metadata": {},
     "output_type": "execute_result"
    }
   ],
   "source": [
    "existing_papers_id = [rec.get('paper').get('id') for rec in existing_data]\n",
    "\n",
    "papers_id = []\n",
    "for rec in existing_data:\n",
    "    referenced_works = rec.get('referencedWorks')\n",
    "    papers_id.extend(referenced_works)\n",
    "papers_id = list(set(papers_id) - set(existing_papers_id))\n",
    "len(papers_id)"
   ]
  },
  {
   "cell_type": "code",
   "execution_count": 2,
   "id": "75a216c9",
   "metadata": {},
   "outputs": [],
   "source": [
    "async def get_data(url, parse_func):\n",
    "    async with httpx.AsyncClient(timeout=10.0) as client:\n",
    "        try:\n",
    "            response = await client.get(url, params={'mailto': 'rimaz.temp@gmail.com'})\n",
    "            response.raise_for_status()\n",
    "            data = response.json()\n",
    "            parsed_data = parse_func(data)\n",
    "            return True, parsed_data, None\n",
    "        except httpx.HTTPStatusError as e:\n",
    "            return False, f\"HTTP error: {e}\", url\n",
    "        except httpx.RequestError as e:\n",
    "            return False, f\"A request error occurred: {e}\", url\n",
    "        except Exception as e:\n",
    "            return False, f\"An unexpected error occurred: {e}\", url\n"
   ]
  },
  {
   "cell_type": "code",
   "execution_count": 3,
   "id": "1e333ecc",
   "metadata": {},
   "outputs": [],
   "source": [
    "async def get_batch_async(ids_list: list[str], parse_func, batch_size: int = 4, sleep_sec: float = 1):\n",
    "    results = []\n",
    "    not_valid_url = []\n",
    "    for i in range(0, len(ids_list), batch_size):\n",
    "        batch = ids_list[i:i + batch_size]\n",
    "        \n",
    "        tasks = [get_data(id_, parse_func) for id_ in batch]\n",
    "        \n",
    "        batch_results = await asyncio.gather(*tasks)\n",
    "        results.extend([rec[1] for rec in batch_results if rec[0]])\n",
    "        not_valid_url.extend([(rec[2], rec[1]) for rec in batch_results if not rec[0]])\n",
    "        \n",
    "        if i + batch_size < len(ids_list):\n",
    "            await asyncio.sleep(sleep_sec)\n",
    "                \n",
    "    return results, not_valid_url"
   ]
  },
  {
   "cell_type": "code",
   "execution_count": 7,
   "id": "2c04db1f",
   "metadata": {},
   "outputs": [],
   "source": [
    "CONCEPT_SIMILARITY_THRESH = 0.5\n",
    "TOPIC_SIMILARITY_THRESH = 0.8\n",
    "\n",
    "def parse_paper_data(rec):\n",
    "    return {\n",
    "        'paper':{\n",
    "            'id': rec.get('id', None),\n",
    "            'doi': rec.get('doi', None),\n",
    "            'title': rec.get('title', None),\n",
    "            'publicationYear': rec.get('publication_year', None),\n",
    "            'language': rec.get('language', None),\n",
    "            'type': rec.get('type', None),\n",
    "            'crossrefType': rec.get('type_crossref', None),\n",
    "            'numberOfCiteation': rec.get('cited_by_count', None),\n",
    "            'FieldWeightedCitationImpact': rec.get('fwci', None),\n",
    "            'countsByYear': rec.get('counts_by_year', {}),\n",
    "            'pdfUrl': rec.get('primary_location', {}).get('pdf_url', None)\n",
    "        },\n",
    "\n",
    "        'authorship':[\n",
    "            {\n",
    "                'authorPosition': author.get('author_position', None),\n",
    "                'author':{\n",
    "                    'id': author.get('author', {}).get('id', None),\n",
    "                    'institutions': [institution.get('id', None) for institution in author.get('institutions', [])],\n",
    "                    'isCorresponding': author.get('is_corresponding', None),\n",
    "                    'affiliations': author.get('raw_affiliation_strings', []),\n",
    "                }    \n",
    "            } for author in rec.get('authorships')\n",
    "        ],\n",
    "\n",
    "        'source': {\n",
    "            'id': rec.get('primary_location', {}).get('source', {}).get('id', None) if rec.get('primary_location', {}).get('source', {}) else None,\n",
    "            'hostOrganizationId': rec.get('primary_location', {}).get('source', {}).get('host_organization', None) if rec.get('primary_location', {}).get('source', {}) else None,\n",
    "            'volume': rec.get('biblio', {}).get('volume', None),\n",
    "            'issue': rec.get('biblio', {}).get('issue', None),\n",
    "        },\n",
    "\n",
    "        'referencedWorks': rec.get('referenced_works', []),\n",
    "        'relatedWorks': rec.get('related_works', []),\n",
    "\n",
    "        'grants': [\n",
    "            {\n",
    "                'funder': grant.get('funder', None),\n",
    "                'awardId': grant.get('award_id', None),\n",
    "            } for grant in rec.get('grants', [])\n",
    "        ],\n",
    "\n",
    "        'concepts': [concept.get('id', None) for concept in rec.get('concepts', []) if concept.get('score', None) > CONCEPT_SIMILARITY_THRESH ],\n",
    "        'keywords': [keyword.get('display_name', None) for keyword in rec.get('keywords', []) ],\n",
    "\n",
    "        'topics': [topic.get('id', None) for topic in rec.get('topics', []) if topic.get('score', None) > TOPIC_SIMILARITY_THRESH ],\n",
    "\n",
    "    }"
   ]
  },
  {
   "cell_type": "code",
   "execution_count": null,
   "id": "81f0a666",
   "metadata": {},
   "outputs": [],
   "source": [
    "# random.shuffle(papers_id)\n",
    "# N_PAPERS = len(papers_id)\n",
    "BATCH_SIZE = 160\n",
    "j = 4\n",
    "\n",
    "# not_valid_url = []\n",
    "\n",
    "for i in range(320, N_PAPERS, BATCH_SIZE):\n",
    "    selected_ids = [url.replace('openalex.org', 'api.openalex.org', 1) for url in papers_id[i:i+BATCH_SIZE]]\n",
    "    selected_results, temp_not_valid_url = await get_batch_async(selected_ids, parse_paper_data)\n",
    "    \n",
    "    with open(f'clean_data/papers/batch_{j}.json', 'w', encoding='utf-8') as f:\n",
    "        json.dump(selected_results, f, indent=4, ensure_ascii=False)\n",
    "    \n",
    "    print(f'{i:5}:{i+BATCH_SIZE:5} -> {len(temp_not_valid_url)} ')\n",
    "    not_valid_url.extend(temp_not_valid_url)\n",
    "\n",
    "    j += 1\n",
    "    "
   ]
  },
  {
   "cell_type": "code",
   "execution_count": 10,
   "id": "e199dc3b",
   "metadata": {},
   "outputs": [
    {
     "data": {
      "text/plain": [
       "21"
      ]
     },
     "execution_count": 10,
     "metadata": {},
     "output_type": "execute_result"
    }
   ],
   "source": [
    "len(not_valid_url)"
   ]
  },
  {
   "cell_type": "code",
   "execution_count": 21,
   "id": "e732dd93",
   "metadata": {},
   "outputs": [],
   "source": [
    "# [rec[1] for rec in not_valid_url]"
   ]
  },
  {
   "cell_type": "code",
   "execution_count": 18,
   "id": "0503b1e9",
   "metadata": {},
   "outputs": [],
   "source": [
    "selected_ids = [url for url, _ in not_valid_url]\n",
    "selected_results, temp_not_valid_url = await get_batch_async(selected_ids, parse_paper_data)\n",
    "\n",
    "with open(f'clean_data/papers/batch_{j}.json', 'w', encoding='utf-8') as f:\n",
    "    json.dump(selected_results, f, indent=4, ensure_ascii=False)"
   ]
  },
  {
   "cell_type": "code",
   "execution_count": 22,
   "id": "e321fa33",
   "metadata": {},
   "outputs": [],
   "source": [
    "ids = []\n",
    "dir_paper_id = 'clean_data/papers'\n",
    "for fname in os.listdir(dir_paper_id):\n",
    "    with open(os.path.join(dir_paper_id, fname), 'r', encoding='utf-8') as f:\n",
    "        temp = json.load(f)\n",
    "    ids.extend([r.get('paper', {}).get('id') for r in temp])"
   ]
  },
  {
   "cell_type": "code",
   "execution_count": 28,
   "metadata": {},
   "outputs": [
    {
     "data": {
      "text/plain": [
       "(6671, 6650, 6692)"
      ]
     },
     "execution_count": 28,
     "metadata": {},
     "output_type": "execute_result"
    }
   ],
   "source": [
    "len(ids), len(set(ids)), len(papers_id)+len(existing_papers_id)"
   ]
  },
  {
   "cell_type": "code",
   "execution_count": 33,
   "id": "54bf0214",
   "metadata": {},
   "outputs": [
    {
     "data": {
      "text/plain": [
       "['https://openalex.org/A5072811055',\n",
       " 'https://openalex.org/A5080039924',\n",
       " 'https://openalex.org/A5091175785',\n",
       " 'https://openalex.org/A5003932703',\n",
       " 'https://openalex.org/A5102861496',\n",
       " 'https://openalex.org/A5037751863',\n",
       " 'https://openalex.org/A5086198262',\n",
       " 'https://openalex.org/A5112608251']"
      ]
     },
     "execution_count": 33,
     "metadata": {},
     "output_type": "execute_result"
    }
   ],
   "source": [
    "[a.get('author', {}).get('id') for a in temp[0].get('authorship') if a.get('author', {}).get('id', None)]"
   ]
  },
  {
   "cell_type": "code",
   "execution_count": 4,
   "id": "f1f5b321",
   "metadata": {},
   "outputs": [
    {
     "data": {
      "text/plain": [
       "28832"
      ]
     },
     "execution_count": 4,
     "metadata": {},
     "output_type": "execute_result"
    }
   ],
   "source": [
    "authors_ids = []\n",
    "dir_paper_id = 'clean_data/papers'\n",
    "for fname in os.listdir(dir_paper_id):\n",
    "    with open(os.path.join(dir_paper_id, fname), 'r', encoding='utf-8') as f:\n",
    "        temp = json.load(f)\n",
    "    for rec in temp:\n",
    "        authors_ids.extend([a.get('author', {}).get('id') for a in rec.get('authorship') if a.get('author', {}).get('id', None)])\n",
    "\n",
    "len(authors_ids)"
   ]
  },
  {
   "cell_type": "code",
   "execution_count": 5,
   "id": "17d86872",
   "metadata": {},
   "outputs": [
    {
     "data": {
      "text/plain": [
       "17901"
      ]
     },
     "execution_count": 5,
     "metadata": {},
     "output_type": "execute_result"
    }
   ],
   "source": [
    "authors_ids = list(set(authors_ids))\n",
    "random.shuffle(authors_ids)\n",
    "len(authors_ids)"
   ]
  },
  {
   "cell_type": "code",
   "execution_count": null,
   "id": "03264e77",
   "metadata": {},
   "outputs": [],
   "source": [
    "def parse_autor_data(rec):\n",
    "    return {\n",
    "        'id': rec.get('id', None),\n",
    "        'orcid': rec.get('orcid', None),\n",
    "        'name': rec.get('display_name', None),\n",
    "        'nameAlternatives': rec.get('display_name_alternatives', []),\n",
    "\n",
    "        'worksCount': rec.get('works_count', None),\n",
    "        'numberOfCitation': rec.get('cited_by_count', None),\n",
    "\n",
    "        'twoYearMeanCitedness': rec.get('summary_stats', {}).get('2yr_mean_citedness', None),\n",
    "        'hIndex': rec.get('summary_stats', {}).get('h_index', None),\n",
    "        'iTenIndex': rec.get('summary_stats', {}).get('i10_index', None),\n",
    "\n",
    "        'affiliations': [\n",
    "            {\n",
    "                'institution': affiliation.get('institution', {}).get('id', None),\n",
    "                'years': affiliation.get('years', [])\n",
    "            } for affiliation in  rec.get('affiliations', [])\n",
    "        ],\n",
    "\n",
    "        'lastKnownInstitutions': [institution.get('id', None) for institution in rec.get('last_known_institutions', [])],\n",
    "\n",
    "        'topics': [\n",
    "            {\n",
    "                'id': topic.get('id', None) ,\n",
    "                'count': topic.get('count', None) ,\n",
    "            } for topic in rec.get('topics') if topic.get('count', 0) > 2],\n",
    "\n",
    "        'worksApiUrl': rec.get('works_api_url'),\n",
    "\n",
    "        'counts_by_year':[\n",
    "            {\n",
    "                'year': info.get('year', None),\n",
    "                'citedByCount': info.get('cited_by_count', None),\n",
    "                'worksCount': info.get('works_count', None),\n",
    "            } for info in rec.get('counts_by_year', [])\n",
    "        ]\n",
    "        \n",
    "\n",
    "    }"
   ]
  },
  {
   "cell_type": "code",
   "execution_count": 69,
   "id": "11196ce4",
   "metadata": {},
   "outputs": [
    {
     "data": {
      "text/plain": [
       "'https://openalex.org/A5060443387'"
      ]
     },
     "execution_count": 69,
     "metadata": {},
     "output_type": "execute_result"
    }
   ],
   "source": [
    "authors_ids[1166]"
   ]
  },
  {
   "cell_type": "code",
   "execution_count": 71,
   "id": "a6642c03",
   "metadata": {},
   "outputs": [],
   "source": [
    "resp = requests.get('https://api.openalex.org/A5060443387455')\n",
    "if resp.status_code == 200:\n",
    "    data = resp.json()\n",
    "    print(json.dumps(parse_autor_data(data), indent=4))"
   ]
  },
  {
   "cell_type": "code",
   "execution_count": 73,
   "id": "d295835a",
   "metadata": {},
   "outputs": [
    {
     "name": "stdout",
     "output_type": "stream",
     "text": [
      "    0:  500 -> 0 \n",
      "  500: 1000 -> 0 \n",
      " 1000: 1500 -> 0 \n",
      " 1500: 2000 -> 0 \n",
      " 2000: 2500 -> 0 \n",
      " 2500: 3000 -> 0 \n",
      " 3000: 3500 -> 0 \n",
      " 3500: 4000 -> 0 \n",
      " 4000: 4500 -> 0 \n",
      " 4500: 5000 -> 0 \n",
      " 5000: 5500 -> 0 \n",
      " 5500: 6000 -> 0 \n",
      " 6000: 6500 -> 0 \n",
      " 6500: 7000 -> 0 \n",
      " 7000: 7500 -> 0 \n",
      " 7500: 8000 -> 0 \n",
      " 8000: 8500 -> 0 \n",
      " 8500: 9000 -> 0 \n",
      " 9000: 9500 -> 0 \n",
      " 9500:10000 -> 0 \n",
      "10000:10500 -> 0 \n",
      "10500:11000 -> 0 \n",
      "11000:11500 -> 0 \n",
      "11500:12000 -> 0 \n",
      "12000:12500 -> 0 \n",
      "12500:13000 -> 0 \n",
      "13000:13500 -> 0 \n",
      "13500:14000 -> 0 \n",
      "14000:14500 -> 0 \n",
      "14500:15000 -> 0 \n",
      "15000:15500 -> 0 \n",
      "15500:16000 -> 0 \n",
      "16000:16500 -> 0 \n",
      "16500:17000 -> 0 \n",
      "17000:17500 -> 0 \n",
      "17500:18000 -> 0 \n"
     ]
    }
   ],
   "source": [
    "N_AUTORS = len(authors_ids)\n",
    "BATCH_SIZE = 500\n",
    "j = 1\n",
    "\n",
    "not_valid_url = []\n",
    "\n",
    "for i in range(0, N_AUTORS, BATCH_SIZE):\n",
    "    selected_ids = [url.replace('openalex.org', 'api.openalex.org', 1) for url in authors_ids[i:i+BATCH_SIZE]]\n",
    "    selected_results, temp_not_valid_url = await get_batch_async(selected_ids, parse_autor_data)\n",
    "    \n",
    "    with open(f'clean_data/authors/batch_{j}.json', 'w', encoding='utf-8') as f:\n",
    "        json.dump(selected_results, f, indent=4, ensure_ascii=False)\n",
    "    \n",
    "    print(f'{i:5}:{i+BATCH_SIZE:5} -> {len(temp_not_valid_url)} ')\n",
    "    not_valid_url.extend(temp_not_valid_url)\n",
    "\n",
    "    j += 1\n"
   ]
  },
  {
   "cell_type": "code",
   "execution_count": 74,
   "id": "8be3cbf1",
   "metadata": {},
   "outputs": [],
   "source": [
    "ids = []\n",
    "dir_authors_id = 'clean_data/authors'\n",
    "for fname in os.listdir(dir_authors_id):\n",
    "    with open(os.path.join(dir_authors_id, fname), 'r', encoding='utf-8') as f:\n",
    "        temp = json.load(f)\n",
    "    ids.extend([r.get('id', None) for r in temp])"
   ]
  },
  {
   "cell_type": "code",
   "execution_count": 75,
   "id": "a3ed4bdc",
   "metadata": {},
   "outputs": [
    {
     "data": {
      "text/plain": [
       "(17901, 17900, 17901)"
      ]
     },
     "execution_count": 75,
     "metadata": {},
     "output_type": "execute_result"
    }
   ],
   "source": [
    "len(ids), len(set(ids)), len(authors_ids)"
   ]
  },
  {
   "cell_type": "markdown",
   "id": "3fc8aca4",
   "metadata": {},
   "source": [
    "## journal"
   ]
  },
  {
   "cell_type": "code",
   "execution_count": 15,
   "id": "ec5d54d0",
   "metadata": {},
   "outputs": [
    {
     "data": {
      "text/plain": [
       "6671"
      ]
     },
     "execution_count": 15,
     "metadata": {},
     "output_type": "execute_result"
    }
   ],
   "source": [
    "sources_ids = []\n",
    "dir_paper_id = 'clean_data/papers'\n",
    "for fname in os.listdir(dir_paper_id):\n",
    "    with open(os.path.join(dir_paper_id, fname), 'r', encoding='utf-8') as f:\n",
    "        temp = json.load(f)\n",
    "    for rec in temp:\n",
    "        sources_ids.append(rec.get('source', {}).get('id', None))\n",
    "\n",
    "len(sources_ids)"
   ]
  },
  {
   "cell_type": "code",
   "execution_count": 16,
   "id": "1966c141",
   "metadata": {},
   "outputs": [
    {
     "data": {
      "text/plain": [
       "836"
      ]
     },
     "execution_count": 16,
     "metadata": {},
     "output_type": "execute_result"
    }
   ],
   "source": [
    "sources_ids = list(set(sources_ids))\n",
    "random.shuffle(sources_ids)\n",
    "sources_ids.remove(None)\n",
    "len(sources_ids)"
   ]
  },
  {
   "cell_type": "code",
   "execution_count": 17,
   "id": "99426da9",
   "metadata": {},
   "outputs": [],
   "source": [
    "def parse_source_data(rec):\n",
    "    return{\n",
    "        'id': rec.get('id', None),\n",
    "        'name': rec.get('display_name'),\n",
    "\n",
    "        'hostOrganizationId': rec.get('host_organization'),\n",
    "        'hostOrganizationName': rec.get('host_organization_name'),\n",
    "\n",
    "        'worksCount': rec.get('works_count'),\n",
    "        'citedByCount': rec.get('cited_by_count'),\n",
    "        'twoYearMeanCitedness': rec.get('summary_stats', {}).get('2yr_mean_citedness', None),\n",
    "        'hIndex': rec.get('summary_stats', {}).get('h_index', None),\n",
    "        'iTenIndex': rec.get('summary_stats', {}).get('i10_index', None),\n",
    "\n",
    "        'isOpenAccess': rec.get('is_oa', None),\n",
    "        'isInDoaj': rec.get('is_in_doaj', None),\n",
    "        'isIndexedInScopus': rec.get('is_indexed_in_scopus', None),\n",
    "        'isCore': rec.get('is_core', None),\n",
    "\n",
    "        'ArticleProcessingCharge': rec.get('apc_prices', []),\n",
    "\n",
    "        'countryCode': rec.get('country_code', None), \n",
    "        'societies': rec.get('societies', []),\n",
    "\n",
    "        'topics': [\n",
    "            {\n",
    "                'id': topic.get('id', None) ,\n",
    "                'count': topic.get('count', None) ,\n",
    "            } for topic in rec.get('topics')\n",
    "        ],\n",
    "\n",
    "        'counts_by_year':[\n",
    "            {\n",
    "                'year': info.get('year', None),\n",
    "                'citedByCount': info.get('cited_by_count', None),\n",
    "                'worksCount': info.get('works_count', None),\n",
    "            } for info in rec.get('counts_by_year', [])\n",
    "        ]\n",
    "\n",
    "    }"
   ]
  },
  {
   "cell_type": "code",
   "execution_count": 57,
   "id": "98e8ab50",
   "metadata": {},
   "outputs": [
    {
     "data": {
      "text/plain": [
       "'https://openalex.org/S4210227635'"
      ]
     },
     "execution_count": 57,
     "metadata": {},
     "output_type": "execute_result"
    }
   ],
   "source": [
    "sources_ids[1]"
   ]
  },
  {
   "cell_type": "code",
   "execution_count": 59,
   "metadata": {},
   "outputs": [],
   "source": [
    "response = requests.get('https://api.openalex.org/S421022763555')\n",
    "if response.status_code == 200:\n",
    "    response.raise_for_status()\n",
    "    data = response.json()\n",
    "    print(json.dumps(parse_source_data(data), indent=4))"
   ]
  },
  {
   "cell_type": "code",
   "execution_count": 18,
   "id": "e20d709b",
   "metadata": {},
   "outputs": [
    {
     "name": "stdout",
     "output_type": "stream",
     "text": [
      "    0:  200 -> 0 \n",
      "  200:  400 -> 0 \n",
      "  400:  600 -> 0 \n",
      "  600:  800 -> 1 \n",
      "  800: 1000 -> 0 \n"
     ]
    }
   ],
   "source": [
    "N_SOURCES = len(sources_ids)\n",
    "BATCH_SIZE = 200\n",
    "j = 1\n",
    "\n",
    "not_valid_url = []\n",
    "\n",
    "for i in range(0, N_SOURCES, BATCH_SIZE):\n",
    "    selected_ids = [url.replace('openalex.org', 'api.openalex.org', 1) for url in sources_ids[i:i+BATCH_SIZE]]\n",
    "    selected_results, temp_not_valid_url = await get_batch_async(selected_ids, parse_source_data)\n",
    "    \n",
    "    with open(f'clean_data/sources/batch_{j}.json', 'w', encoding='utf-8') as f:\n",
    "        json.dump(selected_results, f, indent=4, ensure_ascii=False)\n",
    "    \n",
    "    print(f'{i:5}:{i+BATCH_SIZE:5} -> {len(temp_not_valid_url)} ')\n",
    "    not_valid_url.extend(temp_not_valid_url)\n",
    "\n",
    "    j += 1"
   ]
  },
  {
   "cell_type": "code",
   "execution_count": 19,
   "id": "1fe81e68",
   "metadata": {},
   "outputs": [],
   "source": [
    "ids = []\n",
    "dir_sources_id = 'clean_data/sources'\n",
    "for fname in os.listdir(dir_sources_id):\n",
    "    with open(os.path.join(dir_sources_id, fname), 'r', encoding='utf-8') as f:\n",
    "        temp = json.load(f)\n",
    "    ids.extend([r.get('id', None) for r in temp])"
   ]
  },
  {
   "cell_type": "code",
   "execution_count": 20,
   "id": "61c77d17",
   "metadata": {},
   "outputs": [
    {
     "data": {
      "text/plain": [
       "(835, 835, 836)"
      ]
     },
     "execution_count": 20,
     "metadata": {},
     "output_type": "execute_result"
    }
   ],
   "source": [
    "len(ids), len(set(ids)), len(sources_ids)"
   ]
  },
  {
   "cell_type": "markdown",
   "id": "22ce9425",
   "metadata": {},
   "source": [
    "## institute"
   ]
  },
  {
   "cell_type": "code",
   "execution_count": 4,
   "id": "eacb331c",
   "metadata": {},
   "outputs": [
    {
     "name": "stdout",
     "output_type": "stream",
     "text": [
      "29171\n",
      "49967\n"
     ]
    }
   ],
   "source": [
    "institutions_ids = []\n",
    "dir_paper_id = 'clean_data/papers'\n",
    "for fname in os.listdir(dir_paper_id):\n",
    "    with open(os.path.join(dir_paper_id, fname), 'r', encoding='utf-8') as f:\n",
    "        temp = json.load(f)\n",
    "    for rec in temp:\n",
    "        institutions_ids.extend([i for a in rec.get('authorship', []) for i in a.get('author', {}).get('institutions', [])])\n",
    "\n",
    "print(len(institutions_ids))\n",
    "\n",
    "dir_author_id = 'clean_data/authors'\n",
    "for fname in os.listdir(dir_author_id):\n",
    "    with open(os.path.join(dir_author_id, fname), 'r', encoding='utf-8') as f:\n",
    "        temp = json.load(f)\n",
    "    for rec in temp:\n",
    "        institutions_ids.extend(rec.get('lastKnownInstitutions', []))\n",
    "\n",
    "print(len(institutions_ids))"
   ]
  },
  {
   "cell_type": "code",
   "execution_count": 5,
   "id": "ad054f40",
   "metadata": {},
   "outputs": [
    {
     "data": {
      "text/plain": [
       "5049"
      ]
     },
     "execution_count": 5,
     "metadata": {},
     "output_type": "execute_result"
    }
   ],
   "source": [
    "institutions_ids = list(set(institutions_ids))\n",
    "random.shuffle(institutions_ids)\n",
    "if None in institutions_ids:\n",
    "    institutions_ids.remove(None)\n",
    "len(institutions_ids)"
   ]
  },
  {
   "cell_type": "code",
   "execution_count": 6,
   "id": "bd2d48b1",
   "metadata": {},
   "outputs": [],
   "source": [
    "def parse_institution_data(rec):\n",
    "    return {\n",
    "        'id': rec.get('id', None),\n",
    "        'ror': rec.get('ror', None),\n",
    "        'name': rec.get('display_name', None),\n",
    "        'countryCode': rec.get('country_code', None),\n",
    "        'type': rec.get('type', None),\n",
    "        'internationalName': rec.get('international', {}).get('display_name', {}).get('en', None),\n",
    "\n",
    "        'worksCount': rec.get('works_count', None),\n",
    "        'citedByCount': rec.get('cited_by_count', None),\n",
    "\n",
    "        'twoYearMeanCitedness': rec.get('summary_stats', {}).get('2yr_mean_citedness', None),\n",
    "        'hIndex': rec.get('summary_stats', {}).get('h_index', None),\n",
    "        'iTenIndex': rec.get('summary_stats', {}).get('i10_index', None),\n",
    "\n",
    "\n",
    "        'geo': {\n",
    "            'city': rec.get('geo', {}).get('city', None),\n",
    "            'country': rec.get('geo', {}).get('country', None),\n",
    "            'latitude': rec.get('geo', {}).get('latitude', None),\n",
    "            'longitude': rec.get('geo', {}).get('longitude', None),\n",
    "        },\n",
    "\n",
    "\n",
    "\n",
    "        'countsByYear': [\n",
    "            {\n",
    "                'year': info.get('year', None),\n",
    "                'worksCount': info.get('works_count', None),\n",
    "                'citedByCount': info.get('cited_by_count', None),\n",
    "            } for info in rec.get('counts_by_year', [])\n",
    "        ],\n",
    "        \n",
    "        'topics': [\n",
    "            {\n",
    "                'id': topic.get('id', None) ,\n",
    "                'count': topic.get('count', None) ,\n",
    "            } for topic in rec.get('topics', [])\n",
    "        ],\n",
    "    }"
   ]
  },
  {
   "cell_type": "code",
   "execution_count": 54,
   "id": "11631cc4",
   "metadata": {},
   "outputs": [
    {
     "data": {
      "text/plain": [
       "'https://openalex.org/I32377083'"
      ]
     },
     "execution_count": 54,
     "metadata": {},
     "output_type": "execute_result"
    }
   ],
   "source": [
    "institutions_ids[0]"
   ]
  },
  {
   "cell_type": "code",
   "execution_count": 56,
   "id": "5e78815b",
   "metadata": {},
   "outputs": [],
   "source": [
    "response = requests.get('https://api.openalex.org/I3237708003')\n",
    "if response.status_code == 200:\n",
    "    response.raise_for_status()\n",
    "    data = response.json()\n",
    "    print(json.dumps(parse_institution_data(data), indent=4))"
   ]
  },
  {
   "cell_type": "code",
   "execution_count": 7,
   "id": "e22e5378",
   "metadata": {},
   "outputs": [
    {
     "name": "stdout",
     "output_type": "stream",
     "text": [
      "    0:  500 -> 0 \n",
      "  500: 1000 -> 0 \n",
      " 1000: 1500 -> 0 \n",
      " 1500: 2000 -> 0 \n",
      " 2000: 2500 -> 0 \n",
      " 2500: 3000 -> 0 \n",
      " 3000: 3500 -> 1 \n",
      " 3500: 4000 -> 0 \n",
      " 4000: 4500 -> 0 \n",
      " 4500: 5000 -> 0 \n",
      " 5000: 5500 -> 0 \n"
     ]
    }
   ],
   "source": [
    "N_INSTITUTIONS = len(institutions_ids)\n",
    "BATCH_SIZE = 500\n",
    "j = 1\n",
    "\n",
    "not_valid_url = []\n",
    "\n",
    "for i in range(0, N_INSTITUTIONS, BATCH_SIZE):\n",
    "    selected_ids = [url.replace('openalex.org', 'api.openalex.org', 1) for url in institutions_ids[i:i+BATCH_SIZE]]\n",
    "    selected_results, temp_not_valid_url = await get_batch_async(selected_ids, parse_institution_data)\n",
    "    \n",
    "    with open(f'clean_data/institutions/batch_{j}.json', 'w', encoding='utf-8') as f:\n",
    "        json.dump(selected_results, f, indent=4, ensure_ascii=False)\n",
    "    \n",
    "    print(f'{i:5}:{i+BATCH_SIZE:5} -> {len(temp_not_valid_url)} ')\n",
    "    not_valid_url.extend(temp_not_valid_url)\n",
    "\n",
    "    j += 1"
   ]
  },
  {
   "cell_type": "code",
   "execution_count": 9,
   "id": "91433dea",
   "metadata": {},
   "outputs": [],
   "source": [
    "ids = []\n",
    "dir_institutions_id = 'clean_data/institutions'\n",
    "for fname in os.listdir(dir_institutions_id):\n",
    "    with open(os.path.join(dir_institutions_id, fname), 'r', encoding='utf-8') as f:\n",
    "        temp = json.load(f)\n",
    "    ids.extend([r.get('id', None) for r in temp])"
   ]
  },
  {
   "cell_type": "code",
   "execution_count": 10,
   "id": "5c53c02f",
   "metadata": {},
   "outputs": [
    {
     "data": {
      "text/plain": [
       "(5048, 5048, 5049)"
      ]
     },
     "execution_count": 10,
     "metadata": {},
     "output_type": "execute_result"
    }
   ],
   "source": [
    "len(ids), len(set(ids)), len(institutions_ids)"
   ]
  },
  {
   "cell_type": "markdown",
   "id": "3d3dc19c",
   "metadata": {},
   "source": [
    "## grants"
   ]
  },
  {
   "cell_type": "code",
   "execution_count": 4,
   "id": "f39be293",
   "metadata": {},
   "outputs": [
    {
     "name": "stdout",
     "output_type": "stream",
     "text": [
      "3694\n"
     ]
    }
   ],
   "source": [
    "grants_ids = []\n",
    "dir_paper_id = 'clean_data/papers'\n",
    "for fname in os.listdir(dir_paper_id):\n",
    "    with open(os.path.join(dir_paper_id, fname), 'r', encoding='utf-8') as f:\n",
    "        temp = json.load(f)\n",
    "    for rec in temp:\n",
    "        grants_ids.extend([g.get('funder', None) for g in rec.get('grants', [])])\n",
    "\n",
    "print(len(grants_ids))"
   ]
  },
  {
   "cell_type": "code",
   "execution_count": 5,
   "id": "2a552cf0",
   "metadata": {},
   "outputs": [
    {
     "data": {
      "text/plain": [
       "605"
      ]
     },
     "execution_count": 5,
     "metadata": {},
     "output_type": "execute_result"
    }
   ],
   "source": [
    "grants_ids = list(set(grants_ids))\n",
    "random.shuffle(grants_ids)\n",
    "if None in grants_ids:\n",
    "    grants_ids.remove(None)\n",
    "len(grants_ids)"
   ]
  },
  {
   "cell_type": "code",
   "execution_count": 8,
   "id": "a9240780",
   "metadata": {},
   "outputs": [],
   "source": [
    "def parse_grant_data(rec):\n",
    "    return {\n",
    "        'id': rec.get('id', None),\n",
    "        'name': rec.get('display_name', None),\n",
    "        'ror': rec.get('ids', {}).get('ror', None),\n",
    "        'doi': rec.get('ids', {}).get('doi', None),\n",
    "        'countryCode': rec.get('country_code', None),\n",
    "        'description': rec.get('description', None),\n",
    "\n",
    "        'grantsCount': rec.get('grants_count', None),\n",
    "        'worksCount': rec.get('works_count', None),\n",
    "        'citedByCount': rec.get('cited_by_count', None),\n",
    "\n",
    "        'twoYearMeanCitedness': rec.get('summary_stats', {}).get('2yr_mean_citedness', None),\n",
    "        'hIndex': rec.get('summary_stats', {}).get('h_index', None),\n",
    "        'iTenIndex': rec.get('summary_stats', {}).get('i10_index', None),\n",
    "\n",
    "        'countsByYear': [\n",
    "            {\n",
    "                'year': info.get('year', None),\n",
    "                'worksCount': info.get('works_count', None),\n",
    "                'citedByCount': info.get('cited_by_count', None),\n",
    "            } for info in rec.get('counts_by_year', [])\n",
    "        ]\n",
    "    }"
   ]
  },
  {
   "cell_type": "code",
   "execution_count": 9,
   "id": "0e13b563",
   "metadata": {},
   "outputs": [],
   "source": [
    "response = requests.get('https://api.openalex.org/F43203060760')\n",
    "if response.status_code == 200:\n",
    "    response.raise_for_status()\n",
    "    data = response.json()\n",
    "    print(json.dumps(parse_grant_data(data), indent=4))"
   ]
  },
  {
   "cell_type": "code",
   "execution_count": 10,
   "id": "996abfc8",
   "metadata": {},
   "outputs": [
    {
     "name": "stdout",
     "output_type": "stream",
     "text": [
      "    0:  200 -> 0 \n",
      "  200:  400 -> 0 \n",
      "  400:  600 -> 0 \n",
      "  600:  800 -> 0 \n"
     ]
    }
   ],
   "source": [
    "N_FUNDERS = len(grants_ids)\n",
    "BATCH_SIZE = 200\n",
    "j = 1\n",
    "\n",
    "not_valid_url = []\n",
    "\n",
    "for i in range(0, N_FUNDERS, BATCH_SIZE):\n",
    "    selected_ids = [url.replace('openalex.org', 'api.openalex.org', 1) for url in grants_ids[i:i+BATCH_SIZE]]\n",
    "    selected_results, temp_not_valid_url = await get_batch_async(selected_ids, parse_grant_data)\n",
    "    \n",
    "    with open(f'clean_data/funders/batch_{j}.json', 'w', encoding='utf-8') as f:\n",
    "        json.dump(selected_results, f, indent=4, ensure_ascii=False)\n",
    "    \n",
    "    print(f'{i:5}:{i+BATCH_SIZE:5} -> {len(temp_not_valid_url)} ')\n",
    "    not_valid_url.extend(temp_not_valid_url)\n",
    "\n",
    "    j += 1"
   ]
  },
  {
   "cell_type": "code",
   "execution_count": 13,
   "id": "a13dcde2",
   "metadata": {},
   "outputs": [],
   "source": [
    "ids = []\n",
    "dir_funders_id = 'clean_data/funders'\n",
    "for fname in os.listdir(dir_funders_id):\n",
    "    with open(os.path.join(dir_funders_id, fname), 'r', encoding='utf-8') as f:\n",
    "        temp = json.load(f)\n",
    "    ids.extend([r.get('id', None) for r in temp])"
   ]
  },
  {
   "cell_type": "code",
   "execution_count": 14,
   "id": "b118f629",
   "metadata": {},
   "outputs": [
    {
     "data": {
      "text/plain": [
       "(605, 605, 605)"
      ]
     },
     "execution_count": 14,
     "metadata": {},
     "output_type": "execute_result"
    }
   ],
   "source": [
    "len(ids), len(set(ids)), len(grants_ids)"
   ]
  },
  {
   "cell_type": "markdown",
   "id": "6a35b2d1",
   "metadata": {},
   "source": [
    "## topic"
   ]
  },
  {
   "cell_type": "markdown",
   "id": "3cb48d38",
   "metadata": {},
   "source": []
  }
 ],
 "metadata": {
  "kernelspec": {
   "display_name": "AV-references-cleaning (3.11.14)",
   "language": "python",
   "name": "python3"
  },
  "language_info": {
   "codemirror_mode": {
    "name": "ipython",
    "version": 3
   },
   "file_extension": ".py",
   "mimetype": "text/x-python",
   "name": "python",
   "nbconvert_exporter": "python",
   "pygments_lexer": "ipython3",
   "version": "3.11.14"
  }
 },
 "nbformat": 4,
 "nbformat_minor": 5
}
