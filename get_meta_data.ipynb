{
 "cells": [
  {
   "cell_type": "code",
   "execution_count": 1,
   "id": "da1ecd4b",
   "metadata": {},
   "outputs": [],
   "source": [
    "import requests\n",
    "import json\n",
    "import os\n",
    "import asyncio\n",
    "import httpx\n",
    "import pandas as pd\n",
    "import random"
   ]
  },
  {
   "cell_type": "code",
   "execution_count": 2,
   "id": "1e7868e3",
   "metadata": {},
   "outputs": [
    {
     "data": {
      "text/plain": [
       "122"
      ]
     },
     "execution_count": 2,
     "metadata": {},
     "output_type": "execute_result"
    }
   ],
   "source": [
    "with open('clean_data/papers/batch_1.json', 'r', encoding='utf-8') as f:\n",
    "    existing_data = json.load(f)\n",
    "len(existing_data)"
   ]
  },
  {
   "cell_type": "code",
   "execution_count": 3,
   "id": "5b643bb0",
   "metadata": {},
   "outputs": [
    {
     "data": {
      "text/plain": [
       "6570"
      ]
     },
     "execution_count": 3,
     "metadata": {},
     "output_type": "execute_result"
    }
   ],
   "source": [
    "existing_papers_id = [rec.get('paper').get('id') for rec in existing_data]\n",
    "\n",
    "papers_id = []\n",
    "for rec in existing_data:\n",
    "    referenced_works = rec.get('referencedWorks')\n",
    "    papers_id.extend(referenced_works)\n",
    "papers_id = list(set(papers_id) - set(existing_papers_id))\n",
    "len(papers_id)"
   ]
  },
  {
   "cell_type": "code",
   "execution_count": 5,
   "id": "75a216c9",
   "metadata": {},
   "outputs": [],
   "source": [
    "async def get_data(url, parse_func):\n",
    "    async with httpx.AsyncClient(timeout=10.0) as client:\n",
    "        try:\n",
    "            response = await client.get(url, params={'mailto': 'rimaz.temp@gmail.com'})\n",
    "            response.raise_for_status()\n",
    "            data = response.json()\n",
    "            parsed_data = parse_func(data)\n",
    "            return True, parsed_data, None\n",
    "        except httpx.HTTPStatusError as e:\n",
    "            return False, f\"HTTP error: {e}\", url\n",
    "        except httpx.RequestError as e:\n",
    "            return False, f\"A request error occurred: {e}\", url\n",
    "        except Exception as e:\n",
    "            return False, f\"An unexpected error occurred: {e}\", url\n"
   ]
  },
  {
   "cell_type": "code",
   "execution_count": 6,
   "id": "1e333ecc",
   "metadata": {},
   "outputs": [],
   "source": [
    "async def get_batch_async(ids_list: list[str], parse_func, batch_size: int = 4, sleep_sec: float = 1):\n",
    "    results = []\n",
    "    not_valid_url = []\n",
    "    for i in range(0, len(ids_list), batch_size):\n",
    "        batch = ids_list[i:i + batch_size]\n",
    "        \n",
    "        tasks = [get_data(id_, parse_func) for id_ in batch]\n",
    "        \n",
    "        batch_results = await asyncio.gather(*tasks)\n",
    "        results.extend([rec[1] for rec in batch_results if rec[0]])\n",
    "        not_valid_url.extend([(rec[2], rec[1]) for rec in batch_results if not rec[0]])\n",
    "        \n",
    "        if i + batch_size < len(ids_list):\n",
    "            await asyncio.sleep(sleep_sec)\n",
    "                \n",
    "    return results, not_valid_url"
   ]
  },
  {
   "cell_type": "code",
   "execution_count": 7,
   "id": "2c04db1f",
   "metadata": {},
   "outputs": [],
   "source": [
    "CONCEPT_SIMILARITY_THRESH = 0.5\n",
    "TOPIC_SIMILARITY_THRESH = 0.8\n",
    "\n",
    "def parse_paper_data(rec):\n",
    "    return {\n",
    "        'paper':{\n",
    "            'id': rec.get('id', None),\n",
    "            'doi': rec.get('doi', None),\n",
    "            'title': rec.get('title', None),\n",
    "            'publicationYear': rec.get('publication_year', None),\n",
    "            'language': rec.get('language', None),\n",
    "            'type': rec.get('type', None),\n",
    "            'crossrefType': rec.get('type_crossref', None),\n",
    "            'numberOfCiteation': rec.get('cited_by_count', None),\n",
    "            'FieldWeightedCitationImpact': rec.get('fwci', None),\n",
    "            'countsByYear': rec.get('counts_by_year', {}),\n",
    "            'pdfUrl': rec.get('primary_location', {}).get('pdf_url', None)\n",
    "        },\n",
    "\n",
    "        'authorship':[\n",
    "            {\n",
    "                'authorPosition': author.get('author_position', None),\n",
    "                'author':{\n",
    "                    'id': author.get('author', {}).get('id', None),\n",
    "                    'institutions': [institution.get('id', None) for institution in author.get('institutions', [])],\n",
    "                    'isCorresponding': author.get('is_corresponding', None),\n",
    "                    'affiliations': author.get('raw_affiliation_strings', []),\n",
    "                }    \n",
    "            } for author in rec.get('authorships')\n",
    "        ],\n",
    "\n",
    "        'source': {\n",
    "            'id': rec.get('primary_location', {}).get('source', {}).get('id', None) if rec.get('primary_location', {}).get('source', {}) else None,\n",
    "            'hostOrganizationId': rec.get('primary_location', {}).get('source', {}).get('host_organization', None) if rec.get('primary_location', {}).get('source', {}) else None,\n",
    "            'volume': rec.get('biblio', {}).get('volume', None),\n",
    "            'issue': rec.get('biblio', {}).get('issue', None),\n",
    "        },\n",
    "\n",
    "        'referencedWorks': rec.get('referenced_works', []),\n",
    "        'relatedWorks': rec.get('related_works', []),\n",
    "\n",
    "        'grants': [\n",
    "            {\n",
    "                'funder': grant.get('funder', None),\n",
    "                'awardId': grant.get('award_id', None),\n",
    "            } for grant in rec.get('grants', [])\n",
    "        ],\n",
    "\n",
    "        'concepts': [concept.get('id', None) for concept in rec.get('concepts', []) if concept.get('score', None) > CONCEPT_SIMILARITY_THRESH ],\n",
    "        'keywords': [keyword.get('display_name', None) for keyword in rec.get('keywords', []) ],\n",
    "\n",
    "        'topics': [topic.get('id', None) for topic in rec.get('topics', []) if topic.get('score', None) > TOPIC_SIMILARITY_THRESH ],\n",
    "\n",
    "    }"
   ]
  },
  {
   "cell_type": "code",
   "execution_count": null,
   "id": "81f0a666",
   "metadata": {},
   "outputs": [],
   "source": [
    "# random.shuffle(papers_id)\n",
    "# N_PAPERS = len(papers_id)\n",
    "BATCH_SIZE = 160\n",
    "j = 4\n",
    "\n",
    "# not_valid_url = []\n",
    "\n",
    "for i in range(320, N_PAPERS, BATCH_SIZE):\n",
    "    selected_ids = [url.replace('openalex.org', 'api.openalex.org', 1) for url in papers_id[i:i+BATCH_SIZE]]\n",
    "    selected_results, temp_not_valid_url = await get_batch_async(selected_ids, parse_paper_data)\n",
    "    \n",
    "    with open(f'clean_data/papers/batch_{j}.json', 'w', encoding='utf-8') as f:\n",
    "        json.dump(selected_results, f, indent=4, ensure_ascii=False)\n",
    "    \n",
    "    print(f'{i:5}:{i+BATCH_SIZE:5} -> {len(temp_not_valid_url)} ')\n",
    "    not_valid_url.extend(temp_not_valid_url)\n",
    "\n",
    "    j += 1\n",
    "    "
   ]
  },
  {
   "cell_type": "code",
   "execution_count": 10,
   "id": "e199dc3b",
   "metadata": {},
   "outputs": [
    {
     "data": {
      "text/plain": [
       "21"
      ]
     },
     "execution_count": 10,
     "metadata": {},
     "output_type": "execute_result"
    }
   ],
   "source": [
    "len(not_valid_url)"
   ]
  },
  {
   "cell_type": "code",
   "execution_count": 21,
   "id": "e732dd93",
   "metadata": {},
   "outputs": [],
   "source": [
    "# [rec[1] for rec in not_valid_url]"
   ]
  },
  {
   "cell_type": "code",
   "execution_count": 18,
   "id": "0503b1e9",
   "metadata": {},
   "outputs": [],
   "source": [
    "selected_ids = [url for url, _ in not_valid_url]\n",
    "selected_results, temp_not_valid_url = await get_batch_async(selected_ids, parse_paper_data)\n",
    "\n",
    "with open(f'clean_data/papers/batch_{j}.json', 'w', encoding='utf-8') as f:\n",
    "    json.dump(selected_results, f, indent=4, ensure_ascii=False)"
   ]
  },
  {
   "cell_type": "code",
   "execution_count": 22,
   "id": "e321fa33",
   "metadata": {},
   "outputs": [],
   "source": [
    "ids = []\n",
    "dir_paper_id = 'clean_data/papers'\n",
    "for fname in os.listdir(dir_paper_id):\n",
    "    with open(os.path.join(dir_paper_id, fname), 'r', encoding='utf-8') as f:\n",
    "        temp = json.load(f)\n",
    "    ids.extend([r.get('paper', {}).get('id') for r in temp])"
   ]
  },
  {
   "cell_type": "code",
   "execution_count": 28,
   "metadata": {},
   "outputs": [
    {
     "data": {
      "text/plain": [
       "(6671, 6650, 6692)"
      ]
     },
     "execution_count": 28,
     "metadata": {},
     "output_type": "execute_result"
    }
   ],
   "source": [
    "len(ids), len(set(ids)), len(papers_id)+len(existing_papers_id)"
   ]
  },
  {
   "cell_type": "code",
   "execution_count": 33,
   "id": "54bf0214",
   "metadata": {},
   "outputs": [
    {
     "data": {
      "text/plain": [
       "['https://openalex.org/A5072811055',\n",
       " 'https://openalex.org/A5080039924',\n",
       " 'https://openalex.org/A5091175785',\n",
       " 'https://openalex.org/A5003932703',\n",
       " 'https://openalex.org/A5102861496',\n",
       " 'https://openalex.org/A5037751863',\n",
       " 'https://openalex.org/A5086198262',\n",
       " 'https://openalex.org/A5112608251']"
      ]
     },
     "execution_count": 33,
     "metadata": {},
     "output_type": "execute_result"
    }
   ],
   "source": [
    "[a.get('author', {}).get('id') for a in temp[0].get('authorship') if a.get('author', {}).get('id', None)]"
   ]
  },
  {
   "cell_type": "code",
   "execution_count": 40,
   "id": "f1f5b321",
   "metadata": {},
   "outputs": [
    {
     "data": {
      "text/plain": [
       "28832"
      ]
     },
     "execution_count": 40,
     "metadata": {},
     "output_type": "execute_result"
    }
   ],
   "source": [
    "authors_ids = []\n",
    "dir_paper_id = 'clean_data/papers'\n",
    "for fname in os.listdir(dir_paper_id):\n",
    "    with open(os.path.join(dir_paper_id, fname), 'r', encoding='utf-8') as f:\n",
    "        temp = json.load(f)\n",
    "    for rec in temp:\n",
    "        authors_ids.extend([a.get('author', {}).get('id') for a in rec.get('authorship') if a.get('author', {}).get('id', None)])\n",
    "\n",
    "len(authors_ids)"
   ]
  },
  {
   "cell_type": "code",
   "execution_count": 41,
   "id": "17d86872",
   "metadata": {},
   "outputs": [
    {
     "data": {
      "text/plain": [
       "17901"
      ]
     },
     "execution_count": 41,
     "metadata": {},
     "output_type": "execute_result"
    }
   ],
   "source": [
    "authors_ids = list(set(authors_ids))\n",
    "len(authors_ids)"
   ]
  },
  {
   "cell_type": "code",
   "execution_count": 42,
   "id": "03264e77",
   "metadata": {},
   "outputs": [],
   "source": [
    "random.shuffle(authors_ids)"
   ]
  },
  {
   "cell_type": "code",
   "execution_count": 43,
   "id": "11196ce4",
   "metadata": {},
   "outputs": [
    {
     "data": {
      "text/plain": [
       "'https://openalex.org/A5032989636'"
      ]
     },
     "execution_count": 43,
     "metadata": {},
     "output_type": "execute_result"
    }
   ],
   "source": [
    "authors_ids[0]"
   ]
  },
  {
   "cell_type": "code",
   "execution_count": 44,
   "id": "a6642c03",
   "metadata": {},
   "outputs": [
    {
     "data": {
      "text/plain": [
       "200"
      ]
     },
     "execution_count": 44,
     "metadata": {},
     "output_type": "execute_result"
    }
   ],
   "source": [
    "resp = requests.get('https://api.openalex.org/A5032989636')\n",
    "resp.status_code"
   ]
  },
  {
   "cell_type": "code",
   "execution_count": 46,
   "id": "019f462b",
   "metadata": {},
   "outputs": [
    {
     "data": {
      "text/plain": [
       "dict_keys(['id', 'orcid', 'display_name', 'display_name_alternatives', 'works_count', 'cited_by_count', 'summary_stats', 'ids', 'affiliations', 'last_known_institutions', 'topics', 'topic_share', 'x_concepts', 'counts_by_year', 'works_api_url', 'updated_date', 'created_date'])"
      ]
     },
     "execution_count": 46,
     "metadata": {},
     "output_type": "execute_result"
    }
   ],
   "source": [
    "data = resp.json()\n",
    "data.keys()"
   ]
  },
  {
   "cell_type": "code",
   "execution_count": 48,
   "id": "34f5975c",
   "metadata": {},
   "outputs": [
    {
     "data": {
      "text/plain": [
       "('https://openalex.org/A5032989636', None, 'Minzhou Luo')"
      ]
     },
     "execution_count": 48,
     "metadata": {},
     "output_type": "execute_result"
    }
   ],
   "source": [
    "data.get('id'), data.get('orcid'), data.get('display_name')"
   ]
  },
  {
   "cell_type": "code",
   "execution_count": 49,
   "id": "eb9a4716",
   "metadata": {},
   "outputs": [
    {
     "data": {
      "text/plain": [
       "['Minzhou Luo',\n",
       " 'M. Luo',\n",
       " 'Mengjuan Luo',\n",
       " 'Min‐Zhou Luo',\n",
       " 'Luo Min‐zhou',\n",
       " 'Luo Minzhou',\n",
       " 'Mina Luo']"
      ]
     },
     "execution_count": 49,
     "metadata": {},
     "output_type": "execute_result"
    }
   ],
   "source": [
    "data.get('display_name_alternatives')"
   ]
  },
  {
   "cell_type": "code",
   "execution_count": 50,
   "id": "d496bff7",
   "metadata": {},
   "outputs": [
    {
     "data": {
      "text/plain": [
       "(136, 1486)"
      ]
     },
     "execution_count": 50,
     "metadata": {},
     "output_type": "execute_result"
    }
   ],
   "source": [
    "data.get('works_count'), data.get('cited_by_count')"
   ]
  },
  {
   "cell_type": "code",
   "execution_count": 51,
   "id": "7769517d",
   "metadata": {},
   "outputs": [
    {
     "data": {
      "text/plain": [
       "{'2yr_mean_citedness': 7.666666666666667, 'h_index': 20, 'i10_index': 36}"
      ]
     },
     "execution_count": 51,
     "metadata": {},
     "output_type": "execute_result"
    }
   ],
   "source": [
    "data.get('summary_stats')"
   ]
  },
  {
   "cell_type": "code",
   "execution_count": 53,
   "id": "c21209d9",
   "metadata": {},
   "outputs": [
    {
     "data": {
      "text/plain": [
       "{'openalex': 'https://openalex.org/A5032989636'}"
      ]
     },
     "execution_count": 53,
     "metadata": {},
     "output_type": "execute_result"
    }
   ],
   "source": [
    "data.get('ids')"
   ]
  },
  {
   "cell_type": "code",
   "execution_count": 54,
   "id": "765641a6",
   "metadata": {},
   "outputs": [
    {
     "data": {
      "text/plain": [
       "[{'institution': {'id': 'https://openalex.org/I163340411',\n",
       "   'ror': 'https://ror.org/01wd4xt90',\n",
       "   'display_name': 'Hohai University',\n",
       "   'country_code': 'CN',\n",
       "   'type': 'funder',\n",
       "   'lineage': ['https://openalex.org/I163340411']},\n",
       "  'years': [2025, 2024, 2023, 2022, 2021, 2020, 2019, 2018, 2017, 2016]},\n",
       " {'institution': {'id': 'https://openalex.org/I4210148486',\n",
       "   'ror': 'https://ror.org/044a9d018',\n",
       "   'display_name': 'Jiangsu Industry Technology Research Institute',\n",
       "   'country_code': 'CN',\n",
       "   'type': 'facility',\n",
       "   'lineage': ['https://openalex.org/I4210148486']},\n",
       "  'years': [2023, 2022, 2020, 2018, 2017, 2016]},\n",
       " {'institution': {'id': 'https://openalex.org/I4210117754',\n",
       "   'ror': 'https://ror.org/023zynq23',\n",
       "   'display_name': 'Chinese Academy of Civil Aviation Science and Technology',\n",
       "   'country_code': 'CN',\n",
       "   'type': 'nonprofit',\n",
       "   'lineage': ['https://openalex.org/I4210117754']},\n",
       "  'years': [2023]},\n",
       " {'institution': {'id': 'https://openalex.org/I126520041',\n",
       "   'ror': 'https://ror.org/04c4dkn09',\n",
       "   'display_name': 'University of Science and Technology of China',\n",
       "   'country_code': 'CN',\n",
       "   'type': 'funder',\n",
       "   'lineage': ['https://openalex.org/I126520041',\n",
       "    'https://openalex.org/I19820366']},\n",
       "  'years': [2020, 2019, 2018, 2017, 2016, 2015, 2013, 2011, 2004]},\n",
       " {'institution': {'id': 'https://openalex.org/I32377083',\n",
       "   'ror': 'https://ror.org/05v8v7d33',\n",
       "   'display_name': 'Yangtze Normal University',\n",
       "   'country_code': 'CN',\n",
       "   'type': 'education',\n",
       "   'lineage': ['https://openalex.org/I32377083']},\n",
       "  'years': [2019]},\n",
       " {'institution': {'id': 'https://openalex.org/I204983213',\n",
       "   'ror': 'https://ror.org/01yqg2h08',\n",
       "   'display_name': 'Harbin Institute of Technology',\n",
       "   'country_code': 'CN',\n",
       "   'type': 'funder',\n",
       "   'lineage': ['https://openalex.org/I204983213']},\n",
       "  'years': [2019]},\n",
       " {'institution': {'id': 'https://openalex.org/I4210144102',\n",
       "   'ror': 'https://ror.org/049w4dp92',\n",
       "   'display_name': 'Wuhu Hit Robot Technology Research Institute',\n",
       "   'country_code': 'CN',\n",
       "   'type': 'facility',\n",
       "   'lineage': ['https://openalex.org/I4210144102']},\n",
       "  'years': [2019]},\n",
       " {'institution': {'id': 'https://openalex.org/I19820366',\n",
       "   'ror': 'https://ror.org/034t30j35',\n",
       "   'display_name': 'Chinese Academy of Sciences',\n",
       "   'country_code': 'CN',\n",
       "   'type': 'government',\n",
       "   'lineage': ['https://openalex.org/I19820366']},\n",
       "  'years': [2018, 2017, 2016, 2015, 2014, 2013, 2011, 2010, 2008, 2007]},\n",
       " {'institution': {'id': 'https://openalex.org/I4210157608',\n",
       "   'ror': 'https://ror.org/05egxdg81',\n",
       "   'display_name': 'Institute of Advanced Manufacturing Technology',\n",
       "   'country_code': 'CN',\n",
       "   'type': 'education',\n",
       "   'lineage': ['https://openalex.org/I4210157608']},\n",
       "  'years': [2018, 2017, 2016, 2015, 2014, 2013, 2011]},\n",
       " {'institution': {'id': 'https://openalex.org/I2802624667',\n",
       "   'ror': 'https://ror.org/046n57345',\n",
       "   'display_name': 'Hefei Institutes of Physical Science',\n",
       "   'country_code': 'CN',\n",
       "   'type': 'funder',\n",
       "   'lineage': ['https://openalex.org/I19820366',\n",
       "    'https://openalex.org/I2802624667']},\n",
       "  'years': [2018, 2017, 2016, 2015, 2014, 2013, 2012, 2011, 2010, 2004]}]"
      ]
     },
     "execution_count": 54,
     "metadata": {},
     "output_type": "execute_result"
    }
   ],
   "source": [
    "data.get('affiliations')"
   ]
  },
  {
   "cell_type": "code",
   "execution_count": 55,
   "id": "cb236c75",
   "metadata": {},
   "outputs": [
    {
     "data": {
      "text/plain": [
       "[{'id': 'https://openalex.org/I163340411',\n",
       "  'ror': 'https://ror.org/01wd4xt90',\n",
       "  'display_name': 'Hohai University',\n",
       "  'country_code': 'CN',\n",
       "  'type': 'funder',\n",
       "  'lineage': ['https://openalex.org/I163340411']}]"
      ]
     },
     "execution_count": 55,
     "metadata": {},
     "output_type": "execute_result"
    }
   ],
   "source": [
    "data.get('last_known_institutions')"
   ]
  },
  {
   "cell_type": "code",
   "execution_count": 56,
   "id": "37a5ff76",
   "metadata": {},
   "outputs": [
    {
     "data": {
      "text/plain": [
       "[{'id': 'https://openalex.org/T10879',\n",
       "  'display_name': 'Robotic Locomotion and Control',\n",
       "  'count': 27,\n",
       "  'subfield': {'id': 'https://openalex.org/subfields/2204',\n",
       "   'display_name': 'Biomedical Engineering'},\n",
       "  'field': {'id': 'https://openalex.org/fields/22',\n",
       "   'display_name': 'Engineering'},\n",
       "  'domain': {'id': 'https://openalex.org/domains/3',\n",
       "   'display_name': 'Physical Sciences'}},\n",
       " {'id': 'https://openalex.org/T10653',\n",
       "  'display_name': 'Robot Manipulation and Learning',\n",
       "  'count': 22,\n",
       "  'subfield': {'id': 'https://openalex.org/subfields/2207',\n",
       "   'display_name': 'Control and Systems Engineering'},\n",
       "  'field': {'id': 'https://openalex.org/fields/22',\n",
       "   'display_name': 'Engineering'},\n",
       "  'domain': {'id': 'https://openalex.org/domains/3',\n",
       "   'display_name': 'Physical Sciences'}},\n",
       " {'id': 'https://openalex.org/T11023',\n",
       "  'display_name': 'Prosthetics and Rehabilitation Robotics',\n",
       "  'count': 22,\n",
       "  'subfield': {'id': 'https://openalex.org/subfields/2204',\n",
       "   'display_name': 'Biomedical Engineering'},\n",
       "  'field': {'id': 'https://openalex.org/fields/22',\n",
       "   'display_name': 'Engineering'},\n",
       "  'domain': {'id': 'https://openalex.org/domains/3',\n",
       "   'display_name': 'Physical Sciences'}},\n",
       " {'id': 'https://openalex.org/T10868',\n",
       "  'display_name': 'Soft Robotics and Applications',\n",
       "  'count': 17,\n",
       "  'subfield': {'id': 'https://openalex.org/subfields/2204',\n",
       "   'display_name': 'Biomedical Engineering'},\n",
       "  'field': {'id': 'https://openalex.org/fields/22',\n",
       "   'display_name': 'Engineering'},\n",
       "  'domain': {'id': 'https://openalex.org/domains/3',\n",
       "   'display_name': 'Physical Sciences'}},\n",
       " {'id': 'https://openalex.org/T10571',\n",
       "  'display_name': 'Robotic Mechanisms and Dynamics',\n",
       "  'count': 16,\n",
       "  'subfield': {'id': 'https://openalex.org/subfields/2207',\n",
       "   'display_name': 'Control and Systems Engineering'},\n",
       "  'field': {'id': 'https://openalex.org/fields/22',\n",
       "   'display_name': 'Engineering'},\n",
       "  'domain': {'id': 'https://openalex.org/domains/3',\n",
       "   'display_name': 'Physical Sciences'}},\n",
       " {'id': 'https://openalex.org/T10586',\n",
       "  'display_name': 'Robotic Path Planning Algorithms',\n",
       "  'count': 13,\n",
       "  'subfield': {'id': 'https://openalex.org/subfields/1707',\n",
       "   'display_name': 'Computer Vision and Pattern Recognition'},\n",
       "  'field': {'id': 'https://openalex.org/fields/17',\n",
       "   'display_name': 'Computer Science'},\n",
       "  'domain': {'id': 'https://openalex.org/domains/3',\n",
       "   'display_name': 'Physical Sciences'}},\n",
       " {'id': 'https://openalex.org/T10191',\n",
       "  'display_name': 'Robotics and Sensor-Based Localization',\n",
       "  'count': 13,\n",
       "  'subfield': {'id': 'https://openalex.org/subfields/2202',\n",
       "   'display_name': 'Aerospace Engineering'},\n",
       "  'field': {'id': 'https://openalex.org/fields/22',\n",
       "   'display_name': 'Engineering'},\n",
       "  'domain': {'id': 'https://openalex.org/domains/3',\n",
       "   'display_name': 'Physical Sciences'}},\n",
       " {'id': 'https://openalex.org/T10638',\n",
       "  'display_name': 'Optical measurement and interference techniques',\n",
       "  'count': 8,\n",
       "  'subfield': {'id': 'https://openalex.org/subfields/1707',\n",
       "   'display_name': 'Computer Vision and Pattern Recognition'},\n",
       "  'field': {'id': 'https://openalex.org/fields/17',\n",
       "   'display_name': 'Computer Science'},\n",
       "  'domain': {'id': 'https://openalex.org/domains/3',\n",
       "   'display_name': 'Physical Sciences'}},\n",
       " {'id': 'https://openalex.org/T12784',\n",
       "  'display_name': 'Modular Robots and Swarm Intelligence',\n",
       "  'count': 8,\n",
       "  'subfield': {'id': 'https://openalex.org/subfields/2210',\n",
       "   'display_name': 'Mechanical Engineering'},\n",
       "  'field': {'id': 'https://openalex.org/fields/22',\n",
       "   'display_name': 'Engineering'},\n",
       "  'domain': {'id': 'https://openalex.org/domains/3',\n",
       "   'display_name': 'Physical Sciences'}},\n",
       " {'id': 'https://openalex.org/T12153',\n",
       "  'display_name': 'Advanced Optical Sensing Technologies',\n",
       "  'count': 8,\n",
       "  'subfield': {'id': 'https://openalex.org/subfields/3105',\n",
       "   'display_name': 'Instrumentation'},\n",
       "  'field': {'id': 'https://openalex.org/fields/31',\n",
       "   'display_name': 'Physics and Astronomy'},\n",
       "  'domain': {'id': 'https://openalex.org/domains/3',\n",
       "   'display_name': 'Physical Sciences'}},\n",
       " {'id': 'https://openalex.org/T10338',\n",
       "  'display_name': 'Advanced Sensor and Energy Harvesting Materials',\n",
       "  'count': 7,\n",
       "  'subfield': {'id': 'https://openalex.org/subfields/2204',\n",
       "   'display_name': 'Biomedical Engineering'},\n",
       "  'field': {'id': 'https://openalex.org/fields/22',\n",
       "   'display_name': 'Engineering'},\n",
       "  'domain': {'id': 'https://openalex.org/domains/3',\n",
       "   'display_name': 'Physical Sciences'}},\n",
       " {'id': 'https://openalex.org/T12549',\n",
       "  'display_name': 'Image and Object Detection Techniques',\n",
       "  'count': 7,\n",
       "  'subfield': {'id': 'https://openalex.org/subfields/1707',\n",
       "   'display_name': 'Computer Vision and Pattern Recognition'},\n",
       "  'field': {'id': 'https://openalex.org/fields/17',\n",
       "   'display_name': 'Computer Science'},\n",
       "  'domain': {'id': 'https://openalex.org/domains/3',\n",
       "   'display_name': 'Physical Sciences'}},\n",
       " {'id': 'https://openalex.org/T11164',\n",
       "  'display_name': 'Remote Sensing and LiDAR Applications',\n",
       "  'count': 7,\n",
       "  'subfield': {'id': 'https://openalex.org/subfields/2305',\n",
       "   'display_name': 'Environmental Engineering'},\n",
       "  'field': {'id': 'https://openalex.org/fields/23',\n",
       "   'display_name': 'Environmental Science'},\n",
       "  'domain': {'id': 'https://openalex.org/domains/3',\n",
       "   'display_name': 'Physical Sciences'}},\n",
       " {'id': 'https://openalex.org/T10040',\n",
       "  'display_name': 'Adaptive Control of Nonlinear Systems',\n",
       "  'count': 6,\n",
       "  'subfield': {'id': 'https://openalex.org/subfields/2207',\n",
       "   'display_name': 'Control and Systems Engineering'},\n",
       "  'field': {'id': 'https://openalex.org/fields/22',\n",
       "   'display_name': 'Engineering'},\n",
       "  'domain': {'id': 'https://openalex.org/domains/3',\n",
       "   'display_name': 'Physical Sciences'}},\n",
       " {'id': 'https://openalex.org/T11608',\n",
       "  'display_name': 'Dielectric materials and actuators',\n",
       "  'count': 6,\n",
       "  'subfield': {'id': 'https://openalex.org/subfields/2204',\n",
       "   'display_name': 'Biomedical Engineering'},\n",
       "  'field': {'id': 'https://openalex.org/fields/22',\n",
       "   'display_name': 'Engineering'},\n",
       "  'domain': {'id': 'https://openalex.org/domains/3',\n",
       "   'display_name': 'Physical Sciences'}},\n",
       " {'id': 'https://openalex.org/T14257',\n",
       "  'display_name': 'Advanced Measurement and Detection Methods',\n",
       "  'count': 5,\n",
       "  'subfield': {'id': 'https://openalex.org/subfields/2208',\n",
       "   'display_name': 'Electrical and Electronic Engineering'},\n",
       "  'field': {'id': 'https://openalex.org/fields/22',\n",
       "   'display_name': 'Engineering'},\n",
       "  'domain': {'id': 'https://openalex.org/domains/3',\n",
       "   'display_name': 'Physical Sciences'}},\n",
       " {'id': 'https://openalex.org/T11486',\n",
       "  'display_name': 'Micro and Nano Robotics',\n",
       "  'count': 5,\n",
       "  'subfield': {'id': 'https://openalex.org/subfields/3104',\n",
       "   'display_name': 'Condensed Matter Physics'},\n",
       "  'field': {'id': 'https://openalex.org/fields/31',\n",
       "   'display_name': 'Physics and Astronomy'},\n",
       "  'domain': {'id': 'https://openalex.org/domains/3',\n",
       "   'display_name': 'Physical Sciences'}},\n",
       " {'id': 'https://openalex.org/T10531',\n",
       "  'display_name': 'Advanced Vision and Imaging',\n",
       "  'count': 5,\n",
       "  'subfield': {'id': 'https://openalex.org/subfields/1707',\n",
       "   'display_name': 'Computer Vision and Pattern Recognition'},\n",
       "  'field': {'id': 'https://openalex.org/fields/17',\n",
       "   'display_name': 'Computer Science'},\n",
       "  'domain': {'id': 'https://openalex.org/domains/3',\n",
       "   'display_name': 'Physical Sciences'}},\n",
       " {'id': 'https://openalex.org/T10784',\n",
       "  'display_name': 'Muscle activation and electromyography studies',\n",
       "  'count': 5,\n",
       "  'subfield': {'id': 'https://openalex.org/subfields/2204',\n",
       "   'display_name': 'Biomedical Engineering'},\n",
       "  'field': {'id': 'https://openalex.org/fields/22',\n",
       "   'display_name': 'Engineering'},\n",
       "  'domain': {'id': 'https://openalex.org/domains/3',\n",
       "   'display_name': 'Physical Sciences'}},\n",
       " {'id': 'https://openalex.org/T13717',\n",
       "  'display_name': 'Advanced Algorithms and Applications',\n",
       "  'count': 5,\n",
       "  'subfield': {'id': 'https://openalex.org/subfields/2207',\n",
       "   'display_name': 'Control and Systems Engineering'},\n",
       "  'field': {'id': 'https://openalex.org/fields/22',\n",
       "   'display_name': 'Engineering'},\n",
       "  'domain': {'id': 'https://openalex.org/domains/3',\n",
       "   'display_name': 'Physical Sciences'}},\n",
       " {'id': 'https://openalex.org/T11687',\n",
       "  'display_name': 'Teleoperation and Haptic Systems',\n",
       "  'count': 5,\n",
       "  'subfield': {'id': 'https://openalex.org/subfields/2210',\n",
       "   'display_name': 'Mechanical Engineering'},\n",
       "  'field': {'id': 'https://openalex.org/fields/22',\n",
       "   'display_name': 'Engineering'},\n",
       "  'domain': {'id': 'https://openalex.org/domains/3',\n",
       "   'display_name': 'Physical Sciences'}},\n",
       " {'id': 'https://openalex.org/T11749',\n",
       "  'display_name': 'Iterative Learning Control Systems',\n",
       "  'count': 5,\n",
       "  'subfield': {'id': 'https://openalex.org/subfields/2207',\n",
       "   'display_name': 'Control and Systems Engineering'},\n",
       "  'field': {'id': 'https://openalex.org/fields/22',\n",
       "   'display_name': 'Engineering'},\n",
       "  'domain': {'id': 'https://openalex.org/domains/3',\n",
       "   'display_name': 'Physical Sciences'}},\n",
       " {'id': 'https://openalex.org/T13644',\n",
       "  'display_name': 'Control Systems in Engineering',\n",
       "  'count': 4,\n",
       "  'subfield': {'id': 'https://openalex.org/subfields/2210',\n",
       "   'display_name': 'Mechanical Engineering'},\n",
       "  'field': {'id': 'https://openalex.org/fields/22',\n",
       "   'display_name': 'Engineering'},\n",
       "  'domain': {'id': 'https://openalex.org/domains/3',\n",
       "   'display_name': 'Physical Sciences'}},\n",
       " {'id': 'https://openalex.org/T10688',\n",
       "  'display_name': 'Image and Signal Denoising Methods',\n",
       "  'count': 4,\n",
       "  'subfield': {'id': 'https://openalex.org/subfields/1707',\n",
       "   'display_name': 'Computer Vision and Pattern Recognition'},\n",
       "  'field': {'id': 'https://openalex.org/fields/17',\n",
       "   'display_name': 'Computer Science'},\n",
       "  'domain': {'id': 'https://openalex.org/domains/3',\n",
       "   'display_name': 'Physical Sciences'}},\n",
       " {'id': 'https://openalex.org/T11615',\n",
       "  'display_name': 'Control and Dynamics of Mobile Robots',\n",
       "  'count': 4,\n",
       "  'subfield': {'id': 'https://openalex.org/subfields/2207',\n",
       "   'display_name': 'Control and Systems Engineering'},\n",
       "  'field': {'id': 'https://openalex.org/fields/22',\n",
       "   'display_name': 'Engineering'},\n",
       "  'domain': {'id': 'https://openalex.org/domains/3',\n",
       "   'display_name': 'Physical Sciences'}}]"
      ]
     },
     "execution_count": 56,
     "metadata": {},
     "output_type": "execute_result"
    }
   ],
   "source": [
    "data.get('topics')"
   ]
  },
  {
   "cell_type": "code",
   "execution_count": 57,
   "id": "a4163939",
   "metadata": {},
   "outputs": [
    {
     "data": {
      "text/plain": [
       "[{'id': 'https://openalex.org/T10879',\n",
       "  'display_name': 'Robotic Locomotion and Control',\n",
       "  'value': 0.0003709,\n",
       "  'subfield': {'id': 'https://openalex.org/subfields/2204',\n",
       "   'display_name': 'Biomedical Engineering'},\n",
       "  'field': {'id': 'https://openalex.org/fields/22',\n",
       "   'display_name': 'Engineering'},\n",
       "  'domain': {'id': 'https://openalex.org/domains/3',\n",
       "   'display_name': 'Physical Sciences'}},\n",
       " {'id': 'https://openalex.org/T11023',\n",
       "  'display_name': 'Prosthetics and Rehabilitation Robotics',\n",
       "  'value': 0.0002933,\n",
       "  'subfield': {'id': 'https://openalex.org/subfields/2204',\n",
       "   'display_name': 'Biomedical Engineering'},\n",
       "  'field': {'id': 'https://openalex.org/fields/22',\n",
       "   'display_name': 'Engineering'},\n",
       "  'domain': {'id': 'https://openalex.org/domains/3',\n",
       "   'display_name': 'Physical Sciences'}},\n",
       " {'id': 'https://openalex.org/T10868',\n",
       "  'display_name': 'Soft Robotics and Applications',\n",
       "  'value': 0.0001978,\n",
       "  'subfield': {'id': 'https://openalex.org/subfields/2204',\n",
       "   'display_name': 'Biomedical Engineering'},\n",
       "  'field': {'id': 'https://openalex.org/fields/22',\n",
       "   'display_name': 'Engineering'},\n",
       "  'domain': {'id': 'https://openalex.org/domains/3',\n",
       "   'display_name': 'Physical Sciences'}},\n",
       " {'id': 'https://openalex.org/T10653',\n",
       "  'display_name': 'Robot Manipulation and Learning',\n",
       "  'value': 0.0001836,\n",
       "  'subfield': {'id': 'https://openalex.org/subfields/2207',\n",
       "   'display_name': 'Control and Systems Engineering'},\n",
       "  'field': {'id': 'https://openalex.org/fields/22',\n",
       "   'display_name': 'Engineering'},\n",
       "  'domain': {'id': 'https://openalex.org/domains/3',\n",
       "   'display_name': 'Physical Sciences'}},\n",
       " {'id': 'https://openalex.org/T10571',\n",
       "  'display_name': 'Robotic Mechanisms and Dynamics',\n",
       "  'value': 0.0001205,\n",
       "  'subfield': {'id': 'https://openalex.org/subfields/2207',\n",
       "   'display_name': 'Control and Systems Engineering'},\n",
       "  'field': {'id': 'https://openalex.org/fields/22',\n",
       "   'display_name': 'Engineering'},\n",
       "  'domain': {'id': 'https://openalex.org/domains/3',\n",
       "   'display_name': 'Physical Sciences'}},\n",
       " {'id': 'https://openalex.org/T11608',\n",
       "  'display_name': 'Dielectric materials and actuators',\n",
       "  'value': 8.65e-05,\n",
       "  'subfield': {'id': 'https://openalex.org/subfields/2204',\n",
       "   'display_name': 'Biomedical Engineering'},\n",
       "  'field': {'id': 'https://openalex.org/fields/22',\n",
       "   'display_name': 'Engineering'},\n",
       "  'domain': {'id': 'https://openalex.org/domains/3',\n",
       "   'display_name': 'Physical Sciences'}},\n",
       " {'id': 'https://openalex.org/T12153',\n",
       "  'display_name': 'Advanced Optical Sensing Technologies',\n",
       "  'value': 7.75e-05,\n",
       "  'subfield': {'id': 'https://openalex.org/subfields/3105',\n",
       "   'display_name': 'Instrumentation'},\n",
       "  'field': {'id': 'https://openalex.org/fields/31',\n",
       "   'display_name': 'Physics and Astronomy'},\n",
       "  'domain': {'id': 'https://openalex.org/domains/3',\n",
       "   'display_name': 'Physical Sciences'}},\n",
       " {'id': 'https://openalex.org/T11687',\n",
       "  'display_name': 'Teleoperation and Haptic Systems',\n",
       "  'value': 7.73e-05,\n",
       "  'subfield': {'id': 'https://openalex.org/subfields/2210',\n",
       "   'display_name': 'Mechanical Engineering'},\n",
       "  'field': {'id': 'https://openalex.org/fields/22',\n",
       "   'display_name': 'Engineering'},\n",
       "  'domain': {'id': 'https://openalex.org/domains/3',\n",
       "   'display_name': 'Physical Sciences'}},\n",
       " {'id': 'https://openalex.org/T12549',\n",
       "  'display_name': 'Image and Object Detection Techniques',\n",
       "  'value': 7.66e-05,\n",
       "  'subfield': {'id': 'https://openalex.org/subfields/1707',\n",
       "   'display_name': 'Computer Vision and Pattern Recognition'},\n",
       "  'field': {'id': 'https://openalex.org/fields/17',\n",
       "   'display_name': 'Computer Science'},\n",
       "  'domain': {'id': 'https://openalex.org/domains/3',\n",
       "   'display_name': 'Physical Sciences'}},\n",
       " {'id': 'https://openalex.org/T13644',\n",
       "  'display_name': 'Control Systems in Engineering',\n",
       "  'value': 7.32e-05,\n",
       "  'subfield': {'id': 'https://openalex.org/subfields/2210',\n",
       "   'display_name': 'Mechanical Engineering'},\n",
       "  'field': {'id': 'https://openalex.org/fields/22',\n",
       "   'display_name': 'Engineering'},\n",
       "  'domain': {'id': 'https://openalex.org/domains/3',\n",
       "   'display_name': 'Physical Sciences'}},\n",
       " {'id': 'https://openalex.org/T11486',\n",
       "  'display_name': 'Micro and Nano Robotics',\n",
       "  'value': 7.07e-05,\n",
       "  'subfield': {'id': 'https://openalex.org/subfields/3104',\n",
       "   'display_name': 'Condensed Matter Physics'},\n",
       "  'field': {'id': 'https://openalex.org/fields/31',\n",
       "   'display_name': 'Physics and Astronomy'},\n",
       "  'domain': {'id': 'https://openalex.org/domains/3',\n",
       "   'display_name': 'Physical Sciences'}},\n",
       " {'id': 'https://openalex.org/T10191',\n",
       "  'display_name': 'Robotics and Sensor-Based Localization',\n",
       "  'value': 5.72e-05,\n",
       "  'subfield': {'id': 'https://openalex.org/subfields/2202',\n",
       "   'display_name': 'Aerospace Engineering'},\n",
       "  'field': {'id': 'https://openalex.org/fields/22',\n",
       "   'display_name': 'Engineering'},\n",
       "  'domain': {'id': 'https://openalex.org/domains/3',\n",
       "   'display_name': 'Physical Sciences'}},\n",
       " {'id': 'https://openalex.org/T10586',\n",
       "  'display_name': 'Robotic Path Planning Algorithms',\n",
       "  'value': 5.61e-05,\n",
       "  'subfield': {'id': 'https://openalex.org/subfields/1707',\n",
       "   'display_name': 'Computer Vision and Pattern Recognition'},\n",
       "  'field': {'id': 'https://openalex.org/fields/17',\n",
       "   'display_name': 'Computer Science'},\n",
       "  'domain': {'id': 'https://openalex.org/domains/3',\n",
       "   'display_name': 'Physical Sciences'}},\n",
       " {'id': 'https://openalex.org/T11615',\n",
       "  'display_name': 'Control and Dynamics of Mobile Robots',\n",
       "  'value': 4.73e-05,\n",
       "  'subfield': {'id': 'https://openalex.org/subfields/2207',\n",
       "   'display_name': 'Control and Systems Engineering'},\n",
       "  'field': {'id': 'https://openalex.org/fields/22',\n",
       "   'display_name': 'Engineering'},\n",
       "  'domain': {'id': 'https://openalex.org/domains/3',\n",
       "   'display_name': 'Physical Sciences'}},\n",
       " {'id': 'https://openalex.org/T12784',\n",
       "  'display_name': 'Modular Robots and Swarm Intelligence',\n",
       "  'value': 4.71e-05,\n",
       "  'subfield': {'id': 'https://openalex.org/subfields/2210',\n",
       "   'display_name': 'Mechanical Engineering'},\n",
       "  'field': {'id': 'https://openalex.org/fields/22',\n",
       "   'display_name': 'Engineering'},\n",
       "  'domain': {'id': 'https://openalex.org/domains/3',\n",
       "   'display_name': 'Physical Sciences'}},\n",
       " {'id': 'https://openalex.org/T10638',\n",
       "  'display_name': 'Optical measurement and interference techniques',\n",
       "  'value': 4.49e-05,\n",
       "  'subfield': {'id': 'https://openalex.org/subfields/1707',\n",
       "   'display_name': 'Computer Vision and Pattern Recognition'},\n",
       "  'field': {'id': 'https://openalex.org/fields/17',\n",
       "   'display_name': 'Computer Science'},\n",
       "  'domain': {'id': 'https://openalex.org/domains/3',\n",
       "   'display_name': 'Physical Sciences'}},\n",
       " {'id': 'https://openalex.org/T11749',\n",
       "  'display_name': 'Iterative Learning Control Systems',\n",
       "  'value': 4e-05,\n",
       "  'subfield': {'id': 'https://openalex.org/subfields/2207',\n",
       "   'display_name': 'Control and Systems Engineering'},\n",
       "  'field': {'id': 'https://openalex.org/fields/22',\n",
       "   'display_name': 'Engineering'},\n",
       "  'domain': {'id': 'https://openalex.org/domains/3',\n",
       "   'display_name': 'Physical Sciences'}},\n",
       " {'id': 'https://openalex.org/T13869',\n",
       "  'display_name': 'Ocular and Laser Science Research',\n",
       "  'value': 3.86e-05,\n",
       "  'subfield': {'id': 'https://openalex.org/subfields/2731',\n",
       "   'display_name': 'Ophthalmology'},\n",
       "  'field': {'id': 'https://openalex.org/fields/27',\n",
       "   'display_name': 'Medicine'},\n",
       "  'domain': {'id': 'https://openalex.org/domains/4',\n",
       "   'display_name': 'Health Sciences'}},\n",
       " {'id': 'https://openalex.org/T13382',\n",
       "  'display_name': 'Robotics and Automated Systems',\n",
       "  'value': 3.71e-05,\n",
       "  'subfield': {'id': 'https://openalex.org/subfields/2207',\n",
       "   'display_name': 'Control and Systems Engineering'},\n",
       "  'field': {'id': 'https://openalex.org/fields/22',\n",
       "   'display_name': 'Engineering'},\n",
       "  'domain': {'id': 'https://openalex.org/domains/3',\n",
       "   'display_name': 'Physical Sciences'}},\n",
       " {'id': 'https://openalex.org/T10040',\n",
       "  'display_name': 'Adaptive Control of Nonlinear Systems',\n",
       "  'value': 3.48e-05,\n",
       "  'subfield': {'id': 'https://openalex.org/subfields/2207',\n",
       "   'display_name': 'Control and Systems Engineering'},\n",
       "  'field': {'id': 'https://openalex.org/fields/22',\n",
       "   'display_name': 'Engineering'},\n",
       "  'domain': {'id': 'https://openalex.org/domains/3',\n",
       "   'display_name': 'Physical Sciences'}},\n",
       " {'id': 'https://openalex.org/T11164',\n",
       "  'display_name': 'Remote Sensing and LiDAR Applications',\n",
       "  'value': 3.48e-05,\n",
       "  'subfield': {'id': 'https://openalex.org/subfields/2305',\n",
       "   'display_name': 'Environmental Engineering'},\n",
       "  'field': {'id': 'https://openalex.org/fields/23',\n",
       "   'display_name': 'Environmental Science'},\n",
       "  'domain': {'id': 'https://openalex.org/domains/3',\n",
       "   'display_name': 'Physical Sciences'}},\n",
       " {'id': 'https://openalex.org/T12400',\n",
       "  'display_name': 'Neurogenetic and Muscular Disorders Research',\n",
       "  'value': 3.31e-05,\n",
       "  'subfield': {'id': 'https://openalex.org/subfields/2716',\n",
       "   'display_name': 'Genetics'},\n",
       "  'field': {'id': 'https://openalex.org/fields/27',\n",
       "   'display_name': 'Medicine'},\n",
       "  'domain': {'id': 'https://openalex.org/domains/4',\n",
       "   'display_name': 'Health Sciences'}},\n",
       " {'id': 'https://openalex.org/T13827',\n",
       "  'display_name': 'Mechatronics Education and Applications',\n",
       "  'value': 2.98e-05,\n",
       "  'subfield': {'id': 'https://openalex.org/subfields/2210',\n",
       "   'display_name': 'Mechanical Engineering'},\n",
       "  'field': {'id': 'https://openalex.org/fields/22',\n",
       "   'display_name': 'Engineering'},\n",
       "  'domain': {'id': 'https://openalex.org/domains/3',\n",
       "   'display_name': 'Physical Sciences'}},\n",
       " {'id': 'https://openalex.org/T11659',\n",
       "  'display_name': 'Advanced Image Fusion Techniques',\n",
       "  'value': 2.86e-05,\n",
       "  'subfield': {'id': 'https://openalex.org/subfields/2214',\n",
       "   'display_name': 'Media Technology'},\n",
       "  'field': {'id': 'https://openalex.org/fields/22',\n",
       "   'display_name': 'Engineering'},\n",
       "  'domain': {'id': 'https://openalex.org/domains/3',\n",
       "   'display_name': 'Physical Sciences'}},\n",
       " {'id': 'https://openalex.org/T13715',\n",
       "  'display_name': 'Power Line Inspection Robots',\n",
       "  'value': 2.79e-05,\n",
       "  'subfield': {'id': 'https://openalex.org/subfields/2210',\n",
       "   'display_name': 'Mechanical Engineering'},\n",
       "  'field': {'id': 'https://openalex.org/fields/22',\n",
       "   'display_name': 'Engineering'},\n",
       "  'domain': {'id': 'https://openalex.org/domains/3',\n",
       "   'display_name': 'Physical Sciences'}}]"
      ]
     },
     "execution_count": 57,
     "metadata": {},
     "output_type": "execute_result"
    }
   ],
   "source": [
    "data.get('topic_share')"
   ]
  },
  {
   "cell_type": "code",
   "execution_count": 58,
   "id": "53912daf",
   "metadata": {},
   "outputs": [
    {
     "data": {
      "text/plain": [
       "[{'id': 'https://openalex.org/C41008148',\n",
       "  'wikidata': 'https://www.wikidata.org/wiki/Q21198',\n",
       "  'display_name': 'Computer science',\n",
       "  'level': 0,\n",
       "  'score': 99.3},\n",
       " {'id': 'https://openalex.org/C154945302',\n",
       "  'wikidata': 'https://www.wikidata.org/wiki/Q11660',\n",
       "  'display_name': 'Artificial intelligence',\n",
       "  'level': 1,\n",
       "  'score': 86.0},\n",
       " {'id': 'https://openalex.org/C127413603',\n",
       "  'wikidata': 'https://www.wikidata.org/wiki/Q11023',\n",
       "  'display_name': 'Engineering',\n",
       "  'level': 0,\n",
       "  'score': 78.7},\n",
       " {'id': 'https://openalex.org/C121332964',\n",
       "  'wikidata': 'https://www.wikidata.org/wiki/Q413',\n",
       "  'display_name': 'Physics',\n",
       "  'level': 0,\n",
       "  'score': 75.7},\n",
       " {'id': 'https://openalex.org/C62520636',\n",
       "  'wikidata': 'https://www.wikidata.org/wiki/Q944',\n",
       "  'display_name': 'Quantum mechanics',\n",
       "  'level': 1,\n",
       "  'score': 60.3},\n",
       " {'id': 'https://openalex.org/C90509273',\n",
       "  'wikidata': 'https://www.wikidata.org/wiki/Q11012',\n",
       "  'display_name': 'Robot',\n",
       "  'level': 2,\n",
       "  'score': 50.0},\n",
       " {'id': 'https://openalex.org/C162324750',\n",
       "  'wikidata': 'https://www.wikidata.org/wiki/Q8134',\n",
       "  'display_name': 'Economics',\n",
       "  'level': 0,\n",
       "  'score': 47.1},\n",
       " {'id': 'https://openalex.org/C33923547',\n",
       "  'wikidata': 'https://www.wikidata.org/wiki/Q395',\n",
       "  'display_name': 'Mathematics',\n",
       "  'level': 0,\n",
       "  'score': 45.6},\n",
       " {'id': 'https://openalex.org/C187736073',\n",
       "  'wikidata': 'https://www.wikidata.org/wiki/Q2920921',\n",
       "  'display_name': 'Management',\n",
       "  'level': 1,\n",
       "  'score': 44.1},\n",
       " {'id': 'https://openalex.org/C2775924081',\n",
       "  'wikidata': 'https://www.wikidata.org/wiki/Q55608371',\n",
       "  'display_name': 'Control (management)',\n",
       "  'level': 2,\n",
       "  'score': 41.2},\n",
       " {'id': 'https://openalex.org/C47446073',\n",
       "  'wikidata': 'https://www.wikidata.org/wiki/Q5165890',\n",
       "  'display_name': 'Control theory (sociology)',\n",
       "  'level': 3,\n",
       "  'score': 39.7},\n",
       " {'id': 'https://openalex.org/C31972630',\n",
       "  'wikidata': 'https://www.wikidata.org/wiki/Q844240',\n",
       "  'display_name': 'Computer vision',\n",
       "  'level': 1,\n",
       "  'score': 34.6},\n",
       " {'id': 'https://openalex.org/C78519656',\n",
       "  'wikidata': 'https://www.wikidata.org/wiki/Q101333',\n",
       "  'display_name': 'Mechanical engineering',\n",
       "  'level': 1,\n",
       "  'score': 34.6},\n",
       " {'id': 'https://openalex.org/C86803240',\n",
       "  'wikidata': 'https://www.wikidata.org/wiki/Q420',\n",
       "  'display_name': 'Biology',\n",
       "  'level': 0,\n",
       "  'score': 32.4},\n",
       " {'id': 'https://openalex.org/C138885662',\n",
       "  'wikidata': 'https://www.wikidata.org/wiki/Q5891',\n",
       "  'display_name': 'Philosophy',\n",
       "  'level': 0,\n",
       "  'score': 28.7},\n",
       " {'id': 'https://openalex.org/C119599485',\n",
       "  'wikidata': 'https://www.wikidata.org/wiki/Q43035',\n",
       "  'display_name': 'Electrical engineering',\n",
       "  'level': 1,\n",
       "  'score': 27.9},\n",
       " {'id': 'https://openalex.org/C133731056',\n",
       "  'wikidata': 'https://www.wikidata.org/wiki/Q4917288',\n",
       "  'display_name': 'Control engineering',\n",
       "  'level': 1,\n",
       "  'score': 27.2},\n",
       " {'id': 'https://openalex.org/C44154836',\n",
       "  'wikidata': 'https://www.wikidata.org/wiki/Q45045',\n",
       "  'display_name': 'Simulation',\n",
       "  'level': 1,\n",
       "  'score': 26.5},\n",
       " {'id': 'https://openalex.org/C97355855',\n",
       "  'wikidata': 'https://www.wikidata.org/wiki/Q11473',\n",
       "  'display_name': 'Thermodynamics',\n",
       "  'level': 1,\n",
       "  'score': 25.0},\n",
       " {'id': 'https://openalex.org/C74650414',\n",
       "  'wikidata': 'https://www.wikidata.org/wiki/Q11397',\n",
       "  'display_name': 'Classical mechanics',\n",
       "  'level': 1,\n",
       "  'score': 22.8},\n",
       " {'id': 'https://openalex.org/C199360897',\n",
       "  'wikidata': 'https://www.wikidata.org/wiki/Q9143',\n",
       "  'display_name': 'Programming language',\n",
       "  'level': 1,\n",
       "  'score': 22.8},\n",
       " {'id': 'https://openalex.org/C205649164',\n",
       "  'wikidata': 'https://www.wikidata.org/wiki/Q1071',\n",
       "  'display_name': 'Geography',\n",
       "  'level': 0,\n",
       "  'score': 22.8},\n",
       " {'id': 'https://openalex.org/C71924100',\n",
       "  'wikidata': 'https://www.wikidata.org/wiki/Q11190',\n",
       "  'display_name': 'Medicine',\n",
       "  'level': 0,\n",
       "  'score': 21.3},\n",
       " {'id': 'https://openalex.org/C111919701',\n",
       "  'wikidata': 'https://www.wikidata.org/wiki/Q9135',\n",
       "  'display_name': 'Operating system',\n",
       "  'level': 1,\n",
       "  'score': 21.3},\n",
       " {'id': 'https://openalex.org/C119857082',\n",
       "  'wikidata': 'https://www.wikidata.org/wiki/Q2539',\n",
       "  'display_name': 'Machine learning',\n",
       "  'level': 1,\n",
       "  'score': 21.3}]"
      ]
     },
     "execution_count": 58,
     "metadata": {},
     "output_type": "execute_result"
    }
   ],
   "source": [
    "data.get('x_concepts')"
   ]
  },
  {
   "cell_type": "code",
   "execution_count": 59,
   "id": "49f5953a",
   "metadata": {},
   "outputs": [
    {
     "data": {
      "text/plain": [
       "[{'year': 2025, 'works_count': 3, 'oa_works_count': 1, 'cited_by_count': 320},\n",
       " {'year': 2024, 'works_count': 3, 'oa_works_count': 1, 'cited_by_count': 458},\n",
       " {'year': 2023, 'works_count': 10, 'oa_works_count': 5, 'cited_by_count': 530},\n",
       " {'year': 2022, 'works_count': 5, 'oa_works_count': 2, 'cited_by_count': 354},\n",
       " {'year': 2021, 'works_count': 11, 'oa_works_count': 3, 'cited_by_count': 228},\n",
       " {'year': 2020, 'works_count': 3, 'oa_works_count': 3, 'cited_by_count': 199},\n",
       " {'year': 2019, 'works_count': 13, 'oa_works_count': 5, 'cited_by_count': 155},\n",
       " {'year': 2018, 'works_count': 25, 'oa_works_count': 8, 'cited_by_count': 187},\n",
       " {'year': 2017, 'works_count': 6, 'oa_works_count': 1, 'cited_by_count': 90},\n",
       " {'year': 2016, 'works_count': 20, 'oa_works_count': 3, 'cited_by_count': 64},\n",
       " {'year': 2015, 'works_count': 8, 'oa_works_count': 0, 'cited_by_count': 60},\n",
       " {'year': 2014, 'works_count': 6, 'oa_works_count': 0, 'cited_by_count': 22},\n",
       " {'year': 2013, 'works_count': 4, 'oa_works_count': 1, 'cited_by_count': 8},\n",
       " {'year': 2012, 'works_count': 1, 'oa_works_count': 0, 'cited_by_count': 16}]"
      ]
     },
     "execution_count": 59,
     "metadata": {},
     "output_type": "execute_result"
    }
   ],
   "source": [
    "data.get('counts_by_year')"
   ]
  },
  {
   "cell_type": "code",
   "execution_count": null,
   "id": "d295835a",
   "metadata": {},
   "outputs": [],
   "source": []
  }
 ],
 "metadata": {
  "kernelspec": {
   "display_name": "AV-references-cleaning (3.11.14)",
   "language": "python",
   "name": "python3"
  },
  "language_info": {
   "codemirror_mode": {
    "name": "ipython",
    "version": 3
   },
   "file_extension": ".py",
   "mimetype": "text/x-python",
   "name": "python",
   "nbconvert_exporter": "python",
   "pygments_lexer": "ipython3",
   "version": "3.11.14"
  }
 },
 "nbformat": 4,
 "nbformat_minor": 5
}
