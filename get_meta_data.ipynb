{
 "cells": [
  {
   "cell_type": "code",
   "execution_count": 1,
   "id": "da1ecd4b",
   "metadata": {},
   "outputs": [],
   "source": [
    "import requests\n",
    "import json\n",
    "import os\n",
    "import asyncio\n",
    "import httpx\n",
    "import pandas as pd\n",
    "import random"
   ]
  },
  {
   "cell_type": "code",
   "execution_count": 2,
   "id": "1e7868e3",
   "metadata": {},
   "outputs": [
    {
     "data": {
      "text/plain": [
       "122"
      ]
     },
     "execution_count": 2,
     "metadata": {},
     "output_type": "execute_result"
    }
   ],
   "source": [
    "with open('clean_data/papers/batch_1.json', 'r', encoding='utf-8') as f:\n",
    "    existing_data = json.load(f)\n",
    "len(existing_data)"
   ]
  },
  {
   "cell_type": "code",
   "execution_count": 3,
   "id": "5b643bb0",
   "metadata": {},
   "outputs": [
    {
     "data": {
      "text/plain": [
       "6570"
      ]
     },
     "execution_count": 3,
     "metadata": {},
     "output_type": "execute_result"
    }
   ],
   "source": [
    "existing_papers_id = [rec.get('paper').get('id') for rec in existing_data]\n",
    "\n",
    "papers_id = []\n",
    "for rec in existing_data:\n",
    "    referenced_works = rec.get('referencedWorks')\n",
    "    papers_id.extend(referenced_works)\n",
    "papers_id = list(set(papers_id) - set(existing_papers_id))\n",
    "len(papers_id)"
   ]
  },
  {
   "cell_type": "code",
   "execution_count": 5,
   "id": "75a216c9",
   "metadata": {},
   "outputs": [],
   "source": [
    "async def get_data(url, parse_func):\n",
    "    async with httpx.AsyncClient(timeout=10.0) as client:\n",
    "        try:\n",
    "            response = await client.get(url, params={'mailto': 'rimaz.temp@gmail.com'})\n",
    "            response.raise_for_status()\n",
    "            data = response.json()\n",
    "            parsed_data = parse_func(data)\n",
    "            return True, parsed_data, None\n",
    "        except httpx.HTTPStatusError as e:\n",
    "            return False, f\"HTTP error: {e}\", url\n",
    "        except httpx.RequestError as e:\n",
    "            return False, f\"A request error occurred: {e}\", url\n",
    "        except Exception as e:\n",
    "            return False, f\"An unexpected error occurred: {e}\", url\n"
   ]
  },
  {
   "cell_type": "code",
   "execution_count": 6,
   "id": "1e333ecc",
   "metadata": {},
   "outputs": [],
   "source": [
    "async def get_batch_async(ids_list: list[str], parse_func, batch_size: int = 4, sleep_sec: float = 1):\n",
    "    results = []\n",
    "    not_valid_url = []\n",
    "    for i in range(0, len(ids_list), batch_size):\n",
    "        batch = ids_list[i:i + batch_size]\n",
    "        \n",
    "        tasks = [get_data(id_, parse_func) for id_ in batch]\n",
    "        \n",
    "        batch_results = await asyncio.gather(*tasks)\n",
    "        results.extend([rec[1] for rec in batch_results if rec[0]])\n",
    "        not_valid_url.extend([(rec[2], rec[1]) for rec in batch_results if not rec[0]])\n",
    "        \n",
    "        if i + batch_size < len(ids_list):\n",
    "            await asyncio.sleep(sleep_sec)\n",
    "                \n",
    "    return results, not_valid_url"
   ]
  },
  {
   "cell_type": "code",
   "execution_count": 7,
   "id": "2c04db1f",
   "metadata": {},
   "outputs": [],
   "source": [
    "CONCEPT_SIMILARITY_THRESH = 0.5\n",
    "TOPIC_SIMILARITY_THRESH = 0.8\n",
    "\n",
    "def parse_paper_data(rec):\n",
    "    return {\n",
    "        'paper':{\n",
    "            'id': rec.get('id', None),\n",
    "            'doi': rec.get('doi', None),\n",
    "            'title': rec.get('title', None),\n",
    "            'publicationYear': rec.get('publication_year', None),\n",
    "            'language': rec.get('language', None),\n",
    "            'type': rec.get('type', None),\n",
    "            'crossrefType': rec.get('type_crossref', None),\n",
    "            'numberOfCiteation': rec.get('cited_by_count', None),\n",
    "            'FieldWeightedCitationImpact': rec.get('fwci', None),\n",
    "            'countsByYear': rec.get('counts_by_year', {}),\n",
    "            'pdfUrl': rec.get('primary_location', {}).get('pdf_url', None)\n",
    "        },\n",
    "\n",
    "        'authorship':[\n",
    "            {\n",
    "                'authorPosition': author.get('author_position', None),\n",
    "                'author':{\n",
    "                    'id': author.get('author', {}).get('id', None),\n",
    "                    'institutions': [institution.get('id', None) for institution in author.get('institutions', [])],\n",
    "                    'isCorresponding': author.get('is_corresponding', None),\n",
    "                    'affiliations': author.get('raw_affiliation_strings', []),\n",
    "                }    \n",
    "            } for author in rec.get('authorships')\n",
    "        ],\n",
    "\n",
    "        'source': {\n",
    "            'id': rec.get('primary_location', {}).get('source', {}).get('id', None) if rec.get('primary_location', {}).get('source', {}) else None,\n",
    "            'hostOrganizationId': rec.get('primary_location', {}).get('source', {}).get('host_organization', None) if rec.get('primary_location', {}).get('source', {}) else None,\n",
    "            'volume': rec.get('biblio', {}).get('volume', None),\n",
    "            'issue': rec.get('biblio', {}).get('issue', None),\n",
    "        },\n",
    "\n",
    "        'referencedWorks': rec.get('referenced_works', []),\n",
    "        'relatedWorks': rec.get('related_works', []),\n",
    "\n",
    "        'grants': [\n",
    "            {\n",
    "                'funder': grant.get('funder', None),\n",
    "                'awardId': grant.get('award_id', None),\n",
    "            } for grant in rec.get('grants', [])\n",
    "        ],\n",
    "\n",
    "        'concepts': [concept.get('id', None) for concept in rec.get('concepts', []) if concept.get('score', None) > CONCEPT_SIMILARITY_THRESH ],\n",
    "        'keywords': [keyword.get('display_name', None) for keyword in rec.get('keywords', []) ],\n",
    "\n",
    "        'topics': [topic.get('id', None) for topic in rec.get('topics', []) if topic.get('score', None) > TOPIC_SIMILARITY_THRESH ],\n",
    "\n",
    "    }"
   ]
  },
  {
   "cell_type": "code",
   "execution_count": null,
   "id": "81f0a666",
   "metadata": {},
   "outputs": [],
   "source": [
    "# random.shuffle(papers_id)\n",
    "# N_PAPERS = len(papers_id)\n",
    "BATCH_SIZE = 160\n",
    "j = 4\n",
    "\n",
    "# not_valid_url = []\n",
    "\n",
    "for i in range(320, N_PAPERS, BATCH_SIZE):\n",
    "    selected_ids = [url.replace('openalex.org', 'api.openalex.org', 1) for url in papers_id[i:i+BATCH_SIZE]]\n",
    "    selected_results, temp_not_valid_url = await get_batch_async(selected_ids, parse_paper_data)\n",
    "    \n",
    "    with open(f'clean_data/papers/batch_{j}.json', 'w', encoding='utf-8') as f:\n",
    "        json.dump(selected_results, f, indent=4, ensure_ascii=False)\n",
    "    \n",
    "    print(f'{i:5}:{i+BATCH_SIZE:5} -> {len(temp_not_valid_url)} ')\n",
    "    not_valid_url.extend(temp_not_valid_url)\n",
    "\n",
    "    j += 1\n",
    "    "
   ]
  },
  {
   "cell_type": "code",
   "execution_count": 10,
   "id": "e199dc3b",
   "metadata": {},
   "outputs": [
    {
     "data": {
      "text/plain": [
       "21"
      ]
     },
     "execution_count": 10,
     "metadata": {},
     "output_type": "execute_result"
    }
   ],
   "source": [
    "len(not_valid_url)"
   ]
  },
  {
   "cell_type": "code",
   "execution_count": 21,
   "id": "e732dd93",
   "metadata": {},
   "outputs": [],
   "source": [
    "# [rec[1] for rec in not_valid_url]"
   ]
  },
  {
   "cell_type": "code",
   "execution_count": 18,
   "id": "0503b1e9",
   "metadata": {},
   "outputs": [],
   "source": [
    "selected_ids = [url for url, _ in not_valid_url]\n",
    "selected_results, temp_not_valid_url = await get_batch_async(selected_ids, parse_paper_data)\n",
    "\n",
    "with open(f'clean_data/papers/batch_{j}.json', 'w', encoding='utf-8') as f:\n",
    "    json.dump(selected_results, f, indent=4, ensure_ascii=False)"
   ]
  },
  {
   "cell_type": "code",
   "execution_count": 20,
   "id": "bbbd2f64",
   "metadata": {},
   "outputs": [],
   "source": [
    "# temp_not_valid_url"
   ]
  },
  {
   "cell_type": "code",
   "execution_count": 22,
   "id": "e321fa33",
   "metadata": {},
   "outputs": [],
   "source": [
    "ids = []\n",
    "dir_paper_id = 'clean_data/papers'\n",
    "for fname in os.listdir(dir_paper_id):\n",
    "    with open(os.path.join(dir_paper_id, fname), 'r', encoding='utf-8') as f:\n",
    "        temp = json.load(f)\n",
    "    ids.extend([r.get('paper', {}).get('id') for r in temp])"
   ]
  },
  {
   "cell_type": "code",
   "execution_count": 25,
   "metadata": {},
   "outputs": [
    {
     "data": {
      "text/plain": [
       "(6671, 6650, 6570)"
      ]
     },
     "execution_count": 25,
     "metadata": {},
     "output_type": "execute_result"
    }
   ],
   "source": [
    "len(ids), len(set(ids)), len(papers_id)"
   ]
  },
  {
   "cell_type": "code",
   "execution_count": 75,
   "id": "fba7cf1b",
   "metadata": {},
   "outputs": [
    {
     "name": "stdout",
     "output_type": "stream",
     "text": [
      "[\n",
      "    {\n",
      "        \"funder\": \"https://openalex.org/F4320320709\",\n",
      "        \"awardId\": null\n",
      "    },\n",
      "    {\n",
      "        \"funder\": \"https://openalex.org/F4320320766\",\n",
      "        \"awardId\": null\n",
      "    }\n",
      "]\n"
     ]
    }
   ],
   "source": [
    "index = 6\n",
    "print(json.dumps(selected_results[index].get('grants', {}), indent=4))"
   ]
  },
  {
   "cell_type": "code",
   "execution_count": 89,
   "id": "42f885f3",
   "metadata": {},
   "outputs": [
    {
     "data": {
      "text/plain": [
       "200"
      ]
     },
     "execution_count": 89,
     "metadata": {},
     "output_type": "execute_result"
    }
   ],
   "source": [
    "resp = requests.get('https://api.openalex.org/W2951730755', params={'mailto': 'rimaz.temp@gmail.com'})\n",
    "resp.status_code"
   ]
  },
  {
   "cell_type": "code",
   "execution_count": 90,
   "id": "df98ed45",
   "metadata": {},
   "outputs": [
    {
     "data": {
      "text/plain": [
       "{'Date': 'Mon, 27 Oct 2025 16:21:26 GMT', 'Content-Type': 'application/json', 'Transfer-Encoding': 'chunked', 'Connection': 'keep-alive', 'CF-Ray': '995386c63b0b2ad8-LAX', 'CF-Cache-Status': 'DYNAMIC', 'Access-Control-Allow-Origin': '*', 'Vary': 'accept-encoding', 'Server': 'cloudflare', 'Via': '1.1 heroku-router', 'Access-Control-Allow-Headers': 'Accept, Accept-Language, Accept-Encoding, Authorization, Content-Type', 'Access-Control-Allow-Methods': 'GET, HEAD, POST, OPTIONS', 'access-control-expose-headers': 'Cache-Control, RateLimit-Limit, RateLimit-Remaining, RateLimit-Reset, Retry-After', 'Nel': '{\"report_to\":\"heroku-nel\",\"response_headers\":[\"Via\"],\"max_age\":3600,\"success_fraction\":0.01,\"failure_fraction\":0.1}', 'RateLimit-Limit': '5', 'RateLimit-Remaining': '9', 'RateLimit-Reset': '1', 'Report-To': '{\"group\":\"heroku-nel\",\"endpoints\":[{\"url\":\"https://nel.heroku.com/reports?s=qhZY9C8%2F4qcnXFWK2LIUM%2F%2FY7tQE8Fcun%2Ffxalps7zY%3D\\\\u0026sid=c46efe9b-d3d2-4a0c-8c76-bfafa16c5add\\\\u0026ts=1761582086\"}],\"max_age\":3600}', 'Reporting-Endpoints': 'heroku-nel=\"https://nel.heroku.com/reports?s=qhZY9C8%2F4qcnXFWK2LIUM%2F%2FY7tQE8Fcun%2Ffxalps7zY%3D&sid=c46efe9b-d3d2-4a0c-8c76-bfafa16c5add&ts=1761582086\"', 'Content-Encoding': 'gzip'}"
      ]
     },
     "execution_count": 90,
     "metadata": {},
     "output_type": "execute_result"
    }
   ],
   "source": [
    "resp.headers"
   ]
  },
  {
   "cell_type": "code",
   "execution_count": 91,
   "id": "ff533bbc",
   "metadata": {},
   "outputs": [
    {
     "data": {
      "text/plain": [
       "200"
      ]
     },
     "execution_count": 91,
     "metadata": {},
     "output_type": "execute_result"
    }
   ],
   "source": [
    "resp = requests.get('https://api.openalex.org/W2951730755')\n",
    "resp.status_code"
   ]
  },
  {
   "cell_type": "code",
   "execution_count": 92,
   "id": "62ce8eab",
   "metadata": {},
   "outputs": [
    {
     "data": {
      "text/plain": [
       "{'Date': 'Mon, 27 Oct 2025 16:21:56 GMT', 'Content-Type': 'application/json', 'Transfer-Encoding': 'chunked', 'Connection': 'keep-alive', 'CF-Ray': '995387804841f9ce-LAX', 'CF-Cache-Status': 'DYNAMIC', 'Access-Control-Allow-Origin': '*', 'Vary': 'accept-encoding', 'Server': 'cloudflare', 'Via': '1.1 heroku-router', 'Access-Control-Allow-Headers': 'Accept, Accept-Language, Accept-Encoding, Authorization, Content-Type', 'Access-Control-Allow-Methods': 'GET, HEAD, POST, OPTIONS', 'access-control-expose-headers': 'Cache-Control, RateLimit-Limit, RateLimit-Remaining, RateLimit-Reset, Retry-After', 'Nel': '{\"report_to\":\"heroku-nel\",\"response_headers\":[\"Via\"],\"max_age\":3600,\"success_fraction\":0.01,\"failure_fraction\":0.1}', 'RateLimit-Limit': '5', 'RateLimit-Remaining': '9', 'RateLimit-Reset': '1', 'Report-To': '{\"group\":\"heroku-nel\",\"endpoints\":[{\"url\":\"https://nel.heroku.com/reports?s=ofYoILYxuSDChS5KjW7ErWy9Ji2dmcg8RZcMZN%2FWJFo%3D\\\\u0026sid=c46efe9b-d3d2-4a0c-8c76-bfafa16c5add\\\\u0026ts=1761582116\"}],\"max_age\":3600}', 'Reporting-Endpoints': 'heroku-nel=\"https://nel.heroku.com/reports?s=ofYoILYxuSDChS5KjW7ErWy9Ji2dmcg8RZcMZN%2FWJFo%3D&sid=c46efe9b-d3d2-4a0c-8c76-bfafa16c5add&ts=1761582116\"', 'Content-Encoding': 'gzip'}"
      ]
     },
     "execution_count": 92,
     "metadata": {},
     "output_type": "execute_result"
    }
   ],
   "source": [
    "resp.headers"
   ]
  },
  {
   "cell_type": "code",
   "execution_count": null,
   "id": "54bf0214",
   "metadata": {},
   "outputs": [],
   "source": []
  }
 ],
 "metadata": {
  "kernelspec": {
   "display_name": "AV-references-cleaning (3.11.14)",
   "language": "python",
   "name": "python3"
  },
  "language_info": {
   "codemirror_mode": {
    "name": "ipython",
    "version": 3
   },
   "file_extension": ".py",
   "mimetype": "text/x-python",
   "name": "python",
   "nbconvert_exporter": "python",
   "pygments_lexer": "ipython3",
   "version": "3.11.14"
  }
 },
 "nbformat": 4,
 "nbformat_minor": 5
}
