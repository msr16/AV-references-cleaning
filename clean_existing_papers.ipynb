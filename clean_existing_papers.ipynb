{
 "cells": [
  {
   "cell_type": "code",
   "execution_count": 1,
   "id": "6b26ffed",
   "metadata": {},
   "outputs": [],
   "source": [
    "import requests\n",
    "import json\n",
    "import os\n",
    "import asyncio\n",
    "import httpx\n",
    "import pandas as pd"
   ]
  },
  {
   "cell_type": "code",
   "execution_count": 2,
   "id": "adc1d374",
   "metadata": {},
   "outputs": [
    {
     "data": {
      "text/plain": [
       "122"
      ]
     },
     "execution_count": 2,
     "metadata": {},
     "output_type": "execute_result"
    }
   ],
   "source": [
    "with open('improved_refrences.json', 'r', encoding='utf-8') as f:\n",
    "    first_data = json.load(f)\n",
    "len(first_data)"
   ]
  },
  {
   "cell_type": "code",
   "execution_count": 3,
   "id": "a086e126",
   "metadata": {},
   "outputs": [
    {
     "data": {
      "text/plain": [
       "['https://openalex.org/W4396903381',\n",
       " 'https://openalex.org/W4226546914',\n",
       " 'https://openalex.org/W4362562906',\n",
       " 'https://openalex.org/W4367182782',\n",
       " 'https://openalex.org/W3176287975']"
      ]
     },
     "execution_count": 3,
     "metadata": {},
     "output_type": "execute_result"
    }
   ],
   "source": [
    "existing_papers_id = [rec.get('id') for rec in first_data]\n",
    "existing_papers_id[:5]"
   ]
  },
  {
   "cell_type": "code",
   "execution_count": 4,
   "id": "877d6eb2",
   "metadata": {},
   "outputs": [
    {
     "data": {
      "text/plain": [
       "10561"
      ]
     },
     "execution_count": 4,
     "metadata": {},
     "output_type": "execute_result"
    }
   ],
   "source": [
    "papers_id = []\n",
    "for i, rec in enumerate(first_data):\n",
    "    referenced_works = rec.get('referenced_works')\n",
    "    papers_id.extend(referenced_works)\n",
    "        \n",
    "    \n",
    "len(papers_id)"
   ]
  },
  {
   "cell_type": "code",
   "execution_count": 6,
   "id": "5a8be29a",
   "metadata": {},
   "outputs": [
    {
     "data": {
      "text/plain": [
       "0"
      ]
     },
     "execution_count": 6,
     "metadata": {},
     "output_type": "execute_result"
    }
   ],
   "source": [
    "sum(1 for item in papers_id if not item.startswith('https'))"
   ]
  },
  {
   "cell_type": "code",
   "execution_count": 7,
   "id": "a20a60b2",
   "metadata": {},
   "outputs": [
    {
     "data": {
      "text/plain": [
       "6615"
      ]
     },
     "execution_count": 7,
     "metadata": {},
     "output_type": "execute_result"
    }
   ],
   "source": [
    "papers_id = set(papers_id)\n",
    "len(papers_id)"
   ]
  },
  {
   "cell_type": "code",
   "execution_count": 8,
   "id": "279a2b41",
   "metadata": {},
   "outputs": [
    {
     "data": {
      "text/plain": [
       "6570"
      ]
     },
     "execution_count": 8,
     "metadata": {},
     "output_type": "execute_result"
    }
   ],
   "source": [
    "papers_id = papers_id - set(existing_papers_id)\n",
    "papers_id = list(papers_id)\n",
    "len(papers_id)"
   ]
  },
  {
   "cell_type": "code",
   "execution_count": 4,
   "id": "6c0a1557",
   "metadata": {},
   "outputs": [
    {
     "data": {
      "text/plain": [
       "200"
      ]
     },
     "execution_count": 4,
     "metadata": {},
     "output_type": "execute_result"
    }
   ],
   "source": [
    "temp_response = requests.get('https://api.openalex.org/W4396903381')\n",
    "temp_response.status_code"
   ]
  },
  {
   "cell_type": "code",
   "execution_count": 5,
   "id": "0c717fdd",
   "metadata": {},
   "outputs": [],
   "source": [
    "temp_response.raise_for_status()\n",
    "temp_data = temp_response.json()"
   ]
  },
  {
   "cell_type": "code",
   "execution_count": 6,
   "id": "04f940de",
   "metadata": {},
   "outputs": [
    {
     "data": {
      "text/plain": [
       "dict_keys(['id', 'doi', 'title', 'display_name', 'publication_year', 'publication_date', 'ids', 'language', 'primary_location', 'type', 'type_crossref', 'indexed_in', 'open_access', 'authorships', 'institution_assertions', 'countries_distinct_count', 'institutions_distinct_count', 'corresponding_author_ids', 'corresponding_institution_ids', 'apc_list', 'apc_paid', 'fwci', 'has_fulltext', 'cited_by_count', 'citation_normalized_percentile', 'cited_by_percentile_year', 'biblio', 'is_retracted', 'is_paratext', 'primary_topic', 'topics', 'keywords', 'concepts', 'mesh', 'locations_count', 'locations', 'best_oa_location', 'sustainable_development_goals', 'grants', 'datasets', 'versions', 'referenced_works_count', 'referenced_works', 'related_works', 'abstract_inverted_index', 'cited_by_api_url', 'counts_by_year', 'updated_date', 'created_date'])"
      ]
     },
     "execution_count": 6,
     "metadata": {},
     "output_type": "execute_result"
    }
   ],
   "source": [
    "temp_data.keys()"
   ]
  },
  {
   "cell_type": "code",
   "execution_count": 11,
   "id": "298694c8",
   "metadata": {},
   "outputs": [
    {
     "data": {
      "text/plain": [
       "200"
      ]
     },
     "execution_count": 11,
     "metadata": {},
     "output_type": "execute_result"
    }
   ],
   "source": [
    "temp_response = requests.get('https://api.openalex.org/A5060187904')\n",
    "temp_response.status_code"
   ]
  },
  {
   "cell_type": "code",
   "execution_count": 12,
   "id": "baa0fc8f",
   "metadata": {},
   "outputs": [],
   "source": [
    "temp_response.raise_for_status()\n",
    "temp_data = temp_response.json()"
   ]
  },
  {
   "cell_type": "code",
   "execution_count": 13,
   "id": "bc803bf5",
   "metadata": {},
   "outputs": [
    {
     "data": {
      "text/plain": [
       "dict_keys(['id', 'orcid', 'display_name', 'display_name_alternatives', 'works_count', 'cited_by_count', 'summary_stats', 'ids', 'affiliations', 'last_known_institutions', 'topics', 'topic_share', 'x_concepts', 'counts_by_year', 'works_api_url', 'updated_date', 'created_date'])"
      ]
     },
     "execution_count": 13,
     "metadata": {},
     "output_type": "execute_result"
    }
   ],
   "source": [
    "temp_data.keys()"
   ]
  },
  {
   "cell_type": "code",
   "execution_count": 100,
   "id": "60ee0236",
   "metadata": {},
   "outputs": [],
   "source": [
    "rec = first_data[56]"
   ]
  },
  {
   "cell_type": "code",
   "execution_count": 44,
   "id": "a761f637",
   "metadata": {},
   "outputs": [
    {
     "data": {
      "text/plain": [
       "dict_keys(['id', 'doi', 'title', 'display_name', 'publication_year', 'publication_date', 'ids', 'language', 'primary_location', 'type', 'type_crossref', 'indexed_in', 'open_access', 'authorships', 'institution_assertions', 'countries_distinct_count', 'institutions_distinct_count', 'corresponding_author_ids', 'corresponding_institution_ids', 'apc_list', 'apc_paid', 'fwci', 'has_fulltext', 'cited_by_count', 'citation_normalized_percentile', 'cited_by_percentile_year', 'biblio', 'is_retracted', 'is_paratext', 'primary_topic', 'topics', 'keywords', 'concepts', 'mesh', 'locations_count', 'locations', 'best_oa_location', 'sustainable_development_goals', 'grants', 'datasets', 'versions', 'referenced_works_count', 'referenced_works', 'related_works', 'abstract_inverted_index', 'cited_by_api_url', 'counts_by_year', 'updated_date', 'created_date'])"
      ]
     },
     "execution_count": 44,
     "metadata": {},
     "output_type": "execute_result"
    }
   ],
   "source": [
    "rec.keys()"
   ]
  },
  {
   "cell_type": "code",
   "execution_count": 67,
   "id": "1b168009",
   "metadata": {},
   "outputs": [
    {
     "data": {
      "text/plain": [
       "1227"
      ]
     },
     "execution_count": 67,
     "metadata": {},
     "output_type": "execute_result"
    }
   ],
   "source": [
    "len(json.dumps(rec.get('topics')))"
   ]
  },
  {
   "cell_type": "code",
   "execution_count": 101,
   "id": "7399b424",
   "metadata": {},
   "outputs": [
    {
     "name": "stdout",
     "output_type": "stream",
     "text": [
      "[\n",
      "    {\n",
      "        \"funder\": \"https://openalex.org/F4320319993\",\n",
      "        \"funder_display_name\": \"Leverhulme Trust\",\n",
      "        \"award_id\": \"ECF-2021-517\"\n",
      "    },\n",
      "    {\n",
      "        \"funder\": \"https://openalex.org/F4320320006\",\n",
      "        \"funder_display_name\": \"Royal Society\",\n",
      "        \"award_id\": \"IEC\\\\NSFC\\\\223228\"\n",
      "    }\n",
      "]\n"
     ]
    }
   ],
   "source": [
    "print(json.dumps(rec.get('grants'), indent=4))"
   ]
  },
  {
   "cell_type": "code",
   "execution_count": 76,
   "id": "6fb70b05",
   "metadata": {},
   "outputs": [],
   "source": [
    "CONCEPT_SIMILARITY_THRESH = 0.5\n",
    "TOPIC_SIMILARITY_THRESH = 0.8\n",
    "papers_data = []\n",
    "for rec in first_data:\n",
    "    papers_data.append({\n",
    "        'paper':{\n",
    "            'id': rec.get('id', None),\n",
    "            'doi': rec.get('doi', None),\n",
    "            'title': rec.get('title', None),\n",
    "            'publicationYear': rec.get('publication_year', None),\n",
    "            'language': rec.get('language', None),\n",
    "            'type': rec.get('type', None),\n",
    "            'crossrefType': rec.get('type_crossref', None),\n",
    "            'numberOfCiteation': rec.get('cited_by_count', None),\n",
    "            'FieldWeightedCitationImpact': rec.get('fwci', None),\n",
    "            'countsByYear': rec.get('counts_by_year', {}),\n",
    "            'pdfUrl': rec.get('primary_location', {}).get('pdf_url', None)\n",
    "        },\n",
    "\n",
    "        'authorship':[\n",
    "            {\n",
    "                'authorPosition': author.get('author_position', None),\n",
    "                'author':{\n",
    "                    'id': author.get('author', {}).get('id', None),\n",
    "                    'institutions': [institution.get('id', None) for institution in author.get('institutions', [])],\n",
    "                    'isCorresponding': author.get('is_corresponding', None),\n",
    "                    'affiliations': author.get('raw_affiliation_strings', []),\n",
    "                }    \n",
    "            } for author in rec.get('authorships')\n",
    "        ],\n",
    "\n",
    "        'source': {\n",
    "            'id': rec.get('primary_location', {}).get('source', {}).get('id', None) if rec.get('primary_location', {}).get('source', {}) else None,\n",
    "            'hostOrganizationId': rec.get('primary_location', {}).get('source', {}).get('host_organization', None) if rec.get('primary_location', {}).get('source', {}) else None,\n",
    "            'volume': rec.get('biblio', {}).get('volume', None),\n",
    "            'issue': rec.get('biblio', {}).get('issue', None),\n",
    "        },\n",
    "\n",
    "        'referencedWorks': rec.get('referenced_works', []),\n",
    "        'relatedWorks': rec.get('related_works', []),\n",
    "\n",
    "        'grants': [\n",
    "            {\n",
    "                'funder': grant.get('funder', None),\n",
    "                'awardId': grant.get('award_id', None),\n",
    "            } for grant in rec.get('grants', [])\n",
    "        ],\n",
    "\n",
    "        'concepts': [concept.get('id', None) for concept in rec.get('concepts', []) if concept.get('score', None) > CONCEPT_SIMILARITY_THRESH ],\n",
    "        'keywords': [keyword.get('display_name', None) for keyword in rec.get('keywords', []) ],\n",
    "\n",
    "        'topics': [topic.get('id', None) for topic in rec.get('topics', []) if topic.get('score', None) > TOPIC_SIMILARITY_THRESH ],\n",
    "\n",
    "    })"
   ]
  },
  {
   "cell_type": "code",
   "execution_count": 106,
   "id": "8ef2b369",
   "metadata": {},
   "outputs": [],
   "source": [
    "with open('clean_data/batch_1.json', 'w', encoding='utf-8') as f:\n",
    "    json.dump(papers_data, f, indent=4, ensure_ascii=False)"
   ]
  },
  {
   "cell_type": "code",
   "execution_count": 105,
   "id": "203dc3d1",
   "metadata": {},
   "outputs": [
    {
     "name": "stdout",
     "output_type": "stream",
     "text": [
      "[\n",
      "    \"https://openalex.org/T10586\",\n",
      "    \"https://openalex.org/T11099\",\n",
      "    \"https://openalex.org/T10191\"\n",
      "]\n"
     ]
    }
   ],
   "source": [
    "print(json.dumps(papers_data[56].get('topics', {}), indent=4))"
   ]
  },
  {
   "cell_type": "code",
   "execution_count": 87,
   "id": "c45b740f",
   "metadata": {},
   "outputs": [
    {
     "data": {
      "text/plain": [
       "32"
      ]
     },
     "execution_count": 87,
     "metadata": {},
     "output_type": "execute_result"
    }
   ],
   "source": [
    "len(papers_data[116].get('referencedWorks', ))"
   ]
  },
  {
   "cell_type": "code",
   "execution_count": 88,
   "id": "9d55e436",
   "metadata": {},
   "outputs": [
    {
     "data": {
      "text/plain": [
       "10"
      ]
     },
     "execution_count": 88,
     "metadata": {},
     "output_type": "execute_result"
    }
   ],
   "source": [
    "len(papers_data[116].get('relatedWorks', ))"
   ]
  },
  {
   "cell_type": "code",
   "execution_count": 91,
   "id": "c3ad8a99",
   "metadata": {},
   "outputs": [
    {
     "data": {
      "text/plain": [
       "['https://openalex.org/W2200971133',\n",
       " 'https://openalex.org/W3039205832',\n",
       " 'https://openalex.org/W2995010020',\n",
       " 'https://openalex.org/W4386471863',\n",
       " 'https://openalex.org/W4225754812',\n",
       " 'https://openalex.org/W2563487472',\n",
       " 'https://openalex.org/W4296079511',\n",
       " 'https://openalex.org/W2975767248',\n",
       " 'https://openalex.org/W4378833173',\n",
       " 'https://openalex.org/W2101545882',\n",
       " 'https://openalex.org/W4364322274',\n",
       " 'https://openalex.org/W4385331824',\n",
       " 'https://openalex.org/W3216774437',\n",
       " 'https://openalex.org/W2084246939',\n",
       " 'https://openalex.org/W2146404773',\n",
       " 'https://openalex.org/W2155295407',\n",
       " 'https://openalex.org/W2334470880',\n",
       " 'https://openalex.org/W2079150870',\n",
       " 'https://openalex.org/W1966312294',\n",
       " 'https://openalex.org/W4310983610',\n",
       " 'https://openalex.org/W4226051392',\n",
       " 'https://openalex.org/W4214895168',\n",
       " 'https://openalex.org/W2963914175',\n",
       " 'https://openalex.org/W2905301806',\n",
       " 'https://openalex.org/W4312731878',\n",
       " 'https://openalex.org/W3169575318',\n",
       " 'https://openalex.org/W4205342285',\n",
       " 'https://openalex.org/W3177318507',\n",
       " 'https://openalex.org/W4289812631',\n",
       " 'https://openalex.org/W4233174595',\n",
       " 'https://openalex.org/W2194775991',\n",
       " 'https://openalex.org/W4413769257']"
      ]
     },
     "execution_count": 91,
     "metadata": {},
     "output_type": "execute_result"
    }
   ],
   "source": [
    "papers_data[116].get('referencedWorks', )"
   ]
  },
  {
   "cell_type": "code",
   "execution_count": 89,
   "id": "2bdf7281",
   "metadata": {},
   "outputs": [
    {
     "data": {
      "text/plain": [
       "['https://openalex.org/W4360995134',\n",
       " 'https://openalex.org/W4323768008',\n",
       " 'https://openalex.org/W4248382324',\n",
       " 'https://openalex.org/W3131574667',\n",
       " 'https://openalex.org/W3023605104',\n",
       " 'https://openalex.org/W2387529410',\n",
       " 'https://openalex.org/W2383578611',\n",
       " 'https://openalex.org/W2101105382',\n",
       " 'https://openalex.org/W2039473718',\n",
       " 'https://openalex.org/W1941703695']"
      ]
     },
     "execution_count": 89,
     "metadata": {},
     "output_type": "execute_result"
    }
   ],
   "source": [
    "papers_data[116].get('relatedWorks', )"
   ]
  },
  {
   "cell_type": "code",
   "execution_count": null,
   "id": "eca10878",
   "metadata": {},
   "outputs": [],
   "source": []
  }
 ],
 "metadata": {
  "kernelspec": {
   "display_name": "AV-references-cleaning (3.11.14)",
   "language": "python",
   "name": "python3"
  },
  "language_info": {
   "codemirror_mode": {
    "name": "ipython",
    "version": 3
   },
   "file_extension": ".py",
   "mimetype": "text/x-python",
   "name": "python",
   "nbconvert_exporter": "python",
   "pygments_lexer": "ipython3",
   "version": "3.11.14"
  }
 },
 "nbformat": 4,
 "nbformat_minor": 5
}
