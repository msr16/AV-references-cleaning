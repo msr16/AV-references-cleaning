{
 "cells": [
  {
   "cell_type": "code",
   "execution_count": 13,
   "id": "2cbe95ce",
   "metadata": {},
   "outputs": [
    {
     "data": {
      "text/plain": [
       "True"
      ]
     },
     "execution_count": 13,
     "metadata": {},
     "output_type": "execute_result"
    }
   ],
   "source": [
    "from neo4j import GraphDatabase\n",
    "import json\n",
    "import os\n",
    "import random\n",
    "from dotenv import load_dotenv\n",
    "\n",
    "load_dotenv(override=True)"
   ]
  },
  {
   "cell_type": "code",
   "execution_count": 16,
   "id": "f5e86437",
   "metadata": {},
   "outputs": [],
   "source": [
    "URI = os.getenv('NEO4J_CONNECTION_URI')\n",
    "AUTH = (os.getenv('NEO4J_USERNAME'), os.getenv('NEO4J_PASSWORD'))"
   ]
  },
  {
   "cell_type": "code",
   "execution_count": 17,
   "id": "f04415be",
   "metadata": {},
   "outputs": [
    {
     "name": "stdout",
     "output_type": "stream",
     "text": [
      "That is right.\n"
     ]
    }
   ],
   "source": [
    "try:\n",
    "    with GraphDatabase.driver(URI, auth=AUTH) as driver:\n",
    "        with driver.session() as session:\n",
    "            result = session.run(\"RETURN 'That is right.' AS message\")\n",
    "            record = result.single()\n",
    "            if record:\n",
    "                print(record[\"message\"])\n",
    "            else:\n",
    "                print(\"Query returned no result.\")\n",
    "except Exception as e:\n",
    "    print(f\"Connection or query failed: {e}\")"
   ]
  },
  {
   "cell_type": "code",
   "execution_count": 9,
   "id": "dab7bf25",
   "metadata": {},
   "outputs": [
    {
     "data": {
      "text/plain": [
       "['papers',\n",
       " 'funders',\n",
       " 'topics',\n",
       " 'authors',\n",
       " 'domains.json',\n",
       " 'fields.json',\n",
       " 'institutions',\n",
       " 'sources',\n",
       " 'subfields.json']"
      ]
     },
     "execution_count": 9,
     "metadata": {},
     "output_type": "execute_result"
    }
   ],
   "source": [
    "os.listdir('clean_data')"
   ]
  },
  {
   "cell_type": "code",
   "execution_count": 11,
   "id": "773406f5",
   "metadata": {},
   "outputs": [
    {
     "data": {
      "text/plain": [
       "4"
      ]
     },
     "execution_count": 11,
     "metadata": {},
     "output_type": "execute_result"
    }
   ],
   "source": [
    "with open('clean_data/domains.json', 'r', encoding='utf-8') as f:\n",
    "    domains_data = json.load(f)\n",
    "len(domains_data)"
   ]
  },
  {
   "cell_type": "code",
   "execution_count": 13,
   "id": "18c0ce62",
   "metadata": {},
   "outputs": [
    {
     "name": "stdout",
     "output_type": "stream",
     "text": [
      "{\n",
      "    \"id\": \"https://openalex.org/domains/3\",\n",
      "    \"name\": \"Physical Sciences\",\n",
      "    \"description\": \"branch of natural science that studies non-living systems\",\n",
      "    \"fields\": [\n",
      "        \"https://openalex.org/fields/15\",\n",
      "        \"https://openalex.org/fields/16\",\n",
      "        \"https://openalex.org/fields/17\",\n",
      "        \"https://openalex.org/fields/19\",\n",
      "        \"https://openalex.org/fields/21\",\n",
      "        \"https://openalex.org/fields/22\",\n",
      "        \"https://openalex.org/fields/23\",\n",
      "        \"https://openalex.org/fields/25\",\n",
      "        \"https://openalex.org/fields/26\",\n",
      "        \"https://openalex.org/fields/31\"\n",
      "    ],\n",
      "    \"worksCount\": 73237366,\n",
      "    \"citedByCount\": 770120022\n",
      "}\n"
     ]
    }
   ],
   "source": [
    "print(json.dumps(domains_data[0], indent=4))"
   ]
  },
  {
   "cell_type": "code",
   "execution_count": 14,
   "id": "7c37b01a",
   "metadata": {},
   "outputs": [],
   "source": [
    "def import_domains(driver, domains_list):\n",
    "    print(f\"Starting import of {len(domains_list)} domains...\")\n",
    "    \n",
    "    with driver.session() as session:\n",
    "\n",
    "        total_imported = 0\n",
    "        for domain in domains_list:\n",
    "            props = domain.copy()\n",
    "            \n",
    "            if 'fields' in props:\n",
    "                del props['fields']\n",
    "            \n",
    "            domain_id = props.pop('id', None)\n",
    "\n",
    "            if not domain_id:\n",
    "                print(f\"Skipping domain, missing 'id': {domain}\")\n",
    "                continue\n",
    "\n",
    "            try:\n",
    "                session.run(\"\"\"\n",
    "                    MERGE (d:Domain {id: $id_param})\n",
    "                    SET d += $props_param\n",
    "                    \"\"\", id_param=domain_id, props_param=props)\n",
    "                total_imported += 1\n",
    "            except Exception as e:\n",
    "                print(f\"Failed to import domain {domain_id}: {e}\")\n",
    "\n",
    "    print(f\"\\nImport complete. {total_imported} domains merged/updated.\")"
   ]
  },
  {
   "cell_type": "code",
   "execution_count": 15,
   "id": "661d2f98",
   "metadata": {},
   "outputs": [
    {
     "name": "stdout",
     "output_type": "stream",
     "text": [
      "✅ Connection successful!\n",
      "Starting import of 4 domains...\n",
      "\n",
      "Import complete. 4 domains merged/updated.\n"
     ]
    }
   ],
   "source": [
    "try:\n",
    "    with GraphDatabase.driver(URI, auth=AUTH) as driver:\n",
    "        driver.verify_connectivity()\n",
    "        print(\"✅ Connection successful!\")\n",
    "        \n",
    "        import_domains(driver, domains_data)\n",
    "        \n",
    "except Exception as e:\n",
    "    print(f\"❌ An error occurred: {e}\")"
   ]
  },
  {
   "cell_type": "code",
   "execution_count": 29,
   "id": "27499c5a",
   "metadata": {},
   "outputs": [],
   "source": [
    "query = \"\"\"\n",
    "MATCH (d:Domain)\n",
    "RETURN d.name AS name, d.description AS description, d.worksCount AS worksCount\n",
    "\"\"\"\n",
    "\n",
    "try:\n",
    "    with GraphDatabase.driver(URI, auth=AUTH) as driver:\n",
    "        driver.verify_connectivity()\n",
    "\n",
    "        records, summary, keys = driver.execute_query(query, database_=\"neo4j\")\n",
    "                \n",
    "except Exception as e:\n",
    "    print(f\"❌ An error occurred: {e}\")"
   ]
  },
  {
   "cell_type": "code",
   "execution_count": 30,
   "id": "8d76a1cc",
   "metadata": {},
   "outputs": [
    {
     "data": {
      "text/plain": [
       "[{'name': 'Physical Sciences',\n",
       "  'description': 'branch of natural science that studies non-living systems',\n",
       "  'worksCount': 73237366},\n",
       " {'name': 'Social Sciences',\n",
       "  'description': 'branch of science focused on societies and the relationships among individuals within those societies',\n",
       "  'worksCount': 64995390},\n",
       " {'name': 'Health Sciences',\n",
       "  'description': 'branch of science focused on human health and disease prevention, diagnosis, treatment, and management',\n",
       "  'worksCount': 43957129},\n",
       " {'name': 'Life Sciences',\n",
       "  'description': 'branch of science that involve the scientific study of life – such as microorganisms, plants, and animals including human beings',\n",
       "  'worksCount': 27536918}]"
      ]
     },
     "execution_count": 30,
     "metadata": {},
     "output_type": "execute_result"
    }
   ],
   "source": [
    "[rec.data() for rec in records]"
   ]
  },
  {
   "cell_type": "code",
   "execution_count": 31,
   "id": "beb5319d",
   "metadata": {},
   "outputs": [
    {
     "data": {
      "text/plain": [
       "26"
      ]
     },
     "execution_count": 31,
     "metadata": {},
     "output_type": "execute_result"
    }
   ],
   "source": [
    "with open('clean_data/fields.json', 'r', encoding='utf-8') as f:\n",
    "    fields_data = json.load(f)\n",
    "len(fields_data)"
   ]
  },
  {
   "cell_type": "code",
   "execution_count": 32,
   "id": "84b89166",
   "metadata": {},
   "outputs": [
    {
     "name": "stdout",
     "output_type": "stream",
     "text": [
      "{\n",
      "    \"id\": \"https://openalex.org/fields/18\",\n",
      "    \"name\": \"Decision Sciences\",\n",
      "    \"description\": \"branch of applied probability theory\",\n",
      "    \"nameAlternatives\": [\n",
      "        \"decision theory\",\n",
      "        \"theory of choice\",\n",
      "        \"operations research\"\n",
      "    ],\n",
      "    \"domainId\": \"https://openalex.org/domains/2\",\n",
      "    \"subfields\": [\n",
      "        \"https://openalex.org/subfields/1800\",\n",
      "        \"https://openalex.org/subfields/1802\",\n",
      "        \"https://openalex.org/subfields/1803\",\n",
      "        \"https://openalex.org/subfields/1804\"\n",
      "    ],\n",
      "    \"worksCount\": 2096477,\n",
      "    \"citedByCount\": 29367741\n",
      "}\n"
     ]
    }
   ],
   "source": [
    "print(json.dumps(fields_data[0], indent=4))"
   ]
  },
  {
   "cell_type": "code",
   "execution_count": 34,
   "id": "5b22b9f8",
   "metadata": {},
   "outputs": [],
   "source": [
    "def import_fields(driver, fields_list):\n",
    "    print(f\"Starting import of {len(fields_list)} fields...\")\n",
    "    \n",
    "    with driver.session() as session:\n",
    "\n",
    "        total_imported = 0\n",
    "        for field in fields_list:\n",
    "            props = field.copy()\n",
    "            \n",
    "            if 'subfields' in props:\n",
    "                del props['subfields']\n",
    "            if 'domainId' in props:\n",
    "                del props['domainId']\n",
    "            \n",
    "            field_id = props.pop('id', None)\n",
    "\n",
    "            if not field_id:\n",
    "                print(f\"Skipping field, missing 'id': {field}\")\n",
    "                continue\n",
    "\n",
    "            try:\n",
    "                session.run(\"\"\"\n",
    "                    MERGE (d:Field {id: $id_param})\n",
    "                    SET d += $props_param\n",
    "                    \"\"\", id_param=field_id, props_param=props)\n",
    "                total_imported += 1\n",
    "            except Exception as e:\n",
    "                print(f\"Failed to import field {fields_list}: {e}\")\n",
    "\n",
    "    print(f\"\\nImport complete. {total_imported} field merged/updated.\")"
   ]
  },
  {
   "cell_type": "code",
   "execution_count": 35,
   "id": "e454f7d2",
   "metadata": {},
   "outputs": [
    {
     "name": "stdout",
     "output_type": "stream",
     "text": [
      "✅ Connection successful!\n",
      "Starting import of 26 fields...\n",
      "\n",
      "Import complete. 26 field merged/updated.\n"
     ]
    }
   ],
   "source": [
    "try:\n",
    "    with GraphDatabase.driver(URI, auth=AUTH) as driver:\n",
    "        driver.verify_connectivity()\n",
    "        print(\"✅ Connection successful!\")\n",
    "        \n",
    "        import_fields(driver, fields_data)\n",
    "        \n",
    "except Exception as e:\n",
    "    print(f\"❌ An error occurred: {e}\")"
   ]
  },
  {
   "cell_type": "code",
   "execution_count": 39,
   "id": "0c65f4d4",
   "metadata": {},
   "outputs": [],
   "source": [
    "query = \"\"\"\n",
    "MATCH (f:Field)\n",
    "RETURN f.name AS name, f.description as description\n",
    "\"\"\"\n",
    "\n",
    "try:\n",
    "    with GraphDatabase.driver(URI, auth=AUTH) as driver:\n",
    "        driver.verify_connectivity()\n",
    "\n",
    "        records, summary, keys = driver.execute_query(query, database_=\"neo4j\")\n",
    "                \n",
    "except Exception as e:\n",
    "    print(f\"❌ An error occurred: {e}\")"
   ]
  },
  {
   "cell_type": "code",
   "execution_count": 44,
   "id": "d0ca0fb7",
   "metadata": {},
   "outputs": [
    {
     "data": {
      "text/plain": [
       "{'name': 'Engineering',\n",
       " 'description': 'practice of using natural science, mathematics, and the engineering design process to solve technical problems'}"
      ]
     },
     "execution_count": 44,
     "metadata": {},
     "output_type": "execute_result"
    }
   ],
   "source": [
    "records[4].data()"
   ]
  },
  {
   "cell_type": "code",
   "execution_count": 4,
   "id": "24823a0f",
   "metadata": {},
   "outputs": [
    {
     "data": {
      "text/plain": [
       "248"
      ]
     },
     "execution_count": 4,
     "metadata": {},
     "output_type": "execute_result"
    }
   ],
   "source": [
    "with open('clean_data/subfields.json', 'r', encoding='utf-8') as f:\n",
    "    subfields_data = json.load(f)\n",
    "len(subfields_data)"
   ]
  },
  {
   "cell_type": "code",
   "execution_count": 49,
   "id": "37cc31e4",
   "metadata": {},
   "outputs": [
    {
     "name": "stdout",
     "output_type": "stream",
     "text": [
      "{\n",
      "    \"id\": \"https://openalex.org/subfields/2103\",\n",
      "    \"name\": \"Fuel Technology\",\n",
      "    \"description\": \"technology used in the extraction, processing and consumption of fuel resources\",\n",
      "    \"nameAlternatives\": [],\n",
      "    \"domainId\": \"https://openalex.org/domains/3\",\n",
      "    \"fieldId\": \"https://openalex.org/fields/21\",\n",
      "    \"topics\": [\n",
      "        \"https://openalex.org/T14428\"\n",
      "    ],\n",
      "    \"worksCount\": 46298,\n",
      "    \"citedByCount\": 107545\n",
      "}\n"
     ]
    }
   ],
   "source": [
    "print(json.dumps(subfields_data[0], indent=4))"
   ]
  },
  {
   "cell_type": "code",
   "execution_count": 3,
   "id": "2cc0c17f",
   "metadata": {},
   "outputs": [],
   "source": [
    "def import_subfields(driver, subfields_list):\n",
    "    print(f\"Starting import of {len(subfields_list)} subfields...\")\n",
    "    \n",
    "    with driver.session() as session:\n",
    "\n",
    "        total_imported = 0\n",
    "        for subfield in subfields_list:\n",
    "            props = subfield.copy()\n",
    "            \n",
    "\n",
    "            if 'fieldId' in props:\n",
    "                del props['fieldId']\n",
    "            if 'domainId' in props:\n",
    "                del props['domainId']\n",
    "            if 'topics' in props:\n",
    "                del props['topics']\n",
    "            \n",
    "            subfield_id = props.pop('id', None)\n",
    "\n",
    "            if not subfield_id:\n",
    "                print(f\"Skipping subfield, missing 'id': {subfield}\")\n",
    "                continue\n",
    "\n",
    "            try:\n",
    "                session.run(\"\"\"\n",
    "                    MERGE (d:SubField {id: $id_param})\n",
    "                    SET d += $props_param\n",
    "                    \"\"\", id_param=subfield_id, props_param=props)\n",
    "                total_imported += 1\n",
    "            except Exception as e:\n",
    "                print(f\"Failed to import field {subfields_list}: {e}\")\n",
    "\n",
    "    print(f\"\\nImport complete. {total_imported} subfields merged/updated.\")"
   ]
  },
  {
   "cell_type": "code",
   "execution_count": 5,
   "id": "b574e662",
   "metadata": {},
   "outputs": [
    {
     "name": "stdout",
     "output_type": "stream",
     "text": [
      "✅ Connection successful!\n",
      "Starting import of 248 subfields...\n",
      "\n",
      "Import complete. 248 subfields merged/updated.\n"
     ]
    }
   ],
   "source": [
    "try:\n",
    "    with GraphDatabase.driver(URI, auth=AUTH) as driver:\n",
    "        driver.verify_connectivity()\n",
    "        print(\"✅ Connection successful!\")\n",
    "        \n",
    "        import_subfields(driver, subfields_data)\n",
    "        \n",
    "except Exception as e:\n",
    "    print(f\"❌ An error occurred: {e}\")"
   ]
  },
  {
   "cell_type": "code",
   "execution_count": 16,
   "id": "588b8077",
   "metadata": {},
   "outputs": [],
   "source": [
    "query = \"\"\"\n",
    "MATCH (s:SubField)\n",
    "RETURN s.name AS name, s.description AS description\n",
    "\"\"\"\n",
    "\n",
    "try:\n",
    "    with GraphDatabase.driver(URI, auth=AUTH) as driver:\n",
    "        driver.verify_connectivity()\n",
    "\n",
    "        records, summary, keys = driver.execute_query(query, database_=\"neo4j\")\n",
    "                \n",
    "except Exception as e:\n",
    "    print(f\"❌ An error occurred: {e}\")"
   ]
  },
  {
   "cell_type": "code",
   "execution_count": 20,
   "id": "6c0ead63",
   "metadata": {},
   "outputs": [
    {
     "data": {
      "text/plain": [
       "{'name': 'Information Systems',\n",
       " 'description': 'academic study of systems with a specific reference to information and the complementary networks of hardware and software that people and organizations use to collect, filter, process, create and also distribute data'}"
      ]
     },
     "execution_count": 20,
     "metadata": {},
     "output_type": "execute_result"
    }
   ],
   "source": [
    "records[50].data()"
   ]
  },
  {
   "cell_type": "code",
   "execution_count": 7,
   "id": "174c040e",
   "metadata": {},
   "outputs": [
    {
     "data": {
      "text/plain": [
       "3655"
      ]
     },
     "execution_count": 7,
     "metadata": {},
     "output_type": "execute_result"
    }
   ],
   "source": [
    "topics_data = []\n",
    "topics_dir = os.path.join('clean_data', 'topics')\n",
    "\n",
    "for fname in os.listdir(topics_dir):\n",
    "    with open(os.path.join(topics_dir, fname), 'r', encoding='utf-8') as f:\n",
    "        topics_data.extend(json.load(f))\n",
    "\n",
    "random.shuffle(topics_data)\n",
    "len(topics_data)"
   ]
  },
  {
   "cell_type": "code",
   "execution_count": 8,
   "id": "058d85e4",
   "metadata": {},
   "outputs": [
    {
     "name": "stdout",
     "output_type": "stream",
     "text": [
      "{\n",
      "    \"id\": \"https://openalex.org/T13722\",\n",
      "    \"name\": \"Ergonomics and Human Factors\",\n",
      "    \"description\": \"This cluster of papers explores the intersection of ergonomics and sustainability, focusing on human-compatible systems, work systems, sustainable development, environmental technology, and the application of agent-based simulation and digitalization. It delves into topics such as green ergonomics, polymer coatings, and the role of human factors in building design for sustainable work activities.\",\n",
      "    \"keywords\": [\n",
      "        \"Ergonomics\",\n",
      "        \"Sustainability\",\n",
      "        \"Human Factors\",\n",
      "        \"Green Ergonomics\",\n",
      "        \"Work Systems\",\n",
      "        \"Sustainable Development\",\n",
      "        \"Environmental Technology\",\n",
      "        \"Agent-Based Simulation\",\n",
      "        \"Digitalization\",\n",
      "        \"Polymer Coatings\"\n",
      "    ],\n",
      "    \"domainId\": \"https://openalex.org/domains/3\",\n",
      "    \"fieldId\": \"https://openalex.org/fields/22\",\n",
      "    \"subfieldId\": \"https://openalex.org/subfields/2204\",\n",
      "    \"worksCount\": 12838,\n",
      "    \"citedByCount\": 64753\n",
      "}\n"
     ]
    }
   ],
   "source": [
    "print(json.dumps(topics_data[0], indent=4))"
   ]
  },
  {
   "cell_type": "code",
   "execution_count": null,
   "id": "d9944687",
   "metadata": {},
   "outputs": [],
   "source": [
    "def import_topics_batch(driver, topics_list, ignore_key):\n",
    "    print(f\"Starting import of {len(topics_list)} topics...\")\n",
    "    \n",
    "    props_list = []\n",
    "    for topic in topics_list:\n",
    "        props = topic.copy()\n",
    "\n",
    "        for key in ignore_key:\n",
    "            if key in props:\n",
    "                del props[key]\n",
    "\n",
    "        topic_id = props.pop('id', None)\n",
    "        if topic_id:\n",
    "            props_list.append({\n",
    "                'id_param': topic_id,\n",
    "                'props_param': props\n",
    "            })\n",
    "\n",
    "\n",
    "    with driver.session() as session:\n",
    "        try:\n",
    "            result = session.run(\"\"\"\n",
    "                UNWIND $props_list AS item\n",
    "                MERGE (t:Topic {id: item.id_param})\n",
    "                SET t += item.props_param\n",
    "                RETURN count(t) AS total_merged\n",
    "                \"\"\", props_list=props_list)\n",
    "            \n",
    "            summary = result.single()\n",
    "            print(f\"Batch import complete. {summary['total_merged']} topics merged/updated.\")\n",
    "\n",
    "        except Exception as e:\n",
    "            print(f\"Failed to import batch: {e}\")"
   ]
  },
  {
   "cell_type": "code",
   "execution_count": null,
   "id": "d25cb972",
   "metadata": {},
   "outputs": [],
   "source": [
    "N_topics = len(topics_data)\n",
    "batch_size = 250\n",
    "\n",
    "try:\n",
    "    with GraphDatabase.driver(URI, auth=AUTH) as driver:\n",
    "        driver.verify_connectivity()\n",
    "        print(\"✅ Connection successful!\")\n",
    "        \n",
    "        count = 1\n",
    "        for i in range(0, N_topics, batch_size):\n",
    "            selected_records = topics_data[i: i+batch_size]\n",
    "            print(f'{count}:')\n",
    "            import_topics_batch(driver, selected_records, [\"domainId\", \"fieldId\", \"subfieldId\"])\n",
    "            count += 1\n",
    "            print(2*'\\n')\n",
    "        \n",
    "except Exception as e:\n",
    "    print(f\"❌ An error occurred: {e}\")"
   ]
  },
  {
   "cell_type": "code",
   "execution_count": 21,
   "id": "1aced7a5",
   "metadata": {},
   "outputs": [],
   "source": [
    "# query = \"\"\"\n",
    "# MATCH (t:Topic)\n",
    "# RETURN t.id AS id\n",
    "# \"\"\"\n",
    "\n",
    "query = \"\"\"\n",
    "MATCH (t:Topic)\n",
    "RETURN t.name AS name, t.description AS description\n",
    "\"\"\"\n",
    "\n",
    "try:\n",
    "    with GraphDatabase.driver(URI, auth=AUTH) as driver:\n",
    "        driver.verify_connectivity()\n",
    "\n",
    "        records, summary, keys = driver.execute_query(query, database_=\"neo4j\")\n",
    "                \n",
    "except Exception as e:\n",
    "    print(f\"❌ An error occurred: {e}\")"
   ]
  },
  {
   "cell_type": "code",
   "execution_count": 22,
   "id": "af682fbc",
   "metadata": {},
   "outputs": [],
   "source": [
    "# len(set([t.data().get('id') for t in records]))"
   ]
  },
  {
   "cell_type": "code",
   "execution_count": 24,
   "id": "a550b854",
   "metadata": {},
   "outputs": [
    {
     "data": {
      "text/plain": [
       "{'name': 'Economic Theory and Institutions',\n",
       " 'description': 'This cluster of papers explores the study of economic institutions, behavior, and evolution, encompassing topics such as institutional economics, evolutionary economics, behavioral economics, market evolution, property rights, macroeconomics, social evolution, neoliberalism, and Darwinism in economics.'}"
      ]
     },
     "execution_count": 24,
     "metadata": {},
     "output_type": "execute_result"
    }
   ],
   "source": [
    "records[16].data()"
   ]
  },
  {
   "cell_type": "code",
   "execution_count": 3,
   "id": "68150273",
   "metadata": {},
   "outputs": [
    {
     "data": {
      "text/plain": [
       "4"
      ]
     },
     "execution_count": 3,
     "metadata": {},
     "output_type": "execute_result"
    }
   ],
   "source": [
    "with open('clean_data/domains.json', 'r', encoding='utf-8') as f:\n",
    "    domains_data = json.load(f)\n",
    "len(domains_data)"
   ]
  },
  {
   "cell_type": "code",
   "execution_count": 4,
   "id": "336ba710",
   "metadata": {},
   "outputs": [
    {
     "data": {
      "text/plain": [
       "{'id': 'https://openalex.org/domains/3',\n",
       " 'name': 'Physical Sciences',\n",
       " 'description': 'branch of natural science that studies non-living systems',\n",
       " 'fields': ['https://openalex.org/fields/15',\n",
       "  'https://openalex.org/fields/16',\n",
       "  'https://openalex.org/fields/17',\n",
       "  'https://openalex.org/fields/19',\n",
       "  'https://openalex.org/fields/21',\n",
       "  'https://openalex.org/fields/22',\n",
       "  'https://openalex.org/fields/23',\n",
       "  'https://openalex.org/fields/25',\n",
       "  'https://openalex.org/fields/26',\n",
       "  'https://openalex.org/fields/31'],\n",
       " 'worksCount': 73237366,\n",
       " 'citedByCount': 770120022}"
      ]
     },
     "execution_count": 4,
     "metadata": {},
     "output_type": "execute_result"
    }
   ],
   "source": [
    "domains_data[0]"
   ]
  },
  {
   "cell_type": "code",
   "execution_count": 5,
   "id": "bc2f1f65",
   "metadata": {},
   "outputs": [],
   "source": [
    "domain_fields_relation = [\n",
    "    {\n",
    "        'domain_id_param': domain.get('id'),\n",
    "        'field_ids_param': domain.get('fields'),\n",
    "    } for domain in domains_data\n",
    "]"
   ]
  },
  {
   "cell_type": "code",
   "execution_count": 7,
   "id": "ce9055ed",
   "metadata": {},
   "outputs": [
    {
     "name": "stdout",
     "output_type": "stream",
     "text": [
      "✅ Connection successful!\n",
      "\n",
      "Batch import complete.\n",
      "  - 26 relationships created/merged.\n"
     ]
    }
   ],
   "source": [
    "try:\n",
    "    with GraphDatabase.driver(URI, auth=AUTH) as driver:\n",
    "        driver.verify_connectivity()\n",
    "        print(\"✅ Connection successful!\")\n",
    "        \n",
    "        with driver.session() as session:\n",
    "\n",
    "            try:\n",
    "                result = session.run(\"\"\"\n",
    "                    UNWIND $data_list AS item\n",
    "                    \n",
    "                    // 1. Find the existing Domain (fast due to constraint)\n",
    "                    MATCH (d:Domain {id: item.domain_id_param})\n",
    "                    \n",
    "                    // 2. Unwind the list of field IDs for this domain\n",
    "                    WITH d, item.field_ids_param AS field_ids\n",
    "                    UNWIND field_ids AS field_id\n",
    "                    \n",
    "                    // 3. Find the existing Field (fast due to constraint)\n",
    "                    MATCH (f:Field {id: field_id})\n",
    "                    \n",
    "                    // 4. Create the relationship (MERGE avoids duplicates)\n",
    "                    MERGE (f)-[r:PART_OF]->(d)\n",
    "                    \n",
    "                    RETURN count(r) AS relationships_created\n",
    "                    \"\"\", data_list=domain_fields_relation)\n",
    "                \n",
    "                summary = result.single()\n",
    "                print(f\"\\nBatch import complete.\")\n",
    "                print(f\"  - {summary['relationships_created']} relationships created/merged.\")\n",
    "\n",
    "            except Exception as e:\n",
    "                # This will fail if a :Domain or :Field node is not found\n",
    "                print(f\"Failed to import batch: {e}\")\n",
    "                print(\"NOTE: This query assumes all :Domain and :Field nodes already exist.\")\n",
    "        \n",
    "except Exception as e:\n",
    "    print(f\"❌ An error occurred: {e}\")"
   ]
  },
  {
   "cell_type": "code",
   "execution_count": 10,
   "id": "a6a37f56",
   "metadata": {},
   "outputs": [],
   "source": [
    "query = \"\"\"\n",
    "MATCH (f:Field)-[:PART_OF]->(d:Domain {name: 'Physical Sciences'})\n",
    "RETURN f.name AS field_name, f.description AS description\n",
    "\"\"\"\n",
    "\n",
    "try:\n",
    "    with GraphDatabase.driver(URI, auth=AUTH) as driver:\n",
    "        driver.verify_connectivity()\n",
    "\n",
    "        records, summary, keys = driver.execute_query(query, database_=\"neo4j\")\n",
    "                \n",
    "except Exception as e:\n",
    "    print(f\"❌ An error occurred: {e}\")"
   ]
  },
  {
   "cell_type": "code",
   "execution_count": 11,
   "id": "7e1686c9",
   "metadata": {},
   "outputs": [
    {
     "data": {
      "text/plain": [
       "[{'field_name': 'Physics and Astronomy',\n",
       "  'description': 'study of matter and its motion, along with related concepts such as energy and force'},\n",
       " {'field_name': 'Mathematics',\n",
       "  'description': 'area of knowledge that includes the topics of numbers, formulas and related structures, shapes and the spaces in which they are contained, and quantities and their changes'},\n",
       " {'field_name': 'Materials Science',\n",
       "  'description': 'research, discovery and design of physical materials (especially solids)'},\n",
       " {'field_name': 'Environmental Science',\n",
       "  'description': 'interdisciplinary field that studies human interaction with the environment'},\n",
       " {'field_name': 'Engineering',\n",
       "  'description': 'practice of using natural science, mathematics, and the engineering design process to solve technical problems'},\n",
       " {'field_name': 'Energy',\n",
       "  'description': 'study of energy in physical systems, its sources, technology, management, and impact on sustainability'},\n",
       " {'field_name': 'Earth and Planetary Sciences',\n",
       "  'description': 'all fields of natural science related to the planet Earth and other planets'},\n",
       " {'field_name': 'Computer Science', 'description': 'study of computation'},\n",
       " {'field_name': 'Chemistry',\n",
       "  'description': 'branch of physical science concerned with the composition, structure and properties of matter'},\n",
       " {'field_name': 'Chemical Engineering',\n",
       "  'description': 'branch of science that applies physical sciences and life sciences together with applied mathematics and economics to produce, transform, transport, and properly use chemicals, materials and energy'}]"
      ]
     },
     "execution_count": 11,
     "metadata": {},
     "output_type": "execute_result"
    }
   ],
   "source": [
    "[rec.data() for rec in records]"
   ]
  },
  {
   "cell_type": "code",
   "execution_count": 3,
   "id": "7a8dbaa5",
   "metadata": {},
   "outputs": [
    {
     "data": {
      "text/plain": [
       "26"
      ]
     },
     "execution_count": 3,
     "metadata": {},
     "output_type": "execute_result"
    }
   ],
   "source": [
    "with open('clean_data/fields.json', 'r', encoding='utf-8') as f:\n",
    "    fields_data = json.load(f)\n",
    "len(fields_data)"
   ]
  },
  {
   "cell_type": "code",
   "execution_count": 4,
   "id": "b1bde9af",
   "metadata": {},
   "outputs": [
    {
     "data": {
      "text/plain": [
       "{'id': 'https://openalex.org/fields/19',\n",
       " 'name': 'Earth and Planetary Sciences',\n",
       " 'description': 'all fields of natural science related to the planet Earth and other planets',\n",
       " 'nameAlternatives': ['geosciences', 'planetary sciences'],\n",
       " 'domainId': 'https://openalex.org/domains/3',\n",
       " 'subfields': ['https://openalex.org/subfields/1902',\n",
       "  'https://openalex.org/subfields/1904',\n",
       "  'https://openalex.org/subfields/1906',\n",
       "  'https://openalex.org/subfields/1907',\n",
       "  'https://openalex.org/subfields/1908',\n",
       "  'https://openalex.org/subfields/1910',\n",
       "  'https://openalex.org/subfields/1911',\n",
       "  'https://openalex.org/subfields/1912'],\n",
       " 'worksCount': 4334720,\n",
       " 'citedByCount': 65830936}"
      ]
     },
     "execution_count": 4,
     "metadata": {},
     "output_type": "execute_result"
    }
   ],
   "source": [
    "fields_data[16]"
   ]
  },
  {
   "cell_type": "code",
   "execution_count": 5,
   "id": "ab046a1f",
   "metadata": {},
   "outputs": [
    {
     "data": {
      "text/plain": [
       "26"
      ]
     },
     "execution_count": 5,
     "metadata": {},
     "output_type": "execute_result"
    }
   ],
   "source": [
    "fields_subfields_relation = [\n",
    "    {\n",
    "        'field_id_param': field.get('id'),\n",
    "        'subfield_ids_param': field.get('subfields'),\n",
    "    } for field in fields_data\n",
    "]\n",
    "len(fields_subfields_relation)"
   ]
  },
  {
   "cell_type": "code",
   "execution_count": 8,
   "id": "6bd5c91d",
   "metadata": {},
   "outputs": [
    {
     "name": "stdout",
     "output_type": "stream",
     "text": [
      "✅ Connection successful!\n",
      "\n",
      "Batch import complete.\n",
      "  - 248 relationships created/merged.\n"
     ]
    }
   ],
   "source": [
    "try:\n",
    "    with GraphDatabase.driver(URI, auth=AUTH) as driver:\n",
    "        driver.verify_connectivity()\n",
    "        print(\"✅ Connection successful!\")\n",
    "        \n",
    "        with driver.session() as session:\n",
    "\n",
    "            try:\n",
    "                result = session.run(\"\"\"\n",
    "                    UNWIND $data_list AS item\n",
    "                    \n",
    "                    MATCH (f:Field {id: item.field_id_param})\n",
    "                    \n",
    "                    WITH f, item.subfield_ids_param AS subfield_ids\n",
    "                    UNWIND subfield_ids AS subfield_id\n",
    "                    \n",
    "                    MATCH (s:SubField {id: subfield_id})\n",
    "                    \n",
    "                    MERGE (s)-[r:PART_OF]->(f)\n",
    "                    \n",
    "                    RETURN count(r) AS relationships_created\n",
    "                    \"\"\", data_list=fields_subfields_relation)\n",
    "                \n",
    "                summary = result.single()\n",
    "                print(f\"\\nBatch import complete.\")\n",
    "                print(f\"  - {summary['relationships_created']} relationships created/merged.\")\n",
    "\n",
    "            except Exception as e:\n",
    "                # This will fail if a :Domain or :Field node is not found\n",
    "                print(f\"Failed to import batch: {e}\")\n",
    "        \n",
    "except Exception as e:\n",
    "    print(f\"❌ An error occurred: {e}\")"
   ]
  },
  {
   "cell_type": "code",
   "execution_count": 10,
   "id": "44aae1ce",
   "metadata": {},
   "outputs": [],
   "source": [
    "query = \"\"\"\n",
    "MATCH (s:SubField)-[:PART_OF]->(f:Field {name: 'Engineering'})\n",
    "RETURN s.name AS field_name, s.description AS description\n",
    "\"\"\"\n",
    "\n",
    "try:\n",
    "    with GraphDatabase.driver(URI, auth=AUTH) as driver:\n",
    "        driver.verify_connectivity()\n",
    "\n",
    "        records, summary, keys = driver.execute_query(query, database_=\"neo4j\")\n",
    "                \n",
    "except Exception as e:\n",
    "    print(f\"❌ An error occurred: {e}\")"
   ]
  },
  {
   "cell_type": "code",
   "execution_count": 11,
   "id": "8fe268b7",
   "metadata": {},
   "outputs": [
    {
     "name": "stdout",
     "output_type": "stream",
     "text": [
      "[\n",
      "    {\n",
      "        \"field_name\": \"Safety, Risk, Reliability and Quality\",\n",
      "        \"description\": \"state of being secure from harm, injury, danger, or other non-desirable outcomes\"\n",
      "    },\n",
      "    {\n",
      "        \"field_name\": \"Mechanics of Materials\",\n",
      "        \"description\": \"behavior of solid objects subject to stresses and strains\"\n",
      "    },\n",
      "    {\n",
      "        \"field_name\": \"Ocean Engineering\",\n",
      "        \"description\": \"engineering of devices within the ocean environment\"\n",
      "    },\n",
      "    {\n",
      "        \"field_name\": \"Building and Construction\",\n",
      "        \"description\": \"former West German trade union (1949\\u20131995)\"\n",
      "    },\n",
      "    {\n",
      "        \"field_name\": \"Mechanical Engineering\",\n",
      "        \"description\": \"engineering discipline\"\n",
      "    },\n",
      "    {\n",
      "        \"field_name\": \"Computational Mechanics\",\n",
      "        \"description\": \"discipline concerned with the use of computational methods to study mechanics\"\n",
      "    },\n",
      "    {\n",
      "        \"field_name\": \"General Engineering\",\n",
      "        \"description\": \"applied science\"\n",
      "    },\n",
      "    {\n",
      "        \"field_name\": \"Architecture\",\n",
      "        \"description\": \"both the process and product of planning, designing and construction\"\n",
      "    },\n",
      "    {\n",
      "        \"field_name\": \"Aerospace Engineering\",\n",
      "        \"description\": \"branch of engineering\"\n",
      "    },\n",
      "    {\n",
      "        \"field_name\": \"Civil and Structural Engineering\",\n",
      "        \"description\": \"engineering discipline specializing in design, construction and maintenance of the built environment\"\n",
      "    },\n",
      "    {\n",
      "        \"field_name\": \"Electrical and Electronic Engineering\",\n",
      "        \"description\": \"electrical engineering discipline which utilizes nonlinear and active electrical components to design electronic circuits, devices, and their systems\"\n",
      "    },\n",
      "    {\n",
      "        \"field_name\": \"Control and Systems Engineering\",\n",
      "        \"description\": \"engineering discipline that applies control theory to design systems with desired behaviors, focusing on the development and implementation of control systems in machinery, processes, and automation\"\n",
      "    },\n",
      "    {\n",
      "        \"field_name\": \"Biomedical Engineering\",\n",
      "        \"description\": \"application of engineering principles and design concepts to medicine and biology\"\n",
      "    },\n",
      "    {\n",
      "        \"field_name\": \"Media Technology\",\n",
      "        \"description\": \"field of study and practice that explores the development, application, and impact of digital and media technologies in communication, entertainment, and information dissemination\"\n",
      "    },\n",
      "    {\n",
      "        \"field_name\": \"Automotive Engineering\",\n",
      "        \"description\": \"discipline of engineering\"\n",
      "    },\n",
      "    {\n",
      "        \"field_name\": \"Industrial and Manufacturing Engineering\",\n",
      "        \"description\": \"discipline of engineering dealing with various manufacturing sciences and practices including the research, design and development of systems, processes, machines, tools, and equipment\"\n",
      "    }\n",
      "]\n"
     ]
    }
   ],
   "source": [
    "print(json.dumps([rec.data() for rec in records], indent=4))"
   ]
  },
  {
   "cell_type": "code",
   "execution_count": 18,
   "id": "4f6caafe",
   "metadata": {},
   "outputs": [
    {
     "data": {
      "text/plain": [
       "248"
      ]
     },
     "execution_count": 18,
     "metadata": {},
     "output_type": "execute_result"
    }
   ],
   "source": [
    "with open('clean_data/subfields.json', 'r', encoding='utf-8') as f:\n",
    "    subfields_data = json.load(f)\n",
    "len(subfields_data)"
   ]
  },
  {
   "cell_type": "code",
   "execution_count": 21,
   "id": "d82dd50d",
   "metadata": {},
   "outputs": [
    {
     "data": {
      "text/plain": [
       "['https://openalex.org/T13509',\n",
       " 'https://openalex.org/T12378',\n",
       " 'https://openalex.org/T13366',\n",
       " 'https://openalex.org/T10081',\n",
       " 'https://openalex.org/T14183',\n",
       " 'https://openalex.org/T14419',\n",
       " 'https://openalex.org/T13972',\n",
       " 'https://openalex.org/T14239',\n",
       " 'https://openalex.org/T10019',\n",
       " 'https://openalex.org/T12509',\n",
       " 'https://openalex.org/T11508',\n",
       " 'https://openalex.org/T12123',\n",
       " 'https://openalex.org/T11653',\n",
       " 'https://openalex.org/T13744',\n",
       " 'https://openalex.org/T10517',\n",
       " 'https://openalex.org/T11365',\n",
       " 'https://openalex.org/T14180',\n",
       " 'https://openalex.org/T14138',\n",
       " 'https://openalex.org/T11903',\n",
       " 'https://openalex.org/T12276',\n",
       " 'https://openalex.org/T14030',\n",
       " 'https://openalex.org/T12544']"
      ]
     },
     "execution_count": 21,
     "metadata": {},
     "output_type": "execute_result"
    }
   ],
   "source": [
    "subfields_data[2].get('topics')"
   ]
  },
  {
   "cell_type": "code",
   "execution_count": 22,
   "id": "5da5d4db",
   "metadata": {},
   "outputs": [
    {
     "data": {
      "text/plain": [
       "248"
      ]
     },
     "execution_count": 22,
     "metadata": {},
     "output_type": "execute_result"
    }
   ],
   "source": [
    "subfields_topics_relation = [\n",
    "    {\n",
    "        'subfields_id_param': subfield.get('id'),\n",
    "        'topics_ids_param': subfield.get('topics'),\n",
    "    } for subfield in subfields_data\n",
    "]\n",
    "len(subfields_topics_relation)"
   ]
  },
  {
   "cell_type": "code",
   "execution_count": 24,
   "id": "98782588",
   "metadata": {},
   "outputs": [
    {
     "data": {
      "text/plain": [
       "{'subfields_id_param': 'https://openalex.org/subfields/1402',\n",
       " 'topics_ids_param': ['https://openalex.org/T13509',\n",
       "  'https://openalex.org/T12378',\n",
       "  'https://openalex.org/T13366',\n",
       "  'https://openalex.org/T10081',\n",
       "  'https://openalex.org/T14183',\n",
       "  'https://openalex.org/T14419',\n",
       "  'https://openalex.org/T13972',\n",
       "  'https://openalex.org/T14239',\n",
       "  'https://openalex.org/T10019',\n",
       "  'https://openalex.org/T12509',\n",
       "  'https://openalex.org/T11508',\n",
       "  'https://openalex.org/T12123',\n",
       "  'https://openalex.org/T11653',\n",
       "  'https://openalex.org/T13744',\n",
       "  'https://openalex.org/T10517',\n",
       "  'https://openalex.org/T11365',\n",
       "  'https://openalex.org/T14180',\n",
       "  'https://openalex.org/T14138',\n",
       "  'https://openalex.org/T11903',\n",
       "  'https://openalex.org/T12276',\n",
       "  'https://openalex.org/T14030',\n",
       "  'https://openalex.org/T12544']}"
      ]
     },
     "execution_count": 24,
     "metadata": {},
     "output_type": "execute_result"
    }
   ],
   "source": [
    "subfields_topics_relation[2]"
   ]
  },
  {
   "cell_type": "code",
   "execution_count": 25,
   "id": "6d878a21",
   "metadata": {},
   "outputs": [
    {
     "name": "stdout",
     "output_type": "stream",
     "text": [
      "✅ Connection successful!\n",
      "\n",
      "Batch import complete.\n",
      "  - 3655 relationships created/merged.\n"
     ]
    }
   ],
   "source": [
    "try:\n",
    "    with GraphDatabase.driver(URI, auth=AUTH) as driver:\n",
    "        driver.verify_connectivity()\n",
    "        print(\"✅ Connection successful!\")\n",
    "        \n",
    "        with driver.session() as session:\n",
    "\n",
    "            try:\n",
    "                result = session.run(\"\"\"\n",
    "                    UNWIND $data_list AS item\n",
    "                    \n",
    "                    MATCH (s:SubField {id: item.subfields_id_param})\n",
    "                    \n",
    "                    WITH s, item.topics_ids_param AS topic_ids\n",
    "                    UNWIND topic_ids AS topic_id\n",
    "                    \n",
    "                    MATCH (t:Topic {id: topic_id})\n",
    "                    \n",
    "                    MERGE (t)-[r:PART_OF]->(s)\n",
    "                    \n",
    "                    RETURN count(r) AS relationships_created\n",
    "                    \"\"\", data_list=subfields_topics_relation)\n",
    "                \n",
    "                summary = result.single()\n",
    "                print(f\"\\nBatch import complete.\")\n",
    "                print(f\"  - {summary['relationships_created']} relationships created/merged.\")\n",
    "\n",
    "            except Exception as e:\n",
    "                # This will fail if a :Domain or :Field node is not found\n",
    "                print(f\"Failed to import batch: {e}\")\n",
    "        \n",
    "except Exception as e:\n",
    "    print(f\"❌ An error occurred: {e}\")"
   ]
  },
  {
   "cell_type": "code",
   "execution_count": 26,
   "id": "a57017b4",
   "metadata": {},
   "outputs": [],
   "source": [
    "query = \"\"\"\n",
    "MATCH (t:Topic)-[:PART_OF]->(s:SubField {name: 'Control and Systems Engineering'})\n",
    "RETURN t.name AS name, t.description AS description\n",
    "\"\"\"\n",
    "\n",
    "try:\n",
    "    with GraphDatabase.driver(URI, auth=AUTH) as driver:\n",
    "        driver.verify_connectivity()\n",
    "\n",
    "        records, summary, keys = driver.execute_query(query, database_=\"neo4j\")\n",
    "                \n",
    "except Exception as e:\n",
    "    print(f\"❌ An error occurred: {e}\")"
   ]
  },
  {
   "cell_type": "code",
   "execution_count": 27,
   "id": "70aa9865",
   "metadata": {},
   "outputs": [
    {
     "name": "stdout",
     "output_type": "stream",
     "text": [
      "[\n",
      "    {\n",
      "        \"name\": \"Magnetic Bearings and Levitation Dynamics\",\n",
      "        \"description\": \"This cluster of papers focuses on the dynamics, control, and applications of magnetic levitation systems, including maglev trains, bearingless motors, active magnetic bearings, spacecraft attitude control using control moment gyros, vibration analysis of rotor systems, and fault diagnosis in rotating machinery.\"\n",
      "    },\n",
      "    {\n",
      "        \"name\": \"Extremum Seeking Control Systems\",\n",
      "        \"description\": \"This cluster of papers focuses on extremum seeking control, a method for optimizing the performance of dynamic systems by iteratively adjusting control inputs to seek the extremum of a cost function. The papers cover various aspects such as stability analysis, adaptive control, stochastic optimization, and applications in fields like wind energy, bioreactors, and autonomous vehicles.\"\n",
      "    },\n",
      "    {\n",
      "        \"name\": \"Human Motion and Animation\",\n",
      "        \"description\": \"This cluster of papers explores various techniques for synthesizing and controlling human-like motion, including character animation, inverse kinematics, interactive control, physics-based animation, and virtual reality applications. It covers topics such as deep learning frameworks for motion synthesis, efficient retrieval of motion capture data, real-time motion retargeting, and the use of AI in virtual environments.\"\n",
      "    },\n",
      "    {\n",
      "        \"name\": \"Real-time simulation and control systems\",\n",
      "        \"description\": \"This cluster of papers focuses on real-time simulation technologies for power systems, with an emphasis on Hardware-in-the-Loop (HIL) simulation, FPGA-based emulation, and digital simulation of power electronics, electrical systems, and renewable energy applications. The papers cover topics such as control systems, electric drives, and smart grid development.\"\n",
      "    },\n",
      "    {\n",
      "        \"name\": \"Wireless Sensor Networks and IoT\",\n",
      "        \"description\": \"This cluster of papers focuses on the application of wireless sensor networks, Internet of Things, and related technologies in various domains such as smart home systems, urban transportation, remote monitoring, and data mining. It also explores the use of neural network algorithms and fuzzy analytic hierarchy process in these applications.\"\n",
      "    },\n",
      "    {\n",
      "        \"name\": \"Power Systems Fault Detection\",\n",
      "        \"description\": \"This cluster of papers focuses on the development and implementation of adaptive protection schemes for microgrids with high penetration of distributed generation. The research covers topics such as fault detection, relay coordination, optimal protection coordination, fault location using wavelet transform and artificial neural network, and the impact of distributed generation on protective device coordination.\"\n",
      "    },\n",
      "    {\n",
      "        \"name\": \"Stability and Control of Uncertain Systems\",\n",
      "        \"description\": \"This cluster of papers focuses on the modeling, optimization, and control of networked control systems, covering topics such as stability analysis, event-triggered control, time-delay systems, robust control, switched systems, H8 control, fuzzy control, distributed control, and communication constraints.\"\n",
      "    },\n",
      "    {\n",
      "        \"name\": \"Mining Techniques and Economics\",\n",
      "        \"description\": \"This cluster of papers focuses on the application of operations research, optimization algorithms, and stochastic modeling to address various challenges in mine planning, particularly in the context of open pit mining. The topics covered include production scheduling, truck dispatching, equipment selection, and strategic planning, with a strong emphasis on addressing uncertainty and geological variability.\"\n",
      "    },\n",
      "    {\n",
      "        \"name\": \"Traffic control and management\",\n",
      "        \"description\": \"This cluster of papers focuses on the modeling and control of traffic flow systems, including microscopic simulation, cooperative adaptive cruise control, connected vehicles, traffic signal control, platooning, macroscopic fundamental diagram, intelligent transportation systems, vehicle dynamics model, and reinforcement learning.\"\n",
      "    },\n",
      "    {\n",
      "        \"name\": \"Simulation and Modeling Applications\",\n",
      "        \"description\": \"This cluster of papers focuses on the simulation and optimization of industrial processes, including the use of virtual reality, training systems, network simulation, collision detection, and tactical communication. It covers topics such as Flexsim, modeling, and industrial enterprise applications.\"\n",
      "    },\n",
      "    {\n",
      "        \"name\": \"Advanced Control Systems Optimization\",\n",
      "        \"description\": \"This cluster of papers focuses on the application of Model Predictive Control (MPC) in industrial processes, covering topics such as optimization, robust control, stability analysis, and real-time implementation. It explores the use of MPC for handling nonlinear systems, distributed control strategies, and its application in various industrial settings.\"\n",
      "    },\n",
      "    {\n",
      "        \"name\": \"Fault Diagnosis in Complex Systems\",\n",
      "        \"description\": \"This cluster of papers focuses on fault diagnosis in complex systems, particularly in the aerospace domain. It covers topics such as sequential testing algorithms, hidden Markov models, testability analysis, built-in test (BIT), dynamic multiple fault diagnosis, system health management, and avionics maintenance.\"\n",
      "    },\n",
      "    {\n",
      "        \"name\": \"Optimization and Mathematical Programming\",\n",
      "        \"description\": \"This cluster of papers focuses on the optimization of multi-objective transportation problems, particularly in the context of supply chain management and aggregate production planning. It explores the application of fuzzy goal programming, genetic algorithms, and metaheuristic approaches to address challenges such as fixed charge transportation, sustainable development, and uncertainty in decision-making. The research also delves into techniques like linear fractional programming and intuitionistic fuzzy logic to enhance the efficiency and robustness of transportation problem solutions.\"\n",
      "    },\n",
      "    {\n",
      "        \"name\": \"Dynamics and Control of Mechanical Systems\",\n",
      "        \"description\": \"This cluster of papers focuses on the dynamics and control of multibody mechanical systems, with an emphasis on flexible manipulators, contact force models, clearance joints, crane systems, input shaping control, friction models, rigid-body dynamics, adaptive control, and spatial joints.\"\n",
      "    },\n",
      "    {\n",
      "        \"name\": \"Embedded Systems and FPGA Design\",\n",
      "        \"description\": \"This cluster of papers focuses on embedded systems, data acquisition, and control applications, including FPGA-based solutions, Internet of Things (IoT), remote monitoring, web servers, and real-time applications. It covers topics such as sensor networks, high-speed data transmission, and the development of systems for industrial parameters monitoring.\"\n",
      "    },\n",
      "    {\n",
      "        \"name\": \"Advanced Control Systems Design\",\n",
      "        \"description\": \"This cluster of papers focuses on the analysis, design, and application of fractional order control systems, particularly emphasizing PID controller tuning, model reduction, stability analysis using Lyapunov functions, and robust stability for industrial automation. It also explores the use of particle swarm optimization in optimizing PID controllers and the application of fractional order control in discrete-time systems.\"\n",
      "    },\n",
      "    {\n",
      "        \"name\": \"Process Optimization and Integration\",\n",
      "        \"description\": \"This cluster of papers covers the state-of-the-art in process optimization under uncertainty, focusing on areas such as process intensification, scheduling, distillation, supply chain optimization, and the application of mathematical programming techniques. It also explores energy efficiency, water network synthesis, and sustainability metrics in the context of chemical processes.\"\n",
      "    },\n",
      "    {\n",
      "        \"name\": \"Advanced Algorithms and Applications\",\n",
      "        \"description\": \"This cluster of papers focuses on the application of control systems, neural networks, and advanced algorithms in various domains such as industrial processes, environmental monitoring, networked manufacturing, and robotic systems. The research spans topics like PID control, support vector machines, fuzzy logic, genetic algorithms, wireless sensor networks, remote sensing, and Internet of Things.\"\n",
      "    },\n",
      "    {\n",
      "        \"name\": \"Robot Manipulation and Learning\",\n",
      "        \"description\": \"This cluster of papers focuses on robotic grasping, learning from demonstration, deep learning for object pose estimation, human-robot collaboration, and sensor-based robot systems. It explores topics such as dynamical movement primitives, impedance control, and safe interaction between humans and robots.\"\n",
      "    },\n",
      "    {\n",
      "        \"name\": \"Elevator Systems and Control\",\n",
      "        \"description\": \"This cluster of papers focuses on the optimization of elevator traffic control systems, including group scheduling, energy efficiency, and simulation-based approaches. It explores the use of genetic algorithms, fuzzy logic, and IoT technology in supervisory control and addresses escalator-related injuries.\"\n",
      "    },\n",
      "    {\n",
      "        \"name\": \"Piezoelectric Actuators and Control\",\n",
      "        \"description\": \"This cluster of papers focuses on the modeling, identification, and control of hysteresis and creep in nanopositioning systems, particularly utilizing piezoelectric actuators and flexure-based mechanisms. The research addresses challenges related to high-speed micro/nanomanipulation, feedback control strategies, and the development of smart actuators for precise positioning.\"\n",
      "    },\n",
      "    {\n",
      "        \"name\": \"Military Strategy and Technology\",\n",
      "        \"description\": \"This cluster of papers focuses on the intersection of network centric warfare, organizational design, decision making, and command and control in military operations. It explores topics such as information superiority, autonomous systems, crisis management, and simulation modeling to support decision-making processes in complex military environments.\"\n",
      "    },\n",
      "    {\n",
      "        \"name\": \"Stability and Controllability of Differential Equations\",\n",
      "        \"description\": \"This cluster of papers focuses on the analysis and control of distributed parameter systems, particularly emphasizing boundary control, stability, wave equations, attractors, feedback control, hyperbolic partial differential equations (PDEs), viscoelasticity, global existence, and controllability.\"\n",
      "    },\n",
      "    {\n",
      "        \"name\": \"Advanced Sensor and Control Systems\",\n",
      "        \"description\": \"This cluster of papers focuses on the design and application of intelligent monitoring systems, including topics such as neural network algorithms, wireless sensor networks, temperature monitoring, fuzzy control, PID controllers, real-time monitoring, and data fusion. The research covers a wide range of applications including geotechnical parameters prediction, heating ventilating and air-conditioning systems, wetland landscape classification, urban building energy consumption prediction, weather monitoring, industrial temperature monitoring, fault prediction in power plants, and more.\"\n",
      "    },\n",
      "    {\n",
      "        \"name\": \"Model Reference Adaptive Control in Engineering Systems\",\n",
      "        \"description\": \"This cluster of papers focuses on the application of model reference adaptive control in engineering systems, particularly in the context of small turbojet engines. It explores techniques such as robust fixed point transformations, fuzzy models, intelligent situational control, and genetic algorithms for adaptive control. The cluster also delves into topics related to deep learning, output prediction, and the use of unmanned aerial vehicles for aircraft maintenance.\"\n",
      "    },\n",
      "    {\n",
      "        \"name\": \"Vibration and Dynamic Analysis\",\n",
      "        \"description\": \"This cluster of papers focuses on the analysis and control of axially moving dynamics, including vibration analysis, nonlinear dynamics, and stability analysis of fluid-conveying pipes, cable dynamics, and viscoelastic beams. It also explores parametric resonance, dynamic response, and various control strategies for systems with axially moving components.\"\n",
      "    },\n",
      "    {\n",
      "        \"name\": \"Control and Stability of Dynamical Systems\",\n",
      "        \"description\": \"This cluster of papers focuses on the modeling and control of Port-Hamiltonian systems, with an emphasis on interconnection, damping assignment, passivity-based control, stabilization, controlled Lagrangians, contraction analysis, energy shaping, and their application to nonlinear and mechanical systems.\"\n",
      "    },\n",
      "    {\n",
      "        \"name\": \"Advanced Data Processing Techniques\",\n",
      "        \"description\": \"This cluster of papers focuses on the modeling and control of multidimensional systems, with an emphasis on redundant transmission, fuzzy controller adaptation, fault tolerance, real-time systems, and energy efficiency in various domains such as cyber-physical systems, network traffic analysis, and industrial automation.\"\n",
      "    },\n",
      "    {\n",
      "        \"name\": \"Control Systems and Identification\",\n",
      "        \"description\": \"This cluster of papers covers advances in system identification techniques, including parameter estimation for nonlinear models, data-driven control, model-based control, feedback controllers, state estimation for multivariable systems, and the development of recursive algorithms. The papers also discuss model selection approaches and optimal experiment design for system identification.\"\n",
      "    },\n",
      "    {\n",
      "        \"name\": \"Robotic Mechanisms and Dynamics\",\n",
      "        \"description\": \"This cluster of papers focuses on the kinematic and dynamic analysis, control, optimization, and calibration of robot manipulators, with an emphasis on redundant robots, parallel mechanisms, neural network applications, trajectory planning, workspace analysis, and stiffness optimization.\"\n",
      "    },\n",
      "    {\n",
      "        \"name\": \"Applications of Programmable Logic Controllers (PLCs)\",\n",
      "        \"description\": \"This cluster of papers focuses on the diverse applications of Programmable Logic Controllers (PLCs) in industrial automation, including SCADA systems, wireless communication, machine vision for waste recycling, and remote monitoring and control. It also explores the use of OPC technology for real-time data exchange and the implementation of automation in various manufacturing processes.\"\n",
      "    },\n",
      "    {\n",
      "        \"name\": \"Pulsed Power Technology Applications\",\n",
      "        \"description\": \"This cluster of papers focuses on the technology and applications of pulsed power, including electron beam surface modification, high current systems, solid-state generators, high-power microwave sources, semiconductor switches, plasma sources, and radiography systems.\"\n",
      "    },\n",
      "    {\n",
      "        \"name\": \"Smart Grid Security and Resilience\",\n",
      "        \"description\": \"This cluster of papers focuses on the security challenges in smart grid systems, including cyber-physical attacks, false data injection attacks, communication network vulnerabilities, SCADA system security, privacy concerns, and detection of various types of attacks such as denial-of-service attacks. The papers also explore the application of machine learning for attack detection and mitigation.\"\n",
      "    },\n",
      "    {\n",
      "        \"name\": \"Industrial Technology and Control Systems\",\n",
      "        \"description\": \"This cluster of papers focuses on the development and application of intelligent control systems for various industrial processes, including kiln operation, hydraulic systems, and product design. It encompasses topics such as neural networks, virtual prototyping, knowledge management, and simulation technology to optimize process control and decision-making in complex manufacturing environments.\"\n",
      "    },\n",
      "    {\n",
      "        \"name\": \"Control and Dynamics of Mobile Robots\",\n",
      "        \"description\": \"This cluster of papers focuses on the control and navigation of nonholonomic mobile robots, addressing challenges such as adaptive control, trajectory tracking, nonholonomic constraints, feedback control, dynamic modeling, path planning, sliding mode control, omnidirectional robots, robust stabilization, and the use of neural networks for control.\"\n",
      "    },\n",
      "    {\n",
      "        \"name\": \"Fault Detection and Control Systems\",\n",
      "        \"description\": \"This cluster of papers focuses on the application of various data-driven and statistical techniques for process fault detection and diagnosis in industrial settings. It covers topics such as process monitoring, fault isolation, soft sensors, model-based diagnosis, and the use of machine learning in analyzing and improving industrial processes.\"\n",
      "    },\n",
      "    {\n",
      "        \"name\": \"Iterative Learning Control Systems\",\n",
      "        \"description\": \"This cluster of papers focuses on Iterative Learning Control (ILC) and its applications in engineering practice. It covers topics such as repetitive control, model-free adaptive control, data-driven control, motion control, robotic systems, feed drive systems, batch processes, nonlinear systems, and convergence analysis.\"\n",
      "    },\n",
      "    {\n",
      "        \"name\": \"Systems Engineering Methodologies and Applications\",\n",
      "        \"description\": \"This cluster of papers focuses on the engineering and design principles related to System of Systems, including topics such as Complex Adaptive Systems, Model-Based Systems Engineering, Value-Driven Design, Uncertainty Mitigation, Multi-Attribute Tradespace Exploration, Socio-Technical Systems, Flexibility in System Design, Enterprise Transformation, Architecting Complex Systems, and Interdisciplinary System Engineering.\"\n",
      "    },\n",
      "    {\n",
      "        \"name\": \"Thermal Analysis in Power Transmission\",\n",
      "        \"description\": \"This cluster of papers focuses on the implementation, impact, and optimization of dynamic line rating systems for power networks. It covers topics such as thermal analysis of transmission lines, reliability impact of wind power integration, real-time monitoring, ampacity forecasting, network topology optimization, and the use of battery energy storage. The research aims to enhance the capacity and reliability of power networks through innovative approaches to dynamic line rating.\"\n",
      "    },\n",
      "    {\n",
      "        \"name\": \"Advanced Research in Systems and Signal Processing\",\n",
      "        \"description\": \"This cluster of papers focuses on the integration of cyber, physical, and social systems, with an emphasis on decision making, urban computing, autodyne sensors, machine learning, data mining, transportation systems, information management, parallel computing, and infrastructure development.\"\n",
      "    },\n",
      "    {\n",
      "        \"name\": \"Adaptive Control of Nonlinear Systems\",\n",
      "        \"description\": \"This cluster of papers focuses on advanced control and stabilization techniques for robotic systems, particularly emphasizing adaptive control, sliding mode control, disturbance observer-based control, and finite-time stability in the context of nonlinear systems. The applications range from quadrotors and aerial vehicles to robotic manipulators, with a strong emphasis on addressing uncertainties and disturbances in the control process.\"\n",
      "    },\n",
      "    {\n",
      "        \"name\": \"Machine Fault Diagnosis Techniques\",\n",
      "        \"description\": \"This cluster of papers focuses on machine fault diagnosis and prognostics using methods such as Empirical Mode Decomposition, wavelet transform, and deep learning. It covers topics like condition monitoring, vibration analysis, and remaining useful life estimation for rotating machinery. The research explores the application of machine learning techniques, neural networks, and signal processing in fault detection and health management of various mechanical systems.\"\n",
      "    },\n",
      "    {\n",
      "        \"name\": \"Robotics and Automated Systems\",\n",
      "        \"description\": \"This cluster of papers encompasses a wide range of research on cloud robotics, automation, and related technologies. It covers topics such as cloud robotics architecture, challenges, and applications, internet of robotic things, cognitive infocommunications, service robots in cloud computing, virtual reality for robotics, and the integration of artificial intelligence in robotic systems. The research also explores the use of cloud robotics in smart city applications and emphasizes human-robot interaction.\"\n",
      "    },\n",
      "    {\n",
      "        \"name\": \"Microgrid Control and Optimization\",\n",
      "        \"description\": \"This cluster of papers focuses on the control, synchronization, and management of microgrid systems, with an emphasis on distributed power generation, energy storage technologies, and grid integration of renewable energy sources. The research covers various aspects such as voltage and frequency control, decentralized control strategies, virtual synchronous generators, and the application of power electronics in smart grid environments.\"\n",
      "    }\n",
      "]\n"
     ]
    }
   ],
   "source": [
    "print(json.dumps([rec.data() for rec in records], indent=4))"
   ]
  },
  {
   "cell_type": "code",
   "execution_count": null,
   "id": "c5cf5ffa",
   "metadata": {},
   "outputs": [],
   "source": []
  }
 ],
 "metadata": {
  "kernelspec": {
   "display_name": "AV-references-cleaning (3.11.14)",
   "language": "python",
   "name": "python3"
  },
  "language_info": {
   "codemirror_mode": {
    "name": "ipython",
    "version": 3
   },
   "file_extension": ".py",
   "mimetype": "text/x-python",
   "name": "python",
   "nbconvert_exporter": "python",
   "pygments_lexer": "ipython3",
   "version": "3.11.14"
  }
 },
 "nbformat": 4,
 "nbformat_minor": 5
}
