{
 "cells": [
  {
   "cell_type": "code",
   "execution_count": 1,
   "id": "2cbe95ce",
   "metadata": {},
   "outputs": [
    {
     "data": {
      "text/plain": [
       "True"
      ]
     },
     "execution_count": 1,
     "metadata": {},
     "output_type": "execute_result"
    }
   ],
   "source": [
    "from neo4j import GraphDatabase\n",
    "import json\n",
    "import os\n",
    "import random\n",
    "from dotenv import load_dotenv\n",
    "\n",
    "load_dotenv(override=True)"
   ]
  },
  {
   "cell_type": "code",
   "execution_count": 2,
   "id": "ec93768c",
   "metadata": {},
   "outputs": [],
   "source": [
    "def snake_to_camel(snake_str):\n",
    "    parts = snake_str.split('_')\n",
    "    \n",
    "    if len(parts) <= 1:\n",
    "        return snake_str\n",
    "    camel_case_str = parts[0] + \"\".join(part.capitalize() for part in parts[1:])\n",
    "    \n",
    "    return camel_case_str"
   ]
  },
  {
   "cell_type": "code",
   "execution_count": 3,
   "id": "f5e86437",
   "metadata": {},
   "outputs": [],
   "source": [
    "URI = os.getenv('NEO4J_CONNECTION_URI')\n",
    "AUTH = (os.getenv('NEO4J_USERNAME'), os.getenv('NEO4J_PASSWORD'))"
   ]
  },
  {
   "cell_type": "code",
   "execution_count": 17,
   "id": "f04415be",
   "metadata": {},
   "outputs": [
    {
     "name": "stdout",
     "output_type": "stream",
     "text": [
      "That is right.\n"
     ]
    }
   ],
   "source": [
    "try:\n",
    "    with GraphDatabase.driver(URI, auth=AUTH) as driver:\n",
    "        with driver.session() as session:\n",
    "            result = session.run(\"RETURN 'That is right.' AS message\")\n",
    "            record = result.single()\n",
    "            if record:\n",
    "                print(record[\"message\"])\n",
    "            else:\n",
    "                print(\"Query returned no result.\")\n",
    "except Exception as e:\n",
    "    print(f\"Connection or query failed: {e}\")"
   ]
  },
  {
   "cell_type": "code",
   "execution_count": 9,
   "id": "dab7bf25",
   "metadata": {},
   "outputs": [
    {
     "data": {
      "text/plain": [
       "['papers',\n",
       " 'funders',\n",
       " 'topics',\n",
       " 'authors',\n",
       " 'domains.json',\n",
       " 'fields.json',\n",
       " 'institutions',\n",
       " 'sources',\n",
       " 'subfields.json']"
      ]
     },
     "execution_count": 9,
     "metadata": {},
     "output_type": "execute_result"
    }
   ],
   "source": [
    "os.listdir('clean_data')"
   ]
  },
  {
   "cell_type": "code",
   "execution_count": 11,
   "id": "773406f5",
   "metadata": {},
   "outputs": [
    {
     "data": {
      "text/plain": [
       "4"
      ]
     },
     "execution_count": 11,
     "metadata": {},
     "output_type": "execute_result"
    }
   ],
   "source": [
    "with open('clean_data/domains.json', 'r', encoding='utf-8') as f:\n",
    "    domains_data = json.load(f)\n",
    "len(domains_data)"
   ]
  },
  {
   "cell_type": "code",
   "execution_count": 13,
   "id": "18c0ce62",
   "metadata": {},
   "outputs": [
    {
     "name": "stdout",
     "output_type": "stream",
     "text": [
      "{\n",
      "    \"id\": \"https://openalex.org/domains/3\",\n",
      "    \"name\": \"Physical Sciences\",\n",
      "    \"description\": \"branch of natural science that studies non-living systems\",\n",
      "    \"fields\": [\n",
      "        \"https://openalex.org/fields/15\",\n",
      "        \"https://openalex.org/fields/16\",\n",
      "        \"https://openalex.org/fields/17\",\n",
      "        \"https://openalex.org/fields/19\",\n",
      "        \"https://openalex.org/fields/21\",\n",
      "        \"https://openalex.org/fields/22\",\n",
      "        \"https://openalex.org/fields/23\",\n",
      "        \"https://openalex.org/fields/25\",\n",
      "        \"https://openalex.org/fields/26\",\n",
      "        \"https://openalex.org/fields/31\"\n",
      "    ],\n",
      "    \"worksCount\": 73237366,\n",
      "    \"citedByCount\": 770120022\n",
      "}\n"
     ]
    }
   ],
   "source": [
    "print(json.dumps(domains_data[0], indent=4))"
   ]
  },
  {
   "cell_type": "code",
   "execution_count": 14,
   "id": "7c37b01a",
   "metadata": {},
   "outputs": [],
   "source": [
    "def import_domains(driver, domains_list):\n",
    "    print(f\"Starting import of {len(domains_list)} domains...\")\n",
    "    \n",
    "    with driver.session() as session:\n",
    "\n",
    "        total_imported = 0\n",
    "        for domain in domains_list:\n",
    "            props = domain.copy()\n",
    "            \n",
    "            if 'fields' in props:\n",
    "                del props['fields']\n",
    "            \n",
    "            domain_id = props.pop('id', None)\n",
    "\n",
    "            if not domain_id:\n",
    "                print(f\"Skipping domain, missing 'id': {domain}\")\n",
    "                continue\n",
    "\n",
    "            try:\n",
    "                session.run(\"\"\"\n",
    "                    MERGE (d:Domain {id: $id_param})\n",
    "                    SET d += $props_param\n",
    "                    \"\"\", id_param=domain_id, props_param=props)\n",
    "                total_imported += 1\n",
    "            except Exception as e:\n",
    "                print(f\"Failed to import domain {domain_id}: {e}\")\n",
    "\n",
    "    print(f\"\\nImport complete. {total_imported} domains merged/updated.\")"
   ]
  },
  {
   "cell_type": "code",
   "execution_count": 15,
   "id": "661d2f98",
   "metadata": {},
   "outputs": [
    {
     "name": "stdout",
     "output_type": "stream",
     "text": [
      "✅ Connection successful!\n",
      "Starting import of 4 domains...\n",
      "\n",
      "Import complete. 4 domains merged/updated.\n"
     ]
    }
   ],
   "source": [
    "try:\n",
    "    with GraphDatabase.driver(URI, auth=AUTH) as driver:\n",
    "        driver.verify_connectivity()\n",
    "        print(\"✅ Connection successful!\")\n",
    "        \n",
    "        import_domains(driver, domains_data)\n",
    "        \n",
    "except Exception as e:\n",
    "    print(f\"❌ An error occurred: {e}\")"
   ]
  },
  {
   "cell_type": "code",
   "execution_count": 29,
   "id": "27499c5a",
   "metadata": {},
   "outputs": [],
   "source": [
    "query = \"\"\"\n",
    "MATCH (d:Domain)\n",
    "RETURN d.name AS name, d.description AS description, d.worksCount AS worksCount\n",
    "\"\"\"\n",
    "\n",
    "try:\n",
    "    with GraphDatabase.driver(URI, auth=AUTH) as driver:\n",
    "        driver.verify_connectivity()\n",
    "\n",
    "        records, summary, keys = driver.execute_query(query, database_=\"neo4j\")\n",
    "                \n",
    "except Exception as e:\n",
    "    print(f\"❌ An error occurred: {e}\")"
   ]
  },
  {
   "cell_type": "code",
   "execution_count": 30,
   "id": "8d76a1cc",
   "metadata": {},
   "outputs": [
    {
     "data": {
      "text/plain": [
       "[{'name': 'Physical Sciences',\n",
       "  'description': 'branch of natural science that studies non-living systems',\n",
       "  'worksCount': 73237366},\n",
       " {'name': 'Social Sciences',\n",
       "  'description': 'branch of science focused on societies and the relationships among individuals within those societies',\n",
       "  'worksCount': 64995390},\n",
       " {'name': 'Health Sciences',\n",
       "  'description': 'branch of science focused on human health and disease prevention, diagnosis, treatment, and management',\n",
       "  'worksCount': 43957129},\n",
       " {'name': 'Life Sciences',\n",
       "  'description': 'branch of science that involve the scientific study of life – such as microorganisms, plants, and animals including human beings',\n",
       "  'worksCount': 27536918}]"
      ]
     },
     "execution_count": 30,
     "metadata": {},
     "output_type": "execute_result"
    }
   ],
   "source": [
    "[rec.data() for rec in records]"
   ]
  },
  {
   "cell_type": "code",
   "execution_count": 31,
   "id": "beb5319d",
   "metadata": {},
   "outputs": [
    {
     "data": {
      "text/plain": [
       "26"
      ]
     },
     "execution_count": 31,
     "metadata": {},
     "output_type": "execute_result"
    }
   ],
   "source": [
    "with open('clean_data/fields.json', 'r', encoding='utf-8') as f:\n",
    "    fields_data = json.load(f)\n",
    "len(fields_data)"
   ]
  },
  {
   "cell_type": "code",
   "execution_count": 32,
   "id": "84b89166",
   "metadata": {},
   "outputs": [
    {
     "name": "stdout",
     "output_type": "stream",
     "text": [
      "{\n",
      "    \"id\": \"https://openalex.org/fields/18\",\n",
      "    \"name\": \"Decision Sciences\",\n",
      "    \"description\": \"branch of applied probability theory\",\n",
      "    \"nameAlternatives\": [\n",
      "        \"decision theory\",\n",
      "        \"theory of choice\",\n",
      "        \"operations research\"\n",
      "    ],\n",
      "    \"domainId\": \"https://openalex.org/domains/2\",\n",
      "    \"subfields\": [\n",
      "        \"https://openalex.org/subfields/1800\",\n",
      "        \"https://openalex.org/subfields/1802\",\n",
      "        \"https://openalex.org/subfields/1803\",\n",
      "        \"https://openalex.org/subfields/1804\"\n",
      "    ],\n",
      "    \"worksCount\": 2096477,\n",
      "    \"citedByCount\": 29367741\n",
      "}\n"
     ]
    }
   ],
   "source": [
    "print(json.dumps(fields_data[0], indent=4))"
   ]
  },
  {
   "cell_type": "code",
   "execution_count": 34,
   "id": "5b22b9f8",
   "metadata": {},
   "outputs": [],
   "source": [
    "def import_fields(driver, fields_list):\n",
    "    print(f\"Starting import of {len(fields_list)} fields...\")\n",
    "    \n",
    "    with driver.session() as session:\n",
    "\n",
    "        total_imported = 0\n",
    "        for field in fields_list:\n",
    "            props = field.copy()\n",
    "            \n",
    "            if 'subfields' in props:\n",
    "                del props['subfields']\n",
    "            if 'domainId' in props:\n",
    "                del props['domainId']\n",
    "            \n",
    "            field_id = props.pop('id', None)\n",
    "\n",
    "            if not field_id:\n",
    "                print(f\"Skipping field, missing 'id': {field}\")\n",
    "                continue\n",
    "\n",
    "            try:\n",
    "                session.run(\"\"\"\n",
    "                    MERGE (d:Field {id: $id_param})\n",
    "                    SET d += $props_param\n",
    "                    \"\"\", id_param=field_id, props_param=props)\n",
    "                total_imported += 1\n",
    "            except Exception as e:\n",
    "                print(f\"Failed to import field {fields_list}: {e}\")\n",
    "\n",
    "    print(f\"\\nImport complete. {total_imported} field merged/updated.\")"
   ]
  },
  {
   "cell_type": "code",
   "execution_count": 35,
   "id": "e454f7d2",
   "metadata": {},
   "outputs": [
    {
     "name": "stdout",
     "output_type": "stream",
     "text": [
      "✅ Connection successful!\n",
      "Starting import of 26 fields...\n",
      "\n",
      "Import complete. 26 field merged/updated.\n"
     ]
    }
   ],
   "source": [
    "try:\n",
    "    with GraphDatabase.driver(URI, auth=AUTH) as driver:\n",
    "        driver.verify_connectivity()\n",
    "        print(\"✅ Connection successful!\")\n",
    "        \n",
    "        import_fields(driver, fields_data)\n",
    "        \n",
    "except Exception as e:\n",
    "    print(f\"❌ An error occurred: {e}\")"
   ]
  },
  {
   "cell_type": "code",
   "execution_count": 39,
   "id": "0c65f4d4",
   "metadata": {},
   "outputs": [],
   "source": [
    "query = \"\"\"\n",
    "MATCH (f:Field)\n",
    "RETURN f.name AS name, f.description as description\n",
    "\"\"\"\n",
    "\n",
    "try:\n",
    "    with GraphDatabase.driver(URI, auth=AUTH) as driver:\n",
    "        driver.verify_connectivity()\n",
    "\n",
    "        records, summary, keys = driver.execute_query(query, database_=\"neo4j\")\n",
    "                \n",
    "except Exception as e:\n",
    "    print(f\"❌ An error occurred: {e}\")"
   ]
  },
  {
   "cell_type": "code",
   "execution_count": 44,
   "id": "d0ca0fb7",
   "metadata": {},
   "outputs": [
    {
     "data": {
      "text/plain": [
       "{'name': 'Engineering',\n",
       " 'description': 'practice of using natural science, mathematics, and the engineering design process to solve technical problems'}"
      ]
     },
     "execution_count": 44,
     "metadata": {},
     "output_type": "execute_result"
    }
   ],
   "source": [
    "records[4].data()"
   ]
  },
  {
   "cell_type": "code",
   "execution_count": 4,
   "id": "24823a0f",
   "metadata": {},
   "outputs": [
    {
     "data": {
      "text/plain": [
       "248"
      ]
     },
     "execution_count": 4,
     "metadata": {},
     "output_type": "execute_result"
    }
   ],
   "source": [
    "with open('clean_data/subfields.json', 'r', encoding='utf-8') as f:\n",
    "    subfields_data = json.load(f)\n",
    "len(subfields_data)"
   ]
  },
  {
   "cell_type": "code",
   "execution_count": 49,
   "id": "37cc31e4",
   "metadata": {},
   "outputs": [
    {
     "name": "stdout",
     "output_type": "stream",
     "text": [
      "{\n",
      "    \"id\": \"https://openalex.org/subfields/2103\",\n",
      "    \"name\": \"Fuel Technology\",\n",
      "    \"description\": \"technology used in the extraction, processing and consumption of fuel resources\",\n",
      "    \"nameAlternatives\": [],\n",
      "    \"domainId\": \"https://openalex.org/domains/3\",\n",
      "    \"fieldId\": \"https://openalex.org/fields/21\",\n",
      "    \"topics\": [\n",
      "        \"https://openalex.org/T14428\"\n",
      "    ],\n",
      "    \"worksCount\": 46298,\n",
      "    \"citedByCount\": 107545\n",
      "}\n"
     ]
    }
   ],
   "source": [
    "print(json.dumps(subfields_data[0], indent=4))"
   ]
  },
  {
   "cell_type": "code",
   "execution_count": 3,
   "id": "2cc0c17f",
   "metadata": {},
   "outputs": [],
   "source": [
    "def import_subfields(driver, subfields_list):\n",
    "    print(f\"Starting import of {len(subfields_list)} subfields...\")\n",
    "    \n",
    "    with driver.session() as session:\n",
    "\n",
    "        total_imported = 0\n",
    "        for subfield in subfields_list:\n",
    "            props = subfield.copy()\n",
    "            \n",
    "\n",
    "            if 'fieldId' in props:\n",
    "                del props['fieldId']\n",
    "            if 'domainId' in props:\n",
    "                del props['domainId']\n",
    "            if 'topics' in props:\n",
    "                del props['topics']\n",
    "            \n",
    "            subfield_id = props.pop('id', None)\n",
    "\n",
    "            if not subfield_id:\n",
    "                print(f\"Skipping subfield, missing 'id': {subfield}\")\n",
    "                continue\n",
    "\n",
    "            try:\n",
    "                session.run(\"\"\"\n",
    "                    MERGE (d:SubField {id: $id_param})\n",
    "                    SET d += $props_param\n",
    "                    \"\"\", id_param=subfield_id, props_param=props)\n",
    "                total_imported += 1\n",
    "            except Exception as e:\n",
    "                print(f\"Failed to import field {subfields_list}: {e}\")\n",
    "\n",
    "    print(f\"\\nImport complete. {total_imported} subfields merged/updated.\")"
   ]
  },
  {
   "cell_type": "code",
   "execution_count": 5,
   "id": "b574e662",
   "metadata": {},
   "outputs": [
    {
     "name": "stdout",
     "output_type": "stream",
     "text": [
      "✅ Connection successful!\n",
      "Starting import of 248 subfields...\n",
      "\n",
      "Import complete. 248 subfields merged/updated.\n"
     ]
    }
   ],
   "source": [
    "try:\n",
    "    with GraphDatabase.driver(URI, auth=AUTH) as driver:\n",
    "        driver.verify_connectivity()\n",
    "        print(\"✅ Connection successful!\")\n",
    "        \n",
    "        import_subfields(driver, subfields_data)\n",
    "        \n",
    "except Exception as e:\n",
    "    print(f\"❌ An error occurred: {e}\")"
   ]
  },
  {
   "cell_type": "code",
   "execution_count": 16,
   "id": "588b8077",
   "metadata": {},
   "outputs": [],
   "source": [
    "query = \"\"\"\n",
    "MATCH (s:SubField)\n",
    "RETURN s.name AS name, s.description AS description\n",
    "\"\"\"\n",
    "\n",
    "try:\n",
    "    with GraphDatabase.driver(URI, auth=AUTH) as driver:\n",
    "        driver.verify_connectivity()\n",
    "\n",
    "        records, summary, keys = driver.execute_query(query, database_=\"neo4j\")\n",
    "                \n",
    "except Exception as e:\n",
    "    print(f\"❌ An error occurred: {e}\")"
   ]
  },
  {
   "cell_type": "code",
   "execution_count": 20,
   "id": "6c0ead63",
   "metadata": {},
   "outputs": [
    {
     "data": {
      "text/plain": [
       "{'name': 'Information Systems',\n",
       " 'description': 'academic study of systems with a specific reference to information and the complementary networks of hardware and software that people and organizations use to collect, filter, process, create and also distribute data'}"
      ]
     },
     "execution_count": 20,
     "metadata": {},
     "output_type": "execute_result"
    }
   ],
   "source": [
    "records[50].data()"
   ]
  },
  {
   "cell_type": "code",
   "execution_count": 7,
   "id": "174c040e",
   "metadata": {},
   "outputs": [
    {
     "data": {
      "text/plain": [
       "3655"
      ]
     },
     "execution_count": 7,
     "metadata": {},
     "output_type": "execute_result"
    }
   ],
   "source": [
    "topics_data = []\n",
    "topics_dir = os.path.join('clean_data', 'topics')\n",
    "\n",
    "for fname in os.listdir(topics_dir):\n",
    "    with open(os.path.join(topics_dir, fname), 'r', encoding='utf-8') as f:\n",
    "        topics_data.extend(json.load(f))\n",
    "\n",
    "random.shuffle(topics_data)\n",
    "len(topics_data)"
   ]
  },
  {
   "cell_type": "code",
   "execution_count": 8,
   "id": "058d85e4",
   "metadata": {},
   "outputs": [
    {
     "name": "stdout",
     "output_type": "stream",
     "text": [
      "{\n",
      "    \"id\": \"https://openalex.org/T13722\",\n",
      "    \"name\": \"Ergonomics and Human Factors\",\n",
      "    \"description\": \"This cluster of papers explores the intersection of ergonomics and sustainability, focusing on human-compatible systems, work systems, sustainable development, environmental technology, and the application of agent-based simulation and digitalization. It delves into topics such as green ergonomics, polymer coatings, and the role of human factors in building design for sustainable work activities.\",\n",
      "    \"keywords\": [\n",
      "        \"Ergonomics\",\n",
      "        \"Sustainability\",\n",
      "        \"Human Factors\",\n",
      "        \"Green Ergonomics\",\n",
      "        \"Work Systems\",\n",
      "        \"Sustainable Development\",\n",
      "        \"Environmental Technology\",\n",
      "        \"Agent-Based Simulation\",\n",
      "        \"Digitalization\",\n",
      "        \"Polymer Coatings\"\n",
      "    ],\n",
      "    \"domainId\": \"https://openalex.org/domains/3\",\n",
      "    \"fieldId\": \"https://openalex.org/fields/22\",\n",
      "    \"subfieldId\": \"https://openalex.org/subfields/2204\",\n",
      "    \"worksCount\": 12838,\n",
      "    \"citedByCount\": 64753\n",
      "}\n"
     ]
    }
   ],
   "source": [
    "print(json.dumps(topics_data[0], indent=4))"
   ]
  },
  {
   "cell_type": "code",
   "execution_count": null,
   "id": "d9944687",
   "metadata": {},
   "outputs": [],
   "source": [
    "def import_topics_batch(driver, topics_list, ignore_key):\n",
    "    print(f\"Starting import of {len(topics_list)} topics...\")\n",
    "    \n",
    "    props_list = []\n",
    "    for topic in topics_list:\n",
    "        props = topic.copy()\n",
    "\n",
    "        for key in ignore_key:\n",
    "            if key in props:\n",
    "                del props[key]\n",
    "\n",
    "        topic_id = props.pop('id', None)\n",
    "        if topic_id:\n",
    "            props_list.append({\n",
    "                'id_param': topic_id,\n",
    "                'props_param': props\n",
    "            })\n",
    "\n",
    "\n",
    "    with driver.session() as session:\n",
    "        try:\n",
    "            result = session.run(\"\"\"\n",
    "                UNWIND $props_list AS item\n",
    "                MERGE (t:Topic {id: item.id_param})\n",
    "                SET t += item.props_param\n",
    "                RETURN count(t) AS total_merged\n",
    "                \"\"\", props_list=props_list)\n",
    "            \n",
    "            summary = result.single()\n",
    "            print(f\"Batch import complete. {summary['total_merged']} topics merged/updated.\")\n",
    "\n",
    "        except Exception as e:\n",
    "            print(f\"Failed to import batch: {e}\")"
   ]
  },
  {
   "cell_type": "code",
   "execution_count": null,
   "id": "d25cb972",
   "metadata": {},
   "outputs": [],
   "source": [
    "N_topics = len(topics_data)\n",
    "batch_size = 250\n",
    "\n",
    "try:\n",
    "    with GraphDatabase.driver(URI, auth=AUTH) as driver:\n",
    "        driver.verify_connectivity()\n",
    "        print(\"✅ Connection successful!\")\n",
    "        \n",
    "        count = 1\n",
    "        for i in range(0, N_topics, batch_size):\n",
    "            selected_records = topics_data[i: i+batch_size]\n",
    "            print(f'{count}:')\n",
    "            import_topics_batch(driver, selected_records, [\"domainId\", \"fieldId\", \"subfieldId\"])\n",
    "            count += 1\n",
    "            print(2*'\\n')\n",
    "        \n",
    "except Exception as e:\n",
    "    print(f\"❌ An error occurred: {e}\")"
   ]
  },
  {
   "cell_type": "code",
   "execution_count": 21,
   "id": "1aced7a5",
   "metadata": {},
   "outputs": [],
   "source": [
    "# query = \"\"\"\n",
    "# MATCH (t:Topic)\n",
    "# RETURN t.id AS id\n",
    "# \"\"\"\n",
    "\n",
    "query = \"\"\"\n",
    "MATCH (t:Topic)\n",
    "RETURN t.name AS name, t.description AS description\n",
    "\"\"\"\n",
    "\n",
    "try:\n",
    "    with GraphDatabase.driver(URI, auth=AUTH) as driver:\n",
    "        driver.verify_connectivity()\n",
    "\n",
    "        records, summary, keys = driver.execute_query(query, database_=\"neo4j\")\n",
    "                \n",
    "except Exception as e:\n",
    "    print(f\"❌ An error occurred: {e}\")"
   ]
  },
  {
   "cell_type": "code",
   "execution_count": 22,
   "id": "af682fbc",
   "metadata": {},
   "outputs": [],
   "source": [
    "# len(set([t.data().get('id') for t in records]))"
   ]
  },
  {
   "cell_type": "code",
   "execution_count": 24,
   "id": "a550b854",
   "metadata": {},
   "outputs": [
    {
     "data": {
      "text/plain": [
       "{'name': 'Economic Theory and Institutions',\n",
       " 'description': 'This cluster of papers explores the study of economic institutions, behavior, and evolution, encompassing topics such as institutional economics, evolutionary economics, behavioral economics, market evolution, property rights, macroeconomics, social evolution, neoliberalism, and Darwinism in economics.'}"
      ]
     },
     "execution_count": 24,
     "metadata": {},
     "output_type": "execute_result"
    }
   ],
   "source": [
    "records[16].data()"
   ]
  },
  {
   "cell_type": "code",
   "execution_count": 3,
   "id": "68150273",
   "metadata": {},
   "outputs": [
    {
     "data": {
      "text/plain": [
       "4"
      ]
     },
     "execution_count": 3,
     "metadata": {},
     "output_type": "execute_result"
    }
   ],
   "source": [
    "with open('clean_data/domains.json', 'r', encoding='utf-8') as f:\n",
    "    domains_data = json.load(f)\n",
    "len(domains_data)"
   ]
  },
  {
   "cell_type": "code",
   "execution_count": 4,
   "id": "336ba710",
   "metadata": {},
   "outputs": [
    {
     "data": {
      "text/plain": [
       "{'id': 'https://openalex.org/domains/3',\n",
       " 'name': 'Physical Sciences',\n",
       " 'description': 'branch of natural science that studies non-living systems',\n",
       " 'fields': ['https://openalex.org/fields/15',\n",
       "  'https://openalex.org/fields/16',\n",
       "  'https://openalex.org/fields/17',\n",
       "  'https://openalex.org/fields/19',\n",
       "  'https://openalex.org/fields/21',\n",
       "  'https://openalex.org/fields/22',\n",
       "  'https://openalex.org/fields/23',\n",
       "  'https://openalex.org/fields/25',\n",
       "  'https://openalex.org/fields/26',\n",
       "  'https://openalex.org/fields/31'],\n",
       " 'worksCount': 73237366,\n",
       " 'citedByCount': 770120022}"
      ]
     },
     "execution_count": 4,
     "metadata": {},
     "output_type": "execute_result"
    }
   ],
   "source": [
    "domains_data[0]"
   ]
  },
  {
   "cell_type": "code",
   "execution_count": 5,
   "id": "bc2f1f65",
   "metadata": {},
   "outputs": [],
   "source": [
    "domain_fields_relation = [\n",
    "    {\n",
    "        'domain_id_param': domain.get('id'),\n",
    "        'field_ids_param': domain.get('fields'),\n",
    "    } for domain in domains_data\n",
    "]"
   ]
  },
  {
   "cell_type": "code",
   "execution_count": 7,
   "id": "ce9055ed",
   "metadata": {},
   "outputs": [
    {
     "name": "stdout",
     "output_type": "stream",
     "text": [
      "✅ Connection successful!\n",
      "\n",
      "Batch import complete.\n",
      "  - 26 relationships created/merged.\n"
     ]
    }
   ],
   "source": [
    "try:\n",
    "    with GraphDatabase.driver(URI, auth=AUTH) as driver:\n",
    "        driver.verify_connectivity()\n",
    "        print(\"✅ Connection successful!\")\n",
    "        \n",
    "        with driver.session() as session:\n",
    "\n",
    "            try:\n",
    "                result = session.run(\"\"\"\n",
    "                    UNWIND $data_list AS item\n",
    "                    \n",
    "                    // 1. Find the existing Domain (fast due to constraint)\n",
    "                    MATCH (d:Domain {id: item.domain_id_param})\n",
    "                    \n",
    "                    // 2. Unwind the list of field IDs for this domain\n",
    "                    WITH d, item.field_ids_param AS field_ids\n",
    "                    UNWIND field_ids AS field_id\n",
    "                    \n",
    "                    // 3. Find the existing Field (fast due to constraint)\n",
    "                    MATCH (f:Field {id: field_id})\n",
    "                    \n",
    "                    // 4. Create the relationship (MERGE avoids duplicates)\n",
    "                    MERGE (f)-[r:PART_OF]->(d)\n",
    "                    \n",
    "                    RETURN count(r) AS relationships_created\n",
    "                    \"\"\", data_list=domain_fields_relation)\n",
    "                \n",
    "                summary = result.single()\n",
    "                print(f\"\\nBatch import complete.\")\n",
    "                print(f\"  - {summary['relationships_created']} relationships created/merged.\")\n",
    "\n",
    "            except Exception as e:\n",
    "                # This will fail if a :Domain or :Field node is not found\n",
    "                print(f\"Failed to import batch: {e}\")\n",
    "                print(\"NOTE: This query assumes all :Domain and :Field nodes already exist.\")\n",
    "        \n",
    "except Exception as e:\n",
    "    print(f\"❌ An error occurred: {e}\")"
   ]
  },
  {
   "cell_type": "code",
   "execution_count": 10,
   "id": "a6a37f56",
   "metadata": {},
   "outputs": [],
   "source": [
    "query = \"\"\"\n",
    "MATCH (f:Field)-[:PART_OF]->(d:Domain {name: 'Physical Sciences'})\n",
    "RETURN f.name AS field_name, f.description AS description\n",
    "\"\"\"\n",
    "\n",
    "try:\n",
    "    with GraphDatabase.driver(URI, auth=AUTH) as driver:\n",
    "        driver.verify_connectivity()\n",
    "\n",
    "        records, summary, keys = driver.execute_query(query, database_=\"neo4j\")\n",
    "                \n",
    "except Exception as e:\n",
    "    print(f\"❌ An error occurred: {e}\")"
   ]
  },
  {
   "cell_type": "code",
   "execution_count": 11,
   "id": "7e1686c9",
   "metadata": {},
   "outputs": [
    {
     "data": {
      "text/plain": [
       "[{'field_name': 'Physics and Astronomy',\n",
       "  'description': 'study of matter and its motion, along with related concepts such as energy and force'},\n",
       " {'field_name': 'Mathematics',\n",
       "  'description': 'area of knowledge that includes the topics of numbers, formulas and related structures, shapes and the spaces in which they are contained, and quantities and their changes'},\n",
       " {'field_name': 'Materials Science',\n",
       "  'description': 'research, discovery and design of physical materials (especially solids)'},\n",
       " {'field_name': 'Environmental Science',\n",
       "  'description': 'interdisciplinary field that studies human interaction with the environment'},\n",
       " {'field_name': 'Engineering',\n",
       "  'description': 'practice of using natural science, mathematics, and the engineering design process to solve technical problems'},\n",
       " {'field_name': 'Energy',\n",
       "  'description': 'study of energy in physical systems, its sources, technology, management, and impact on sustainability'},\n",
       " {'field_name': 'Earth and Planetary Sciences',\n",
       "  'description': 'all fields of natural science related to the planet Earth and other planets'},\n",
       " {'field_name': 'Computer Science', 'description': 'study of computation'},\n",
       " {'field_name': 'Chemistry',\n",
       "  'description': 'branch of physical science concerned with the composition, structure and properties of matter'},\n",
       " {'field_name': 'Chemical Engineering',\n",
       "  'description': 'branch of science that applies physical sciences and life sciences together with applied mathematics and economics to produce, transform, transport, and properly use chemicals, materials and energy'}]"
      ]
     },
     "execution_count": 11,
     "metadata": {},
     "output_type": "execute_result"
    }
   ],
   "source": [
    "[rec.data() for rec in records]"
   ]
  },
  {
   "cell_type": "code",
   "execution_count": 3,
   "id": "7a8dbaa5",
   "metadata": {},
   "outputs": [
    {
     "data": {
      "text/plain": [
       "26"
      ]
     },
     "execution_count": 3,
     "metadata": {},
     "output_type": "execute_result"
    }
   ],
   "source": [
    "with open('clean_data/fields.json', 'r', encoding='utf-8') as f:\n",
    "    fields_data = json.load(f)\n",
    "len(fields_data)"
   ]
  },
  {
   "cell_type": "code",
   "execution_count": 4,
   "id": "b1bde9af",
   "metadata": {},
   "outputs": [
    {
     "data": {
      "text/plain": [
       "{'id': 'https://openalex.org/fields/19',\n",
       " 'name': 'Earth and Planetary Sciences',\n",
       " 'description': 'all fields of natural science related to the planet Earth and other planets',\n",
       " 'nameAlternatives': ['geosciences', 'planetary sciences'],\n",
       " 'domainId': 'https://openalex.org/domains/3',\n",
       " 'subfields': ['https://openalex.org/subfields/1902',\n",
       "  'https://openalex.org/subfields/1904',\n",
       "  'https://openalex.org/subfields/1906',\n",
       "  'https://openalex.org/subfields/1907',\n",
       "  'https://openalex.org/subfields/1908',\n",
       "  'https://openalex.org/subfields/1910',\n",
       "  'https://openalex.org/subfields/1911',\n",
       "  'https://openalex.org/subfields/1912'],\n",
       " 'worksCount': 4334720,\n",
       " 'citedByCount': 65830936}"
      ]
     },
     "execution_count": 4,
     "metadata": {},
     "output_type": "execute_result"
    }
   ],
   "source": [
    "fields_data[16]"
   ]
  },
  {
   "cell_type": "code",
   "execution_count": 5,
   "id": "ab046a1f",
   "metadata": {},
   "outputs": [
    {
     "data": {
      "text/plain": [
       "26"
      ]
     },
     "execution_count": 5,
     "metadata": {},
     "output_type": "execute_result"
    }
   ],
   "source": [
    "fields_subfields_relation = [\n",
    "    {\n",
    "        'field_id_param': field.get('id'),\n",
    "        'subfield_ids_param': field.get('subfields'),\n",
    "    } for field in fields_data\n",
    "]\n",
    "len(fields_subfields_relation)"
   ]
  },
  {
   "cell_type": "code",
   "execution_count": 8,
   "id": "6bd5c91d",
   "metadata": {},
   "outputs": [
    {
     "name": "stdout",
     "output_type": "stream",
     "text": [
      "✅ Connection successful!\n",
      "\n",
      "Batch import complete.\n",
      "  - 248 relationships created/merged.\n"
     ]
    }
   ],
   "source": [
    "try:\n",
    "    with GraphDatabase.driver(URI, auth=AUTH) as driver:\n",
    "        driver.verify_connectivity()\n",
    "        print(\"✅ Connection successful!\")\n",
    "        \n",
    "        with driver.session() as session:\n",
    "\n",
    "            try:\n",
    "                result = session.run(\"\"\"\n",
    "                    UNWIND $data_list AS item\n",
    "                    \n",
    "                    MATCH (f:Field {id: item.field_id_param})\n",
    "                    \n",
    "                    WITH f, item.subfield_ids_param AS subfield_ids\n",
    "                    UNWIND subfield_ids AS subfield_id\n",
    "                    \n",
    "                    MATCH (s:SubField {id: subfield_id})\n",
    "                    \n",
    "                    MERGE (s)-[r:PART_OF]->(f)\n",
    "                    \n",
    "                    RETURN count(r) AS relationships_created\n",
    "                    \"\"\", data_list=fields_subfields_relation)\n",
    "                \n",
    "                summary = result.single()\n",
    "                print(f\"\\nBatch import complete.\")\n",
    "                print(f\"  - {summary['relationships_created']} relationships created/merged.\")\n",
    "\n",
    "            except Exception as e:\n",
    "                # This will fail if a :Domain or :Field node is not found\n",
    "                print(f\"Failed to import batch: {e}\")\n",
    "        \n",
    "except Exception as e:\n",
    "    print(f\"❌ An error occurred: {e}\")"
   ]
  },
  {
   "cell_type": "code",
   "execution_count": 10,
   "id": "44aae1ce",
   "metadata": {},
   "outputs": [],
   "source": [
    "query = \"\"\"\n",
    "MATCH (s:SubField)-[:PART_OF]->(f:Field {name: 'Engineering'})\n",
    "RETURN s.name AS field_name, s.description AS description\n",
    "\"\"\"\n",
    "\n",
    "try:\n",
    "    with GraphDatabase.driver(URI, auth=AUTH) as driver:\n",
    "        driver.verify_connectivity()\n",
    "\n",
    "        records, summary, keys = driver.execute_query(query, database_=\"neo4j\")\n",
    "                \n",
    "except Exception as e:\n",
    "    print(f\"❌ An error occurred: {e}\")"
   ]
  },
  {
   "cell_type": "code",
   "execution_count": 11,
   "id": "8fe268b7",
   "metadata": {},
   "outputs": [
    {
     "name": "stdout",
     "output_type": "stream",
     "text": [
      "[\n",
      "    {\n",
      "        \"field_name\": \"Safety, Risk, Reliability and Quality\",\n",
      "        \"description\": \"state of being secure from harm, injury, danger, or other non-desirable outcomes\"\n",
      "    },\n",
      "    {\n",
      "        \"field_name\": \"Mechanics of Materials\",\n",
      "        \"description\": \"behavior of solid objects subject to stresses and strains\"\n",
      "    },\n",
      "    {\n",
      "        \"field_name\": \"Ocean Engineering\",\n",
      "        \"description\": \"engineering of devices within the ocean environment\"\n",
      "    },\n",
      "    {\n",
      "        \"field_name\": \"Building and Construction\",\n",
      "        \"description\": \"former West German trade union (1949\\u20131995)\"\n",
      "    },\n",
      "    {\n",
      "        \"field_name\": \"Mechanical Engineering\",\n",
      "        \"description\": \"engineering discipline\"\n",
      "    },\n",
      "    {\n",
      "        \"field_name\": \"Computational Mechanics\",\n",
      "        \"description\": \"discipline concerned with the use of computational methods to study mechanics\"\n",
      "    },\n",
      "    {\n",
      "        \"field_name\": \"General Engineering\",\n",
      "        \"description\": \"applied science\"\n",
      "    },\n",
      "    {\n",
      "        \"field_name\": \"Architecture\",\n",
      "        \"description\": \"both the process and product of planning, designing and construction\"\n",
      "    },\n",
      "    {\n",
      "        \"field_name\": \"Aerospace Engineering\",\n",
      "        \"description\": \"branch of engineering\"\n",
      "    },\n",
      "    {\n",
      "        \"field_name\": \"Civil and Structural Engineering\",\n",
      "        \"description\": \"engineering discipline specializing in design, construction and maintenance of the built environment\"\n",
      "    },\n",
      "    {\n",
      "        \"field_name\": \"Electrical and Electronic Engineering\",\n",
      "        \"description\": \"electrical engineering discipline which utilizes nonlinear and active electrical components to design electronic circuits, devices, and their systems\"\n",
      "    },\n",
      "    {\n",
      "        \"field_name\": \"Control and Systems Engineering\",\n",
      "        \"description\": \"engineering discipline that applies control theory to design systems with desired behaviors, focusing on the development and implementation of control systems in machinery, processes, and automation\"\n",
      "    },\n",
      "    {\n",
      "        \"field_name\": \"Biomedical Engineering\",\n",
      "        \"description\": \"application of engineering principles and design concepts to medicine and biology\"\n",
      "    },\n",
      "    {\n",
      "        \"field_name\": \"Media Technology\",\n",
      "        \"description\": \"field of study and practice that explores the development, application, and impact of digital and media technologies in communication, entertainment, and information dissemination\"\n",
      "    },\n",
      "    {\n",
      "        \"field_name\": \"Automotive Engineering\",\n",
      "        \"description\": \"discipline of engineering\"\n",
      "    },\n",
      "    {\n",
      "        \"field_name\": \"Industrial and Manufacturing Engineering\",\n",
      "        \"description\": \"discipline of engineering dealing with various manufacturing sciences and practices including the research, design and development of systems, processes, machines, tools, and equipment\"\n",
      "    }\n",
      "]\n"
     ]
    }
   ],
   "source": [
    "print(json.dumps([rec.data() for rec in records], indent=4))"
   ]
  },
  {
   "cell_type": "code",
   "execution_count": 18,
   "id": "4f6caafe",
   "metadata": {},
   "outputs": [
    {
     "data": {
      "text/plain": [
       "248"
      ]
     },
     "execution_count": 18,
     "metadata": {},
     "output_type": "execute_result"
    }
   ],
   "source": [
    "with open('clean_data/subfields.json', 'r', encoding='utf-8') as f:\n",
    "    subfields_data = json.load(f)\n",
    "len(subfields_data)"
   ]
  },
  {
   "cell_type": "code",
   "execution_count": 21,
   "id": "d82dd50d",
   "metadata": {},
   "outputs": [
    {
     "data": {
      "text/plain": [
       "['https://openalex.org/T13509',\n",
       " 'https://openalex.org/T12378',\n",
       " 'https://openalex.org/T13366',\n",
       " 'https://openalex.org/T10081',\n",
       " 'https://openalex.org/T14183',\n",
       " 'https://openalex.org/T14419',\n",
       " 'https://openalex.org/T13972',\n",
       " 'https://openalex.org/T14239',\n",
       " 'https://openalex.org/T10019',\n",
       " 'https://openalex.org/T12509',\n",
       " 'https://openalex.org/T11508',\n",
       " 'https://openalex.org/T12123',\n",
       " 'https://openalex.org/T11653',\n",
       " 'https://openalex.org/T13744',\n",
       " 'https://openalex.org/T10517',\n",
       " 'https://openalex.org/T11365',\n",
       " 'https://openalex.org/T14180',\n",
       " 'https://openalex.org/T14138',\n",
       " 'https://openalex.org/T11903',\n",
       " 'https://openalex.org/T12276',\n",
       " 'https://openalex.org/T14030',\n",
       " 'https://openalex.org/T12544']"
      ]
     },
     "execution_count": 21,
     "metadata": {},
     "output_type": "execute_result"
    }
   ],
   "source": [
    "subfields_data[2].get('topics')"
   ]
  },
  {
   "cell_type": "code",
   "execution_count": 22,
   "id": "5da5d4db",
   "metadata": {},
   "outputs": [
    {
     "data": {
      "text/plain": [
       "248"
      ]
     },
     "execution_count": 22,
     "metadata": {},
     "output_type": "execute_result"
    }
   ],
   "source": [
    "subfields_topics_relation = [\n",
    "    {\n",
    "        'subfields_id_param': subfield.get('id'),\n",
    "        'topics_ids_param': subfield.get('topics'),\n",
    "    } for subfield in subfields_data\n",
    "]\n",
    "len(subfields_topics_relation)"
   ]
  },
  {
   "cell_type": "code",
   "execution_count": 24,
   "id": "98782588",
   "metadata": {},
   "outputs": [
    {
     "data": {
      "text/plain": [
       "{'subfields_id_param': 'https://openalex.org/subfields/1402',\n",
       " 'topics_ids_param': ['https://openalex.org/T13509',\n",
       "  'https://openalex.org/T12378',\n",
       "  'https://openalex.org/T13366',\n",
       "  'https://openalex.org/T10081',\n",
       "  'https://openalex.org/T14183',\n",
       "  'https://openalex.org/T14419',\n",
       "  'https://openalex.org/T13972',\n",
       "  'https://openalex.org/T14239',\n",
       "  'https://openalex.org/T10019',\n",
       "  'https://openalex.org/T12509',\n",
       "  'https://openalex.org/T11508',\n",
       "  'https://openalex.org/T12123',\n",
       "  'https://openalex.org/T11653',\n",
       "  'https://openalex.org/T13744',\n",
       "  'https://openalex.org/T10517',\n",
       "  'https://openalex.org/T11365',\n",
       "  'https://openalex.org/T14180',\n",
       "  'https://openalex.org/T14138',\n",
       "  'https://openalex.org/T11903',\n",
       "  'https://openalex.org/T12276',\n",
       "  'https://openalex.org/T14030',\n",
       "  'https://openalex.org/T12544']}"
      ]
     },
     "execution_count": 24,
     "metadata": {},
     "output_type": "execute_result"
    }
   ],
   "source": [
    "subfields_topics_relation[2]"
   ]
  },
  {
   "cell_type": "code",
   "execution_count": 25,
   "id": "6d878a21",
   "metadata": {},
   "outputs": [
    {
     "name": "stdout",
     "output_type": "stream",
     "text": [
      "✅ Connection successful!\n",
      "\n",
      "Batch import complete.\n",
      "  - 3655 relationships created/merged.\n"
     ]
    }
   ],
   "source": [
    "try:\n",
    "    with GraphDatabase.driver(URI, auth=AUTH) as driver:\n",
    "        driver.verify_connectivity()\n",
    "        print(\"✅ Connection successful!\")\n",
    "        \n",
    "        with driver.session() as session:\n",
    "\n",
    "            try:\n",
    "                result = session.run(\"\"\"\n",
    "                    UNWIND $data_list AS item\n",
    "                    \n",
    "                    MATCH (s:SubField {id: item.subfields_id_param})\n",
    "                    \n",
    "                    WITH s, item.topics_ids_param AS topic_ids\n",
    "                    UNWIND topic_ids AS topic_id\n",
    "                    \n",
    "                    MATCH (t:Topic {id: topic_id})\n",
    "                    \n",
    "                    MERGE (t)-[r:PART_OF]->(s)\n",
    "                    \n",
    "                    RETURN count(r) AS relationships_created\n",
    "                    \"\"\", data_list=subfields_topics_relation)\n",
    "                \n",
    "                summary = result.single()\n",
    "                print(f\"\\nBatch import complete.\")\n",
    "                print(f\"  - {summary['relationships_created']} relationships created/merged.\")\n",
    "\n",
    "            except Exception as e:\n",
    "                # This will fail if a :Domain or :Field node is not found\n",
    "                print(f\"Failed to import batch: {e}\")\n",
    "        \n",
    "except Exception as e:\n",
    "    print(f\"❌ An error occurred: {e}\")"
   ]
  },
  {
   "cell_type": "code",
   "execution_count": 26,
   "id": "a57017b4",
   "metadata": {},
   "outputs": [],
   "source": [
    "query = \"\"\"\n",
    "MATCH (t:Topic)-[:PART_OF]->(s:SubField {name: 'Control and Systems Engineering'})\n",
    "RETURN t.name AS name, t.description AS description\n",
    "\"\"\"\n",
    "\n",
    "try:\n",
    "    with GraphDatabase.driver(URI, auth=AUTH) as driver:\n",
    "        driver.verify_connectivity()\n",
    "\n",
    "        records, summary, keys = driver.execute_query(query, database_=\"neo4j\")\n",
    "                \n",
    "except Exception as e:\n",
    "    print(f\"❌ An error occurred: {e}\")"
   ]
  },
  {
   "cell_type": "code",
   "execution_count": 27,
   "id": "70aa9865",
   "metadata": {},
   "outputs": [
    {
     "name": "stdout",
     "output_type": "stream",
     "text": [
      "[\n",
      "    {\n",
      "        \"name\": \"Magnetic Bearings and Levitation Dynamics\",\n",
      "        \"description\": \"This cluster of papers focuses on the dynamics, control, and applications of magnetic levitation systems, including maglev trains, bearingless motors, active magnetic bearings, spacecraft attitude control using control moment gyros, vibration analysis of rotor systems, and fault diagnosis in rotating machinery.\"\n",
      "    },\n",
      "    {\n",
      "        \"name\": \"Extremum Seeking Control Systems\",\n",
      "        \"description\": \"This cluster of papers focuses on extremum seeking control, a method for optimizing the performance of dynamic systems by iteratively adjusting control inputs to seek the extremum of a cost function. The papers cover various aspects such as stability analysis, adaptive control, stochastic optimization, and applications in fields like wind energy, bioreactors, and autonomous vehicles.\"\n",
      "    },\n",
      "    {\n",
      "        \"name\": \"Human Motion and Animation\",\n",
      "        \"description\": \"This cluster of papers explores various techniques for synthesizing and controlling human-like motion, including character animation, inverse kinematics, interactive control, physics-based animation, and virtual reality applications. It covers topics such as deep learning frameworks for motion synthesis, efficient retrieval of motion capture data, real-time motion retargeting, and the use of AI in virtual environments.\"\n",
      "    },\n",
      "    {\n",
      "        \"name\": \"Real-time simulation and control systems\",\n",
      "        \"description\": \"This cluster of papers focuses on real-time simulation technologies for power systems, with an emphasis on Hardware-in-the-Loop (HIL) simulation, FPGA-based emulation, and digital simulation of power electronics, electrical systems, and renewable energy applications. The papers cover topics such as control systems, electric drives, and smart grid development.\"\n",
      "    },\n",
      "    {\n",
      "        \"name\": \"Wireless Sensor Networks and IoT\",\n",
      "        \"description\": \"This cluster of papers focuses on the application of wireless sensor networks, Internet of Things, and related technologies in various domains such as smart home systems, urban transportation, remote monitoring, and data mining. It also explores the use of neural network algorithms and fuzzy analytic hierarchy process in these applications.\"\n",
      "    },\n",
      "    {\n",
      "        \"name\": \"Power Systems Fault Detection\",\n",
      "        \"description\": \"This cluster of papers focuses on the development and implementation of adaptive protection schemes for microgrids with high penetration of distributed generation. The research covers topics such as fault detection, relay coordination, optimal protection coordination, fault location using wavelet transform and artificial neural network, and the impact of distributed generation on protective device coordination.\"\n",
      "    },\n",
      "    {\n",
      "        \"name\": \"Stability and Control of Uncertain Systems\",\n",
      "        \"description\": \"This cluster of papers focuses on the modeling, optimization, and control of networked control systems, covering topics such as stability analysis, event-triggered control, time-delay systems, robust control, switched systems, H8 control, fuzzy control, distributed control, and communication constraints.\"\n",
      "    },\n",
      "    {\n",
      "        \"name\": \"Mining Techniques and Economics\",\n",
      "        \"description\": \"This cluster of papers focuses on the application of operations research, optimization algorithms, and stochastic modeling to address various challenges in mine planning, particularly in the context of open pit mining. The topics covered include production scheduling, truck dispatching, equipment selection, and strategic planning, with a strong emphasis on addressing uncertainty and geological variability.\"\n",
      "    },\n",
      "    {\n",
      "        \"name\": \"Traffic control and management\",\n",
      "        \"description\": \"This cluster of papers focuses on the modeling and control of traffic flow systems, including microscopic simulation, cooperative adaptive cruise control, connected vehicles, traffic signal control, platooning, macroscopic fundamental diagram, intelligent transportation systems, vehicle dynamics model, and reinforcement learning.\"\n",
      "    },\n",
      "    {\n",
      "        \"name\": \"Simulation and Modeling Applications\",\n",
      "        \"description\": \"This cluster of papers focuses on the simulation and optimization of industrial processes, including the use of virtual reality, training systems, network simulation, collision detection, and tactical communication. It covers topics such as Flexsim, modeling, and industrial enterprise applications.\"\n",
      "    },\n",
      "    {\n",
      "        \"name\": \"Advanced Control Systems Optimization\",\n",
      "        \"description\": \"This cluster of papers focuses on the application of Model Predictive Control (MPC) in industrial processes, covering topics such as optimization, robust control, stability analysis, and real-time implementation. It explores the use of MPC for handling nonlinear systems, distributed control strategies, and its application in various industrial settings.\"\n",
      "    },\n",
      "    {\n",
      "        \"name\": \"Fault Diagnosis in Complex Systems\",\n",
      "        \"description\": \"This cluster of papers focuses on fault diagnosis in complex systems, particularly in the aerospace domain. It covers topics such as sequential testing algorithms, hidden Markov models, testability analysis, built-in test (BIT), dynamic multiple fault diagnosis, system health management, and avionics maintenance.\"\n",
      "    },\n",
      "    {\n",
      "        \"name\": \"Optimization and Mathematical Programming\",\n",
      "        \"description\": \"This cluster of papers focuses on the optimization of multi-objective transportation problems, particularly in the context of supply chain management and aggregate production planning. It explores the application of fuzzy goal programming, genetic algorithms, and metaheuristic approaches to address challenges such as fixed charge transportation, sustainable development, and uncertainty in decision-making. The research also delves into techniques like linear fractional programming and intuitionistic fuzzy logic to enhance the efficiency and robustness of transportation problem solutions.\"\n",
      "    },\n",
      "    {\n",
      "        \"name\": \"Dynamics and Control of Mechanical Systems\",\n",
      "        \"description\": \"This cluster of papers focuses on the dynamics and control of multibody mechanical systems, with an emphasis on flexible manipulators, contact force models, clearance joints, crane systems, input shaping control, friction models, rigid-body dynamics, adaptive control, and spatial joints.\"\n",
      "    },\n",
      "    {\n",
      "        \"name\": \"Embedded Systems and FPGA Design\",\n",
      "        \"description\": \"This cluster of papers focuses on embedded systems, data acquisition, and control applications, including FPGA-based solutions, Internet of Things (IoT), remote monitoring, web servers, and real-time applications. It covers topics such as sensor networks, high-speed data transmission, and the development of systems for industrial parameters monitoring.\"\n",
      "    },\n",
      "    {\n",
      "        \"name\": \"Advanced Control Systems Design\",\n",
      "        \"description\": \"This cluster of papers focuses on the analysis, design, and application of fractional order control systems, particularly emphasizing PID controller tuning, model reduction, stability analysis using Lyapunov functions, and robust stability for industrial automation. It also explores the use of particle swarm optimization in optimizing PID controllers and the application of fractional order control in discrete-time systems.\"\n",
      "    },\n",
      "    {\n",
      "        \"name\": \"Process Optimization and Integration\",\n",
      "        \"description\": \"This cluster of papers covers the state-of-the-art in process optimization under uncertainty, focusing on areas such as process intensification, scheduling, distillation, supply chain optimization, and the application of mathematical programming techniques. It also explores energy efficiency, water network synthesis, and sustainability metrics in the context of chemical processes.\"\n",
      "    },\n",
      "    {\n",
      "        \"name\": \"Advanced Algorithms and Applications\",\n",
      "        \"description\": \"This cluster of papers focuses on the application of control systems, neural networks, and advanced algorithms in various domains such as industrial processes, environmental monitoring, networked manufacturing, and robotic systems. The research spans topics like PID control, support vector machines, fuzzy logic, genetic algorithms, wireless sensor networks, remote sensing, and Internet of Things.\"\n",
      "    },\n",
      "    {\n",
      "        \"name\": \"Robot Manipulation and Learning\",\n",
      "        \"description\": \"This cluster of papers focuses on robotic grasping, learning from demonstration, deep learning for object pose estimation, human-robot collaboration, and sensor-based robot systems. It explores topics such as dynamical movement primitives, impedance control, and safe interaction between humans and robots.\"\n",
      "    },\n",
      "    {\n",
      "        \"name\": \"Elevator Systems and Control\",\n",
      "        \"description\": \"This cluster of papers focuses on the optimization of elevator traffic control systems, including group scheduling, energy efficiency, and simulation-based approaches. It explores the use of genetic algorithms, fuzzy logic, and IoT technology in supervisory control and addresses escalator-related injuries.\"\n",
      "    },\n",
      "    {\n",
      "        \"name\": \"Piezoelectric Actuators and Control\",\n",
      "        \"description\": \"This cluster of papers focuses on the modeling, identification, and control of hysteresis and creep in nanopositioning systems, particularly utilizing piezoelectric actuators and flexure-based mechanisms. The research addresses challenges related to high-speed micro/nanomanipulation, feedback control strategies, and the development of smart actuators for precise positioning.\"\n",
      "    },\n",
      "    {\n",
      "        \"name\": \"Military Strategy and Technology\",\n",
      "        \"description\": \"This cluster of papers focuses on the intersection of network centric warfare, organizational design, decision making, and command and control in military operations. It explores topics such as information superiority, autonomous systems, crisis management, and simulation modeling to support decision-making processes in complex military environments.\"\n",
      "    },\n",
      "    {\n",
      "        \"name\": \"Stability and Controllability of Differential Equations\",\n",
      "        \"description\": \"This cluster of papers focuses on the analysis and control of distributed parameter systems, particularly emphasizing boundary control, stability, wave equations, attractors, feedback control, hyperbolic partial differential equations (PDEs), viscoelasticity, global existence, and controllability.\"\n",
      "    },\n",
      "    {\n",
      "        \"name\": \"Advanced Sensor and Control Systems\",\n",
      "        \"description\": \"This cluster of papers focuses on the design and application of intelligent monitoring systems, including topics such as neural network algorithms, wireless sensor networks, temperature monitoring, fuzzy control, PID controllers, real-time monitoring, and data fusion. The research covers a wide range of applications including geotechnical parameters prediction, heating ventilating and air-conditioning systems, wetland landscape classification, urban building energy consumption prediction, weather monitoring, industrial temperature monitoring, fault prediction in power plants, and more.\"\n",
      "    },\n",
      "    {\n",
      "        \"name\": \"Model Reference Adaptive Control in Engineering Systems\",\n",
      "        \"description\": \"This cluster of papers focuses on the application of model reference adaptive control in engineering systems, particularly in the context of small turbojet engines. It explores techniques such as robust fixed point transformations, fuzzy models, intelligent situational control, and genetic algorithms for adaptive control. The cluster also delves into topics related to deep learning, output prediction, and the use of unmanned aerial vehicles for aircraft maintenance.\"\n",
      "    },\n",
      "    {\n",
      "        \"name\": \"Vibration and Dynamic Analysis\",\n",
      "        \"description\": \"This cluster of papers focuses on the analysis and control of axially moving dynamics, including vibration analysis, nonlinear dynamics, and stability analysis of fluid-conveying pipes, cable dynamics, and viscoelastic beams. It also explores parametric resonance, dynamic response, and various control strategies for systems with axially moving components.\"\n",
      "    },\n",
      "    {\n",
      "        \"name\": \"Control and Stability of Dynamical Systems\",\n",
      "        \"description\": \"This cluster of papers focuses on the modeling and control of Port-Hamiltonian systems, with an emphasis on interconnection, damping assignment, passivity-based control, stabilization, controlled Lagrangians, contraction analysis, energy shaping, and their application to nonlinear and mechanical systems.\"\n",
      "    },\n",
      "    {\n",
      "        \"name\": \"Advanced Data Processing Techniques\",\n",
      "        \"description\": \"This cluster of papers focuses on the modeling and control of multidimensional systems, with an emphasis on redundant transmission, fuzzy controller adaptation, fault tolerance, real-time systems, and energy efficiency in various domains such as cyber-physical systems, network traffic analysis, and industrial automation.\"\n",
      "    },\n",
      "    {\n",
      "        \"name\": \"Control Systems and Identification\",\n",
      "        \"description\": \"This cluster of papers covers advances in system identification techniques, including parameter estimation for nonlinear models, data-driven control, model-based control, feedback controllers, state estimation for multivariable systems, and the development of recursive algorithms. The papers also discuss model selection approaches and optimal experiment design for system identification.\"\n",
      "    },\n",
      "    {\n",
      "        \"name\": \"Robotic Mechanisms and Dynamics\",\n",
      "        \"description\": \"This cluster of papers focuses on the kinematic and dynamic analysis, control, optimization, and calibration of robot manipulators, with an emphasis on redundant robots, parallel mechanisms, neural network applications, trajectory planning, workspace analysis, and stiffness optimization.\"\n",
      "    },\n",
      "    {\n",
      "        \"name\": \"Applications of Programmable Logic Controllers (PLCs)\",\n",
      "        \"description\": \"This cluster of papers focuses on the diverse applications of Programmable Logic Controllers (PLCs) in industrial automation, including SCADA systems, wireless communication, machine vision for waste recycling, and remote monitoring and control. It also explores the use of OPC technology for real-time data exchange and the implementation of automation in various manufacturing processes.\"\n",
      "    },\n",
      "    {\n",
      "        \"name\": \"Pulsed Power Technology Applications\",\n",
      "        \"description\": \"This cluster of papers focuses on the technology and applications of pulsed power, including electron beam surface modification, high current systems, solid-state generators, high-power microwave sources, semiconductor switches, plasma sources, and radiography systems.\"\n",
      "    },\n",
      "    {\n",
      "        \"name\": \"Smart Grid Security and Resilience\",\n",
      "        \"description\": \"This cluster of papers focuses on the security challenges in smart grid systems, including cyber-physical attacks, false data injection attacks, communication network vulnerabilities, SCADA system security, privacy concerns, and detection of various types of attacks such as denial-of-service attacks. The papers also explore the application of machine learning for attack detection and mitigation.\"\n",
      "    },\n",
      "    {\n",
      "        \"name\": \"Industrial Technology and Control Systems\",\n",
      "        \"description\": \"This cluster of papers focuses on the development and application of intelligent control systems for various industrial processes, including kiln operation, hydraulic systems, and product design. It encompasses topics such as neural networks, virtual prototyping, knowledge management, and simulation technology to optimize process control and decision-making in complex manufacturing environments.\"\n",
      "    },\n",
      "    {\n",
      "        \"name\": \"Control and Dynamics of Mobile Robots\",\n",
      "        \"description\": \"This cluster of papers focuses on the control and navigation of nonholonomic mobile robots, addressing challenges such as adaptive control, trajectory tracking, nonholonomic constraints, feedback control, dynamic modeling, path planning, sliding mode control, omnidirectional robots, robust stabilization, and the use of neural networks for control.\"\n",
      "    },\n",
      "    {\n",
      "        \"name\": \"Fault Detection and Control Systems\",\n",
      "        \"description\": \"This cluster of papers focuses on the application of various data-driven and statistical techniques for process fault detection and diagnosis in industrial settings. It covers topics such as process monitoring, fault isolation, soft sensors, model-based diagnosis, and the use of machine learning in analyzing and improving industrial processes.\"\n",
      "    },\n",
      "    {\n",
      "        \"name\": \"Iterative Learning Control Systems\",\n",
      "        \"description\": \"This cluster of papers focuses on Iterative Learning Control (ILC) and its applications in engineering practice. It covers topics such as repetitive control, model-free adaptive control, data-driven control, motion control, robotic systems, feed drive systems, batch processes, nonlinear systems, and convergence analysis.\"\n",
      "    },\n",
      "    {\n",
      "        \"name\": \"Systems Engineering Methodologies and Applications\",\n",
      "        \"description\": \"This cluster of papers focuses on the engineering and design principles related to System of Systems, including topics such as Complex Adaptive Systems, Model-Based Systems Engineering, Value-Driven Design, Uncertainty Mitigation, Multi-Attribute Tradespace Exploration, Socio-Technical Systems, Flexibility in System Design, Enterprise Transformation, Architecting Complex Systems, and Interdisciplinary System Engineering.\"\n",
      "    },\n",
      "    {\n",
      "        \"name\": \"Thermal Analysis in Power Transmission\",\n",
      "        \"description\": \"This cluster of papers focuses on the implementation, impact, and optimization of dynamic line rating systems for power networks. It covers topics such as thermal analysis of transmission lines, reliability impact of wind power integration, real-time monitoring, ampacity forecasting, network topology optimization, and the use of battery energy storage. The research aims to enhance the capacity and reliability of power networks through innovative approaches to dynamic line rating.\"\n",
      "    },\n",
      "    {\n",
      "        \"name\": \"Advanced Research in Systems and Signal Processing\",\n",
      "        \"description\": \"This cluster of papers focuses on the integration of cyber, physical, and social systems, with an emphasis on decision making, urban computing, autodyne sensors, machine learning, data mining, transportation systems, information management, parallel computing, and infrastructure development.\"\n",
      "    },\n",
      "    {\n",
      "        \"name\": \"Adaptive Control of Nonlinear Systems\",\n",
      "        \"description\": \"This cluster of papers focuses on advanced control and stabilization techniques for robotic systems, particularly emphasizing adaptive control, sliding mode control, disturbance observer-based control, and finite-time stability in the context of nonlinear systems. The applications range from quadrotors and aerial vehicles to robotic manipulators, with a strong emphasis on addressing uncertainties and disturbances in the control process.\"\n",
      "    },\n",
      "    {\n",
      "        \"name\": \"Machine Fault Diagnosis Techniques\",\n",
      "        \"description\": \"This cluster of papers focuses on machine fault diagnosis and prognostics using methods such as Empirical Mode Decomposition, wavelet transform, and deep learning. It covers topics like condition monitoring, vibration analysis, and remaining useful life estimation for rotating machinery. The research explores the application of machine learning techniques, neural networks, and signal processing in fault detection and health management of various mechanical systems.\"\n",
      "    },\n",
      "    {\n",
      "        \"name\": \"Robotics and Automated Systems\",\n",
      "        \"description\": \"This cluster of papers encompasses a wide range of research on cloud robotics, automation, and related technologies. It covers topics such as cloud robotics architecture, challenges, and applications, internet of robotic things, cognitive infocommunications, service robots in cloud computing, virtual reality for robotics, and the integration of artificial intelligence in robotic systems. The research also explores the use of cloud robotics in smart city applications and emphasizes human-robot interaction.\"\n",
      "    },\n",
      "    {\n",
      "        \"name\": \"Microgrid Control and Optimization\",\n",
      "        \"description\": \"This cluster of papers focuses on the control, synchronization, and management of microgrid systems, with an emphasis on distributed power generation, energy storage technologies, and grid integration of renewable energy sources. The research covers various aspects such as voltage and frequency control, decentralized control strategies, virtual synchronous generators, and the application of power electronics in smart grid environments.\"\n",
      "    }\n",
      "]\n"
     ]
    }
   ],
   "source": [
    "print(json.dumps([rec.data() for rec in records], indent=4))"
   ]
  },
  {
   "cell_type": "code",
   "execution_count": null,
   "id": "c5cf5ffa",
   "metadata": {},
   "outputs": [
    {
     "data": {
      "text/plain": [
       "835"
      ]
     },
     "execution_count": 3,
     "metadata": {},
     "output_type": "execute_result"
    }
   ],
   "source": [
    "sources_data = []\n",
    "sources_dir = os.path.join('clean_data', 'sources')\n",
    "\n",
    "for fname in os.listdir(sources_dir):\n",
    "    with open(os.path.join(sources_dir, fname), 'r', encoding='utf-8') as f:\n",
    "        sources_data.extend(json.load(f))\n",
    "\n",
    "random.shuffle(sources_data)\n",
    "len(sources_data)"
   ]
  },
  {
   "cell_type": "code",
   "execution_count": 31,
   "id": "28f21ff3",
   "metadata": {},
   "outputs": [
    {
     "data": {
      "text/plain": [
       "dict_keys(['id', 'name', 'hostOrganizationId', 'hostOrganizationName', 'worksCount', 'citedByCount', 'twoYearMeanCitedness', 'hIndex', 'iTenIndex', 'isOpenAccess', 'isInDoaj', 'isIndexedInScopus', 'isCore', 'ArticleProcessingCharge', 'countryCode', 'societies', 'topics', 'counts_by_year'])"
      ]
     },
     "execution_count": 31,
     "metadata": {},
     "output_type": "execute_result"
    }
   ],
   "source": [
    "sources_data[0].keys()"
   ]
  },
  {
   "cell_type": "code",
   "execution_count": 48,
   "id": "3dda8ebd",
   "metadata": {},
   "outputs": [
    {
     "data": {
      "text/plain": [
       "'IEEE Transactions on Neural Networks'"
      ]
     },
     "execution_count": 48,
     "metadata": {},
     "output_type": "execute_result"
    }
   ],
   "source": [
    "sources_data[2].get('name')"
   ]
  },
  {
   "cell_type": "code",
   "execution_count": null,
   "id": "542aed6b",
   "metadata": {},
   "outputs": [],
   "source": [
    "print(json.dumps(sources_data[3], indent=4))"
   ]
  },
  {
   "cell_type": "code",
   "execution_count": 11,
   "id": "45bcfb99",
   "metadata": {},
   "outputs": [
    {
     "data": {
      "text/plain": [
       "'countsByYear'"
      ]
     },
     "execution_count": 11,
     "metadata": {},
     "output_type": "execute_result"
    }
   ],
   "source": [
    "snake_to_camel('counts_by_year')"
   ]
  },
  {
   "cell_type": "code",
   "execution_count": 22,
   "id": "bbbc8000",
   "metadata": {},
   "outputs": [],
   "source": [
    "def import_sources_batch(driver, sources_list, ignore_key, to_dump_list):\n",
    "    print(f\"Starting import of {len(sources_list)} sources...\")\n",
    "    \n",
    "    props_list = []\n",
    "    for source in sources_list:\n",
    "        props = source.copy()\n",
    "\n",
    "        for key in ignore_key:\n",
    "            if key in props:\n",
    "                del props[key]\n",
    "\n",
    "        for key in to_dump_list:\n",
    "            props[snake_to_camel(key)] = json.dumps(props.get(key, []))\n",
    "            del props[key]\n",
    "\n",
    "        topic_id = props.pop('id', None)\n",
    "        if topic_id:\n",
    "            props_list.append({\n",
    "                'id_param': topic_id,\n",
    "                'props_param': props\n",
    "            })\n",
    "\n",
    "\n",
    "    with driver.session() as session:\n",
    "        try:\n",
    "            result = session.run(\"\"\"\n",
    "                UNWIND $props_list AS item\n",
    "                MERGE (s:Source {id: item.id_param})\n",
    "                SET s += item.props_param\n",
    "                RETURN count(s) AS total_merged\n",
    "                \"\"\", props_list=props_list)\n",
    "            \n",
    "            summary = result.single()\n",
    "            print(f\"Batch import complete. {summary['total_merged']} sources merged/updated.\")\n",
    "\n",
    "        except Exception as e:\n",
    "            print(f\"Failed to import batch: {e}\")"
   ]
  },
  {
   "cell_type": "code",
   "execution_count": 30,
   "id": "202c4afe",
   "metadata": {},
   "outputs": [
    {
     "name": "stdout",
     "output_type": "stream",
     "text": [
      "✅ Connection successful!\n",
      "1:\n",
      "Starting import of 250 sources...\n",
      "Batch import complete. 250 sources merged/updated.\n",
      "\n",
      "\n",
      "\n",
      "2:\n",
      "Starting import of 250 sources...\n",
      "Batch import complete. 250 sources merged/updated.\n",
      "\n",
      "\n",
      "\n",
      "3:\n",
      "Starting import of 250 sources...\n",
      "Batch import complete. 250 sources merged/updated.\n",
      "\n",
      "\n",
      "\n",
      "4:\n",
      "Starting import of 85 sources...\n",
      "Batch import complete. 85 sources merged/updated.\n",
      "\n",
      "\n",
      "\n"
     ]
    }
   ],
   "source": [
    "N_sources = len(sources_data)\n",
    "batch_size = 250\n",
    "\n",
    "try:\n",
    "    with GraphDatabase.driver(URI, auth=AUTH) as driver:\n",
    "        driver.verify_connectivity()\n",
    "        print(\"✅ Connection successful!\")\n",
    "        \n",
    "        count = 1\n",
    "        for i in range(0, N_sources, batch_size):\n",
    "            selected_records = sources_data[i: i+batch_size]\n",
    "            print(f'{count}:')\n",
    "            import_sources_batch(driver, selected_records, [\"topics\"], ['counts_by_year', 'ArticleProcessingCharge', 'societies'])\n",
    "            count += 1\n",
    "            print(2*'\\n')\n",
    "        \n",
    "except Exception as e:\n",
    "    print(f\"❌ An error occurred: {e}\")"
   ]
  },
  {
   "cell_type": "code",
   "execution_count": 34,
   "id": "f708dbf0",
   "metadata": {},
   "outputs": [],
   "source": [
    "# query = \"\"\"\n",
    "# MATCH (s:Source)\n",
    "# RETURN s.id AS id\n",
    "# \"\"\"\n",
    "\n",
    "query = \"\"\"\n",
    "MATCH (s:Source)\n",
    "RETURN s.name AS name\n",
    "\"\"\"\n",
    "\n",
    "try:\n",
    "    with GraphDatabase.driver(URI, auth=AUTH) as driver:\n",
    "        driver.verify_connectivity()\n",
    "\n",
    "        records, summary, keys = driver.execute_query(query, database_=\"neo4j\")\n",
    "                \n",
    "except Exception as e:\n",
    "    print(f\"❌ An error occurred: {e}\")"
   ]
  },
  {
   "cell_type": "code",
   "execution_count": 35,
   "id": "0b0db4f7",
   "metadata": {},
   "outputs": [],
   "source": [
    "# len(set([s.data().get('id') for s in records]))"
   ]
  },
  {
   "cell_type": "code",
   "execution_count": 36,
   "id": "6445aa16",
   "metadata": {},
   "outputs": [
    {
     "data": {
      "text/plain": [
       "[{'name': 'National Tax Journal'},\n",
       " {'name': 'International Journal of Vehicle Autonomous Systems'}]"
      ]
     },
     "execution_count": 36,
     "metadata": {},
     "output_type": "execute_result"
    }
   ],
   "source": [
    "[rec.data() for rec in records][:2]"
   ]
  },
  {
   "cell_type": "code",
   "execution_count": null,
   "id": "90f3b9d7",
   "metadata": {},
   "outputs": [],
   "source": []
  },
  {
   "cell_type": "code",
   "execution_count": 43,
   "id": "cc0dcd9c",
   "metadata": {},
   "outputs": [
    {
     "data": {
      "text/plain": [
       "835"
      ]
     },
     "execution_count": 43,
     "metadata": {},
     "output_type": "execute_result"
    }
   ],
   "source": [
    "sources_topics_relation = [\n",
    "    {\n",
    "        'source_id_param': source.get('id'),\n",
    "        'topics_param': [\n",
    "            {\n",
    "                'id': topic.get('id'),\n",
    "                'count': topic.get('count'),\n",
    "            } for topic in source.get('topics', [])\n",
    "        ]\n",
    "\n",
    "    } for source in sources_data\n",
    "]\n",
    "len(sources_topics_relation)"
   ]
  },
  {
   "cell_type": "code",
   "execution_count": 45,
   "id": "c2697c47",
   "metadata": {},
   "outputs": [
    {
     "name": "stdout",
     "output_type": "stream",
     "text": [
      "✅ Connection successful!\n",
      "\n",
      "Batch import complete.\n",
      "  - 20843 relationships created/merged.\n"
     ]
    }
   ],
   "source": [
    "try:\n",
    "    with GraphDatabase.driver(URI, auth=AUTH) as driver:\n",
    "        driver.verify_connectivity()\n",
    "        print(\"✅ Connection successful!\")\n",
    "        \n",
    "        with driver.session() as session:\n",
    "\n",
    "            try:\n",
    "                result = session.run(\"\"\"\n",
    "                    UNWIND $data_list AS item\n",
    "                    \n",
    "                    MATCH (s:Source {id: item.source_id_param})\n",
    "                    \n",
    "                    WITH s, item.topics_param AS topics_param\n",
    "                    UNWIND topics_param AS topic_param\n",
    "                    \n",
    "                    MATCH (t:Topic {id: topic_param.id})\n",
    "                    \n",
    "                    MERGE (s)-[r:RELATED_TO]->(t)\n",
    "                    SET r.count = topic_param.count\n",
    "                    \n",
    "                    RETURN count(r) AS relationships_created\n",
    "                    \"\"\", data_list=sources_topics_relation)\n",
    "                \n",
    "                summary = result.single()\n",
    "                print(f\"\\nBatch import complete.\")\n",
    "                print(f\"  - {summary['relationships_created']} relationships created/merged.\")\n",
    "\n",
    "            except Exception as e:\n",
    "                # This will fail if a :Domain or :Field node is not found\n",
    "                print(f\"Failed to import batch: {e}\")\n",
    "        \n",
    "except Exception as e:\n",
    "    print(f\"❌ An error occurred: {e}\")"
   ]
  },
  {
   "cell_type": "code",
   "execution_count": 6,
   "id": "b865b907",
   "metadata": {},
   "outputs": [
    {
     "data": {
      "text/plain": [
       "605"
      ]
     },
     "execution_count": 6,
     "metadata": {},
     "output_type": "execute_result"
    }
   ],
   "source": [
    "funders_data = []\n",
    "funders_dir = os.path.join('clean_data', 'funders')\n",
    "\n",
    "for fname in os.listdir(funders_dir):\n",
    "    with open(os.path.join(funders_dir, fname), 'r', encoding='utf-8') as f:\n",
    "        funders_data.extend(json.load(f))\n",
    "\n",
    "random.shuffle(funders_data)\n",
    "len(funders_data)"
   ]
  },
  {
   "cell_type": "code",
   "execution_count": 7,
   "id": "070b1e00",
   "metadata": {},
   "outputs": [
    {
     "data": {
      "text/plain": [
       "dict_keys(['id', 'name', 'ror', 'doi', 'countryCode', 'description', 'grantsCount', 'worksCount', 'citedByCount', 'twoYearMeanCitedness', 'hIndex', 'iTenIndex', 'countsByYear'])"
      ]
     },
     "execution_count": 7,
     "metadata": {},
     "output_type": "execute_result"
    }
   ],
   "source": [
    "funders_data[0].keys()"
   ]
  },
  {
   "cell_type": "code",
   "execution_count": null,
   "id": "5f50e4a8",
   "metadata": {},
   "outputs": [],
   "source": [
    "print(json.dumps(funders_data[3], indent=4))"
   ]
  },
  {
   "cell_type": "code",
   "execution_count": 9,
   "id": "04a9a78f",
   "metadata": {},
   "outputs": [],
   "source": [
    "def import_funders_batch(driver, funders_list, ignore_key, to_dump_list):\n",
    "    print(f\"Starting import of {len(funders_list)} funders...\")\n",
    "    \n",
    "    props_list = []\n",
    "    for funder in funders_list:\n",
    "        props = funder.copy()\n",
    "\n",
    "        for key in ignore_key:\n",
    "            if key in props:\n",
    "                del props[key]\n",
    "\n",
    "        for key in to_dump_list:\n",
    "            props[snake_to_camel(key)] = json.dumps(props.get(key, []))\n",
    "            del props[key]\n",
    "\n",
    "        funder_id = props.pop('id', None)\n",
    "        if funder_id:\n",
    "            props_list.append({\n",
    "                'id_param': funder_id,\n",
    "                'props_param': props\n",
    "            })\n",
    "\n",
    "\n",
    "    with driver.session() as session:\n",
    "        try:\n",
    "            result = session.run(\"\"\"\n",
    "                UNWIND $props_list AS item\n",
    "                MERGE (f:Funder {id: item.id_param})\n",
    "                SET f += item.props_param\n",
    "                RETURN count(f) AS total_merged\n",
    "                \"\"\", props_list=props_list)\n",
    "            \n",
    "            summary = result.single()\n",
    "            print(f\"Batch import complete. {summary['total_merged']} funders merged/updated.\")\n",
    "\n",
    "        except Exception as e:\n",
    "            print(f\"Failed to import batch: {e}\")"
   ]
  },
  {
   "cell_type": "code",
   "execution_count": 13,
   "id": "f13625db",
   "metadata": {},
   "outputs": [
    {
     "name": "stdout",
     "output_type": "stream",
     "text": [
      "✅ Connection successful!\n",
      "1:\n",
      "Starting import of 250 funders...\n",
      "Batch import complete. 250 funders merged/updated.\n",
      "\n",
      "\n",
      "\n",
      "2:\n",
      "Starting import of 250 funders...\n",
      "Batch import complete. 250 funders merged/updated.\n",
      "\n",
      "\n",
      "\n",
      "3:\n",
      "Starting import of 105 funders...\n",
      "Batch import complete. 105 funders merged/updated.\n",
      "\n",
      "\n",
      "\n"
     ]
    }
   ],
   "source": [
    "N_funders = len(funders_data)\n",
    "batch_size = 250\n",
    "\n",
    "try:\n",
    "    with GraphDatabase.driver(URI, auth=AUTH) as driver:\n",
    "        driver.verify_connectivity()\n",
    "        print(\"✅ Connection successful!\")\n",
    "        \n",
    "        count = 1\n",
    "        for i in range(0, N_funders, batch_size):\n",
    "            selected_records = funders_data[i: i+batch_size]\n",
    "            print(f'{count}:')\n",
    "            import_funders_batch(driver, selected_records, [], ['countsByYear'])\n",
    "            count += 1\n",
    "            print(2*'\\n')\n",
    "        \n",
    "except Exception as e:\n",
    "    print(f\"❌ An error occurred: {e}\")"
   ]
  },
  {
   "cell_type": "code",
   "execution_count": 14,
   "id": "38bf26a5",
   "metadata": {},
   "outputs": [],
   "source": [
    "query = \"\"\"\n",
    "MATCH (f:Funder)\n",
    "RETURN f.name AS name\n",
    "\"\"\"\n",
    "\n",
    "try:\n",
    "    with GraphDatabase.driver(URI, auth=AUTH) as driver:\n",
    "        driver.verify_connectivity()\n",
    "\n",
    "        records, summary, keys = driver.execute_query(query, database_=\"neo4j\")\n",
    "                \n",
    "except Exception as e:\n",
    "    print(f\"❌ An error occurred: {e}\")"
   ]
  },
  {
   "cell_type": "code",
   "execution_count": 15,
   "id": "8df1f758",
   "metadata": {},
   "outputs": [
    {
     "data": {
      "text/plain": [
       "[{'name': 'Korea Creative Content Agency'},\n",
       " {'name': 'Universitat Politècnica de València'},\n",
       " {'name': 'Ohio State University'},\n",
       " {'name': 'Office of Naval Research'},\n",
       " {'name': 'Fundação para a Ciência e a Tecnologia'}]"
      ]
     },
     "execution_count": 15,
     "metadata": {},
     "output_type": "execute_result"
    }
   ],
   "source": [
    "[rec.data() for rec in records[:5]]"
   ]
  },
  {
   "cell_type": "code",
   "execution_count": 4,
   "id": "455b8b79",
   "metadata": {},
   "outputs": [
    {
     "data": {
      "text/plain": [
       "5048"
      ]
     },
     "execution_count": 4,
     "metadata": {},
     "output_type": "execute_result"
    }
   ],
   "source": [
    "institutions_data = []\n",
    "institutions_dir = os.path.join('clean_data', 'institutions')\n",
    "\n",
    "for fname in os.listdir(institutions_dir):\n",
    "    with open(os.path.join(institutions_dir, fname), 'r', encoding='utf-8') as f:\n",
    "        institutions_data.extend(json.load(f))\n",
    "\n",
    "random.shuffle(institutions_data)\n",
    "len(institutions_data)"
   ]
  },
  {
   "cell_type": "code",
   "execution_count": 5,
   "id": "3a39ecf2",
   "metadata": {},
   "outputs": [
    {
     "data": {
      "text/plain": [
       "dict_keys(['id', 'ror', 'name', 'countryCode', 'type', 'internationalName', 'worksCount', 'citedByCount', 'twoYearMeanCitedness', 'hIndex', 'iTenIndex', 'geo', 'countsByYear', 'topics'])"
      ]
     },
     "execution_count": 5,
     "metadata": {},
     "output_type": "execute_result"
    }
   ],
   "source": [
    "institutions_data[0].keys()"
   ]
  },
  {
   "cell_type": "code",
   "execution_count": null,
   "id": "f22f4927",
   "metadata": {},
   "outputs": [],
   "source": [
    "print(json.dumps(institutions_data[0], indent=4))"
   ]
  },
  {
   "cell_type": "code",
   "execution_count": 7,
   "id": "7053b2a0",
   "metadata": {},
   "outputs": [],
   "source": [
    "def import_institutions_batch(driver, institutions_list, ignore_key, to_dump_list):\n",
    "    print(f\"Starting import of {len(institutions_list)} institutions...\")\n",
    "    \n",
    "    props_list = []\n",
    "    for institution in institutions_list:\n",
    "        props = institution.copy()\n",
    "\n",
    "        geo_data = props.pop('geo', None)\n",
    "\n",
    "        for key in ignore_key:\n",
    "            if key in props:\n",
    "                del props[key]\n",
    "\n",
    "        for key in to_dump_list:\n",
    "            if key in props:\n",
    "                camel_key = snake_to_camel(key)\n",
    "                props[camel_key] = json.dumps(props.get(key, []))\n",
    "                if key != camel_key:\n",
    "                    del props[key]\n",
    "\n",
    "        institution_id = props.pop('id', None)\n",
    "        \n",
    "        if institution_id:\n",
    "            props_list.append({\n",
    "                'id_param': institution_id,\n",
    "                'props_param': props,       \n",
    "                'geo_param': geo_data       \n",
    "            })\n",
    "\n",
    "    with driver.session() as session:\n",
    "        try:\n",
    "            result = session.run(\"\"\"\n",
    "                UNWIND $props_list AS item\n",
    "                \n",
    "                // 1. Merge the Institution node\n",
    "                MERGE (i:Institution {id: item.id_param})\n",
    "                SET i += item.props_param\n",
    "\n",
    "                // 2. Conditionally merge the Geo node and the relationship\n",
    "                // This FOREACH acts as a \"IF item.geo_param IS NOT NULL THEN...\"\n",
    "                FOREACH (ignored IN CASE WHEN item.geo_param IS NOT NULL THEN [1] ELSE [] END |\n",
    "                    // 2a. Merge the Geo node on its properties\n",
    "                    MERGE (g:Geo {\n",
    "                        city: item.geo_param.city, \n",
    "                        country: item.geo_param.country, \n",
    "                        latitude: item.geo_param.latitude, \n",
    "                        longitude: item.geo_param.longitude\n",
    "                    })\n",
    "                    // 2b. Merge the relationship\n",
    "                    MERGE (i)-[:LOCATED_IN]->(g)\n",
    "                )\n",
    "                \n",
    "                RETURN count(i) AS total_merged\n",
    "                \"\"\", props_list=props_list)\n",
    "            \n",
    "            summary = result.single()\n",
    "            print(f\"Batch import complete. {summary['total_merged']} institutions merged/updated.\")\n",
    "\n",
    "        except Exception as e:\n",
    "            print(f\"Failed to import institution batch: {e}\")"
   ]
  },
  {
   "cell_type": "code",
   "execution_count": null,
   "id": "3fe3d93b",
   "metadata": {},
   "outputs": [],
   "source": [
    "N_institutions = len(institutions_data)\n",
    "batch_size = 500\n",
    "\n",
    "try:\n",
    "    with GraphDatabase.driver(URI, auth=AUTH) as driver:\n",
    "        driver.verify_connectivity()\n",
    "        print(\"✅ Connection successful!\")\n",
    "        \n",
    "        count = 1\n",
    "        for i in range(0, N_institutions, batch_size):\n",
    "            selected_records = institutions_data[i: i+batch_size]\n",
    "            print(f'{count}:')\n",
    "            import_institutions_batch(driver, selected_records, ['topics'], ['countsByYear'])\n",
    "            count += 1\n",
    "            print(2*'\\n')\n",
    "        \n",
    "except Exception as e:\n",
    "    print(f\"❌ An error occurred: {e}\")"
   ]
  },
  {
   "cell_type": "code",
   "execution_count": 20,
   "id": "adeb1237",
   "metadata": {},
   "outputs": [],
   "source": [
    "query = \"\"\"\n",
    "MATCH (g:Geo)\n",
    "RETURN g.country AS country\n",
    "\"\"\"\n",
    "\n",
    "\n",
    "try:\n",
    "    with GraphDatabase.driver(URI, auth=AUTH) as driver:\n",
    "        driver.verify_connectivity()\n",
    "\n",
    "        records, summary, keys = driver.execute_query(query, database_=\"neo4j\")\n",
    "                \n",
    "except Exception as e:\n",
    "    print(f\"❌ An error occurred: {e}\")"
   ]
  },
  {
   "cell_type": "code",
   "execution_count": 21,
   "id": "5f14e0f8",
   "metadata": {},
   "outputs": [
    {
     "data": {
      "text/plain": [
       "106"
      ]
     },
     "execution_count": 21,
     "metadata": {},
     "output_type": "execute_result"
    }
   ],
   "source": [
    "len(set([s.data().get('country') for s in records]))"
   ]
  },
  {
   "cell_type": "code",
   "execution_count": 22,
   "id": "0450926e",
   "metadata": {},
   "outputs": [
    {
     "data": {
      "text/plain": [
       "['United States',\n",
       " 'United Kingdom',\n",
       " 'South Africa',\n",
       " 'Japan',\n",
       " 'China',\n",
       " 'India',\n",
       " 'China',\n",
       " 'Australia',\n",
       " 'United States',\n",
       " 'Switzerland']"
      ]
     },
     "execution_count": 22,
     "metadata": {},
     "output_type": "execute_result"
    }
   ],
   "source": [
    "[s.data().get('country') for s in records[:10]]"
   ]
  },
  {
   "cell_type": "code",
   "execution_count": 23,
   "id": "a9f20c4e",
   "metadata": {},
   "outputs": [
    {
     "data": {
      "text/plain": [
       "5048"
      ]
     },
     "execution_count": 23,
     "metadata": {},
     "output_type": "execute_result"
    }
   ],
   "source": [
    "institutions_topics_relation = [\n",
    "    {\n",
    "        'institution_id_param': institution.get('id'),\n",
    "        'topics_param': [\n",
    "            {\n",
    "                'id': topic.get('id'),\n",
    "                'count': topic.get('count'),\n",
    "            } for topic in institution.get('topics', [])\n",
    "        ]\n",
    "\n",
    "    } for institution in institutions_data\n",
    "]\n",
    "len(institutions_topics_relation)"
   ]
  },
  {
   "cell_type": "code",
   "execution_count": 24,
   "id": "4ae98916",
   "metadata": {},
   "outputs": [
    {
     "data": {
      "text/plain": [
       "{'institution_id_param': 'https://openalex.org/I4210144354',\n",
       " 'topics_param': [{'id': 'https://openalex.org/T10099', 'count': 42},\n",
       "  {'id': 'https://openalex.org/T10022', 'count': 41},\n",
       "  {'id': 'https://openalex.org/T11429', 'count': 21},\n",
       "  {'id': 'https://openalex.org/T10655', 'count': 21},\n",
       "  {'id': 'https://openalex.org/T10472', 'count': 19},\n",
       "  {'id': 'https://openalex.org/T10262', 'count': 13},\n",
       "  {'id': 'https://openalex.org/T10299', 'count': 11},\n",
       "  {'id': 'https://openalex.org/T14117', 'count': 8},\n",
       "  {'id': 'https://openalex.org/T12529', 'count': 8},\n",
       "  {'id': 'https://openalex.org/T10326', 'count': 6},\n",
       "  {'id': 'https://openalex.org/T10069', 'count': 6},\n",
       "  {'id': 'https://openalex.org/T10020', 'count': 6},\n",
       "  {'id': 'https://openalex.org/T10187', 'count': 6},\n",
       "  {'id': 'https://openalex.org/T10125', 'count': 5},\n",
       "  {'id': 'https://openalex.org/T11192', 'count': 5},\n",
       "  {'id': 'https://openalex.org/T10622', 'count': 5},\n",
       "  {'id': 'https://openalex.org/T11325', 'count': 5},\n",
       "  {'id': 'https://openalex.org/T10590', 'count': 5},\n",
       "  {'id': 'https://openalex.org/T10682', 'count': 5},\n",
       "  {'id': 'https://openalex.org/T11527', 'count': 4},\n",
       "  {'id': 'https://openalex.org/T10377', 'count': 4},\n",
       "  {'id': 'https://openalex.org/T11160', 'count': 4},\n",
       "  {'id': 'https://openalex.org/T11853', 'count': 4},\n",
       "  {'id': 'https://openalex.org/T11338', 'count': 4},\n",
       "  {'id': 'https://openalex.org/T11272', 'count': 4}]}"
      ]
     },
     "execution_count": 24,
     "metadata": {},
     "output_type": "execute_result"
    }
   ],
   "source": [
    "institutions_topics_relation[0]"
   ]
  },
  {
   "cell_type": "code",
   "execution_count": 26,
   "id": "48d37f2d",
   "metadata": {},
   "outputs": [
    {
     "name": "stdout",
     "output_type": "stream",
     "text": [
      "✅ Connection successful!\n",
      "\n",
      "Batch import complete.\n",
      "  - 12305 relationships created/merged.\n",
      "\n",
      "\n",
      "Batch import complete.\n",
      "  - 12349 relationships created/merged.\n",
      "\n",
      "\n",
      "Batch import complete.\n",
      "  - 12267 relationships created/merged.\n",
      "\n",
      "\n",
      "Batch import complete.\n",
      "  - 12363 relationships created/merged.\n",
      "\n",
      "\n",
      "Batch import complete.\n",
      "  - 12353 relationships created/merged.\n",
      "\n",
      "\n",
      "Batch import complete.\n",
      "  - 12352 relationships created/merged.\n",
      "\n",
      "\n",
      "Batch import complete.\n",
      "  - 12361 relationships created/merged.\n",
      "\n",
      "\n",
      "Batch import complete.\n",
      "  - 12305 relationships created/merged.\n",
      "\n",
      "\n",
      "Batch import complete.\n",
      "  - 12335 relationships created/merged.\n",
      "\n",
      "\n",
      "Batch import complete.\n",
      "  - 12335 relationships created/merged.\n",
      "\n",
      "\n",
      "Batch import complete.\n",
      "  - 1179 relationships created/merged.\n",
      "\n"
     ]
    }
   ],
   "source": [
    "N = len(institutions_topics_relation)\n",
    "batch_size = 500\n",
    "\n",
    "try:\n",
    "    with GraphDatabase.driver(URI, auth=AUTH) as driver:\n",
    "        driver.verify_connectivity()\n",
    "        print(\"✅ Connection successful!\")\n",
    "        \n",
    "        for i in range(0, N, batch_size):\n",
    "            selected_data = institutions_topics_relation[i:i+batch_size]\n",
    "\n",
    "            with driver.session() as session:\n",
    "\n",
    "                try:\n",
    "                    result = session.run(\"\"\"\n",
    "                        UNWIND $data_list AS item\n",
    "                        \n",
    "                        MATCH (i:Institution {id: item.institution_id_param})\n",
    "                        \n",
    "                        WITH i, item.topics_param AS topics_param\n",
    "                        UNWIND topics_param AS topic_param\n",
    "                        \n",
    "                        MATCH (t:Topic {id: topic_param.id})\n",
    "                        \n",
    "                        MERGE (i)-[r:RELATED_TO]->(t)\n",
    "                        SET r.count = topic_param.count\n",
    "                        \n",
    "                        RETURN count(r) AS relationships_created\n",
    "                        \"\"\", data_list=selected_data)\n",
    "                    \n",
    "                    summary = result.single()\n",
    "                    print(f\"\\nBatch import complete.\")\n",
    "                    print(f\"  - {summary['relationships_created']} relationships created/merged.\")\n",
    "                    print()\n",
    "\n",
    "                except Exception as e:\n",
    "                    # This will fail if a :Domain or :Field node is not found\n",
    "                    print(f\"Failed to import batch: {e}\")\n",
    "        \n",
    "except Exception as e:\n",
    "    print(f\"❌ An error occurred: {e}\")"
   ]
  },
  {
   "cell_type": "code",
   "execution_count": 4,
   "id": "95d7b735",
   "metadata": {},
   "outputs": [
    {
     "data": {
      "text/plain": [
       "17901"
      ]
     },
     "execution_count": 4,
     "metadata": {},
     "output_type": "execute_result"
    }
   ],
   "source": [
    "authors_data = []\n",
    "authors_dir = os.path.join('clean_data', 'authors')\n",
    "\n",
    "for fname in os.listdir(authors_dir):\n",
    "    with open(os.path.join(authors_dir, fname), 'r', encoding='utf-8') as f:\n",
    "        authors_data.extend(json.load(f))\n",
    "\n",
    "random.shuffle(authors_data)\n",
    "len(authors_data)"
   ]
  },
  {
   "cell_type": "code",
   "execution_count": 5,
   "id": "72937969",
   "metadata": {},
   "outputs": [
    {
     "data": {
      "text/plain": [
       "dict_keys(['id', 'orcid', 'name', 'nameAlternatives', 'worksCount', 'numberOfCitation', 'twoYearMeanCitedness', 'hIndex', 'iTenIndex', 'affiliations', 'lastKnownInstitutions', 'topics', 'worksApiUrl', 'counts_by_year'])"
      ]
     },
     "execution_count": 5,
     "metadata": {},
     "output_type": "execute_result"
    }
   ],
   "source": [
    "authors_data[0].keys()"
   ]
  },
  {
   "cell_type": "code",
   "execution_count": 6,
   "id": "3dd15a3d",
   "metadata": {},
   "outputs": [
    {
     "name": "stdout",
     "output_type": "stream",
     "text": [
      "{\n",
      "    \"id\": \"https://openalex.org/A5011193488\",\n",
      "    \"orcid\": \"https://orcid.org/0000-0001-8225-858X\",\n",
      "    \"name\": \"Hu Cao\",\n",
      "    \"nameAlternatives\": [\n",
      "        \"Huasong Cao\",\n",
      "        \"Hong\\u2010fei Cao\",\n",
      "        \"Hu Cao\",\n",
      "        \"H. T. Cao\",\n",
      "        \"Hongkun Cao\",\n",
      "        \"H. Cao\"\n",
      "    ],\n",
      "    \"worksCount\": 103,\n",
      "    \"numberOfCitation\": 5367,\n",
      "    \"twoYearMeanCitedness\": 76.25,\n",
      "    \"hIndex\": 28,\n",
      "    \"iTenIndex\": 55,\n",
      "    \"affiliations\": [\n",
      "        {\n",
      "            \"institution\": \"https://openalex.org/I62916508\",\n",
      "            \"years\": [\n",
      "                2025,\n",
      "                2024,\n",
      "                2023,\n",
      "                2022,\n",
      "                2021,\n",
      "                2020\n",
      "            ]\n",
      "        },\n",
      "        {\n",
      "            \"institution\": \"https://openalex.org/I90610280\",\n",
      "            \"years\": [\n",
      "                2025\n",
      "            ]\n",
      "        },\n",
      "        {\n",
      "            \"institution\": \"https://openalex.org/I4210118629\",\n",
      "            \"years\": [\n",
      "                2025\n",
      "            ]\n",
      "        },\n",
      "        {\n",
      "            \"institution\": \"https://openalex.org/I4210124652\",\n",
      "            \"years\": [\n",
      "                2024\n",
      "            ]\n",
      "        },\n",
      "        {\n",
      "            \"institution\": \"https://openalex.org/I4210132047\",\n",
      "            \"years\": [\n",
      "                2024\n",
      "            ]\n",
      "        },\n",
      "        {\n",
      "            \"institution\": \"https://openalex.org/I4210112065\",\n",
      "            \"years\": [\n",
      "                2023\n",
      "            ]\n",
      "        },\n",
      "        {\n",
      "            \"institution\": \"https://openalex.org/I6469544\",\n",
      "            \"years\": [\n",
      "                2023\n",
      "            ]\n",
      "        },\n",
      "        {\n",
      "            \"institution\": \"https://openalex.org/I204512498\",\n",
      "            \"years\": [\n",
      "                2023\n",
      "            ]\n",
      "        },\n",
      "        {\n",
      "            \"institution\": \"https://openalex.org/I17145004\",\n",
      "            \"years\": [\n",
      "                2023\n",
      "            ]\n",
      "        },\n",
      "        {\n",
      "            \"institution\": \"https://openalex.org/I4210165339\",\n",
      "            \"years\": [\n",
      "                2021,\n",
      "                2016,\n",
      "                2012,\n",
      "                2011,\n",
      "                2010\n",
      "            ]\n",
      "        }\n",
      "    ],\n",
      "    \"lastKnownInstitutions\": [\n",
      "        \"https://openalex.org/I4210118629\"\n",
      "    ],\n",
      "    \"topics\": [\n",
      "        {\n",
      "            \"id\": \"https://openalex.org/T10107\",\n",
      "            \"count\": 26\n",
      "        },\n",
      "        {\n",
      "            \"id\": \"https://openalex.org/T11160\",\n",
      "            \"count\": 17\n",
      "        },\n",
      "        {\n",
      "            \"id\": \"https://openalex.org/T12155\",\n",
      "            \"count\": 16\n",
      "        },\n",
      "        {\n",
      "            \"id\": \"https://openalex.org/T10036\",\n",
      "            \"count\": 13\n",
      "        },\n",
      "        {\n",
      "            \"id\": \"https://openalex.org/T10090\",\n",
      "            \"count\": 11\n",
      "        },\n",
      "        {\n",
      "            \"id\": \"https://openalex.org/T10886\",\n",
      "            \"count\": 9\n",
      "        },\n",
      "        {\n",
      "            \"id\": \"https://openalex.org/T10191\",\n",
      "            \"count\": 8\n",
      "        },\n",
      "        {\n",
      "            \"id\": \"https://openalex.org/T10502\",\n",
      "            \"count\": 8\n",
      "        },\n",
      "        {\n",
      "            \"id\": \"https://openalex.org/T10653\",\n",
      "            \"count\": 8\n",
      "        },\n",
      "        {\n",
      "            \"id\": \"https://openalex.org/T11050\",\n",
      "            \"count\": 6\n",
      "        },\n",
      "        {\n",
      "            \"id\": \"https://openalex.org/T11106\",\n",
      "            \"count\": 6\n",
      "        },\n",
      "        {\n",
      "            \"id\": \"https://openalex.org/T10461\",\n",
      "            \"count\": 5\n",
      "        },\n",
      "        {\n",
      "            \"id\": \"https://openalex.org/T11222\",\n",
      "            \"count\": 5\n",
      "        },\n",
      "        {\n",
      "            \"id\": \"https://openalex.org/T11992\",\n",
      "            \"count\": 5\n",
      "        },\n",
      "        {\n",
      "            \"id\": \"https://openalex.org/T10531\",\n",
      "            \"count\": 5\n",
      "        },\n",
      "        {\n",
      "            \"id\": \"https://openalex.org/T10627\",\n",
      "            \"count\": 4\n",
      "        },\n",
      "        {\n",
      "            \"id\": \"https://openalex.org/T10049\",\n",
      "            \"count\": 4\n",
      "        },\n",
      "        {\n",
      "            \"id\": \"https://openalex.org/T11307\",\n",
      "            \"count\": 4\n",
      "        },\n",
      "        {\n",
      "            \"id\": \"https://openalex.org/T10472\",\n",
      "            \"count\": 4\n",
      "        },\n",
      "        {\n",
      "            \"id\": \"https://openalex.org/T10812\",\n",
      "            \"count\": 4\n",
      "        },\n",
      "        {\n",
      "            \"id\": \"https://openalex.org/T11601\",\n",
      "            \"count\": 4\n",
      "        },\n",
      "        {\n",
      "            \"id\": \"https://openalex.org/T10386\",\n",
      "            \"count\": 4\n",
      "        },\n",
      "        {\n",
      "            \"id\": \"https://openalex.org/T10586\",\n",
      "            \"count\": 3\n",
      "        },\n",
      "        {\n",
      "            \"id\": \"https://openalex.org/T10623\",\n",
      "            \"count\": 3\n",
      "        },\n",
      "        {\n",
      "            \"id\": \"https://openalex.org/T10331\",\n",
      "            \"count\": 3\n",
      "        }\n",
      "    ],\n",
      "    \"worksApiUrl\": \"https://api.openalex.org/works?filter=author.id:A5011193488\",\n",
      "    \"counts_by_year\": [\n",
      "        {\n",
      "            \"year\": 2025,\n",
      "            \"citedByCount\": 926,\n",
      "            \"worksCount\": 8\n",
      "        },\n",
      "        {\n",
      "            \"year\": 2024,\n",
      "            \"citedByCount\": 1286,\n",
      "            \"worksCount\": 15\n",
      "        },\n",
      "        {\n",
      "            \"year\": 2023,\n",
      "            \"citedByCount\": 1049,\n",
      "            \"worksCount\": 7\n",
      "        },\n",
      "        {\n",
      "            \"year\": 2022,\n",
      "            \"citedByCount\": 488,\n",
      "            \"worksCount\": 5\n",
      "        },\n",
      "        {\n",
      "            \"year\": 2021,\n",
      "            \"citedByCount\": 252,\n",
      "            \"worksCount\": 8\n",
      "        },\n",
      "        {\n",
      "            \"year\": 2020,\n",
      "            \"citedByCount\": 148,\n",
      "            \"worksCount\": 6\n",
      "        },\n",
      "        {\n",
      "            \"year\": 2019,\n",
      "            \"citedByCount\": 138,\n",
      "            \"worksCount\": 1\n",
      "        },\n",
      "        {\n",
      "            \"year\": 2018,\n",
      "            \"citedByCount\": 157,\n",
      "            \"worksCount\": 1\n",
      "        },\n",
      "        {\n",
      "            \"year\": 2017,\n",
      "            \"citedByCount\": 139,\n",
      "            \"worksCount\": 0\n",
      "        },\n",
      "        {\n",
      "            \"year\": 2016,\n",
      "            \"citedByCount\": 139,\n",
      "            \"worksCount\": 2\n",
      "        },\n",
      "        {\n",
      "            \"year\": 2015,\n",
      "            \"citedByCount\": 128,\n",
      "            \"worksCount\": 1\n",
      "        },\n",
      "        {\n",
      "            \"year\": 2014,\n",
      "            \"citedByCount\": 184,\n",
      "            \"worksCount\": 1\n",
      "        },\n",
      "        {\n",
      "            \"year\": 2013,\n",
      "            \"citedByCount\": 146,\n",
      "            \"worksCount\": 0\n",
      "        },\n",
      "        {\n",
      "            \"year\": 2012,\n",
      "            \"citedByCount\": 138,\n",
      "            \"worksCount\": 2\n",
      "        }\n",
      "    ]\n",
      "}\n"
     ]
    }
   ],
   "source": [
    "print(json.dumps(authors_data[0], indent=4))"
   ]
  },
  {
   "cell_type": "code",
   "execution_count": 7,
   "id": "cc3fff47",
   "metadata": {},
   "outputs": [],
   "source": [
    "def import_authors_batch(driver, authors_list, ignore_key, to_dump_list):\n",
    "    print(f\"Starting import of {len(authors_list)} authors...\")\n",
    "    \n",
    "    props_list = []\n",
    "    for author in authors_list:\n",
    "        props = author.copy()\n",
    "\n",
    "        for key in ignore_key:\n",
    "            if key in props:\n",
    "                del props[key]\n",
    "\n",
    "        for key in to_dump_list:\n",
    "            props[snake_to_camel(key)] = json.dumps(props.get(key, []))\n",
    "            del props[key]\n",
    "\n",
    "        author_id = props.pop('id', None)\n",
    "        if author_id:\n",
    "            props_list.append({\n",
    "                'id_param': author_id,\n",
    "                'props_param': props\n",
    "            })\n",
    "\n",
    "\n",
    "    with driver.session() as session:\n",
    "        try:\n",
    "            result = session.run(\"\"\"\n",
    "                UNWIND $props_list AS item\n",
    "                MERGE (a:Author {id: item.id_param})\n",
    "                SET a += item.props_param\n",
    "                RETURN count(a) AS total_merged\n",
    "                \"\"\", props_list=props_list)\n",
    "            \n",
    "            summary = result.single()\n",
    "            print(f\"Batch import complete. {summary['total_merged']} authors merged/updated.\")\n",
    "\n",
    "        except Exception as e:\n",
    "            print(f\"Failed to import batch: {e}\")"
   ]
  },
  {
   "cell_type": "code",
   "execution_count": null,
   "id": "c5a7e142",
   "metadata": {},
   "outputs": [],
   "source": [
    "N_authors = len(authors_data)\n",
    "batch_size = 1000\n",
    "\n",
    "try:\n",
    "    with GraphDatabase.driver(URI, auth=AUTH) as driver:\n",
    "        driver.verify_connectivity()\n",
    "        print(\"✅ Connection successful!\")\n",
    "        \n",
    "        count = 1\n",
    "        for i in range(0, N_authors, batch_size):\n",
    "            selected_records = authors_data[i: i+batch_size]\n",
    "            print(f'{count}:')\n",
    "            import_authors_batch(driver, selected_records, ['affiliations', 'lastKnownInstitutions', 'topics'], ['counts_by_year'])\n",
    "            count += 1\n",
    "            print(2*'\\n')\n",
    "        \n",
    "except Exception as e:\n",
    "    print(f\"❌ An error occurred: {e}\")"
   ]
  },
  {
   "cell_type": "code",
   "execution_count": 9,
   "id": "37d68f30",
   "metadata": {},
   "outputs": [],
   "source": [
    "query = \"\"\"\n",
    "MATCH (a:Author)\n",
    "RETURN a.id AS id\n",
    "\"\"\"\n",
    "\n",
    "\n",
    "try:\n",
    "    with GraphDatabase.driver(URI, auth=AUTH) as driver:\n",
    "        driver.verify_connectivity()\n",
    "\n",
    "        records, summary, keys = driver.execute_query(query, database_=\"neo4j\")\n",
    "                \n",
    "except Exception as e:\n",
    "    print(f\"❌ An error occurred: {e}\")"
   ]
  },
  {
   "cell_type": "code",
   "execution_count": 11,
   "id": "9067aa9d",
   "metadata": {},
   "outputs": [
    {
     "data": {
      "text/plain": [
       "17900"
      ]
     },
     "execution_count": 11,
     "metadata": {},
     "output_type": "execute_result"
    }
   ],
   "source": [
    "len(set([s.data().get('id') for s in records]))"
   ]
  },
  {
   "cell_type": "code",
   "execution_count": 12,
   "id": "d7aa64d5",
   "metadata": {},
   "outputs": [
    {
     "data": {
      "text/plain": [
       "17901"
      ]
     },
     "execution_count": 12,
     "metadata": {},
     "output_type": "execute_result"
    }
   ],
   "source": [
    "authors_topics_relation = [\n",
    "    {\n",
    "        'author_id_param': author.get('id'),\n",
    "        'topics_param': [\n",
    "            {\n",
    "                'id': topic.get('id'),\n",
    "                'count': topic.get('count'),\n",
    "            } for topic in author.get('topics', [])\n",
    "        ]\n",
    "\n",
    "    } for author in authors_data\n",
    "]\n",
    "len(authors_topics_relation)"
   ]
  },
  {
   "cell_type": "code",
   "execution_count": 15,
   "id": "a10d6f3c",
   "metadata": {},
   "outputs": [
    {
     "name": "stdout",
     "output_type": "stream",
     "text": [
      "✅ Connection successful!\n"
     ]
    },
    {
     "name": "stdout",
     "output_type": "stream",
     "text": [
      "  - 1460 relationships created/merged.\n",
      "  - 1388 relationships created/merged.\n",
      "  - 1390 relationships created/merged.\n",
      "  - 1306 relationships created/merged.\n",
      "  - 1359 relationships created/merged.\n",
      "  - 1430 relationships created/merged.\n",
      "  - 1275 relationships created/merged.\n",
      "  - 1492 relationships created/merged.\n",
      "  - 1572 relationships created/merged.\n",
      "  - 1272 relationships created/merged.\n",
      "  - 1371 relationships created/merged.\n",
      "  - 1349 relationships created/merged.\n",
      "  - 1446 relationships created/merged.\n",
      "  - 1441 relationships created/merged.\n",
      "  - 1202 relationships created/merged.\n",
      "  - 1381 relationships created/merged.\n",
      "  - 1452 relationships created/merged.\n",
      "  - 1336 relationships created/merged.\n",
      "  - 1496 relationships created/merged.\n",
      "  - 1336 relationships created/merged.\n",
      "  - 1348 relationships created/merged.\n",
      "  - 1236 relationships created/merged.\n",
      "  - 1407 relationships created/merged.\n",
      "  - 1418 relationships created/merged.\n",
      "  - 1437 relationships created/merged.\n",
      "  - 1346 relationships created/merged.\n",
      "  - 1284 relationships created/merged.\n",
      "  - 1404 relationships created/merged.\n",
      "  - 1407 relationships created/merged.\n",
      "  - 1512 relationships created/merged.\n",
      "  - 1256 relationships created/merged.\n",
      "  - 1455 relationships created/merged.\n",
      "  - 1363 relationships created/merged.\n",
      "  - 1263 relationships created/merged.\n",
      "  - 1495 relationships created/merged.\n",
      "  - 1481 relationships created/merged.\n",
      "  - 1457 relationships created/merged.\n",
      "  - 1258 relationships created/merged.\n",
      "  - 1386 relationships created/merged.\n",
      "  - 1546 relationships created/merged.\n",
      "  - 1379 relationships created/merged.\n",
      "  - 1375 relationships created/merged.\n",
      "  - 1430 relationships created/merged.\n",
      "  - 1185 relationships created/merged.\n",
      "  - 1589 relationships created/merged.\n",
      "  - 1371 relationships created/merged.\n",
      "  - 1462 relationships created/merged.\n",
      "  - 1446 relationships created/merged.\n",
      "  - 1315 relationships created/merged.\n",
      "  - 1438 relationships created/merged.\n",
      "  - 1567 relationships created/merged.\n",
      "  - 1260 relationships created/merged.\n",
      "  - 1556 relationships created/merged.\n",
      "  - 1362 relationships created/merged.\n",
      "  - 1447 relationships created/merged.\n",
      "  - 1349 relationships created/merged.\n",
      "  - 1413 relationships created/merged.\n",
      "  - 1425 relationships created/merged.\n",
      "  - 1505 relationships created/merged.\n",
      "  - 1388 relationships created/merged.\n",
      "  - 1396 relationships created/merged.\n",
      "  - 1432 relationships created/merged.\n",
      "  - 1230 relationships created/merged.\n",
      "  - 1177 relationships created/merged.\n",
      "  - 1353 relationships created/merged.\n",
      "  - 1251 relationships created/merged.\n",
      "  - 1404 relationships created/merged.\n",
      "  - 1564 relationships created/merged.\n",
      "  - 1418 relationships created/merged.\n",
      "  - 1386 relationships created/merged.\n",
      "  - 1321 relationships created/merged.\n",
      "  - 1443 relationships created/merged.\n",
      "  - 1405 relationships created/merged.\n",
      "  - 1451 relationships created/merged.\n",
      "  - 1387 relationships created/merged.\n",
      "  - 1431 relationships created/merged.\n",
      "  - 1389 relationships created/merged.\n",
      "  - 1323 relationships created/merged.\n",
      "  - 1372 relationships created/merged.\n",
      "  - 1487 relationships created/merged.\n",
      "  - 1500 relationships created/merged.\n",
      "  - 1361 relationships created/merged.\n",
      "  - 1249 relationships created/merged.\n",
      "  - 1352 relationships created/merged.\n",
      "  - 1304 relationships created/merged.\n",
      "  - 1417 relationships created/merged.\n",
      "  - 1590 relationships created/merged.\n",
      "  - 1444 relationships created/merged.\n",
      "  - 1443 relationships created/merged.\n",
      "  - 1308 relationships created/merged.\n",
      "  - 1153 relationships created/merged.\n",
      "  - 1341 relationships created/merged.\n",
      "  - 1339 relationships created/merged.\n",
      "  - 1377 relationships created/merged.\n",
      "  - 1434 relationships created/merged.\n",
      "  - 1498 relationships created/merged.\n",
      "  - 1504 relationships created/merged.\n",
      "  - 1588 relationships created/merged.\n",
      "  - 1265 relationships created/merged.\n",
      "  - 1424 relationships created/merged.\n",
      "  - 1320 relationships created/merged.\n",
      "  - 1436 relationships created/merged.\n",
      "  - 1481 relationships created/merged.\n",
      "  - 1400 relationships created/merged.\n",
      "  - 1335 relationships created/merged.\n",
      "  - 1189 relationships created/merged.\n",
      "  - 1310 relationships created/merged.\n",
      "  - 1523 relationships created/merged.\n",
      "  - 1391 relationships created/merged.\n",
      "  - 1355 relationships created/merged.\n",
      "  - 1428 relationships created/merged.\n",
      "  - 1586 relationships created/merged.\n",
      "  - 1448 relationships created/merged.\n",
      "  - 1442 relationships created/merged.\n",
      "  - 1308 relationships created/merged.\n",
      "  - 1337 relationships created/merged.\n",
      "  - 1542 relationships created/merged.\n",
      "  - 1481 relationships created/merged.\n",
      "  - 1470 relationships created/merged.\n",
      "  - 1297 relationships created/merged.\n",
      "  - 1432 relationships created/merged.\n",
      "  - 1482 relationships created/merged.\n",
      "  - 1361 relationships created/merged.\n",
      "  - 1376 relationships created/merged.\n",
      "  - 1371 relationships created/merged.\n",
      "  - 1364 relationships created/merged.\n",
      "  - 1207 relationships created/merged.\n",
      "  - 1559 relationships created/merged.\n",
      "  - 1422 relationships created/merged.\n",
      "  - 1322 relationships created/merged.\n",
      "  - 1326 relationships created/merged.\n",
      "  - 1573 relationships created/merged.\n",
      "  - 1397 relationships created/merged.\n",
      "  - 1306 relationships created/merged.\n",
      "  - 1566 relationships created/merged.\n",
      "  - 1380 relationships created/merged.\n",
      "  - 1388 relationships created/merged.\n",
      "  - 1389 relationships created/merged.\n",
      "  - 1441 relationships created/merged.\n",
      "  - 1388 relationships created/merged.\n",
      "  - 1500 relationships created/merged.\n",
      "  - 1420 relationships created/merged.\n",
      "  - 1472 relationships created/merged.\n",
      "  - 1353 relationships created/merged.\n",
      "  - 1389 relationships created/merged.\n",
      "  - 1438 relationships created/merged.\n",
      "  - 1333 relationships created/merged.\n",
      "  - 1561 relationships created/merged.\n",
      "  - 1453 relationships created/merged.\n",
      "  - 1337 relationships created/merged.\n",
      "  - 1284 relationships created/merged.\n",
      "  - 1449 relationships created/merged.\n",
      "  - 1498 relationships created/merged.\n",
      "  - 1248 relationships created/merged.\n",
      "  - 1372 relationships created/merged.\n",
      "  - 1553 relationships created/merged.\n",
      "  - 1405 relationships created/merged.\n",
      "  - 1358 relationships created/merged.\n",
      "  - 1500 relationships created/merged.\n",
      "  - 1190 relationships created/merged.\n",
      "  - 1406 relationships created/merged.\n",
      "  - 1249 relationships created/merged.\n",
      "  - 1398 relationships created/merged.\n",
      "  - 1365 relationships created/merged.\n",
      "  - 1267 relationships created/merged.\n",
      "  - 1639 relationships created/merged.\n",
      "  - 1363 relationships created/merged.\n",
      "  - 1443 relationships created/merged.\n",
      "  - 1334 relationships created/merged.\n",
      "  - 1280 relationships created/merged.\n",
      "  - 1450 relationships created/merged.\n",
      "  - 1402 relationships created/merged.\n",
      "  - 1392 relationships created/merged.\n",
      "  - 1229 relationships created/merged.\n",
      "  - 1284 relationships created/merged.\n",
      "  - 1438 relationships created/merged.\n",
      "  - 1363 relationships created/merged.\n",
      "  - 1366 relationships created/merged.\n",
      "  - 1533 relationships created/merged.\n",
      "  - 25 relationships created/merged.\n"
     ]
    }
   ],
   "source": [
    "N = len(authors_topics_relation)\n",
    "batch_size = 100\n",
    "\n",
    "try:\n",
    "    with GraphDatabase.driver(URI, auth=AUTH) as driver:\n",
    "        driver.verify_connectivity()\n",
    "        print(\"✅ Connection successful!\")\n",
    "        \n",
    "        for i in range(0, N, batch_size):\n",
    "            selected_data = authors_topics_relation[i:i+batch_size]\n",
    "\n",
    "            with driver.session() as session:\n",
    "\n",
    "                try:\n",
    "                    result = session.run(\"\"\"\n",
    "                        UNWIND $data_list AS item\n",
    "                        \n",
    "                        MATCH (a:Author {id: item.author_id_param})\n",
    "                        \n",
    "                        WITH a, item.topics_param AS topics_param\n",
    "                        UNWIND topics_param AS topic_param\n",
    "                        \n",
    "                        MATCH (t:Topic {id: topic_param.id})\n",
    "                        \n",
    "                        MERGE (a)-[r:RELATED_TO]->(t)\n",
    "                        SET r.count = topic_param.count\n",
    "                        \n",
    "                        RETURN count(r) AS relationships_created\n",
    "                        \"\"\", data_list=selected_data)\n",
    "                    \n",
    "                    summary = result.single()\n",
    "                    # print(f\"\\nBatch import complete.\")\n",
    "                    print(f\"  - {summary['relationships_created']} relationships created/merged.\")\n",
    "                    # print()\n",
    "\n",
    "                except Exception as e:\n",
    "                    # This will fail if a :Domain or :Field node is not found\n",
    "                    print(f\"Failed to import batch: {e}\")\n",
    "        \n",
    "except Exception as e:\n",
    "    print(f\"❌ An error occurred: {e}\")"
   ]
  },
  {
   "cell_type": "code",
   "execution_count": 18,
   "id": "9dc8299b",
   "metadata": {},
   "outputs": [
    {
     "data": {
      "text/plain": [
       "17901"
      ]
     },
     "execution_count": 18,
     "metadata": {},
     "output_type": "execute_result"
    }
   ],
   "source": [
    "authors_lastKnownInstitutions_relation = [\n",
    "    {\n",
    "        'author_id': author.get('id'),\n",
    "        'lastKnownInstitutions_ids': author.get('lastKnownInstitutions'),\n",
    "\n",
    "    } for author in authors_data\n",
    "]\n",
    "len(authors_lastKnownInstitutions_relation)"
   ]
  },
  {
   "cell_type": "code",
   "execution_count": 21,
   "id": "21af65ba",
   "metadata": {},
   "outputs": [
    {
     "data": {
      "text/plain": [
       "{'author_id': 'https://openalex.org/A5049077907',\n",
       " 'lastKnownInstitutions_ids': ['https://openalex.org/I1294671590',\n",
       "  'https://openalex.org/I4210159245']}"
      ]
     },
     "execution_count": 21,
     "metadata": {},
     "output_type": "execute_result"
    }
   ],
   "source": [
    "authors_lastKnownInstitutions_relation[2]"
   ]
  },
  {
   "cell_type": "code",
   "execution_count": 22,
   "id": "22840511",
   "metadata": {},
   "outputs": [
    {
     "name": "stdout",
     "output_type": "stream",
     "text": [
      "✅ Connection successful!\n",
      "  - 2300 relationships created/merged.\n",
      "  - 2323 relationships created/merged.\n",
      "  - 2322 relationships created/merged.\n",
      "  - 2368 relationships created/merged.\n",
      "  - 2359 relationships created/merged.\n",
      "  - 2292 relationships created/merged.\n",
      "  - 2332 relationships created/merged.\n",
      "  - 2337 relationships created/merged.\n",
      "  - 2162 relationships created/merged.\n"
     ]
    }
   ],
   "source": [
    "N = len(authors_lastKnownInstitutions_relation)\n",
    "batch_size = 2000\n",
    "\n",
    "try:\n",
    "    with GraphDatabase.driver(URI, auth=AUTH) as driver:\n",
    "        driver.verify_connectivity()\n",
    "        print(\"✅ Connection successful!\")\n",
    "        \n",
    "        for i in range(0, N, batch_size):\n",
    "            selected_data = authors_lastKnownInstitutions_relation[i:i+batch_size]\n",
    "\n",
    "            with driver.session() as session:\n",
    "\n",
    "                try:\n",
    "                    result = session.run(\"\"\"\n",
    "                        UNWIND $data_list AS item\n",
    "                        \n",
    "                        MATCH (a:Author {id: item.author_id})\n",
    "                        \n",
    "                        WITH a, item.lastKnownInstitutions_ids AS instituations_param\n",
    "                        UNWIND instituations_param AS instituation_id\n",
    "                        \n",
    "                        MATCH (i:Institution {id: instituation_id})\n",
    "                        \n",
    "                        MERGE (a)-[r:LAST_KNOWN_AFFILIATION]->(i)\n",
    "                        \n",
    "                        RETURN count(r) AS relationships_created\n",
    "                        \"\"\", data_list=selected_data)\n",
    "                    \n",
    "                    summary = result.single()\n",
    "                    # print(f\"\\nBatch import complete.\")\n",
    "                    print(f\"  - {summary['relationships_created']} relationships created/merged.\")\n",
    "                    # print()\n",
    "\n",
    "                except Exception as e:\n",
    "                    # This will fail if a :Domain or :Field node is not found\n",
    "                    print(f\"Failed to import batch: {e}\")\n",
    "        \n",
    "except Exception as e:\n",
    "    print(f\"❌ An error occurred: {e}\")"
   ]
  },
  {
   "cell_type": "code",
   "execution_count": 24,
   "id": "49136161",
   "metadata": {},
   "outputs": [
    {
     "name": "stdout",
     "output_type": "stream",
     "text": [
      "[\n",
      "    {\n",
      "        \"institution\": \"https://openalex.org/I62916508\",\n",
      "        \"years\": [\n",
      "            2025,\n",
      "            2024,\n",
      "            2023,\n",
      "            2022,\n",
      "            2021,\n",
      "            2020\n",
      "        ]\n",
      "    },\n",
      "    {\n",
      "        \"institution\": \"https://openalex.org/I90610280\",\n",
      "        \"years\": [\n",
      "            2025\n",
      "        ]\n",
      "    },\n",
      "    {\n",
      "        \"institution\": \"https://openalex.org/I4210118629\",\n",
      "        \"years\": [\n",
      "            2025\n",
      "        ]\n",
      "    },\n",
      "    {\n",
      "        \"institution\": \"https://openalex.org/I4210124652\",\n",
      "        \"years\": [\n",
      "            2024\n",
      "        ]\n",
      "    },\n",
      "    {\n",
      "        \"institution\": \"https://openalex.org/I4210132047\",\n",
      "        \"years\": [\n",
      "            2024\n",
      "        ]\n",
      "    },\n",
      "    {\n",
      "        \"institution\": \"https://openalex.org/I4210112065\",\n",
      "        \"years\": [\n",
      "            2023\n",
      "        ]\n",
      "    },\n",
      "    {\n",
      "        \"institution\": \"https://openalex.org/I6469544\",\n",
      "        \"years\": [\n",
      "            2023\n",
      "        ]\n",
      "    },\n",
      "    {\n",
      "        \"institution\": \"https://openalex.org/I204512498\",\n",
      "        \"years\": [\n",
      "            2023\n",
      "        ]\n",
      "    },\n",
      "    {\n",
      "        \"institution\": \"https://openalex.org/I17145004\",\n",
      "        \"years\": [\n",
      "            2023\n",
      "        ]\n",
      "    },\n",
      "    {\n",
      "        \"institution\": \"https://openalex.org/I4210165339\",\n",
      "        \"years\": [\n",
      "            2021,\n",
      "            2016,\n",
      "            2012,\n",
      "            2011,\n",
      "            2010\n",
      "        ]\n",
      "    }\n",
      "]\n"
     ]
    }
   ],
   "source": [
    "print(json.dumps(authors_data[0].get('affiliations'), indent=4))"
   ]
  },
  {
   "cell_type": "code",
   "execution_count": 10,
   "id": "2fe9be76",
   "metadata": {},
   "outputs": [
    {
     "data": {
      "text/plain": [
       "17901"
      ]
     },
     "execution_count": 10,
     "metadata": {},
     "output_type": "execute_result"
    }
   ],
   "source": [
    "author_affiliations_relation = [\n",
    "    {\n",
    "        'author_id': author.get('id'),\n",
    "        'affiliations_param': [\n",
    "            {\n",
    "                'id': affiliation.get('institution'),\n",
    "                'years': affiliation.get('years'),\n",
    "            } for affiliation in author.get('affiliations', [])\n",
    "        ]\n",
    "\n",
    "    } for author in authors_data\n",
    "]\n",
    "len(author_affiliations_relation)"
   ]
  },
  {
   "cell_type": "code",
   "execution_count": 11,
   "id": "5b415763",
   "metadata": {},
   "outputs": [
    {
     "data": {
      "text/plain": [
       "{'author_id': 'https://openalex.org/A5103134187',\n",
       " 'affiliations_param': [{'id': 'https://openalex.org/I4210164787',\n",
       "   'years': [2025]},\n",
       "  {'id': 'https://openalex.org/I194450716',\n",
       "   'years': [2024, 2023, 2022, 2021, 2018, 2016, 2015, 2013, 2012, 2011]},\n",
       "  {'id': 'https://openalex.org/I4392738231',\n",
       "   'years': [2024, 2023, 2022, 2018, 2013]},\n",
       "  {'id': 'https://openalex.org/I4210122543',\n",
       "   'years': [2024, 2023, 2022, 2018, 2017, 2015, 2012, 2010]},\n",
       "  {'id': 'https://openalex.org/I90610280',\n",
       "   'years': [2023, 2022, 2020, 2019, 2018, 2010]},\n",
       "  {'id': 'https://openalex.org/I181361081', 'years': [2023]},\n",
       "  {'id': 'https://openalex.org/I4210127074', 'years': [2022]},\n",
       "  {'id': 'https://openalex.org/I4210088511', 'years': [2022]},\n",
       "  {'id': 'https://openalex.org/I198357462', 'years': [2022]},\n",
       "  {'id': 'https://openalex.org/I98227222', 'years': [2022]}]}"
      ]
     },
     "execution_count": 11,
     "metadata": {},
     "output_type": "execute_result"
    }
   ],
   "source": [
    "author_affiliations_relation[0]"
   ]
  },
  {
   "cell_type": "code",
   "execution_count": 8,
   "id": "1337d2b0",
   "metadata": {},
   "outputs": [
    {
     "data": {
      "text/plain": [
       "17901"
      ]
     },
     "execution_count": 8,
     "metadata": {},
     "output_type": "execute_result"
    }
   ],
   "source": [
    "N"
   ]
  },
  {
   "cell_type": "code",
   "execution_count": 12,
   "id": "d1e5177b",
   "metadata": {},
   "outputs": [
    {
     "name": "stdout",
     "output_type": "stream",
     "text": [
      "✅ Connection successful!\n"
     ]
    },
    {
     "name": "stdout",
     "output_type": "stream",
     "text": [
      "  - 548 relationships created/merged.\n",
      "  - 516 relationships created/merged.\n",
      "  - 560 relationships created/merged.\n",
      "  - 516 relationships created/merged.\n",
      "  - 542 relationships created/merged.\n",
      "  - 484 relationships created/merged.\n",
      "  - 536 relationships created/merged.\n",
      "  - 572 relationships created/merged.\n",
      "  - 527 relationships created/merged.\n",
      "  - 541 relationships created/merged.\n",
      "  - 581 relationships created/merged.\n",
      "  - 533 relationships created/merged.\n",
      "  - 552 relationships created/merged.\n",
      "  - 585 relationships created/merged.\n",
      "  - 515 relationships created/merged.\n",
      "  - 580 relationships created/merged.\n",
      "  - 577 relationships created/merged.\n",
      "  - 562 relationships created/merged.\n",
      "  - 528 relationships created/merged.\n",
      "  - 572 relationships created/merged.\n",
      "  - 515 relationships created/merged.\n",
      "  - 574 relationships created/merged.\n",
      "  - 578 relationships created/merged.\n",
      "  - 537 relationships created/merged.\n",
      "  - 577 relationships created/merged.\n",
      "  - 545 relationships created/merged.\n",
      "  - 531 relationships created/merged.\n",
      "  - 589 relationships created/merged.\n",
      "  - 545 relationships created/merged.\n",
      "  - 590 relationships created/merged.\n",
      "  - 524 relationships created/merged.\n",
      "  - 585 relationships created/merged.\n",
      "  - 554 relationships created/merged.\n",
      "  - 580 relationships created/merged.\n",
      "  - 519 relationships created/merged.\n",
      "  - 500 relationships created/merged.\n",
      "  - 566 relationships created/merged.\n",
      "  - 579 relationships created/merged.\n",
      "  - 523 relationships created/merged.\n",
      "  - 530 relationships created/merged.\n",
      "  - 537 relationships created/merged.\n",
      "  - 591 relationships created/merged.\n",
      "  - 569 relationships created/merged.\n",
      "  - 535 relationships created/merged.\n",
      "  - 521 relationships created/merged.\n",
      "  - 583 relationships created/merged.\n",
      "  - 598 relationships created/merged.\n",
      "  - 520 relationships created/merged.\n",
      "  - 557 relationships created/merged.\n",
      "  - 568 relationships created/merged.\n",
      "  - 516 relationships created/merged.\n",
      "  - 548 relationships created/merged.\n",
      "  - 542 relationships created/merged.\n",
      "  - 522 relationships created/merged.\n",
      "  - 587 relationships created/merged.\n",
      "  - 580 relationships created/merged.\n",
      "  - 538 relationships created/merged.\n",
      "  - 545 relationships created/merged.\n",
      "  - 575 relationships created/merged.\n",
      "  - 587 relationships created/merged.\n",
      "  - 534 relationships created/merged.\n",
      "  - 526 relationships created/merged.\n",
      "  - 583 relationships created/merged.\n",
      "  - 590 relationships created/merged.\n",
      "  - 547 relationships created/merged.\n",
      "  - 519 relationships created/merged.\n",
      "  - 501 relationships created/merged.\n",
      "  - 524 relationships created/merged.\n",
      "  - 531 relationships created/merged.\n",
      "  - 541 relationships created/merged.\n",
      "  - 464 relationships created/merged.\n",
      "  - 540 relationships created/merged.\n",
      "  - 583 relationships created/merged.\n",
      "  - 538 relationships created/merged.\n",
      "  - 590 relationships created/merged.\n",
      "  - 497 relationships created/merged.\n",
      "  - 587 relationships created/merged.\n",
      "  - 503 relationships created/merged.\n",
      "  - 546 relationships created/merged.\n",
      "  - 547 relationships created/merged.\n",
      "  - 534 relationships created/merged.\n",
      "  - 530 relationships created/merged.\n",
      "  - 554 relationships created/merged.\n",
      "  - 564 relationships created/merged.\n",
      "  - 557 relationships created/merged.\n",
      "  - 572 relationships created/merged.\n",
      "  - 550 relationships created/merged.\n",
      "  - 543 relationships created/merged.\n",
      "  - 527 relationships created/merged.\n",
      "  - 586 relationships created/merged.\n",
      "  - 560 relationships created/merged.\n",
      "  - 564 relationships created/merged.\n",
      "  - 601 relationships created/merged.\n",
      "  - 520 relationships created/merged.\n",
      "  - 509 relationships created/merged.\n",
      "  - 587 relationships created/merged.\n",
      "  - 517 relationships created/merged.\n",
      "  - 535 relationships created/merged.\n",
      "  - 558 relationships created/merged.\n",
      "  - 502 relationships created/merged.\n",
      "  - 598 relationships created/merged.\n",
      "  - 543 relationships created/merged.\n",
      "  - 584 relationships created/merged.\n",
      "  - 521 relationships created/merged.\n",
      "  - 512 relationships created/merged.\n",
      "  - 605 relationships created/merged.\n",
      "  - 523 relationships created/merged.\n",
      "  - 547 relationships created/merged.\n",
      "  - 519 relationships created/merged.\n",
      "  - 488 relationships created/merged.\n",
      "  - 510 relationships created/merged.\n",
      "  - 542 relationships created/merged.\n",
      "  - 494 relationships created/merged.\n",
      "  - 543 relationships created/merged.\n",
      "  - 605 relationships created/merged.\n",
      "  - 557 relationships created/merged.\n",
      "  - 517 relationships created/merged.\n",
      "  - 570 relationships created/merged.\n",
      "  - 548 relationships created/merged.\n",
      "  - 491 relationships created/merged.\n",
      "  - 526 relationships created/merged.\n",
      "  - 502 relationships created/merged.\n",
      "  - 538 relationships created/merged.\n",
      "  - 555 relationships created/merged.\n",
      "  - 548 relationships created/merged.\n",
      "  - 526 relationships created/merged.\n",
      "  - 572 relationships created/merged.\n",
      "  - 588 relationships created/merged.\n",
      "  - 506 relationships created/merged.\n",
      "  - 547 relationships created/merged.\n",
      "  - 564 relationships created/merged.\n",
      "  - 525 relationships created/merged.\n",
      "  - 569 relationships created/merged.\n",
      "  - 549 relationships created/merged.\n",
      "  - 507 relationships created/merged.\n",
      "  - 542 relationships created/merged.\n",
      "  - 494 relationships created/merged.\n",
      "  - 507 relationships created/merged.\n",
      "  - 489 relationships created/merged.\n",
      "  - 539 relationships created/merged.\n",
      "  - 562 relationships created/merged.\n",
      "  - 512 relationships created/merged.\n",
      "  - 464 relationships created/merged.\n",
      "  - 515 relationships created/merged.\n",
      "  - 540 relationships created/merged.\n",
      "  - 493 relationships created/merged.\n",
      "  - 568 relationships created/merged.\n",
      "  - 527 relationships created/merged.\n",
      "  - 598 relationships created/merged.\n",
      "  - 597 relationships created/merged.\n",
      "  - 484 relationships created/merged.\n",
      "  - 518 relationships created/merged.\n",
      "  - 560 relationships created/merged.\n",
      "  - 560 relationships created/merged.\n",
      "  - 552 relationships created/merged.\n",
      "  - 531 relationships created/merged.\n",
      "  - 533 relationships created/merged.\n",
      "  - 531 relationships created/merged.\n",
      "  - 597 relationships created/merged.\n",
      "  - 511 relationships created/merged.\n",
      "  - 535 relationships created/merged.\n",
      "  - 544 relationships created/merged.\n",
      "  - 510 relationships created/merged.\n",
      "  - 569 relationships created/merged.\n",
      "  - 512 relationships created/merged.\n",
      "  - 549 relationships created/merged.\n",
      "  - 573 relationships created/merged.\n",
      "  - 496 relationships created/merged.\n",
      "  - 582 relationships created/merged.\n",
      "  - 561 relationships created/merged.\n",
      "  - 591 relationships created/merged.\n",
      "  - 539 relationships created/merged.\n",
      "  - 594 relationships created/merged.\n",
      "  - 557 relationships created/merged.\n",
      "  - 566 relationships created/merged.\n",
      "  - 531 relationships created/merged.\n",
      "  - 528 relationships created/merged.\n",
      "  - 552 relationships created/merged.\n",
      "  - 506 relationships created/merged.\n",
      "  - 10 relationships created/merged.\n"
     ]
    }
   ],
   "source": [
    "N = len(author_affiliations_relation)\n",
    "batch_size = 100\n",
    "\n",
    "try:\n",
    "    with GraphDatabase.driver(URI, auth=AUTH) as driver:\n",
    "        driver.verify_connectivity()\n",
    "        print(\"✅ Connection successful!\")\n",
    "        \n",
    "        for i in range(0, N, batch_size):\n",
    "            selected_data = author_affiliations_relation[i:i+batch_size]\n",
    "\n",
    "            with driver.session() as session:\n",
    "\n",
    "                try:\n",
    "                    result = session.run(\"\"\"\n",
    "                        UNWIND $data_list AS item\n",
    "                        \n",
    "                        MATCH (a:Author {id: item.author_id})\n",
    "                        \n",
    "                        WITH a, item.affiliations_param AS affiliations_param\n",
    "                        UNWIND affiliations_param AS affiliation_param\n",
    "                        \n",
    "                        MATCH (i:Institution {id: affiliation_param.id})\n",
    "                        \n",
    "                        MERGE (a)-[r:AFFILIATED_WITH]->(i)\n",
    "                        SET r.years = affiliation_param.years\n",
    "                        \n",
    "                        RETURN count(r) AS relationships_created\n",
    "                        \"\"\", data_list=selected_data)\n",
    "                    \n",
    "                    summary = result.single()\n",
    "                    # print(f\"\\nBatch import complete.\")\n",
    "                    print(f\"  - {summary['relationships_created']} relationships created/merged.\")\n",
    "                    # print()\n",
    "\n",
    "                except Exception as e:\n",
    "                    # This will fail if a :Domain or :Field node is not found\n",
    "                    print(f\"Failed to import batch: {e}\")\n",
    "        \n",
    "except Exception as e:\n",
    "    print(f\"❌ An error occurred: {e}\")"
   ]
  },
  {
   "cell_type": "code",
   "execution_count": 4,
   "id": "69662742",
   "metadata": {},
   "outputs": [
    {
     "data": {
      "text/plain": [
       "6671"
      ]
     },
     "execution_count": 4,
     "metadata": {},
     "output_type": "execute_result"
    }
   ],
   "source": [
    "papers_data = []\n",
    "papers_dir = os.path.join('clean_data', 'papers')\n",
    "\n",
    "for fname in os.listdir(papers_dir):\n",
    "    with open(os.path.join(papers_dir, fname), 'r', encoding='utf-8') as f:\n",
    "        papers_data.extend(json.load(f))\n",
    "\n",
    "random.shuffle(papers_data)\n",
    "len(papers_data)"
   ]
  },
  {
   "cell_type": "code",
   "execution_count": 5,
   "id": "b720e62e",
   "metadata": {},
   "outputs": [
    {
     "data": {
      "text/plain": [
       "dict_keys(['paper', 'authorship', 'source', 'referencedWorks', 'relatedWorks', 'grants', 'concepts', 'keywords', 'topics'])"
      ]
     },
     "execution_count": 5,
     "metadata": {},
     "output_type": "execute_result"
    }
   ],
   "source": [
    "papers_data[0].keys()"
   ]
  },
  {
   "cell_type": "code",
   "execution_count": 18,
   "id": "61f15038",
   "metadata": {},
   "outputs": [
    {
     "name": "stdout",
     "output_type": "stream",
     "text": [
      "{\n",
      "    \"paper\": {\n",
      "        \"id\": \"https://openalex.org/W3175984392\",\n",
      "        \"doi\": \"https://doi.org/10.1016/j.cose.2021.102269\",\n",
      "        \"title\": \"A survey on security attacks and defense techniques for connected and autonomous vehicles\",\n",
      "        \"publicationYear\": 2021,\n",
      "        \"language\": \"en\",\n",
      "        \"type\": \"article\",\n",
      "        \"crossrefType\": \"journal-article\",\n",
      "        \"numberOfCiteation\": 145,\n",
      "        \"FieldWeightedCitationImpact\": 9.612,\n",
      "        \"countsByYear\": [\n",
      "            {\n",
      "                \"year\": 2025,\n",
      "                \"cited_by_count\": 24\n",
      "            },\n",
      "            {\n",
      "                \"year\": 2024,\n",
      "                \"cited_by_count\": 37\n",
      "            },\n",
      "            {\n",
      "                \"year\": 2023,\n",
      "                \"cited_by_count\": 46\n",
      "            },\n",
      "            {\n",
      "                \"year\": 2022,\n",
      "                \"cited_by_count\": 30\n",
      "            },\n",
      "            {\n",
      "                \"year\": 2021,\n",
      "                \"cited_by_count\": 7\n",
      "            },\n",
      "            {\n",
      "                \"year\": 2020,\n",
      "                \"cited_by_count\": 1\n",
      "            }\n",
      "        ],\n",
      "        \"pdfUrl\": null\n",
      "    },\n",
      "    \"authorship\": [\n",
      "        {\n",
      "            \"authorPosition\": \"first\",\n",
      "            \"author\": {\n",
      "                \"id\": \"https://openalex.org/A5041210683\",\n",
      "                \"institutions\": [\n",
      "                    \"https://openalex.org/I2613432\"\n",
      "                ],\n",
      "                \"isCorresponding\": true,\n",
      "                \"affiliations\": [\n",
      "                    \"Department of Computer Science and Engineering, University of South Florida, United States\"\n",
      "                ]\n",
      "            }\n",
      "        },\n",
      "        {\n",
      "            \"authorPosition\": \"last\",\n",
      "            \"author\": {\n",
      "                \"id\": \"https://openalex.org/A5101689516\",\n",
      "                \"institutions\": [\n",
      "                    \"https://openalex.org/I2613432\"\n",
      "                ],\n",
      "                \"isCorresponding\": false,\n",
      "                \"affiliations\": [\n",
      "                    \"Intelligent Computer Networking and Security Laboratory, Florida Center for Cybersecurity, Department of Mathematics and Statistics, Department of Electrical Engineering, University of South Florida, United States\"\n",
      "                ]\n",
      "            }\n",
      "        }\n",
      "    ],\n",
      "    \"source\": {\n",
      "        \"id\": \"https://openalex.org/S12529635\",\n",
      "        \"hostOrganizationId\": \"https://openalex.org/P4310320990\",\n",
      "        \"volume\": \"109\",\n",
      "        \"issue\": null\n",
      "    },\n",
      "    \"referencedWorks\": [\n",
      "        \"https://openalex.org/W108035210\",\n",
      "        \"https://openalex.org/W1118749013\",\n",
      "        \"https://openalex.org/W132854298\",\n",
      "        \"https://openalex.org/W148325049\",\n",
      "        \"https://openalex.org/W1494162088\",\n",
      "        \"https://openalex.org/W1496575478\",\n",
      "        \"https://openalex.org/W1528633930\",\n",
      "        \"https://openalex.org/W1560146954\",\n",
      "        \"https://openalex.org/W1574415977\",\n",
      "        \"https://openalex.org/W1598868193\",\n",
      "        \"https://openalex.org/W1629374427\",\n",
      "        \"https://openalex.org/W1655377165\",\n",
      "        \"https://openalex.org/W1665366368\",\n",
      "        \"https://openalex.org/W1809484041\",\n",
      "        \"https://openalex.org/W1845372325\",\n",
      "        \"https://openalex.org/W1862709107\",\n",
      "        \"https://openalex.org/W1873353883\",\n",
      "        \"https://openalex.org/W1883040845\",\n",
      "        \"https://openalex.org/W1939421149\",\n",
      "        \"https://openalex.org/W1970667606\",\n",
      "        \"https://openalex.org/W1976010390\",\n",
      "        \"https://openalex.org/W1981562962\",\n",
      "        \"https://openalex.org/W1987076919\",\n",
      "        \"https://openalex.org/W1992406890\",\n",
      "        \"https://openalex.org/W1993180463\",\n",
      "        \"https://openalex.org/W1993322324\",\n",
      "        \"https://openalex.org/W2001964734\",\n",
      "        \"https://openalex.org/W2009141871\",\n",
      "        \"https://openalex.org/W2015086338\",\n",
      "        \"https://openalex.org/W2015671526\",\n",
      "        \"https://openalex.org/W2021036786\",\n",
      "        \"https://openalex.org/W2023835067\",\n",
      "        \"https://openalex.org/W2038663308\",\n",
      "        \"https://openalex.org/W2054945094\",\n",
      "        \"https://openalex.org/W2055404495\",\n",
      "        \"https://openalex.org/W2069035496\",\n",
      "        \"https://openalex.org/W2074040836\",\n",
      "        \"https://openalex.org/W2074254293\",\n",
      "        \"https://openalex.org/W2078938638\",\n",
      "        \"https://openalex.org/W2080611336\",\n",
      "        \"https://openalex.org/W2082158584\",\n",
      "        \"https://openalex.org/W2085734120\",\n",
      "        \"https://openalex.org/W2099005886\",\n",
      "        \"https://openalex.org/W2100970727\",\n",
      "        \"https://openalex.org/W2103077926\",\n",
      "        \"https://openalex.org/W2103595134\",\n",
      "        \"https://openalex.org/W2103763765\",\n",
      "        \"https://openalex.org/W2108403445\",\n",
      "        \"https://openalex.org/W2109390017\",\n",
      "        \"https://openalex.org/W2109584177\",\n",
      "        \"https://openalex.org/W2111688141\",\n",
      "        \"https://openalex.org/W2116520617\",\n",
      "        \"https://openalex.org/W2117962540\",\n",
      "        \"https://openalex.org/W2118688665\",\n",
      "        \"https://openalex.org/W2123284646\",\n",
      "        \"https://openalex.org/W2124117776\",\n",
      "        \"https://openalex.org/W2127578024\",\n",
      "        \"https://openalex.org/W2128628587\",\n",
      "        \"https://openalex.org/W2130423988\",\n",
      "        \"https://openalex.org/W2131840671\",\n",
      "        \"https://openalex.org/W2133854595\",\n",
      "        \"https://openalex.org/W2135689574\",\n",
      "        \"https://openalex.org/W2136891917\",\n",
      "        \"https://openalex.org/W2137469879\",\n",
      "        \"https://openalex.org/W2138271040\",\n",
      "        \"https://openalex.org/W2138430769\",\n",
      "        \"https://openalex.org/W2142347946\",\n",
      "        \"https://openalex.org/W2146881125\",\n",
      "        \"https://openalex.org/W2147947870\",\n",
      "        \"https://openalex.org/W2148974412\",\n",
      "        \"https://openalex.org/W2155328695\",\n",
      "        \"https://openalex.org/W2155883880\",\n",
      "        \"https://openalex.org/W2156628719\",\n",
      "        \"https://openalex.org/W2158154546\",\n",
      "        \"https://openalex.org/W2159132531\",\n",
      "        \"https://openalex.org/W2161829622\",\n",
      "        \"https://openalex.org/W2165189186\",\n",
      "        \"https://openalex.org/W2166668397\",\n",
      "        \"https://openalex.org/W2170841223\",\n",
      "        \"https://openalex.org/W2176589937\",\n",
      "        \"https://openalex.org/W2186636394\",\n",
      "        \"https://openalex.org/W2231679626\",\n",
      "        \"https://openalex.org/W2245963840\",\n",
      "        \"https://openalex.org/W2257036858\",\n",
      "        \"https://openalex.org/W2277252821\",\n",
      "        \"https://openalex.org/W2279210005\",\n",
      "        \"https://openalex.org/W2285182713\",\n",
      "        \"https://openalex.org/W2312019726\",\n",
      "        \"https://openalex.org/W2322170155\",\n",
      "        \"https://openalex.org/W2342525058\",\n",
      "        \"https://openalex.org/W2345643095\",\n",
      "        \"https://openalex.org/W2460379932\",\n",
      "        \"https://openalex.org/W2464037380\",\n",
      "        \"https://openalex.org/W2475412994\",\n",
      "        \"https://openalex.org/W2494025628\",\n",
      "        \"https://openalex.org/W2524044976\",\n",
      "        \"https://openalex.org/W2543927648\",\n",
      "        \"https://openalex.org/W2555895109\",\n",
      "        \"https://openalex.org/W2564665189\",\n",
      "        \"https://openalex.org/W2585192075\",\n",
      "        \"https://openalex.org/W2586839571\",\n",
      "        \"https://openalex.org/W2588687753\",\n",
      "        \"https://openalex.org/W2593182419\",\n",
      "        \"https://openalex.org/W2594717275\",\n",
      "        \"https://openalex.org/W2595786907\",\n",
      "        \"https://openalex.org/W2611814963\",\n",
      "        \"https://openalex.org/W2612613213\",\n",
      "        \"https://openalex.org/W2616182465\",\n",
      "        \"https://openalex.org/W2623409037\",\n",
      "        \"https://openalex.org/W2625862134\",\n",
      "        \"https://openalex.org/W2703342623\",\n",
      "        \"https://openalex.org/W2736794046\",\n",
      "        \"https://openalex.org/W2738001131\",\n",
      "        \"https://openalex.org/W2740323046\",\n",
      "        \"https://openalex.org/W2747329762\",\n",
      "        \"https://openalex.org/W2751293337\",\n",
      "        \"https://openalex.org/W2752929869\",\n",
      "        \"https://openalex.org/W2760701490\",\n",
      "        \"https://openalex.org/W27630839\",\n",
      "        \"https://openalex.org/W2782850395\",\n",
      "        \"https://openalex.org/W2786118190\",\n",
      "        \"https://openalex.org/W2789402730\",\n",
      "        \"https://openalex.org/W2798302089\",\n",
      "        \"https://openalex.org/W2884989375\",\n",
      "        \"https://openalex.org/W2886061540\",\n",
      "        \"https://openalex.org/W2889228119\",\n",
      "        \"https://openalex.org/W2900860600\",\n",
      "        \"https://openalex.org/W2901670281\",\n",
      "        \"https://openalex.org/W2902340917\",\n",
      "        \"https://openalex.org/W2907496300\",\n",
      "        \"https://openalex.org/W2908601630\",\n",
      "        \"https://openalex.org/W2911720646\",\n",
      "        \"https://openalex.org/W2913342441\",\n",
      "        \"https://openalex.org/W2913637327\",\n",
      "        \"https://openalex.org/W2920408562\",\n",
      "        \"https://openalex.org/W2937510008\",\n",
      "        \"https://openalex.org/W2953196593\",\n",
      "        \"https://openalex.org/W2953604927\",\n",
      "        \"https://openalex.org/W2954174912\",\n",
      "        \"https://openalex.org/W2972676112\",\n",
      "        \"https://openalex.org/W2978667180\",\n",
      "        \"https://openalex.org/W2981022803\",\n",
      "        \"https://openalex.org/W2983044655\",\n",
      "        \"https://openalex.org/W2992200532\",\n",
      "        \"https://openalex.org/W3005735690\",\n",
      "        \"https://openalex.org/W3010058322\",\n",
      "        \"https://openalex.org/W3035301486\",\n",
      "        \"https://openalex.org/W3098881644\",\n",
      "        \"https://openalex.org/W3100121400\",\n",
      "        \"https://openalex.org/W3140331270\",\n",
      "        \"https://openalex.org/W3169459916\",\n",
      "        \"https://openalex.org/W4205613923\",\n",
      "        \"https://openalex.org/W4212840163\",\n",
      "        \"https://openalex.org/W4229677474\",\n",
      "        \"https://openalex.org/W4230536567\",\n",
      "        \"https://openalex.org/W4232172926\",\n",
      "        \"https://openalex.org/W4232777816\",\n",
      "        \"https://openalex.org/W4234540331\",\n",
      "        \"https://openalex.org/W4234662292\",\n",
      "        \"https://openalex.org/W4235668423\",\n",
      "        \"https://openalex.org/W4235739515\",\n",
      "        \"https://openalex.org/W4236965008\",\n",
      "        \"https://openalex.org/W4237407610\",\n",
      "        \"https://openalex.org/W4238202972\",\n",
      "        \"https://openalex.org/W4238451262\",\n",
      "        \"https://openalex.org/W4238641546\",\n",
      "        \"https://openalex.org/W4238885765\",\n",
      "        \"https://openalex.org/W4239218542\",\n",
      "        \"https://openalex.org/W4239911049\",\n",
      "        \"https://openalex.org/W4241373309\",\n",
      "        \"https://openalex.org/W4241479717\",\n",
      "        \"https://openalex.org/W4242089288\",\n",
      "        \"https://openalex.org/W4242182081\",\n",
      "        \"https://openalex.org/W4242813266\",\n",
      "        \"https://openalex.org/W4244424758\",\n",
      "        \"https://openalex.org/W4244747104\",\n",
      "        \"https://openalex.org/W4245341813\",\n",
      "        \"https://openalex.org/W4245656515\",\n",
      "        \"https://openalex.org/W4245778238\",\n",
      "        \"https://openalex.org/W4246360676\",\n",
      "        \"https://openalex.org/W4246746814\",\n",
      "        \"https://openalex.org/W4248508312\",\n",
      "        \"https://openalex.org/W4249726634\",\n",
      "        \"https://openalex.org/W4250758525\",\n",
      "        \"https://openalex.org/W4251229830\",\n",
      "        \"https://openalex.org/W4251681979\",\n",
      "        \"https://openalex.org/W4252247804\",\n",
      "        \"https://openalex.org/W4253429781\",\n",
      "        \"https://openalex.org/W4254145299\",\n",
      "        \"https://openalex.org/W4254347998\",\n",
      "        \"https://openalex.org/W4254624923\",\n",
      "        \"https://openalex.org/W4254835333\",\n",
      "        \"https://openalex.org/W4256660443\",\n",
      "        \"https://openalex.org/W4285719527\",\n",
      "        \"https://openalex.org/W4288647574\",\n",
      "        \"https://openalex.org/W4289038676\",\n",
      "        \"https://openalex.org/W4297954654\",\n",
      "        \"https://openalex.org/W4298227374\",\n",
      "        \"https://openalex.org/W4298315755\",\n",
      "        \"https://openalex.org/W4300072878\",\n",
      "        \"https://openalex.org/W4300854084\",\n",
      "        \"https://openalex.org/W4301329292\",\n",
      "        \"https://openalex.org/W4301409763\",\n",
      "        \"https://openalex.org/W4301951524\",\n",
      "        \"https://openalex.org/W4308240870\",\n",
      "        \"https://openalex.org/W4403428004\",\n",
      "        \"https://openalex.org/W564613780\",\n",
      "        \"https://openalex.org/W609003459\",\n",
      "        \"https://openalex.org/W6221760\",\n",
      "        \"https://openalex.org/W63801295\",\n",
      "        \"https://openalex.org/W642954511\",\n",
      "        \"https://openalex.org/W87635799\"\n",
      "    ],\n",
      "    \"relatedWorks\": [\n",
      "        \"https://openalex.org/W4386857536\",\n",
      "        \"https://openalex.org/W4240241597\",\n",
      "        \"https://openalex.org/W3048799479\",\n",
      "        \"https://openalex.org/W3021304233\",\n",
      "        \"https://openalex.org/W3006507989\",\n",
      "        \"https://openalex.org/W2779961139\",\n",
      "        \"https://openalex.org/W2763500028\",\n",
      "        \"https://openalex.org/W2151173140\",\n",
      "        \"https://openalex.org/W174982720\",\n",
      "        \"https://openalex.org/W1550611447\"\n",
      "    ],\n",
      "    \"grants\": [],\n",
      "    \"concepts\": [\n",
      "        \"https://openalex.org/C25516864\",\n",
      "        \"https://openalex.org/C38652104\",\n",
      "        \"https://openalex.org/C41008148\",\n",
      "        \"https://openalex.org/C48103436\"\n",
      "    ],\n",
      "    \"keywords\": [\n",
      "        \"Interconnectivity\"\n",
      "    ],\n",
      "    \"topics\": [\n",
      "        \"https://openalex.org/T10761\",\n",
      "        \"https://openalex.org/T11099\",\n",
      "        \"https://openalex.org/T11241\"\n",
      "    ]\n",
      "}\n"
     ]
    }
   ],
   "source": [
    "print(json.dumps(papers_data[0], indent=4))"
   ]
  },
  {
   "cell_type": "code",
   "execution_count": 9,
   "id": "5efeda54",
   "metadata": {},
   "outputs": [
    {
     "data": {
      "text/plain": [
       "['Interconnectivity']"
      ]
     },
     "execution_count": 9,
     "metadata": {},
     "output_type": "execute_result"
    }
   ],
   "source": [
    "papers_data[0].get('keywords')"
   ]
  },
  {
   "cell_type": "code",
   "execution_count": 12,
   "id": "2e7ccbb1",
   "metadata": {},
   "outputs": [],
   "source": [
    "papers_info = [{**p.get('paper',{}), 'keywords': p.get('keywords',[])} for p in papers_data]"
   ]
  },
  {
   "cell_type": "code",
   "execution_count": 17,
   "id": "7cdf4210",
   "metadata": {},
   "outputs": [
    {
     "name": "stdout",
     "output_type": "stream",
     "text": [
      "{\n",
      "    \"id\": \"https://openalex.org/W2783651538\",\n",
      "    \"doi\": \"https://doi.org/10.3390/rs10010072\",\n",
      "    \"title\": \"Double Weight-Based SAR and Infrared Sensor Fusion for Automatic Ground Target Recognition with Deep Learning\",\n",
      "    \"publicationYear\": 2018,\n",
      "    \"language\": \"en\",\n",
      "    \"type\": \"article\",\n",
      "    \"crossrefType\": \"journal-article\",\n",
      "    \"numberOfCiteation\": 33,\n",
      "    \"FieldWeightedCitationImpact\": 2.778,\n",
      "    \"countsByYear\": [\n",
      "        {\n",
      "            \"year\": 2025,\n",
      "            \"cited_by_count\": 5\n",
      "        },\n",
      "        {\n",
      "            \"year\": 2024,\n",
      "            \"cited_by_count\": 6\n",
      "        },\n",
      "        {\n",
      "            \"year\": 2023,\n",
      "            \"cited_by_count\": 5\n",
      "        },\n",
      "        {\n",
      "            \"year\": 2022,\n",
      "            \"cited_by_count\": 2\n",
      "        },\n",
      "        {\n",
      "            \"year\": 2021,\n",
      "            \"cited_by_count\": 4\n",
      "        },\n",
      "        {\n",
      "            \"year\": 2020,\n",
      "            \"cited_by_count\": 6\n",
      "        },\n",
      "        {\n",
      "            \"year\": 2019,\n",
      "            \"cited_by_count\": 3\n",
      "        },\n",
      "        {\n",
      "            \"year\": 2018,\n",
      "            \"cited_by_count\": 1\n",
      "        }\n",
      "    ],\n",
      "    \"pdfUrl\": \"https://www.mdpi.com/2072-4292/10/1/72/pdf?version=1515692961\",\n",
      "    \"keywords\": [\n",
      "        \"Automatic Target Recognition\",\n",
      "        \"Fusion rules\",\n",
      "        \"Sensor Fusion\"\n",
      "    ]\n",
      "}\n"
     ]
    }
   ],
   "source": [
    "print(json.dumps(papers_info[2], indent=4))"
   ]
  },
  {
   "cell_type": "code",
   "execution_count": 15,
   "id": "d4e7ff4e",
   "metadata": {},
   "outputs": [],
   "source": [
    "def import_papers_batch(driver, papers_list, ignore_key, to_dump_list):\n",
    "    print(f\"Starting import of {len(papers_list)} papers...\")\n",
    "    \n",
    "    props_list = []\n",
    "    for paper in papers_list:\n",
    "        props = paper.copy()\n",
    "\n",
    "        for key in ignore_key:\n",
    "            if key in props:\n",
    "                del props[key]\n",
    "\n",
    "        for key in to_dump_list:\n",
    "            props[snake_to_camel(key)] = json.dumps(props.get(key, []))\n",
    "            del props[key]\n",
    "\n",
    "        paper_id = props.pop('id', None)\n",
    "        if paper_id:\n",
    "            props_list.append({\n",
    "                'id_param': paper_id,\n",
    "                'props_param': props\n",
    "            })\n",
    "\n",
    "\n",
    "    with driver.session() as session:\n",
    "        try:\n",
    "            result = session.run(\"\"\"\n",
    "                UNWIND $props_list AS item\n",
    "                MERGE (p:Paper {id: item.id_param})\n",
    "                SET p += item.props_param\n",
    "                RETURN count(p) AS total_merged\n",
    "                \"\"\", props_list=props_list)\n",
    "            \n",
    "            summary = result.single()\n",
    "            print(f\"Batch import complete. {summary['total_merged']} papers merged/updated.\")\n",
    "\n",
    "        except Exception as e:\n",
    "            print(f\"Failed to import batch: {e}\")"
   ]
  },
  {
   "cell_type": "code",
   "execution_count": 19,
   "id": "7439203b",
   "metadata": {},
   "outputs": [
    {
     "name": "stdout",
     "output_type": "stream",
     "text": [
      "✅ Connection successful!\n",
      "1:\n",
      "Starting import of 1000 papers...\n",
      "Batch import complete. 1000 papers merged/updated.\n",
      "\n",
      "\n",
      "\n",
      "2:\n",
      "Starting import of 1000 papers...\n",
      "Batch import complete. 1000 papers merged/updated.\n",
      "\n",
      "\n",
      "\n",
      "3:\n",
      "Starting import of 1000 papers...\n",
      "Batch import complete. 1000 papers merged/updated.\n",
      "\n",
      "\n",
      "\n",
      "4:\n",
      "Starting import of 1000 papers...\n",
      "Batch import complete. 1000 papers merged/updated.\n",
      "\n",
      "\n",
      "\n",
      "5:\n",
      "Starting import of 1000 papers...\n",
      "Batch import complete. 1000 papers merged/updated.\n",
      "\n",
      "\n",
      "\n",
      "6:\n",
      "Starting import of 1000 papers...\n",
      "Batch import complete. 1000 papers merged/updated.\n",
      "\n",
      "\n",
      "\n",
      "7:\n",
      "Starting import of 671 papers...\n",
      "Batch import complete. 671 papers merged/updated.\n",
      "\n",
      "\n",
      "\n"
     ]
    }
   ],
   "source": [
    "N_papers = len(papers_info)\n",
    "batch_size = 1000\n",
    "\n",
    "try:\n",
    "    with GraphDatabase.driver(URI, auth=AUTH) as driver:\n",
    "        driver.verify_connectivity()\n",
    "        print(\"✅ Connection successful!\")\n",
    "        \n",
    "        count = 1\n",
    "        for i in range(0, N_papers, batch_size):\n",
    "            selected_records = papers_info[i: i+batch_size]\n",
    "            print(f'{count}:')\n",
    "            import_papers_batch(driver, selected_records, [], ['countsByYear'])\n",
    "            count += 1\n",
    "            print(2*'\\n')\n",
    "        \n",
    "except Exception as e:\n",
    "    print(f\"❌ An error occurred: {e}\")"
   ]
  },
  {
   "cell_type": "code",
   "execution_count": 20,
   "id": "f9f34440",
   "metadata": {},
   "outputs": [
    {
     "data": {
      "text/plain": [
       "dict_keys(['paper', 'authorship', 'source', 'referencedWorks', 'relatedWorks', 'grants', 'concepts', 'keywords', 'topics'])"
      ]
     },
     "execution_count": 20,
     "metadata": {},
     "output_type": "execute_result"
    }
   ],
   "source": [
    "papers_data[0].keys()"
   ]
  },
  {
   "cell_type": "markdown",
   "id": "8f5a1f92",
   "metadata": {},
   "source": [
    "### paper - source relation"
   ]
  },
  {
   "cell_type": "code",
   "execution_count": 31,
   "id": "a96fac7f",
   "metadata": {},
   "outputs": [
    {
     "data": {
      "text/plain": [
       "{'id': 'https://openalex.org/S43295729',\n",
       " 'hostOrganizationId': 'https://openalex.org/P4310310987',\n",
       " 'volume': '10',\n",
       " 'issue': '1'}"
      ]
     },
     "execution_count": 31,
     "metadata": {},
     "output_type": "execute_result"
    }
   ],
   "source": [
    "papers_data[2].get('source')"
   ]
  },
  {
   "cell_type": "code",
   "execution_count": 34,
   "id": "f64fe0a0",
   "metadata": {},
   "outputs": [
    {
     "data": {
      "text/plain": [
       "6671"
      ]
     },
     "execution_count": 34,
     "metadata": {},
     "output_type": "execute_result"
    }
   ],
   "source": [
    "papers_sources_relation = [\n",
    "    {\n",
    "        'paper_id': paper.get('paper', {}).get('id'),\n",
    "        'source_param': {\n",
    "                'id': paper.get('source', {}).get('id'),\n",
    "                'params': {\n",
    "                    'volume': paper.get('source', {}).get('volume'),\n",
    "                    'issue': paper.get('source', {}).get('issue')\n",
    "                }\n",
    "        } \n",
    "        \n",
    "\n",
    "    } for paper in papers_data\n",
    "]\n",
    "len(papers_sources_relation)"
   ]
  },
  {
   "cell_type": "code",
   "execution_count": 35,
   "metadata": {},
   "outputs": [
    {
     "data": {
      "text/plain": [
       "{'paper_id': 'https://openalex.org/W2783651538',\n",
       " 'source_param': {'id': 'https://openalex.org/S43295729',\n",
       "  'params': {'volume': '10', 'issue': '1'}}}"
      ]
     },
     "execution_count": 35,
     "metadata": {},
     "output_type": "execute_result"
    }
   ],
   "source": [
    "papers_sources_relation[2]"
   ]
  },
  {
   "cell_type": "code",
   "execution_count": 36,
   "metadata": {},
   "outputs": [
    {
     "name": "stdout",
     "output_type": "stream",
     "text": [
      "✅ Connection successful!\n",
      "  - 400 relationships created/merged.\n",
      "  - 404 relationships created/merged.\n",
      "  - 410 relationships created/merged.\n",
      "  - 406 relationships created/merged.\n",
      "  - 420 relationships created/merged.\n",
      "  - 425 relationships created/merged.\n",
      "  - 408 relationships created/merged.\n",
      "  - 407 relationships created/merged.\n",
      "  - 413 relationships created/merged.\n",
      "  - 399 relationships created/merged.\n",
      "  - 394 relationships created/merged.\n",
      "  - 390 relationships created/merged.\n",
      "  - 411 relationships created/merged.\n",
      "  - 138 relationships created/merged.\n"
     ]
    }
   ],
   "source": [
    "N = len(papers_sources_relation)\n",
    "batch_size = 500\n",
    "\n",
    "try:\n",
    "    with GraphDatabase.driver(URI, auth=AUTH) as driver:\n",
    "        driver.verify_connectivity()\n",
    "        print(\"✅ Connection successful!\")\n",
    "        \n",
    "        for i in range(0, N, batch_size):\n",
    "            selected_data = papers_sources_relation[i:i+batch_size]\n",
    "\n",
    "            with driver.session() as session:\n",
    "\n",
    "                try:\n",
    "                    result = session.run(\"\"\"\n",
    "                        UNWIND $data_list AS item\n",
    "                        \n",
    "                        MATCH (p:Paper {id: item.paper_id})\n",
    "                        \n",
    "                        WITH p, item.source_param AS source_param\n",
    "                        \n",
    "                        MATCH (s:Source {id: source_param.id})\n",
    "                        \n",
    "                        MERGE (p)-[r:PUBLISHED_IN]->(s)\n",
    "                        SET r += source_param.params\n",
    "                        \n",
    "                        RETURN count(r) AS relationships_created\n",
    "                        \"\"\", data_list=selected_data)\n",
    "                    \n",
    "                    summary = result.single()\n",
    "                    # print(f\"\\nBatch import complete.\")\n",
    "                    print(f\"  - {summary['relationships_created']} relationships created/merged.\")\n",
    "                    # print()\n",
    "\n",
    "                except Exception as e:\n",
    "                    # This will fail if a :Domain or :Field node is not found\n",
    "                    print(f\"Failed to import batch: {e}\")\n",
    "        \n",
    "except Exception as e:\n",
    "    print(f\"❌ An error occurred: {e}\")"
   ]
  },
  {
   "cell_type": "markdown",
   "id": "d40438d3",
   "metadata": {},
   "source": [
    "### paper - grant relation"
   ]
  },
  {
   "cell_type": "code",
   "execution_count": 26,
   "id": "3fd7ec1b",
   "metadata": {},
   "outputs": [
    {
     "data": {
      "text/plain": [
       "[{'funder': 'https://openalex.org/F4320321001', 'awardId': 'T2350710232'},\n",
       " {'funder': 'https://openalex.org/F4320321001', 'awardId': '62466025'}]"
      ]
     },
     "execution_count": 26,
     "metadata": {},
     "output_type": "execute_result"
    }
   ],
   "source": [
    "papers_data[1356].get('grants')"
   ]
  },
  {
   "cell_type": "markdown",
   "id": "3066fe97",
   "metadata": {},
   "source": [
    "### paper - topics relation"
   ]
  },
  {
   "cell_type": "code",
   "execution_count": 27,
   "id": "ab7cc13f",
   "metadata": {},
   "outputs": [
    {
     "data": {
      "text/plain": [
       "['https://openalex.org/T10586',\n",
       " 'https://openalex.org/T11615',\n",
       " 'https://openalex.org/T10879']"
      ]
     },
     "execution_count": 27,
     "metadata": {},
     "output_type": "execute_result"
    }
   ],
   "source": [
    "papers_data[1356].get('topics')"
   ]
  },
  {
   "cell_type": "markdown",
   "id": "89c213dc",
   "metadata": {},
   "source": [
    "### paper - authorship relation"
   ]
  },
  {
   "cell_type": "code",
   "execution_count": 28,
   "id": "e5a73783",
   "metadata": {},
   "outputs": [
    {
     "data": {
      "text/plain": [
       "[{'authorPosition': 'first',\n",
       "  'author': {'id': 'https://openalex.org/A5042245303',\n",
       "   'institutions': [],\n",
       "   'isCorresponding': False,\n",
       "   'affiliations': []}},\n",
       " {'authorPosition': 'middle',\n",
       "  'author': {'id': 'https://openalex.org/A5077930860',\n",
       "   'institutions': [],\n",
       "   'isCorresponding': False,\n",
       "   'affiliations': []}},\n",
       " {'authorPosition': 'last',\n",
       "  'author': {'id': 'https://openalex.org/A5000202665',\n",
       "   'institutions': [],\n",
       "   'isCorresponding': False,\n",
       "   'affiliations': []}}]"
      ]
     },
     "execution_count": 28,
     "metadata": {},
     "output_type": "execute_result"
    }
   ],
   "source": [
    "papers_data[1356].get('authorship')"
   ]
  },
  {
   "cell_type": "markdown",
   "id": "3e1520cd",
   "metadata": {},
   "source": [
    "### paper - cite relation"
   ]
  },
  {
   "cell_type": "code",
   "execution_count": 29,
   "id": "6014b29d",
   "metadata": {},
   "outputs": [
    {
     "data": {
      "text/plain": [
       "['https://openalex.org/W1522301498',\n",
       " 'https://openalex.org/W1971086298',\n",
       " 'https://openalex.org/W1971458750',\n",
       " 'https://openalex.org/W1992157405',\n",
       " 'https://openalex.org/W2000194319',\n",
       " 'https://openalex.org/W2296073425',\n",
       " 'https://openalex.org/W2306644740',\n",
       " 'https://openalex.org/W2611243847',\n",
       " 'https://openalex.org/W2757731190',\n",
       " 'https://openalex.org/W2806844078',\n",
       " 'https://openalex.org/W2912063360',\n",
       " 'https://openalex.org/W2926153681',\n",
       " 'https://openalex.org/W2953248129',\n",
       " 'https://openalex.org/W2964248288',\n",
       " 'https://openalex.org/W2967969632',\n",
       " 'https://openalex.org/W2968385028',\n",
       " 'https://openalex.org/W3004162282']"
      ]
     },
     "execution_count": 29,
     "metadata": {},
     "output_type": "execute_result"
    }
   ],
   "source": [
    "papers_data[1356].get('referencedWorks')"
   ]
  },
  {
   "cell_type": "code",
   "execution_count": null,
   "id": "b6a1aa91",
   "metadata": {},
   "outputs": [],
   "source": []
  }
 ],
 "metadata": {
  "kernelspec": {
   "display_name": "AV-references-cleaning (3.11.14)",
   "language": "python",
   "name": "python3"
  },
  "language_info": {
   "codemirror_mode": {
    "name": "ipython",
    "version": 3
   },
   "file_extension": ".py",
   "mimetype": "text/x-python",
   "name": "python",
   "nbconvert_exporter": "python",
   "pygments_lexer": "ipython3",
   "version": "3.11.14"
  }
 },
 "nbformat": 4,
 "nbformat_minor": 5
}
