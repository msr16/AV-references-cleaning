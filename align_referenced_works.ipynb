{
 "cells": [
  {
   "cell_type": "code",
   "execution_count": 31,
   "id": "cf170f98",
   "metadata": {},
   "outputs": [],
   "source": [
    "import requests\n",
    "import json\n",
    "import os\n",
    "import asyncio\n",
    "import httpx\n",
    "import pandas as pd"
   ]
  },
  {
   "cell_type": "code",
   "execution_count": 3,
   "id": "2e036b46",
   "metadata": {},
   "outputs": [
    {
     "data": {
      "text/plain": [
       "122"
      ]
     },
     "execution_count": 3,
     "metadata": {},
     "output_type": "execute_result"
    }
   ],
   "source": [
    "with open('improved_refrences.json', 'r', encoding='utf-8') as f:\n",
    "    data = json.load(f)\n",
    "len(data)"
   ]
  },
  {
   "cell_type": "code",
   "execution_count": 4,
   "id": "3f2d9c3a",
   "metadata": {},
   "outputs": [
    {
     "data": {
      "text/plain": [
       "[10, 11, 21, 29, 38, 46, 50, 60, 62, 64, 72, 84, 89, 90, 100, 111, 116]"
      ]
     },
     "execution_count": 4,
     "metadata": {},
     "output_type": "execute_result"
    }
   ],
   "source": [
    "doi_reference_index_list = [i for i in range(len(data)) if 'referenced_doi' in  data[i].keys()]\n",
    "doi_reference_index_list"
   ]
  },
  {
   "cell_type": "code",
   "execution_count": 20,
   "id": "d8162f59",
   "metadata": {},
   "outputs": [
    {
     "data": {
      "text/plain": [
       "[0, 0, 0, 0, 0, 0, 0, 0, 0, 0, 0, 0, 0, 0, 0, 0, 0]"
      ]
     },
     "execution_count": 20,
     "metadata": {},
     "output_type": "execute_result"
    }
   ],
   "source": [
    "[data[i].get('referenced_works_count') for i in doi_reference_index_list]"
   ]
  },
  {
   "cell_type": "code",
   "execution_count": 21,
   "id": "e1bd0717",
   "metadata": {},
   "outputs": [
    {
     "data": {
      "text/plain": [
       "[[], [], [], [], [], [], [], [], [], [], [], [], [], [], [], [], []]"
      ]
     },
     "execution_count": 21,
     "metadata": {},
     "output_type": "execute_result"
    }
   ],
   "source": [
    "[data[i].get('referenced_works') for i in doi_reference_index_list]"
   ]
  },
  {
   "cell_type": "code",
   "execution_count": 7,
   "id": "9560e8e8",
   "metadata": {},
   "outputs": [],
   "source": [
    "def get_openalex_id_from_doi(doi: str):\n",
    "    if doi.startswith('https://doi.org/'):\n",
    "        canonical_doi = doi\n",
    "    elif doi.startswith('http://doi.org/'):\n",
    "        canonical_doi = doi\n",
    "    elif doi.startswith('doi:'):\n",
    "        canonical_doi = 'https://doi.org/' + doi[4:]\n",
    "    else:\n",
    "        canonical_doi = 'https://doi.org/' + doi\n",
    "\n",
    "\n",
    "    base_url = 'https://api.openalex.org/works'\n",
    "    params = {\n",
    "        'filter': f'doi:{canonical_doi}',\n",
    "        'select': 'id', \n",
    "    }\n",
    "    try:\n",
    "        response = requests.get(base_url, params=params)\n",
    "        response.raise_for_status()\n",
    "\n",
    "        data = response.json()\n",
    "\n",
    "        if data.get('results') and len(data['results']) > 0:\n",
    "            openalex_id = data['results'][0].get('id')\n",
    "            \n",
    "            if openalex_id:\n",
    "                return True, openalex_id\n",
    "            else:\n",
    "                return False, \"Work found, but 'id' field was missing in the response.\"\n",
    "        else:\n",
    "            return False, f\"No work found with DOI: {doi}\"\n",
    "\n",
    "    except requests.exceptions.HTTPError as e:\n",
    "        return False, f\"HTTP error: {e}\"\n",
    "    except requests.exceptions.RequestException as e:\n",
    "        return False, f\"A request error occurred: {e}\"\n",
    "    except Exception as e:\n",
    "        return False, f\"An unexpected error occurred: {e}\""
   ]
  },
  {
   "cell_type": "code",
   "execution_count": 12,
   "id": "28083c00",
   "metadata": {},
   "outputs": [
    {
     "data": {
      "text/plain": [
       "'10.3934/mbe.2021172'"
      ]
     },
     "execution_count": 12,
     "metadata": {},
     "output_type": "execute_result"
    }
   ],
   "source": [
    "data[doi_reference_index_list[0]].get('referenced_doi')[-1]"
   ]
  },
  {
   "cell_type": "code",
   "execution_count": 13,
   "id": "ae26210e",
   "metadata": {},
   "outputs": [
    {
     "data": {
      "text/plain": [
       "(True, 'https://openalex.org/W3155736193')"
      ]
     },
     "execution_count": 13,
     "metadata": {},
     "output_type": "execute_result"
    }
   ],
   "source": [
    "get_openalex_id_from_doi('10.3934/mbe.2021172')"
   ]
  },
  {
   "cell_type": "code",
   "execution_count": 15,
   "id": "8b272b21",
   "metadata": {},
   "outputs": [],
   "source": [
    "async def _fetch_openalex_id_async(client: httpx.AsyncClient, doi: str):\n",
    "    \"\"\"Async helper to fetch a single OpenAlex ID.\"\"\"\n",
    "    \n",
    "    # Clean the DOI\n",
    "    if doi.startswith('https://doi.org/'):\n",
    "        canonical_doi = doi\n",
    "    elif doi.startswith('http://doi.org/'):\n",
    "        canonical_doi = doi\n",
    "    elif doi.startswith('doi:'):\n",
    "        canonical_doi = 'https://doi.org/' + doi[4:]\n",
    "    else:\n",
    "        canonical_doi = 'https://doi.org/' + doi\n",
    "\n",
    "    base_url = 'https://api.openalex.org/works'\n",
    "    params = {\n",
    "        'filter': f'doi:{canonical_doi}',\n",
    "        'select': 'id',\n",
    "    }\n",
    "\n",
    "    try:\n",
    "        response = await client.get(base_url, params=params)\n",
    "        response.raise_for_status() # Check for HTTP errors\n",
    "        data = response.json()\n",
    "\n",
    "        if data.get('results') and len(data['results']) > 0:\n",
    "            openalex_id = data['results'][0].get('id')\n",
    "            if openalex_id:\n",
    "                return (doi, True, openalex_id)\n",
    "            else:\n",
    "                return (doi, False, \"Work found, but 'id' field was missing.\")\n",
    "        else:\n",
    "            return (doi, False, f\"No work found with DOI: {doi}\")\n",
    "            \n",
    "    except httpx.HTTPStatusError as e:\n",
    "        return (doi, False, f\"HTTP error: {e}\")\n",
    "    except httpx.RequestError as e:\n",
    "        return (doi, False, f\"A request error occurred: {e}\")\n",
    "    except Exception as e:\n",
    "        return (doi, False, f\"An unexpected error occurred: {e}\")"
   ]
  },
  {
   "cell_type": "code",
   "execution_count": 18,
   "id": "37db33df",
   "metadata": {},
   "outputs": [],
   "source": [
    "async def get_openalex_ids_batch_async(doi_list: list[str], batch_size: int = 25, sleep_sec: float = 0.1):\n",
    "    \"\"\"\n",
    "    Fetches OpenAlex IDs for a list of DOIs asynchronously in batches.\n",
    "    \"\"\"\n",
    "    results = []\n",
    "    async with httpx.AsyncClient(timeout=20.0) as client:\n",
    "        for i in range(0, len(doi_list), batch_size):\n",
    "            # Create a batch of DOI strings\n",
    "            batch_dois = doi_list[i:i + batch_size]\n",
    "            \n",
    "            # Create a list of tasks for the current batch\n",
    "            tasks = [_fetch_openalex_id_async(client, doi) for doi in batch_dois]\n",
    "            \n",
    "            # Run tasks concurrently\n",
    "            batch_results = await asyncio.gather(*tasks)\n",
    "            results.extend(batch_results)\n",
    "            \n",
    "            # Sleep between batches if not the last batch\n",
    "            if i + batch_size < len(doi_list):\n",
    "                await asyncio.sleep(sleep_sec)\n",
    "                \n",
    "    return results"
   ]
  },
  {
   "cell_type": "code",
   "execution_count": null,
   "id": "839fe06a",
   "metadata": {},
   "outputs": [
    {
     "name": "stdout",
     "output_type": "stream",
     "text": [
      "A Full-Lifecycle Calibration Method for Camera and LiDAR in Autonomous Driving                                                               - 53/53\n",
      "A New Literature Review of 3D Object Detection on Autonomous Driving                                                                         - 209/209\n",
      "A Survey of Trajectory Planning Methods for Autonomous Driving — Part I: Unstructured Scenarios                                              - 89/89\n",
      "Accurate 3D Multi-Object Detection and Tracking on Vietnamese Street Scenes Based on Sparse Point Cloud Data                                 - 60/60\n",
      "Application of semantic information module in LiDAR-based Simultaneous-Localization-and-Mapping algorithm                                    - 39/39\n",
      "Deep Learning Frontiers in 3D Object Detection: A Comprehensive Review for Autonomous Driving                                                - 218/218\n",
      "Differentiable Integrated Motion Prediction and Planning With Learnable Cost Function for Autonomous Driving                                 - 43/43\n",
      "Graph Laplacian Processing based multi-modal localization backend for robots and autonomous Systems                                          - 45/45\n",
      "High-Performance Multi-Object Tracking for Autonomous Driving in Urban Scenarios with Heterogeneous Embedded Boards                          - 41/41\n",
      "Hybrid-Prediction Integrated Planning for Autonomous Driving                                                                                 - 57/57\n",
      "MCCA-MOT: Multimodal Collaboration-Guided Cascade Association Network for 3D Multi-Object Tracking                                           - 51/51\n",
      "Pillar3D-Former: A Pillar-based 3-D Object Detection and Tracking Method for Autonomous Driving Scenes                                       - 38/38\n",
      "Progressive Multi-Modal Semantic Segmentation Guided SLAM Using Tightly-Coupled LiDAR-Visual-Inertial Odometry                               - 46/46\n",
      "RaI-SLAM: Radar-Inertial SLAM for Autonomous Vehicles                                                                                        - 47/47\n",
      "Safe Motion Planning for Multi-Vehicle Autonomous Driving in Uncertain Environment                                                           - 24/24\n",
      "Towards Safe Motion Planning for Autonomous Driving in Highway                                                                               - 43/43\n",
      "Trajectory Prediction for Autonomous Driving Based on Structural Informer Method                                                             - 33/33\n"
     ]
    }
   ],
   "source": [
    "for index in doi_reference_index_list:\n",
    "    doi_list = data[index].get('referenced_doi')\n",
    "    N_doi = data[index].get('referenced_doi_count')\n",
    "    paper_title = data[index].get('title')\n",
    "\n",
    "    batch_results = await get_openalex_ids_batch_async(doi_list, batch_size=8, sleep_sec=1)\n",
    "\n",
    "    data[index]['referenced_works'].extend(batch_results)\n",
    "    data[index]['referenced_works_count'] = len(batch_results)\n",
    "\n",
    "    print(f'{paper_title:140} - {len(batch_results:3)}/{N_doi:3}')\n"
   ]
  },
  {
   "cell_type": "code",
   "execution_count": 24,
   "id": "9e8a23ec",
   "metadata": {},
   "outputs": [
    {
     "data": {
      "text/plain": [
       "[10, 11, 21, 29, 38, 46, 50, 60, 62, 64, 72, 84, 89, 90, 100, 111, 116]"
      ]
     },
     "execution_count": 24,
     "metadata": {},
     "output_type": "execute_result"
    }
   ],
   "source": [
    "doi_reference_index_list"
   ]
  },
  {
   "cell_type": "code",
   "execution_count": 26,
   "id": "ef26c360",
   "metadata": {},
   "outputs": [
    {
     "data": {
      "text/plain": [
       "(53, 53)"
      ]
     },
     "execution_count": 26,
     "metadata": {},
     "output_type": "execute_result"
    }
   ],
   "source": [
    "data[10].get('referenced_works_count'), len(data[10].get('referenced_works'))"
   ]
  },
  {
   "cell_type": "code",
   "execution_count": 27,
   "id": "ebbad779",
   "metadata": {},
   "outputs": [],
   "source": [
    "with open('improved_refrences.json', 'w', encoding='utf-8') as f:\n",
    "    json.dump(data, f, indent=4, ensure_ascii=False)"
   ]
  },
  {
   "cell_type": "code",
   "execution_count": 28,
   "id": "9e09671a",
   "metadata": {},
   "outputs": [],
   "source": [
    "for index in doi_reference_index_list:\n",
    "    del data[index]['referenced_doi']\n",
    "    del data[index]['referenced_doi_count']"
   ]
  },
  {
   "cell_type": "code",
   "execution_count": 29,
   "id": "fad9f92b",
   "metadata": {},
   "outputs": [],
   "source": [
    "for rec in data:\n",
    "    if 'referenced_doi' in rec.keys():\n",
    "        print('referenced_doi')\n",
    "    if 'referenced_doi_count' in rec.keys():\n",
    "        print('referenced_doi_count')"
   ]
  },
  {
   "cell_type": "code",
   "execution_count": 32,
   "id": "147bb25c",
   "metadata": {},
   "outputs": [
    {
     "data": {
      "text/html": [
       "<div>\n",
       "<style scoped>\n",
       "    .dataframe tbody tr th:only-of-type {\n",
       "        vertical-align: middle;\n",
       "    }\n",
       "\n",
       "    .dataframe tbody tr th {\n",
       "        vertical-align: top;\n",
       "    }\n",
       "\n",
       "    .dataframe thead th {\n",
       "        text-align: right;\n",
       "    }\n",
       "</style>\n",
       "<table border=\"1\" class=\"dataframe\">\n",
       "  <thead>\n",
       "    <tr style=\"text-align: right;\">\n",
       "      <th></th>\n",
       "      <th>title</th>\n",
       "      <th>ref_count</th>\n",
       "      <th>ref_count_from_list</th>\n",
       "    </tr>\n",
       "  </thead>\n",
       "  <tbody>\n",
       "    <tr>\n",
       "      <th>0</th>\n",
       "      <td>&lt;scp&gt;3D LiDAR SLAM&lt;/scp&gt;: A survey</td>\n",
       "      <td>259</td>\n",
       "      <td>259</td>\n",
       "    </tr>\n",
       "    <tr>\n",
       "      <th>1</th>\n",
       "      <td>3D Multi-Object Tracking With Adaptive Cubatur...</td>\n",
       "      <td>23</td>\n",
       "      <td>23</td>\n",
       "    </tr>\n",
       "    <tr>\n",
       "      <th>2</th>\n",
       "      <td>3D Object Detection and Tracking Based on Lida...</td>\n",
       "      <td>35</td>\n",
       "      <td>35</td>\n",
       "    </tr>\n",
       "    <tr>\n",
       "      <th>3</th>\n",
       "      <td>3D Object Detection for Autonomous Driving: A ...</td>\n",
       "      <td>312</td>\n",
       "      <td>312</td>\n",
       "    </tr>\n",
       "    <tr>\n",
       "      <th>4</th>\n",
       "      <td>3D Object Detection for Autonomous Driving: A ...</td>\n",
       "      <td>100</td>\n",
       "      <td>100</td>\n",
       "    </tr>\n",
       "  </tbody>\n",
       "</table>\n",
       "</div>"
      ],
      "text/plain": [
       "                                               title  ref_count  \\\n",
       "0                 <scp>3D LiDAR SLAM</scp>: A survey        259   \n",
       "1  3D Multi-Object Tracking With Adaptive Cubatur...         23   \n",
       "2  3D Object Detection and Tracking Based on Lida...         35   \n",
       "3  3D Object Detection for Autonomous Driving: A ...        312   \n",
       "4  3D Object Detection for Autonomous Driving: A ...        100   \n",
       "\n",
       "   ref_count_from_list  \n",
       "0                  259  \n",
       "1                   23  \n",
       "2                   35  \n",
       "3                  312  \n",
       "4                  100  "
      ]
     },
     "execution_count": 32,
     "metadata": {},
     "output_type": "execute_result"
    }
   ],
   "source": [
    "ref_count_df = pd.DataFrame([\n",
    "    {\n",
    "        'title': rec.get('title'),\n",
    "        'ref_count': rec.get('referenced_works_count'),\n",
    "        'ref_count_from_list': len(rec.get('referenced_works'))\n",
    "    }\n",
    "    for rec in data\n",
    "])\n",
    "ref_count_df.head()"
   ]
  },
  {
   "cell_type": "code",
   "execution_count": 33,
   "id": "f0074730",
   "metadata": {},
   "outputs": [
    {
     "data": {
      "text/plain": [
       "count    122.0\n",
       "mean       0.0\n",
       "std        0.0\n",
       "min        0.0\n",
       "25%        0.0\n",
       "50%        0.0\n",
       "75%        0.0\n",
       "max        0.0\n",
       "Name: diff, dtype: float64"
      ]
     },
     "execution_count": 33,
     "metadata": {},
     "output_type": "execute_result"
    }
   ],
   "source": [
    "ref_count_df['diff'] = ref_count_df['ref_count'] - ref_count_df['ref_count_from_list']\n",
    "\n",
    "ref_count_df = ref_count_df.sort_values('diff')\n",
    "\n",
    "ref_count_df['diff'].describe()"
   ]
  },
  {
   "cell_type": "code",
   "execution_count": 35,
   "id": "042b7351",
   "metadata": {},
   "outputs": [
    {
     "data": {
      "text/html": [
       "<div>\n",
       "<style scoped>\n",
       "    .dataframe tbody tr th:only-of-type {\n",
       "        vertical-align: middle;\n",
       "    }\n",
       "\n",
       "    .dataframe tbody tr th {\n",
       "        vertical-align: top;\n",
       "    }\n",
       "\n",
       "    .dataframe thead th {\n",
       "        text-align: right;\n",
       "    }\n",
       "</style>\n",
       "<table border=\"1\" class=\"dataframe\">\n",
       "  <thead>\n",
       "    <tr style=\"text-align: right;\">\n",
       "      <th></th>\n",
       "      <th>title</th>\n",
       "      <th>ref_count</th>\n",
       "    </tr>\n",
       "  </thead>\n",
       "  <tbody>\n",
       "    <tr>\n",
       "      <th>6</th>\n",
       "      <td>6DoF-3D: Efficient and accurate 3D object dete...</td>\n",
       "      <td>20</td>\n",
       "    </tr>\n",
       "    <tr>\n",
       "      <th>66</th>\n",
       "      <td>Joint 3D Proposal Generation and Object Detect...</td>\n",
       "      <td>21</td>\n",
       "    </tr>\n",
       "    <tr>\n",
       "      <th>43</th>\n",
       "      <td>C2L3-Fusion: An Integrated 3D Object Detection...</td>\n",
       "      <td>23</td>\n",
       "    </tr>\n",
       "    <tr>\n",
       "      <th>1</th>\n",
       "      <td>3D Multi-Object Tracking With Adaptive Cubatur...</td>\n",
       "      <td>23</td>\n",
       "    </tr>\n",
       "    <tr>\n",
       "      <th>98</th>\n",
       "      <td>Robust Visual Localization System With HD Map ...</td>\n",
       "      <td>24</td>\n",
       "    </tr>\n",
       "    <tr>\n",
       "      <th>...</th>\n",
       "      <td>...</td>\n",
       "      <td>...</td>\n",
       "    </tr>\n",
       "    <tr>\n",
       "      <th>81</th>\n",
       "      <td>Path planning algorithms in the autonomous dri...</td>\n",
       "      <td>217</td>\n",
       "    </tr>\n",
       "    <tr>\n",
       "      <th>46</th>\n",
       "      <td>Deep Learning Frontiers in 3D Object Detection...</td>\n",
       "      <td>218</td>\n",
       "    </tr>\n",
       "    <tr>\n",
       "      <th>0</th>\n",
       "      <td>&lt;scp&gt;3D LiDAR SLAM&lt;/scp&gt;: A survey</td>\n",
       "      <td>259</td>\n",
       "    </tr>\n",
       "    <tr>\n",
       "      <th>3</th>\n",
       "      <td>3D Object Detection for Autonomous Driving: A ...</td>\n",
       "      <td>312</td>\n",
       "    </tr>\n",
       "    <tr>\n",
       "      <th>99</th>\n",
       "      <td>Robustness-Aware 3D Object Detection in Autono...</td>\n",
       "      <td>396</td>\n",
       "    </tr>\n",
       "  </tbody>\n",
       "</table>\n",
       "<p>122 rows × 2 columns</p>\n",
       "</div>"
      ],
      "text/plain": [
       "                                                title  ref_count\n",
       "6   6DoF-3D: Efficient and accurate 3D object dete...         20\n",
       "66  Joint 3D Proposal Generation and Object Detect...         21\n",
       "43  C2L3-Fusion: An Integrated 3D Object Detection...         23\n",
       "1   3D Multi-Object Tracking With Adaptive Cubatur...         23\n",
       "98  Robust Visual Localization System With HD Map ...         24\n",
       "..                                                ...        ...\n",
       "81  Path planning algorithms in the autonomous dri...        217\n",
       "46  Deep Learning Frontiers in 3D Object Detection...        218\n",
       "0                  <scp>3D LiDAR SLAM</scp>: A survey        259\n",
       "3   3D Object Detection for Autonomous Driving: A ...        312\n",
       "99  Robustness-Aware 3D Object Detection in Autono...        396\n",
       "\n",
       "[122 rows x 2 columns]"
      ]
     },
     "execution_count": 35,
     "metadata": {},
     "output_type": "execute_result"
    }
   ],
   "source": [
    "ref_count_df.drop(['ref_count_from_list', 'diff'], axis=1, inplace=True)\n",
    "ref_count_df.sort_values('ref_count')"
   ]
  },
  {
   "cell_type": "code",
   "execution_count": 36,
   "id": "3be2f2c6",
   "metadata": {},
   "outputs": [
    {
     "data": {
      "text/plain": [
       "np.int64(10586)"
      ]
     },
     "execution_count": 36,
     "metadata": {},
     "output_type": "execute_result"
    }
   ],
   "source": [
    "ref_count_df['ref_count'].sum()"
   ]
  },
  {
   "cell_type": "code",
   "execution_count": 37,
   "id": "aed7a586",
   "metadata": {},
   "outputs": [],
   "source": [
    "with open('improved_refrences.json', 'w', encoding='utf-8') as f:\n",
    "    json.dump(data, f, indent=4, ensure_ascii=False)"
   ]
  },
  {
   "cell_type": "code",
   "execution_count": null,
   "id": "39c4d590",
   "metadata": {},
   "outputs": [],
   "source": []
  }
 ],
 "metadata": {
  "kernelspec": {
   "display_name": "AV-references-cleaning (3.11.14)",
   "language": "python",
   "name": "python3"
  },
  "language_info": {
   "codemirror_mode": {
    "name": "ipython",
    "version": 3
   },
   "file_extension": ".py",
   "mimetype": "text/x-python",
   "name": "python",
   "nbconvert_exporter": "python",
   "pygments_lexer": "ipython3",
   "version": "3.11.14"
  }
 },
 "nbformat": 4,
 "nbformat_minor": 5
}
