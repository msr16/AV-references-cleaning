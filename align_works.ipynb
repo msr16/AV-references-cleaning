{
 "cells": [
  {
   "cell_type": "code",
   "execution_count": 1,
   "id": "8db32c6b",
   "metadata": {},
   "outputs": [],
   "source": [
    "import requests\n",
    "import json\n",
    "import os\n",
    "import asyncio\n",
    "import httpx\n",
    "import pandas as pd"
   ]
  },
  {
   "cell_type": "code",
   "execution_count": 2,
   "id": "aa1bd3f3",
   "metadata": {},
   "outputs": [
    {
     "data": {
      "text/plain": [
       "122"
      ]
     },
     "execution_count": 2,
     "metadata": {},
     "output_type": "execute_result"
    }
   ],
   "source": [
    "with open('improved_refrences.json', 'r', encoding='utf-8') as f:\n",
    "    data = json.load(f)\n",
    "len(data)"
   ]
  },
  {
   "cell_type": "code",
   "execution_count": 3,
   "id": "1e041db7",
   "metadata": {},
   "outputs": [
    {
     "data": {
      "text/plain": [
       "[10, 11, 21, 29, 38, 46, 50, 60, 62, 64, 72, 84, 89, 90, 100, 111, 116]"
      ]
     },
     "execution_count": 3,
     "metadata": {},
     "output_type": "execute_result"
    }
   ],
   "source": [
    "doi_reference_index_list = [i for i in range(len(data)) if 'referenced_doi' in  data[i].keys()]\n",
    "doi_reference_index_list"
   ]
  },
  {
   "cell_type": "code",
   "execution_count": 4,
   "id": "85f843fa",
   "metadata": {},
   "outputs": [
    {
     "data": {
      "text/plain": [
       "[0, 0, 0, 0, 0, 0, 0, 0, 0, 0, 0, 0, 0, 0, 0, 0, 0]"
      ]
     },
     "execution_count": 4,
     "metadata": {},
     "output_type": "execute_result"
    }
   ],
   "source": [
    "[data[i].get('referenced_works_count') for i in doi_reference_index_list]"
   ]
  },
  {
   "cell_type": "code",
   "execution_count": 5,
   "id": "00cd4d3e",
   "metadata": {},
   "outputs": [
    {
     "data": {
      "text/plain": [
       "[[], [], [], [], [], [], [], [], [], [], [], [], [], [], [], [], []]"
      ]
     },
     "execution_count": 5,
     "metadata": {},
     "output_type": "execute_result"
    }
   ],
   "source": [
    "[data[i].get('referenced_works') for i in doi_reference_index_list]"
   ]
  },
  {
   "cell_type": "code",
   "execution_count": null,
   "id": "a3178e90",
   "metadata": {},
   "outputs": [],
   "source": [
    "async def _fetch_openalex_id_async(client: httpx.AsyncClient, doi: str):\n",
    "    \"\"\"Async helper to fetch a single OpenAlex ID.\"\"\"\n",
    "    \n",
    "    # Clean the DOI\n",
    "    if doi.startswith('https://doi.org/'):\n",
    "        canonical_doi = doi\n",
    "    elif doi.startswith('http://doi.org/'):\n",
    "        canonical_doi = doi\n",
    "    elif doi.startswith('doi:'):\n",
    "        canonical_doi = 'https://doi.org/' + doi[4:]\n",
    "    else:\n",
    "        canonical_doi = 'https://doi.org/' + doi\n",
    "\n",
    "    base_url = 'https://api.openalex.org/works'\n",
    "    params = {\n",
    "        'filter': f'doi:{canonical_doi}',\n",
    "        'select': 'id',\n",
    "        'mailto': 'rimaz.temp@gmail.com'\n",
    "    }\n",
    "\n",
    "    try:\n",
    "        response = await client.get(base_url, params=params)\n",
    "        response.raise_for_status() # Check for HTTP errors\n",
    "        data = response.json()\n",
    "\n",
    "        if data.get('results') and len(data['results']) > 0:\n",
    "            openalex_id = data['results'][0].get('id')\n",
    "            if openalex_id:\n",
    "                return (doi, True, openalex_id)\n",
    "            else:\n",
    "                return (doi, False, \"Work found, but 'id' field was missing.\")\n",
    "        else:\n",
    "            return (doi, False, f\"No work found with DOI: {doi}\")\n",
    "            \n",
    "    except httpx.HTTPStatusError as e:\n",
    "        return (doi, False, f\"HTTP error: {e}\")\n",
    "    except httpx.RequestError as e:\n",
    "        return (doi, False, f\"A request error occurred: {e}\")\n",
    "    except Exception as e:\n",
    "        return (doi, False, f\"An unexpected error occurred: {e}\")"
   ]
  },
  {
   "cell_type": "code",
   "execution_count": 7,
   "id": "3bfac45c",
   "metadata": {},
   "outputs": [],
   "source": [
    "async def get_openalex_ids_batch_async(doi_list: list[str], batch_size: int = 25, sleep_sec: float = 0.1):\n",
    "    \"\"\"\n",
    "    Fetches OpenAlex IDs for a list of DOIs asynchronously in batches.\n",
    "    \"\"\"\n",
    "    results = []\n",
    "    async with httpx.AsyncClient(timeout=20.0) as client:\n",
    "        for i in range(0, len(doi_list), batch_size):\n",
    "            # Create a batch of DOI strings\n",
    "            batch_dois = doi_list[i:i + batch_size]\n",
    "            \n",
    "            # Create a list of tasks for the current batch\n",
    "            tasks = [_fetch_openalex_id_async(client, doi) for doi in batch_dois]\n",
    "            \n",
    "            # Run tasks concurrently\n",
    "            batch_results = await asyncio.gather(*tasks)\n",
    "            results.extend([rec[2] for rec in batch_results])\n",
    "            \n",
    "            # Sleep between batches if not the last batch\n",
    "            if i + batch_size < len(doi_list):\n",
    "                await asyncio.sleep(sleep_sec)\n",
    "                \n",
    "    return results"
   ]
  },
  {
   "cell_type": "code",
   "execution_count": 17,
   "id": "8b7425de",
   "metadata": {},
   "outputs": [
    {
     "name": "stdout",
     "output_type": "stream",
     "text": [
      "A Full-Lifecycle Calibration Method for Camera and LiDAR in Autonomous Driving                                                               -  53/ 53\n",
      "A New Literature Review of 3D Object Detection on Autonomous Driving                                                                         - 209/209\n",
      "A Survey of Trajectory Planning Methods for Autonomous Driving — Part I: Unstructured Scenarios                                              -  89/ 89\n",
      "Accurate 3D Multi-Object Detection and Tracking on Vietnamese Street Scenes Based on Sparse Point Cloud Data                                 -  60/ 60\n",
      "Application of semantic information module in LiDAR-based Simultaneous-Localization-and-Mapping algorithm                                    -  39/ 39\n",
      "Deep Learning Frontiers in 3D Object Detection: A Comprehensive Review for Autonomous Driving                                                - 218/218\n",
      "Differentiable Integrated Motion Prediction and Planning With Learnable Cost Function for Autonomous Driving                                 -  43/ 43\n",
      "Graph Laplacian Processing based multi-modal localization backend for robots and autonomous Systems                                          -  45/ 45\n",
      "High-Performance Multi-Object Tracking for Autonomous Driving in Urban Scenarios with Heterogeneous Embedded Boards                          -  41/ 41\n",
      "Hybrid-Prediction Integrated Planning for Autonomous Driving                                                                                 -  57/ 57\n",
      "MCCA-MOT: Multimodal Collaboration-Guided Cascade Association Network for 3D Multi-Object Tracking                                           -  51/ 51\n",
      "Pillar3D-Former: A Pillar-based 3-D Object Detection and Tracking Method for Autonomous Driving Scenes                                       -  38/ 38\n",
      "Progressive Multi-Modal Semantic Segmentation Guided SLAM Using Tightly-Coupled LiDAR-Visual-Inertial Odometry                               -  46/ 46\n",
      "RaI-SLAM: Radar-Inertial SLAM for Autonomous Vehicles                                                                                        -  47/ 47\n",
      "Safe Motion Planning for Multi-Vehicle Autonomous Driving in Uncertain Environment                                                           -  24/ 24\n",
      "Towards Safe Motion Planning for Autonomous Driving in Highway                                                                               -  43/ 43\n",
      "Trajectory Prediction for Autonomous Driving Based on Structural Informer Method                                                             -  33/ 33\n"
     ]
    }
   ],
   "source": [
    "import copy\n",
    "\n",
    "for index in doi_reference_index_list:\n",
    "    doi_list = data[index].get('referenced_doi')\n",
    "    N_doi = data[index].get('referenced_doi_count')\n",
    "    paper_title = data[index].get('title')\n",
    "    \n",
    "    batch_results = await get_openalex_ids_batch_async(doi_list, batch_size=4, sleep_sec=1)\n",
    "\n",
    "    data[index]['referenced_works'] = copy.deepcopy(batch_results)\n",
    "    data[index]['referenced_works_count'] = len(batch_results)\n",
    "\n",
    "    print(f'{paper_title:140} - {len(batch_results):3}/{N_doi:3}')\n"
   ]
  },
  {
   "cell_type": "code",
   "execution_count": 18,
   "id": "6f732cef",
   "metadata": {},
   "outputs": [
    {
     "name": "stdout",
     "output_type": "stream",
     "text": [
      "A Full-Lifecycle Calibration Method for Camera and LiDAR in Autonomous Driving                                                               -   0/ 53\n",
      "A New Literature Review of 3D Object Detection on Autonomous Driving                                                                         -   0/209\n",
      "A Survey of Trajectory Planning Methods for Autonomous Driving — Part I: Unstructured Scenarios                                              -   2/ 89\n",
      "Accurate 3D Multi-Object Detection and Tracking on Vietnamese Street Scenes Based on Sparse Point Cloud Data                                 -   0/ 60\n",
      "Application of semantic information module in LiDAR-based Simultaneous-Localization-and-Mapping algorithm                                    -   1/ 39\n",
      "Deep Learning Frontiers in 3D Object Detection: A Comprehensive Review for Autonomous Driving                                                -  14/218\n",
      "Differentiable Integrated Motion Prediction and Planning With Learnable Cost Function for Autonomous Driving                                 -   2/ 43\n",
      "Graph Laplacian Processing based multi-modal localization backend for robots and autonomous Systems                                          -   0/ 45\n",
      "High-Performance Multi-Object Tracking for Autonomous Driving in Urban Scenarios with Heterogeneous Embedded Boards                          -   0/ 41\n",
      "Hybrid-Prediction Integrated Planning for Autonomous Driving                                                                                 -   2/ 57\n",
      "MCCA-MOT: Multimodal Collaboration-Guided Cascade Association Network for 3D Multi-Object Tracking                                           -   0/ 51\n",
      "Pillar3D-Former: A Pillar-based 3-D Object Detection and Tracking Method for Autonomous Driving Scenes                                       -   2/ 38\n",
      "Progressive Multi-Modal Semantic Segmentation Guided SLAM Using Tightly-Coupled LiDAR-Visual-Inertial Odometry                               -   0/ 46\n",
      "RaI-SLAM: Radar-Inertial SLAM for Autonomous Vehicles                                                                                        -   1/ 47\n",
      "Safe Motion Planning for Multi-Vehicle Autonomous Driving in Uncertain Environment                                                           -   0/ 24\n",
      "Towards Safe Motion Planning for Autonomous Driving in Highway                                                                               -   0/ 43\n",
      "Trajectory Prediction for Autonomous Driving Based on Structural Informer Method                                                             -   1/ 33\n"
     ]
    }
   ],
   "source": [
    "for index in doi_reference_index_list:\n",
    "    paper_title = data[index].get('title')\n",
    "    N_works = data[index].get('referenced_works_count')\n",
    "    non_https_count = sum([1 for item in data[index].get('referenced_works') if not item.startswith(\"https:\")])\n",
    "    print(f'{paper_title:140} - {non_https_count:3}/{N_works:3}')"
   ]
  },
  {
   "cell_type": "code",
   "execution_count": 21,
   "id": "e0a35001",
   "metadata": {},
   "outputs": [],
   "source": [
    "for index in doi_reference_index_list:\n",
    "    referenced_works = [item for item in data[index].get('referenced_works') if item.startswith(\"https:\")]\n",
    "    data[index]['referenced_works'] = copy.deepcopy(referenced_works)\n",
    "    data[index]['referenced_works_count'] = len(referenced_works)\n"
   ]
  },
  {
   "cell_type": "code",
   "execution_count": 23,
   "id": "c12a498b",
   "metadata": {},
   "outputs": [],
   "source": [
    "for index in doi_reference_index_list:\n",
    "    del data[index]['referenced_doi']\n",
    "    del data[index]['referenced_doi_count']"
   ]
  },
  {
   "cell_type": "code",
   "execution_count": 24,
   "id": "2daf5916",
   "metadata": {},
   "outputs": [],
   "source": [
    "for rec in data:\n",
    "    if 'referenced_doi' in rec.keys():\n",
    "        print('referenced_doi')\n",
    "    if 'referenced_doi_count' in rec.keys():\n",
    "        print('referenced_doi_count')"
   ]
  },
  {
   "cell_type": "code",
   "execution_count": 25,
   "id": "040ac7ec",
   "metadata": {},
   "outputs": [],
   "source": [
    "with open('improved_refrences.json', 'w', encoding='utf-8') as f:\n",
    "    json.dump(data, f, indent=4, ensure_ascii=False)"
   ]
  },
  {
   "cell_type": "code",
   "execution_count": null,
   "id": "8e3e453d",
   "metadata": {},
   "outputs": [],
   "source": []
  }
 ],
 "metadata": {
  "kernelspec": {
   "display_name": "AV-references-cleaning (3.11.14)",
   "language": "python",
   "name": "python3"
  },
  "language_info": {
   "codemirror_mode": {
    "name": "ipython",
    "version": 3
   },
   "file_extension": ".py",
   "mimetype": "text/x-python",
   "name": "python",
   "nbconvert_exporter": "python",
   "pygments_lexer": "ipython3",
   "version": "3.11.14"
  }
 },
 "nbformat": 4,
 "nbformat_minor": 5
}
